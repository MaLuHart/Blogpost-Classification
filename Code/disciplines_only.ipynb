{
 "cells": [
  {
   "cell_type": "markdown",
   "metadata": {},
   "source": [
    "# Klassifikation der in scikit-learn vektorisierten Daten (disciplines_only)\n",
    "\n",
    "Autorin: Maria Hartmann"
   ]
  },
  {
   "cell_type": "code",
   "execution_count": 1,
   "metadata": {},
   "outputs": [
    {
     "name": "stderr",
     "output_type": "stream",
     "text": [
      "Using TensorFlow backend.\n"
     ]
    }
   ],
   "source": [
    "# Imports\n",
    "import os\n",
    "import time\n",
    "import pandas as pd\n",
    "import numpy as np\n",
    "import scipy.sparse\n",
    "from matplotlib import pyplot\n",
    "from sklearn.preprocessing import MultiLabelBinarizer\n",
    "from sklearn.metrics import f1_score, recall_score, precision_score\n",
    "from sklearn.neural_network import MLPClassifier\n",
    "from keras.wrappers.scikit_learn import KerasClassifier\n",
    "from keras.models import Sequential\n",
    "from keras.layers import Embedding, Dense, LSTM, Flatten, Dropout\n",
    "from keras.callbacks import EarlyStopping, ModelCheckpoint, ReduceLROnPlateau\n"
   ]
  },
  {
   "cell_type": "markdown",
   "metadata": {},
   "source": [
    "Einlesen der vektorisierten Daten"
   ]
  },
  {
   "cell_type": "code",
   "execution_count": 5,
   "metadata": {},
   "outputs": [],
   "source": [
    "trainset_labels = '../Datasets/disciplines_only_train_idents_labels.csv' \n",
    "testset_labels = '../Datasets/disciplines_only_test_idents_labels.csv' \n",
    "\n",
    "trainset_csv = pd.read_csv(trainset_labels, delimiter=';')\n",
    "y_train = trainset_csv['classes'].values\n",
    "z_train = trainset_csv['url'].values\n",
    "train_vectors = trainset_csv['filename'].values\n",
    "\n",
    "testset_csv = pd.read_csv(testset_labels, delimiter=';')\n",
    "y_test = testset_csv['classes'].values\n",
    "z_test = testset_csv['url'].values\n",
    "test_vectors = testset_csv['filename'].values\n",
    "\n",
    "# Splitten der Labels pro Blogbeitrag\n",
    "y_train = [e.split(', ') for e in y_train]\n",
    "y_test = [e.split(', ') for e in y_test]"
   ]
  },
  {
   "cell_type": "code",
   "execution_count": 6,
   "metadata": {},
   "outputs": [],
   "source": [
    "if len(set(train_vectors)) == 1:\n",
    "    X_train = scipy.sparse.load_npz('../%s' % train_vectors[0])\n",
    "else:\n",
    "    print(\"Error with len(set(train_vectors))\")\n",
    "if len(set(test_vectors)) == 1:\n",
    "    X_test = scipy.sparse.load_npz('../%s' % test_vectors[0])\n",
    "else:\n",
    "    print(\"Error with len(set(test_vectors))\")"
   ]
  },
  {
   "cell_type": "code",
   "execution_count": 7,
   "metadata": {},
   "outputs": [
    {
     "name": "stdout",
     "output_type": "stream",
     "text": [
      "archivewk1.hypotheses.org/2023\n",
      "['histoire et archéologie_d']\n",
      "Datasets/disciplines_only_test_scikit-learn_sparse_matrix.npz\n",
      "(17080, 10000)\n"
     ]
    },
    {
     "data": {
      "text/plain": [
       "<17080x10000 sparse matrix of type '<class 'numpy.float64'>'\n",
       "\twith 2373689 stored elements in Compressed Sparse Row format>"
      ]
     },
     "execution_count": 7,
     "metadata": {},
     "output_type": "execute_result"
    }
   ],
   "source": [
    "print(z_train[0])\n",
    "print(y_train[0])\n",
    "print(test_vectors[0])\n",
    "print(X_train.shape)\n",
    "X_train"
   ]
  },
  {
   "cell_type": "code",
   "execution_count": 8,
   "metadata": {},
   "outputs": [
    {
     "name": "stdout",
     "output_type": "stream",
     "text": [
      "10000\n"
     ]
    }
   ],
   "source": [
    "dim = X_train.shape[1]\n",
    "print(dim)"
   ]
  },
  {
   "cell_type": "code",
   "execution_count": 9,
   "metadata": {},
   "outputs": [],
   "source": [
    "output_dir = \"../disciplines_only\" \n",
    "if not os.path.exists(output_dir):\n",
    "    os.makedirs(output_dir)"
   ]
  },
  {
   "cell_type": "markdown",
   "metadata": {},
   "source": [
    "k-hot-Kodierung der Labels"
   ]
  },
  {
   "cell_type": "code",
   "execution_count": 10,
   "metadata": {},
   "outputs": [
    {
     "name": "stdout",
     "output_type": "stream",
     "text": [
      "[0 0 0 1 0 0 0 0 0 0 0 0 0 0]\n"
     ]
    }
   ],
   "source": [
    "# k-hot-encode labels mit MultiLabelBinarizer\n",
    "label_encoder = MultiLabelBinarizer()\n",
    "encoded_y_train = label_encoder.fit_transform(y_train)\n",
    "encoded_y_test = label_encoder.transform(y_test)\n",
    "print(encoded_y_train[0])"
   ]
  },
  {
   "cell_type": "code",
   "execution_count": 11,
   "metadata": {},
   "outputs": [
    {
     "name": "stdout",
     "output_type": "stream",
     "text": [
      "14\n",
      "0 administration publique et développement_d\n",
      "1 arts et humanités_d\n",
      "2 bibliothéconomie_d\n",
      "3 histoire et archéologie_d\n",
      "4 langue et linguistique_d\n",
      "5 littérature_d\n",
      "6 pluridisciplinarité_d\n",
      "7 psychologie_d\n",
      "8 sciences de l'information et de la communication_d\n",
      "9 sciences de la santé et de la santé publique_d\n",
      "10 sciences politiques_d\n",
      "11 sociologie et anthropologie_d\n",
      "12 travail social et politique sociale_d\n",
      "13 éducation_d\n"
     ]
    }
   ],
   "source": [
    "print(len(label_encoder.classes_))\n",
    "for i, element in enumerate(label_encoder.classes_):\n",
    "    print(i, element)"
   ]
  },
  {
   "cell_type": "markdown",
   "metadata": {},
   "source": [
    "# Klassifikation mit MLPClassifier"
   ]
  },
  {
   "cell_type": "code",
   "execution_count": null,
   "metadata": {},
   "outputs": [
    {
     "name": "stdout",
     "output_type": "stream",
     "text": [
      "Iteration 1, loss = 3.16798568\n",
      "Validation score: 0.617681\n",
      "Iteration 2, loss = 1.34563578\n",
      "Validation score: 0.697892\n"
     ]
    }
   ],
   "source": [
    "mlp_clf = MLPClassifier(hidden_layer_sizes=(2048, 512), validation_fraction=0.1, early_stopping=True, verbose=True, random_state=1)\n",
    "mlp_start = time.time()\n",
    "mlp_clf = mlp_clf.fit(X_train, encoded_y_train)\n",
    "mlp_time = (time.time() - mlp_start)/60"
   ]
  },
  {
   "cell_type": "code",
   "execution_count": null,
   "metadata": {},
   "outputs": [],
   "source": [
    "print(mlp_time)\n",
    "mlp_predicted = mlp_clf.predict(X_test)"
   ]
  },
  {
   "cell_type": "code",
   "execution_count": null,
   "metadata": {},
   "outputs": [],
   "source": [
    "mlp_precision = precision_score(encoded_y_test, mlp_predicted.round(), average='samples')\n",
    "print(mlp_precision)\n",
    "mlp_recall = recall_score(encoded_y_test, mlp_predicted.round(), average='samples')\n",
    "print(mlp_recall)\n",
    "mlp_f1 = f1_score(encoded_y_test, mlp_predicted.round(), average='samples')\n",
    "print(mlp_f1)"
   ]
  },
  {
   "cell_type": "markdown",
   "metadata": {},
   "source": [
    "# Klassifikation mit Dense-Layer in Keras"
   ]
  },
  {
   "cell_type": "code",
   "execution_count": 28,
   "metadata": {},
   "outputs": [
    {
     "name": "stdout",
     "output_type": "stream",
     "text": [
      "_________________________________________________________________\n",
      "Layer (type)                 Output Shape              Param #   \n",
      "=================================================================\n",
      "dense_14 (Dense)             (None, 2048)              20482048  \n",
      "_________________________________________________________________\n",
      "dropout_9 (Dropout)          (None, 2048)              0         \n",
      "_________________________________________________________________\n",
      "dense_15 (Dense)             (None, 512)               1049088   \n",
      "_________________________________________________________________\n",
      "dropout_10 (Dropout)         (None, 512)               0         \n",
      "_________________________________________________________________\n",
      "dense_16 (Dense)             (None, 35)                17955     \n",
      "=================================================================\n",
      "Total params: 21,549,091\n",
      "Trainable params: 21,549,091\n",
      "Non-trainable params: 0\n",
      "_________________________________________________________________\n",
      "\n",
      " None\n",
      "\n",
      " [{'class_name': 'Dense', 'config': {'name': 'dense_14', 'trainable': True, 'batch_input_shape': (None, 10000), 'dtype': 'float32', 'units': 2048, 'activation': 'relu', 'use_bias': True, 'kernel_initializer': {'class_name': 'VarianceScaling', 'config': {'scale': 1.0, 'mode': 'fan_avg', 'distribution': 'uniform', 'seed': None}}, 'bias_initializer': {'class_name': 'Zeros', 'config': {}}, 'kernel_regularizer': None, 'bias_regularizer': None, 'activity_regularizer': None, 'kernel_constraint': None, 'bias_constraint': None}}, {'class_name': 'Dropout', 'config': {'name': 'dropout_9', 'trainable': True, 'rate': 0.4, 'noise_shape': None, 'seed': None}}, {'class_name': 'Dense', 'config': {'name': 'dense_15', 'trainable': True, 'units': 512, 'activation': 'relu', 'use_bias': True, 'kernel_initializer': {'class_name': 'VarianceScaling', 'config': {'scale': 1.0, 'mode': 'fan_avg', 'distribution': 'uniform', 'seed': None}}, 'bias_initializer': {'class_name': 'Zeros', 'config': {}}, 'kernel_regularizer': None, 'bias_regularizer': None, 'activity_regularizer': None, 'kernel_constraint': None, 'bias_constraint': None}}, {'class_name': 'Dropout', 'config': {'name': 'dropout_10', 'trainable': True, 'rate': 0.4, 'noise_shape': None, 'seed': None}}, {'class_name': 'Dense', 'config': {'name': 'dense_16', 'trainable': True, 'units': 35, 'activation': 'sigmoid', 'use_bias': True, 'kernel_initializer': {'class_name': 'VarianceScaling', 'config': {'scale': 1.0, 'mode': 'fan_avg', 'distribution': 'uniform', 'seed': None}}, 'bias_initializer': {'class_name': 'Zeros', 'config': {}}, 'kernel_regularizer': None, 'bias_regularizer': None, 'activity_regularizer': None, 'kernel_constraint': None, 'bias_constraint': None}}]\n",
      "Train on 15398 samples, validate on 1711 samples\n",
      "Epoch 1/100\n",
      "Epoch 2/100\n",
      "Epoch 3/100\n",
      "Epoch 4/100\n",
      "Epoch 5/100\n",
      "Epoch 6/100\n",
      "Epoch 7/100\n",
      "\n",
      "Epoch 00007: ReduceLROnPlateau reducing learning rate to 0.00010000000474974513.\n",
      "Epoch 8/100\n",
      "Epoch 9/100\n",
      "Epoch 00009: early stopping\n",
      "Laufzeit in Minuten: 23.570493078231813\n"
     ]
    }
   ],
   "source": [
    "# Keras model \n",
    "\n",
    "dense_model = Sequential()\n",
    "dense_model.add(Dense(2048, input_dim=dim, activation=\"relu\"))\n",
    "dense_model.add(Dropout(0.4))\n",
    "dense_model.add(Dense(512, activation=\"relu\"))\n",
    "dense_model.add(Dropout(0.4))\n",
    "#dense_model.add(Flatten())\n",
    "dense_model.add(Dense(len(label_encoder.classes_), activation=\"sigmoid\"))\n",
    "\n",
    "summary = dense_model.summary()\n",
    "print(\"\\n\", summary)\n",
    "config = dense_model.get_config()\n",
    "print(\"\\n\", config)\n",
    "\n",
    "# compile keras model\n",
    "lossfunction = 'binary_crossentropy'\n",
    "optimizer = \"adam\"\n",
    "metrics = ['accuracy']\n",
    "\n",
    "dense_model.compile(loss=lossfunction, \n",
    "              optimizer=optimizer,\n",
    "              metrics=metrics)\n",
    "\n",
    "callbacks_list = [EarlyStopping(monitor='val_loss', patience=7, verbose=10),\n",
    "                  ReduceLROnPlateau(monitor='val_loss', factor=0.1, patience=5, verbose=10),\n",
    "                 ]\n",
    "\n",
    "# train keras model\n",
    "batch_size = 32\n",
    "epochs = 100\n",
    "dense_start = time.time()\n",
    "dense_estimator = dense_model.fit(X_train,\n",
    "                            np.array(encoded_y_train), \n",
    "                            batch_size=batch_size,\n",
    "                            epochs=epochs,\n",
    "                            callbacks=callbacks_list,\n",
    "                            verbose=10, \n",
    "                            validation_split=0.1,\n",
    "                            shuffle=True\n",
    "                           )\n",
    "\n",
    "dense_time = (time.time() - dense_start)/60\n",
    "print(\"Laufzeit in Minuten:\", dense_time)"
   ]
  },
  {
   "cell_type": "code",
   "execution_count": 35,
   "metadata": {},
   "outputs": [
    {
     "data": {
      "image/png": "[encoded data removed]",
      "text/plain": [
       "<Figure size 432x288 with 1 Axes>"
      ]
     },
     "metadata": {},
     "output_type": "display_data"
    },
    {
     "data": {
      "image/png": "[encoded data removed]",
      "text/plain": [
       "<Figure size 432x288 with 1 Axes>"
      ]
     },
     "metadata": {},
     "output_type": "display_data"
    }
   ],
   "source": [
    "# visualize the train and validate loss and accuracy\n",
    "\n",
    "# plot history for accuracy\n",
    "pyplot.plot(estimator.history['acc'], label='train')\n",
    "pyplot.plot(estimator.history['val_acc'], label='test')\n",
    "pyplot.legend()\n",
    "pyplot.savefig('%s/disciplines_only_dense_plot_acc.png' % output_dir)\n",
    "pyplot.show()\n",
    "pyplot.close()\n",
    "\n",
    "# plot history for loss\n",
    "pyplot.plot(estimator.history['loss'], label='train')\n",
    "pyplot.plot(estimator.history['val_loss'], label='test')\n",
    "pyplot.legend()\n",
    "pyplot.savefig('%s/disciplines_only_dense_plot_loss.png' % output_dir)\n",
    "pyplot.show()\n",
    "pyplot.close()"
   ]
  },
  {
   "cell_type": "code",
   "execution_count": 37,
   "metadata": {},
   "outputs": [
    {
     "name": "stdout",
     "output_type": "stream",
     "text": [
      "23.570493078231813\n"
     ]
    }
   ],
   "source": [
    "print(dense_time)\n",
    "dense_predicted = model_keras.predict_proba(X_test)"
   ]
  },
  {
   "cell_type": "code",
   "execution_count": 39,
   "metadata": {},
   "outputs": [
    {
     "name": "stdout",
     "output_type": "stream",
     "text": [
      "[0. 0. 0. 0. 0. 0. 0. 0. 0. 1. 1. 0. 0. 0. 0. 0. 0. 1. 0. 0. 0. 0. 0. 0.\n",
      " 0. 0. 0. 0. 0. 0. 1. 0. 0. 0. 0.]\n",
      "[0 0 0 0 0 0 0 0 0 1 1 0 0 0 0 0 0 1 0 0 0 0 0 0 0 0 0 0 0 0 1 0 0 0 0]\n"
     ]
    }
   ],
   "source": [
    "print(dense_predicted[0].round())\n",
    "print(encoded_y_test[0])"
   ]
  },
  {
   "cell_type": "code",
   "execution_count": 40,
   "metadata": {},
   "outputs": [
    {
     "name": "stdout",
     "output_type": "stream",
     "text": [
      "0.8642741193407393\n",
      "0.8309326231661435\n",
      "0.8376419175095027\n"
     ]
    },
    {
     "name": "stderr",
     "output_type": "stream",
     "text": [
      "c:\\users\\hartmann\\appdata\\local\\programs\\python\\python36\\lib\\site-packages\\sklearn\\metrics\\classification.py:1135: UndefinedMetricWarning: Precision is ill-defined and being set to 0.0 in samples with no predicted labels.\n",
      "  'precision', 'predicted', average, warn_for)\n",
      "c:\\users\\hartmann\\appdata\\local\\programs\\python\\python36\\lib\\site-packages\\sklearn\\metrics\\classification.py:1135: UndefinedMetricWarning: F-score is ill-defined and being set to 0.0 in samples with no predicted labels.\n",
      "  'precision', 'predicted', average, warn_for)\n"
     ]
    }
   ],
   "source": [
    "dense_precision = precision_score(encoded_y_test, dense_predicted.round(), average='samples')\n",
    "print(dense_precision)\n",
    "dense_recall = recall_score(encoded_y_test, dense_predicted.round(), average='samples')\n",
    "print(dense_recall)\n",
    "dense_f1 = f1_score(encoded_y_test, dense_predicted.round(), average='samples')\n",
    "print(dense_f1)"
   ]
  },
  {
   "cell_type": "markdown",
   "metadata": {},
   "source": [
    "# Klassifikation mit LSTM-Layer in Keras"
   ]
  },
  {
   "cell_type": "code",
   "execution_count": null,
   "metadata": {},
   "outputs": [
    {
     "name": "stdout",
     "output_type": "stream",
     "text": [
      "_________________________________________________________________\n",
      "Layer (type)                 Output Shape              Param #   \n",
      "=================================================================\n",
      "embedding_1 (Embedding)      (None, None, 1024)        10240000  \n",
      "_________________________________________________________________\n",
      "lstm_1 (LSTM)                (None, 512)               3147776   \n",
      "_________________________________________________________________\n",
      "dropout_11 (Dropout)         (None, 512)               0         \n",
      "_________________________________________________________________\n",
      "dense_17 (Dense)             (None, 35)                17955     \n",
      "=================================================================\n",
      "Total params: 13,405,731\n",
      "Trainable params: 13,405,731\n",
      "Non-trainable params: 0\n",
      "_________________________________________________________________\n",
      "\n",
      " None\n",
      "\n",
      " [{'class_name': 'Embedding', 'config': {'name': 'embedding_1', 'trainable': True, 'batch_input_shape': (None, None), 'dtype': 'float32', 'input_dim': 10000, 'output_dim': 1024, 'embeddings_initializer': {'class_name': 'RandomUniform', 'config': {'minval': -0.05, 'maxval': 0.05, 'seed': None}}, 'embeddings_regularizer': None, 'activity_regularizer': None, 'embeddings_constraint': None, 'mask_zero': False, 'input_length': None}}, {'class_name': 'LSTM', 'config': {'name': 'lstm_1', 'trainable': True, 'return_sequences': False, 'return_state': False, 'go_backwards': False, 'stateful': False, 'unroll': False, 'units': 512, 'activation': 'relu', 'recurrent_activation': 'hard_sigmoid', 'use_bias': True, 'kernel_initializer': {'class_name': 'VarianceScaling', 'config': {'scale': 1.0, 'mode': 'fan_avg', 'distribution': 'uniform', 'seed': None}}, 'recurrent_initializer': {'class_name': 'Orthogonal', 'config': {'gain': 1.0, 'seed': None}}, 'bias_initializer': {'class_name': 'Zeros', 'config': {}}, 'unit_forget_bias': True, 'kernel_regularizer': None, 'recurrent_regularizer': None, 'bias_regularizer': None, 'activity_regularizer': None, 'kernel_constraint': None, 'recurrent_constraint': None, 'bias_constraint': None, 'dropout': 0.0, 'recurrent_dropout': 0.0, 'implementation': 1}}, {'class_name': 'Dropout', 'config': {'name': 'dropout_11', 'trainable': True, 'rate': 0.4, 'noise_shape': None, 'seed': None}}, {'class_name': 'Dense', 'config': {'name': 'dense_17', 'trainable': True, 'units': 35, 'activation': 'sigmoid', 'use_bias': True, 'kernel_initializer': {'class_name': 'VarianceScaling', 'config': {'scale': 1.0, 'mode': 'fan_avg', 'distribution': 'uniform', 'seed': None}}, 'bias_initializer': {'class_name': 'Zeros', 'config': {}}, 'kernel_regularizer': None, 'bias_regularizer': None, 'activity_regularizer': None, 'kernel_constraint': None, 'bias_constraint': None}}]\n",
      "Train on 15398 samples, validate on 1711 samples\n",
      "Epoch 1/100\n"
     ]
    }
   ],
   "source": [
    "# LSTM in Keras\n",
    "lstm_model = Sequential()\n",
    "lstm_model.add(Embedding(input_dim=dim, output_dim=64))\n",
    "lstm_model.add(LSTM(32, activation=\"relu\"))\n",
    "lstm_model.add(Dropout(0.4))\n",
    "\n",
    "lstm_model.add(Dense(len(label_encoder.classes_), activation=\"sigmoid\"))\n",
    "\n",
    "summary = lstm_model.summary()\n",
    "print(\"\\n\", summary)\n",
    "config = lstm_model.get_config()\n",
    "print(\"\\n\", config)\n",
    "\n",
    "# compile keras model\n",
    "lossfunction = 'binary_crossentropy'\n",
    "optimizer = \"adam\"\n",
    "metrics = ['accuracy']\n",
    "\n",
    "lstm_model.compile(loss=lossfunction,\n",
    "                   optimizer=optimizer,\n",
    "                   metrics=metrics)\n",
    "\n",
    "callbacks_list = [EarlyStopping(monitor='val_loss', patience=7, verbose=10),\n",
    "                  ReduceLROnPlateau(monitor='val_loss', factor=0.1, patience=5, verbose=10),\n",
    "                 ]\n",
    "\n",
    "# train keras model\n",
    "batch_size = 32\n",
    "epochs = 100\n",
    "dense_start = time.time()\n",
    "lstm_estimator = lstm_model.fit(X_train,\n",
    "                            np.array(encoded_y_train), \n",
    "                            batch_size=batch_size,\n",
    "                            epochs=epochs,\n",
    "                            callbacks=callbacks_list,\n",
    "                            verbose=10, \n",
    "                            validation_split=0.1,\n",
    "                            shuffle=True\n",
    "                           )\n",
    "\n",
    "lstm_time = (time.time() - lstm_start)/60\n",
    "print(\"Laufzeit in Minuten:\", lstm_time)"
   ]
  },
  {
   "cell_type": "code",
   "execution_count": null,
   "metadata": {},
   "outputs": [],
   "source": [
    "# visualize the train and validate loss and accuracy\n",
    "\n",
    "# plot history for accuracy\n",
    "pyplot.plot(lstm_estimator.history['acc'], label='train')\n",
    "pyplot.plot(lstm_estimator.history['val_acc'], label='test')\n",
    "pyplot.legend()\n",
    "pyplot.savefig('%s/disciplines_only_lstm_plot_acc.png' % output_dir)\n",
    "pyplot.show()\n",
    "pyplot.close()\n",
    "\n",
    "# plot history for loss\n",
    "pyplot.plot(lstm_estimator.history['loss'], label='train')\n",
    "pyplot.plot(lstm_estimator.history['val_loss'], label='test')\n",
    "pyplot.legend()\n",
    "pyplot.savefig('%s/disciplines_only_lstm_plot_loss.png' % output_dir)\n",
    "pyplot.show()\n",
    "pyplot.close()"
   ]
  },
  {
   "cell_type": "code",
   "execution_count": null,
   "metadata": {},
   "outputs": [],
   "source": [
    "print(lstm_time)\n",
    "lstm_predicted = lstm_clf.predict_proba(X_test)"
   ]
  },
  {
   "cell_type": "code",
   "execution_count": null,
   "metadata": {},
   "outputs": [],
   "source": [
    "lstm_precision = precision_score(encoded_y_test, lstm_predicted.round(), average='samples')\n",
    "print(lstm_precision)\n",
    "lstm_recall = recall_score(encoded_y_test, lstm_predicted.round(), average='samples')\n",
    "print(lstm_recall)\n",
    "lstm_f1 = f1_score(encoded_y_test, lstm_predicted.round(), average='samples')\n",
    "print(lstm_f1)"
   ]
  }
 ],
 "metadata": {
  "kernelspec": {
   "display_name": "Python 3",
   "language": "python",
   "name": "python3"
  },
  "language_info": {
   "codemirror_mode": {
    "name": "ipython",
    "version": 3
   },
   "file_extension": ".py",
   "mimetype": "text/x-python",
   "name": "python",
   "nbconvert_exporter": "python",
   "pygments_lexer": "ipython3",
   "version": "3.6.5"
  }
 },
 "nbformat": 4,
 "nbformat_minor": 2
}
