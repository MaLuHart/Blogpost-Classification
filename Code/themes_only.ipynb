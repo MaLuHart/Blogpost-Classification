{
 "cells": [
  {
   "cell_type": "markdown",
   "metadata": {},
   "source": [
    "# Klassifikation der in scikit-learn vektorisierten Daten (themes_only)\n",
    "\n",
    "Autorin: Maria Hartmann"
   ]
  },
  {
   "cell_type": "code",
   "execution_count": 1,
   "metadata": {},
   "outputs": [
    {
     "name": "stderr",
     "output_type": "stream",
     "text": [
      "c:\\users\\hartmann\\appdata\\local\\programs\\python\\python36\\lib\\site-packages\\h5py\\__init__.py:36: FutureWarning: Conversion of the second argument of issubdtype from `float` to `np.floating` is deprecated. In future, it will be treated as `np.float64 == np.dtype(float).type`.\n",
      "  from ._conv import register_converters as _register_converters\n",
      "Using TensorFlow backend.\n"
     ]
    }
   ],
   "source": [
    "# Imports\n",
    "import os\n",
    "import time\n",
    "import pandas as pd\n",
    "import numpy as np\n",
    "import scipy.sparse\n",
    "from matplotlib import pyplot\n",
    "from sklearn.preprocessing import MultiLabelBinarizer\n",
    "from sklearn.metrics import f1_score, recall_score, precision_score\n",
    "from sklearn.neural_network import MLPClassifier\n",
    "from keras.wrappers.scikit_learn import KerasClassifier\n",
    "from keras.models import Sequential\n",
    "from keras.layers import Embedding, Dense, LSTM, Flatten, Dropout\n",
    "from keras.callbacks import EarlyStopping, ModelCheckpoint, ReduceLROnPlateau\n"
   ]
  },
  {
   "cell_type": "markdown",
   "metadata": {},
   "source": [
    "Einlesen der vektorisierten Daten"
   ]
  },
  {
   "cell_type": "code",
   "execution_count": 2,
   "metadata": {},
   "outputs": [],
   "source": [
    "trainset_labels = '../Datasets/themes_only_train_idents_labels.csv' \n",
    "testset_labels = '../Datasets/themes_only_test_idents_labels.csv' \n",
    "\n",
    "trainset_csv = pd.read_csv(trainset_labels, delimiter=';')\n",
    "y_train = trainset_csv['classes'].values\n",
    "z_train = trainset_csv['url'].values\n",
    "train_vectors = trainset_csv['filename'].values\n",
    "\n",
    "testset_csv = pd.read_csv(testset_labels, delimiter=';')\n",
    "y_test = testset_csv['classes'].values\n",
    "z_test = testset_csv['url'].values\n",
    "test_vectors = testset_csv['filename'].values\n",
    "\n",
    "# Splitten der Labels pro Blogbeitrag\n",
    "y_train = [e.split(', ') for e in y_train]\n",
    "y_test = [e.split(', ') for e in y_test]"
   ]
  },
  {
   "cell_type": "code",
   "execution_count": 3,
   "metadata": {},
   "outputs": [],
   "source": [
    "if len(set(train_vectors)) == 1:\n",
    "    X_train = scipy.sparse.load_npz('../%s' % train_vectors[0])\n",
    "else:\n",
    "    print(\"Error with len(set(train_vectors))\")\n",
    "if len(set(test_vectors)) == 1:\n",
    "    X_test = scipy.sparse.load_npz('../%s' % test_vectors[0])\n",
    "else:\n",
    "    print(\"Error with len(set(test_vectors))\")"
   ]
  },
  {
   "cell_type": "code",
   "execution_count": 4,
   "metadata": {},
   "outputs": [
    {
     "name": "stdout",
     "output_type": "stream",
     "text": [
      "ordensgeschichte.hypotheses.org/6160\n",
      "['histoire_t', 'époque moderne_t', 'moyen âge_t']\n",
      "Datasets/themes_only_test_scikit-learn_sparse_matrix.npz\n",
      "(17109, 10000)\n"
     ]
    },
    {
     "data": {
      "text/plain": [
       "<17109x10000 sparse matrix of type '<class 'numpy.float64'>'\n",
       "\twith 2389735 stored elements in Compressed Sparse Row format>"
      ]
     },
     "execution_count": 4,
     "metadata": {},
     "output_type": "execute_result"
    }
   ],
   "source": [
    "print(z_train[0])\n",
    "print(y_train[0])\n",
    "print(test_vectors[0])\n",
    "print(X_train.shape)\n",
    "X_train"
   ]
  },
  {
   "cell_type": "code",
   "execution_count": 5,
   "metadata": {},
   "outputs": [
    {
     "name": "stdout",
     "output_type": "stream",
     "text": [
      "10000\n"
     ]
    }
   ],
   "source": [
    "dim = X_train.shape[1]\n",
    "print(dim)"
   ]
  },
  {
   "cell_type": "code",
   "execution_count": 6,
   "metadata": {},
   "outputs": [],
   "source": [
    "output_dir = \"../themes_only\" \n",
    "if not os.path.exists(output_dir):\n",
    "    os.makedirs(output_dir)"
   ]
  },
  {
   "cell_type": "markdown",
   "metadata": {},
   "source": [
    "k-hot-Kodierung der Labels"
   ]
  },
  {
   "cell_type": "code",
   "execution_count": 7,
   "metadata": {},
   "outputs": [
    {
     "name": "stdout",
     "output_type": "stream",
     "text": [
      "[0 0 0 0 0 0 1 0 0 1 0 0 0 0 0 0 0 0 1 0 0]\n"
     ]
    }
   ],
   "source": [
    "# k-hot-encode labels mit MultiLabelBinarizer\n",
    "label_encoder = MultiLabelBinarizer()\n",
    "encoded_y_train = label_encoder.fit_transform(y_train)\n",
    "encoded_y_test = label_encoder.transform(y_test)\n",
    "print(encoded_y_train[0])"
   ]
  },
  {
   "cell_type": "code",
   "execution_count": 8,
   "metadata": {},
   "outputs": [
    {
     "name": "stdout",
     "output_type": "stream",
     "text": [
      "21\n",
      "0 anthropologie_t\n",
      "1 asie_t\n",
      "2 droit_t\n",
      "3 ethnologie_t\n",
      "4 europe_t\n",
      "5 géographie_t\n",
      "6 histoire_t\n",
      "7 information_t\n",
      "8 langage_t\n",
      "9 moyen âge_t\n",
      "10 pensée_t\n",
      "11 psychisme_t\n",
      "12 religions_t\n",
      "13 représentations_t\n",
      "14 sociologie_t\n",
      "15 éducation_t\n",
      "16 épistémologie et méthodes_t\n",
      "17 époque contemporaine_t\n",
      "18 époque moderne_t\n",
      "19 études des sciences_t\n",
      "20 études du politique_t\n"
     ]
    }
   ],
   "source": [
    "print(len(label_encoder.classes_))\n",
    "for i, element in enumerate(label_encoder.classes_):\n",
    "    print(i, element)"
   ]
  },
  {
   "cell_type": "markdown",
   "metadata": {},
   "source": [
    "# Klassifikation mit MLPClassifier"
   ]
  },
  {
   "cell_type": "code",
   "execution_count": 9,
   "metadata": {},
   "outputs": [
    {
     "name": "stdout",
     "output_type": "stream",
     "text": [
      "Iteration 1, loss = 4.99724264\n",
      "Validation score: 0.475745\n",
      "Iteration 2, loss = 2.26204605\n",
      "Validation score: 0.606663\n",
      "Iteration 3, loss = 1.11150565\n",
      "Validation score: 0.624781\n",
      "Iteration 4, loss = 0.50408517\n",
      "Validation score: 0.623027\n",
      "Iteration 5, loss = 0.24275951\n",
      "Validation score: 0.614261\n",
      "Iteration 6, loss = 0.16684479\n",
      "Validation score: 0.607832\n",
      "Validation score did not improve more than tol=0.000100 for two consecutive epochs. Stopping.\n"
     ]
    }
   ],
   "source": [
    "mlp_clf = MLPClassifier(hidden_layer_sizes=(2048, 512), validation_fraction=0.1, early_stopping=True, verbose=True, random_state=1)\n",
    "mlp_start = time.time()\n",
    "mlp_clf = mlp_clf.fit(X_train, encoded_y_train)\n",
    "mlp_time = (time.time() - mlp_start)/60"
   ]
  },
  {
   "cell_type": "code",
   "execution_count": null,
   "metadata": {},
   "outputs": [],
   "source": [
    "print(mlp_time)\n",
    "mlp_predicted = mlp_clf.predict(X_test)"
   ]
  },
  {
   "cell_type": "code",
   "execution_count": 11,
   "metadata": {},
   "outputs": [
    {
     "name": "stdout",
     "output_type": "stream",
     "text": [
      "0.8621218192746944\n",
      "0.8009467040673212\n",
      "0.8133429541213552\n"
     ]
    },
    {
     "name": "stderr",
     "output_type": "stream",
     "text": [
      "c:\\users\\hartmann\\appdata\\local\\programs\\python\\python36\\lib\\site-packages\\sklearn\\metrics\\classification.py:1135: UndefinedMetricWarning: Precision is ill-defined and being set to 0.0 in samples with no predicted labels.\n",
      "  'precision', 'predicted', average, warn_for)\n",
      "c:\\users\\hartmann\\appdata\\local\\programs\\python\\python36\\lib\\site-packages\\sklearn\\metrics\\classification.py:1135: UndefinedMetricWarning: F-score is ill-defined and being set to 0.0 in samples with no predicted labels.\n",
      "  'precision', 'predicted', average, warn_for)\n"
     ]
    }
   ],
   "source": [
    "mlp_precision = precision_score(encoded_y_test, mlp_predicted.round(), average='samples')\n",
    "print(mlp_precision)\n",
    "mlp_recall = recall_score(encoded_y_test, mlp_predicted.round(), average='samples')\n",
    "print(mlp_recall)\n",
    "mlp_f1 = f1_score(encoded_y_test, mlp_predicted.round(), average='samples')\n",
    "print(mlp_f1)"
   ]
  },
  {
   "cell_type": "code",
   "execution_count": null,
   "metadata": {},
   "outputs": [],
   "source": [
    "loss_values = mlp_clf.loss_curve_\n",
    "print(loss_values)\n",
    "pyplot.title('Loss on training data (themes_only)')\n",
    "pyplot.xlabel('epochs')\n",
    "pyplot.ylabel('loss')\n",
    "pyplot.plot(loss_values)\n",
    "pyplot.savefig('%s/themes_only_mlp_plot_loss.png' % output_dir)\n",
    "pyplot.show()"
   ]
  },
  {
   "cell_type": "code",
   "execution_count": null,
   "metadata": {},
   "outputs": [],
   "source": [
    "validation_scores = mlp_clf.validation_scores_\n",
    "print(validation_scores)\n",
    "pyplot.title('Accuracy on validation data (themes_only)')\n",
    "pyplot.xlabel('epochs')\n",
    "pyplot.ylabel('acc')\n",
    "pyplot.plot(validation_scores)\n",
    "pyplot.savefig('%s/themes_only_mlp_plot_val_acc.png' % output_dir)\n",
    "pyplot.show()"
   ]
  },
  {
   "cell_type": "markdown",
   "metadata": {},
   "source": [
    "# Klassifikation mit Dense-Layer in Keras"
   ]
  },
  {
   "cell_type": "code",
   "execution_count": 25,
   "metadata": {},
   "outputs": [
    {
     "name": "stdout",
     "output_type": "stream",
     "text": [
      "_________________________________________________________________\n",
      "Layer (type)                 Output Shape              Param #   \n",
      "=================================================================\n",
      "dense_10 (Dense)             (None, 2048)              20482048  \n",
      "_________________________________________________________________\n",
      "dropout_5 (Dropout)          (None, 2048)              0         \n",
      "_________________________________________________________________\n",
      "dropout_6 (Dropout)          (None, 2048)              0         \n",
      "_________________________________________________________________\n",
      "dropout_7 (Dropout)          (None, 2048)              0         \n",
      "_________________________________________________________________\n",
      "dense_11 (Dense)             (None, 512)               1049088   \n",
      "_________________________________________________________________\n",
      "dropout_8 (Dropout)          (None, 512)               0         \n",
      "_________________________________________________________________\n",
      "dropout_9 (Dropout)          (None, 512)               0         \n",
      "_________________________________________________________________\n",
      "dropout_10 (Dropout)         (None, 512)               0         \n",
      "_________________________________________________________________\n",
      "dense_12 (Dense)             (None, 21)                10773     \n",
      "=================================================================\n",
      "Total params: 21,541,909\n",
      "Trainable params: 21,541,909\n",
      "Non-trainable params: 0\n",
      "_________________________________________________________________\n",
      "\n",
      " None\n",
      "\n",
      " [{'class_name': 'Dense', 'config': {'name': 'dense_10', 'trainable': True, 'batch_input_shape': (None, 10000), 'dtype': 'float32', 'units': 2048, 'activation': 'relu', 'use_bias': True, 'kernel_initializer': {'class_name': 'VarianceScaling', 'config': {'scale': 1.0, 'mode': 'fan_avg', 'distribution': 'uniform', 'seed': None}}, 'bias_initializer': {'class_name': 'Zeros', 'config': {}}, 'kernel_regularizer': None, 'bias_regularizer': None, 'activity_regularizer': None, 'kernel_constraint': None, 'bias_constraint': None}}, {'class_name': 'Dropout', 'config': {'name': 'dropout_5', 'trainable': True, 'rate': 0.4, 'noise_shape': None, 'seed': None}}, {'class_name': 'Dropout', 'config': {'name': 'dropout_6', 'trainable': True, 'rate': 0.4, 'noise_shape': None, 'seed': None}}, {'class_name': 'Dropout', 'config': {'name': 'dropout_7', 'trainable': True, 'rate': 0.4, 'noise_shape': None, 'seed': None}}, {'class_name': 'Dense', 'config': {'name': 'dense_11', 'trainable': True, 'units': 512, 'activation': 'relu', 'use_bias': True, 'kernel_initializer': {'class_name': 'VarianceScaling', 'config': {'scale': 1.0, 'mode': 'fan_avg', 'distribution': 'uniform', 'seed': None}}, 'bias_initializer': {'class_name': 'Zeros', 'config': {}}, 'kernel_regularizer': None, 'bias_regularizer': None, 'activity_regularizer': None, 'kernel_constraint': None, 'bias_constraint': None}}, {'class_name': 'Dropout', 'config': {'name': 'dropout_8', 'trainable': True, 'rate': 0.4, 'noise_shape': None, 'seed': None}}, {'class_name': 'Dropout', 'config': {'name': 'dropout_9', 'trainable': True, 'rate': 0.4, 'noise_shape': None, 'seed': None}}, {'class_name': 'Dropout', 'config': {'name': 'dropout_10', 'trainable': True, 'rate': 0.4, 'noise_shape': None, 'seed': None}}, {'class_name': 'Dense', 'config': {'name': 'dense_12', 'trainable': True, 'units': 21, 'activation': 'sigmoid', 'use_bias': True, 'kernel_initializer': {'class_name': 'VarianceScaling', 'config': {'scale': 1.0, 'mode': 'fan_avg', 'distribution': 'uniform', 'seed': None}}, 'bias_initializer': {'class_name': 'Zeros', 'config': {}}, 'kernel_regularizer': None, 'bias_regularizer': None, 'activity_regularizer': None, 'kernel_constraint': None, 'bias_constraint': None}}]\n",
      "Train on 15398 samples, validate on 1711 samples\n",
      "Epoch 1/100\n",
      "Epoch 2/100\n",
      "Epoch 3/100\n",
      "Epoch 4/100\n",
      "Epoch 5/100\n",
      "Epoch 6/100\n",
      "Epoch 7/100\n",
      "Epoch 8/100\n",
      "Epoch 9/100\n",
      "Epoch 10/100\n",
      "Epoch 11/100\n",
      "\n",
      "Epoch 00011: ReduceLROnPlateau reducing learning rate to 0.00010000000474974513.\n",
      "Epoch 12/100\n",
      "Epoch 13/100\n",
      "Epoch 00013: early stopping\n",
      "Laufzeit in Minuten: 51.15669360955556\n"
     ]
    }
   ],
   "source": [
    "# Keras model \n",
    "\n",
    "dense_model = Sequential()\n",
    "dense_model.add(Dense(2048, input_dim=dim, activation=\"relu\"))\n",
    "dense_model.add(Dropout(0.4))\n",
    "dense_model.add(Dropout(0.4))\n",
    "dense_model.add(Dropout(0.4))\n",
    "dense_model.add(Dense(512, activation=\"relu\"))\n",
    "dense_model.add(Dropout(0.4))\n",
    "dense_model.add(Dropout(0.4))\n",
    "dense_model.add(Dropout(0.4))\n",
    "dense_model.add(Dense(len(label_encoder.classes_), activation=\"sigmoid\"))\n",
    "\n",
    "summary = dense_model.summary()\n",
    "print(\"\\n\", summary)\n",
    "config = dense_model.get_config()\n",
    "print(\"\\n\", config)\n",
    "\n",
    "# compile keras model\n",
    "lossfunction = 'binary_crossentropy'\n",
    "optimizer = \"adam\"\n",
    "metrics = ['accuracy']\n",
    "\n",
    "dense_model.compile(loss=lossfunction, \n",
    "              optimizer=optimizer,\n",
    "              metrics=metrics)\n",
    "\n",
    "callbacks_list = [EarlyStopping(monitor='val_loss', patience=7, verbose=10),\n",
    "                  ReduceLROnPlateau(monitor='val_loss', factor=0.1, patience=5, verbose=10),\n",
    "                 ]\n",
    "\n",
    "# train keras model\n",
    "batch_size = 32\n",
    "epochs = 100\n",
    "dense_start = time.time()\n",
    "dense_estimator = dense_model.fit(X_train,\n",
    "                            np.array(encoded_y_train), \n",
    "                            batch_size=batch_size,\n",
    "                            epochs=epochs,\n",
    "                            callbacks=callbacks_list,\n",
    "                            verbose=10, \n",
    "                            validation_split=0.1,\n",
    "                            shuffle=True\n",
    "                           )\n",
    "\n",
    "dense_time = (time.time() - dense_start)/60\n",
    "print(\"Laufzeit in Minuten:\", dense_time)"
   ]
  },
  {
   "cell_type": "code",
   "execution_count": 26,
   "metadata": {},
   "outputs": [
    {
     "data": {
      "image/png": "[encoded data removed]",
      "text/plain": [
       "<Figure size 432x288 with 1 Axes>"
      ]
     },
     "metadata": {},
     "output_type": "display_data"
    },
    {
     "data": {
      "image/png": "[encoded data removed]",
      "text/plain": [
       "<Figure size 432x288 with 1 Axes>"
      ]
     },
     "metadata": {},
     "output_type": "display_data"
    }
   ],
   "source": [
    "# visualize the train and validate loss and accuracy\n",
    "\n",
    "# plot history for accuracy\n",
    "pyplot.plot(dense_estimator.history['acc'], label='train')\n",
    "pyplot.plot(dense_estimator.history['val_acc'], label='test')\n",
    "pyplot.legend()\n",
    "pyplot.savefig('%s/themes_only_dense_plot_acc.png' % output_dir)\n",
    "pyplot.show()\n",
    "pyplot.close()\n",
    "\n",
    "# plot history for loss\n",
    "pyplot.plot(dense_estimator.history['loss'], label='train')\n",
    "pyplot.plot(dense_estimator.history['val_loss'], label='test')\n",
    "pyplot.legend()\n",
    "pyplot.savefig('%s/themes_only_dense_plot_loss.png' % output_dir)\n",
    "pyplot.show()\n",
    "pyplot.close()"
   ]
  },
  {
   "cell_type": "code",
   "execution_count": 27,
   "metadata": {},
   "outputs": [
    {
     "name": "stdout",
     "output_type": "stream",
     "text": [
      "51.15669360955556\n"
     ]
    }
   ],
   "source": [
    "print(dense_time)\n",
    "dense_predicted = dense_model.predict_proba(X_test)"
   ]
  },
  {
   "cell_type": "code",
   "execution_count": 28,
   "metadata": {},
   "outputs": [
    {
     "name": "stdout",
     "output_type": "stream",
     "text": [
      "[0. 0. 0. 0. 0. 0. 1. 0. 0. 0. 0. 0. 0. 0. 1. 0. 0. 1. 0. 0. 0.]\n",
      "[0 0 0 0 0 0 1 0 0 0 0 0 0 0 0 0 0 1 0 0 0]\n"
     ]
    }
   ],
   "source": [
    "print(dense_predicted[0].round())\n",
    "print(encoded_y_test[0])"
   ]
  },
  {
   "cell_type": "code",
   "execution_count": 29,
   "metadata": {},
   "outputs": [
    {
     "name": "stdout",
     "output_type": "stream",
     "text": [
      "0.8671770297646876\n",
      "0.8522907900888267\n",
      "0.8490243043538975\n"
     ]
    },
    {
     "name": "stderr",
     "output_type": "stream",
     "text": [
      "c:\\users\\hartmann\\appdata\\local\\programs\\python\\python36\\lib\\site-packages\\sklearn\\metrics\\classification.py:1135: UndefinedMetricWarning: Precision is ill-defined and being set to 0.0 in samples with no predicted labels.\n",
      "  'precision', 'predicted', average, warn_for)\n",
      "c:\\users\\hartmann\\appdata\\local\\programs\\python\\python36\\lib\\site-packages\\sklearn\\metrics\\classification.py:1135: UndefinedMetricWarning: F-score is ill-defined and being set to 0.0 in samples with no predicted labels.\n",
      "  'precision', 'predicted', average, warn_for)\n"
     ]
    }
   ],
   "source": [
    "dense_precision = precision_score(encoded_y_test, dense_predicted.round(), average='samples')\n",
    "print(dense_precision)\n",
    "dense_recall = recall_score(encoded_y_test, dense_predicted.round(), average='samples')\n",
    "print(dense_recall)\n",
    "dense_f1 = f1_score(encoded_y_test, dense_predicted.round(), average='samples')\n",
    "print(dense_f1)"
   ]
  },
  {
   "cell_type": "markdown",
   "metadata": {},
   "source": [
    "Ohne Dropout:\n",
    "\n",
    "Precision: 0.857538569424965\n",
    "Recall: 0.8122954651706404\n",
    "F1-Score: 0.8195001507764481\n",
    "\n",
    "Mit einer Dropout-Schicht (0,4):\n",
    "\n",
    "Precision: 0.8632226897304036\n",
    "Recall: 0.829153031011376\n",
    "F1-Score: 0.8331697223352202\n",
    "\n",
    "Mit drei Dropout-Schichten (0,4):\n",
    "\n",
    "Precision: 0.8671770297646876\n",
    "Recall: 0.8522907900888267\n",
    "F1-Score: 0.8490243043538975"
   ]
  },
  {
   "cell_type": "markdown",
   "metadata": {},
   "source": [
    "# Klassifikation mit LSTM-Layer in Keras"
   ]
  },
  {
   "cell_type": "code",
   "execution_count": 9,
   "metadata": {},
   "outputs": [
    {
     "name": "stdout",
     "output_type": "stream",
     "text": [
      "shape X_train: (17109, 10000)\n",
      "newshape X_train: (17109, 10000, 1)\n",
      "newshape X_test: (4278, 10000, 1)\n"
     ]
    }
   ],
   "source": [
    "# reshape input data from 2D to 3D for MLP input layer\n",
    "def reshape_input(text_vectors):\n",
    "    text_vectors = scipy.sparse.csr_matrix.toarray(text_vectors)\n",
    "    data = np.expand_dims(text_vectors, axis=2)\n",
    "    return data\n",
    "\n",
    "# reshape vectorized trainingdata (X_train)\n",
    "X_train_3d = reshape_input(X_train)\n",
    "# reshape vectorized testdata (X_test)\n",
    "X_test_3d = reshape_input(X_test)\n",
    "\n",
    "print(\"shape X_train:\", X_train.shape)\n",
    "print(\"newshape X_train:\", X_train_3d.shape)\n",
    "print(\"newshape X_test:\", X_test_3d.shape)"
   ]
  },
  {
   "cell_type": "code",
   "execution_count": 18,
   "metadata": {},
   "outputs": [
    {
     "name": "stdout",
     "output_type": "stream",
     "text": [
      "<class 'numpy.ndarray'>\n",
      "17109\n",
      "<class 'numpy.ndarray'>\n",
      "10000\n",
      "<class 'numpy.ndarray'>\n",
      "1\n",
      "<class 'numpy.ndarray'>\n",
      "1\n",
      "<class 'numpy.ndarray'>\n"
     ]
    }
   ],
   "source": [
    "print(type(X_train_3d))\n",
    "print(len(X_train_3d))\n",
    "print(type(X_train_3d[0]))\n",
    "print(len(X_train_3d[0]))\n",
    "print(type(X_train_3d[0][0]))\n",
    "print(len(X_train_3d[0][0]))\n",
    "print(type(X_train_3d[0][1]))\n",
    "print(len(X_train_3d[0][1]))\n",
    "print(type(X_train_3d[0][2]))\n"
   ]
  },
  {
   "cell_type": "code",
   "execution_count": 23,
   "metadata": {},
   "outputs": [
    {
     "name": "stdout",
     "output_type": "stream",
     "text": [
      "_________________________________________________________________\n",
      "Layer (type)                 Output Shape              Param #   \n",
      "=================================================================\n",
      "embedding_5 (Embedding)      (None, None, 32)          320000    \n",
      "_________________________________________________________________\n",
      "lstm_10 (LSTM)               (None, 32)                8320      \n",
      "_________________________________________________________________\n",
      "dropout_5 (Dropout)          (None, 32)                0         \n",
      "_________________________________________________________________\n",
      "dense_5 (Dense)              (None, 21)                693       \n",
      "=================================================================\n",
      "Total params: 329,013\n",
      "Trainable params: 329,013\n",
      "Non-trainable params: 0\n",
      "_________________________________________________________________\n",
      "\n",
      " None\n",
      "\n",
      " [{'class_name': 'Embedding', 'config': {'name': 'embedding_5', 'trainable': True, 'batch_input_shape': (None, None), 'dtype': 'float32', 'input_dim': 10000, 'output_dim': 32, 'embeddings_initializer': {'class_name': 'RandomUniform', 'config': {'minval': -0.05, 'maxval': 0.05, 'seed': None}}, 'embeddings_regularizer': None, 'activity_regularizer': None, 'embeddings_constraint': None, 'mask_zero': False, 'input_length': None}}, {'class_name': 'LSTM', 'config': {'name': 'lstm_10', 'trainable': True, 'return_sequences': False, 'return_state': False, 'go_backwards': False, 'stateful': False, 'unroll': False, 'units': 32, 'activation': 'relu', 'recurrent_activation': 'hard_sigmoid', 'use_bias': True, 'kernel_initializer': {'class_name': 'VarianceScaling', 'config': {'scale': 1.0, 'mode': 'fan_avg', 'distribution': 'uniform', 'seed': None}}, 'recurrent_initializer': {'class_name': 'Orthogonal', 'config': {'gain': 1.0, 'seed': None}}, 'bias_initializer': {'class_name': 'Zeros', 'config': {}}, 'unit_forget_bias': True, 'kernel_regularizer': None, 'recurrent_regularizer': None, 'bias_regularizer': None, 'activity_regularizer': None, 'kernel_constraint': None, 'recurrent_constraint': None, 'bias_constraint': None, 'dropout': 0.0, 'recurrent_dropout': 0.0, 'implementation': 1}}, {'class_name': 'Dropout', 'config': {'name': 'dropout_5', 'trainable': True, 'rate': 0.4, 'noise_shape': None, 'seed': None}}, {'class_name': 'Dense', 'config': {'name': 'dense_5', 'trainable': True, 'units': 21, 'activation': 'sigmoid', 'use_bias': True, 'kernel_initializer': {'class_name': 'VarianceScaling', 'config': {'scale': 1.0, 'mode': 'fan_avg', 'distribution': 'uniform', 'seed': None}}, 'bias_initializer': {'class_name': 'Zeros', 'config': {}}, 'kernel_regularizer': None, 'bias_regularizer': None, 'activity_regularizer': None, 'kernel_constraint': None, 'bias_constraint': None}}]\n",
      "Train on 15398 samples, validate on 1711 samples\n",
      "Epoch 1/100\n"
     ]
    },
    {
     "name": "stderr",
     "output_type": "stream",
     "text": [
      "c:\\users\\hartmann\\appdata\\local\\programs\\python\\python36\\lib\\site-packages\\keras\\callbacks.py:529: RuntimeWarning: invalid value encountered in less\n",
      "  if self.monitor_op(current - self.min_delta, self.best):\n",
      "c:\\users\\hartmann\\appdata\\local\\programs\\python\\python36\\lib\\site-packages\\keras\\callbacks.py:953: RuntimeWarning: invalid value encountered in less\n",
      "  self.monitor_op = lambda a, b: np.less(a, b - self.min_delta)\n"
     ]
    },
    {
     "name": "stdout",
     "output_type": "stream",
     "text": [
      "Epoch 2/100\n",
      "\n",
      "Epoch 00002: ReduceLROnPlateau reducing learning rate to 0.00010000000474974513.\n",
      "Epoch 3/100\n",
      "Epoch 4/100\n",
      "\n",
      "Epoch 00004: ReduceLROnPlateau reducing learning rate to 1.0000000474974514e-05.\n",
      "Epoch 00004: early stopping\n",
      "Laufzeit in Minuten: 170.94995508591333\n"
     ]
    }
   ],
   "source": [
    "# LSTM in Keras\n",
    "lstm_model = Sequential()\n",
    "lstm_model.add(Embedding(input_dim=dim, output_dim=64))\n",
    "lstm_model.add(LSTM(32, activation=\"relu\"))\n",
    "lstm_model.add(Dropout(0.4))\n",
    "\n",
    "lstm_model.add(Dense(len(label_encoder.classes_), activation=\"sigmoid\"))\n",
    "\n",
    "summary = lstm_model.summary()\n",
    "print(\"\\n\", summary)\n",
    "config = lstm_model.get_config()\n",
    "print(\"\\n\", config)\n",
    "\n",
    "# compile keras model\n",
    "lossfunction = 'binary_crossentropy'\n",
    "optimizer = \"adam\"\n",
    "metrics = ['accuracy']\n",
    "\n",
    "lstm_model.compile(loss=lossfunction,\n",
    "                   optimizer=optimizer,\n",
    "                   metrics=metrics)\n",
    "\n",
    "callbacks_list = [EarlyStopping(monitor='val_loss', patience=4, verbose=10),\n",
    "                  ReduceLROnPlateau(monitor='val_loss', factor=0.1, patience=2, verbose=10),\n",
    "                 ]\n",
    "\n",
    "# train keras model\n",
    "batch_size = 32\n",
    "epochs = 100\n",
    "lstm_start = time.time()\n",
    "lstm_estimator = lstm_model.fit(X_train,\n",
    "                            encoded_y_train, \n",
    "                            batch_size=batch_size,\n",
    "                            epochs=epochs,\n",
    "                            callbacks=callbacks_list,\n",
    "                            verbose=10, \n",
    "                            validation_split=0.1,\n",
    "                            shuffle=True\n",
    "                           )\n",
    "\n",
    "lstm_time = (time.time() - lstm_start)/60\n",
    "print(\"Laufzeit in Minuten:\", lstm_time)"
   ]
  },
  {
   "cell_type": "code",
   "execution_count": 24,
   "metadata": {},
   "outputs": [
    {
     "data": {
      "image/png": "[encoded data removed]",
      "text/plain": [
       "<Figure size 432x288 with 1 Axes>"
      ]
     },
     "metadata": {},
     "output_type": "display_data"
    },
    {
     "data": {
      "image/png": "[encoded data removed]",
      "text/plain": [
       "<Figure size 432x288 with 1 Axes>"
      ]
     },
     "metadata": {},
     "output_type": "display_data"
    }
   ],
   "source": [
    "# visualize the train and validate loss and accuracy\n",
    "\n",
    "# plot history for accuracy\n",
    "pyplot.plot(lstm_estimator.history['acc'], label='train')\n",
    "pyplot.plot(lstm_estimator.history['val_acc'], label='test')\n",
    "pyplot.legend()\n",
    "pyplot.savefig('%s/themes_only_lstm_plot_acc.png' % output_dir)\n",
    "pyplot.show()\n",
    "pyplot.close()\n",
    "\n",
    "# plot history for loss\n",
    "pyplot.plot(lstm_estimator.history['loss'], label='train')\n",
    "pyplot.plot(lstm_estimator.history['val_loss'], label='test')\n",
    "pyplot.legend()\n",
    "pyplot.savefig('%s/themes_only_lstm_plot_loss.png' % output_dir)\n",
    "pyplot.show()\n",
    "pyplot.close()"
   ]
  },
  {
   "cell_type": "code",
   "execution_count": 18,
   "metadata": {},
   "outputs": [
    {
     "name": "stderr",
     "output_type": "stream",
     "text": [
      "c:\\users\\hartmann\\appdata\\local\\programs\\python\\python36\\lib\\site-packages\\numpy\\core\\_methods.py:29: RuntimeWarning: invalid value encountered in reduce\n",
      "  return umr_minimum(a, axis, None, out, keepdims)\n",
      "c:\\users\\hartmann\\appdata\\local\\programs\\python\\python36\\lib\\site-packages\\keras\\models.py:1152: RuntimeWarning: invalid value encountered in less\n",
      "  if preds.min() < 0. or preds.max() > 1.:\n",
      "c:\\users\\hartmann\\appdata\\local\\programs\\python\\python36\\lib\\site-packages\\numpy\\core\\_methods.py:26: RuntimeWarning: invalid value encountered in reduce\n",
      "  return umr_maximum(a, axis, None, out, keepdims)\n",
      "c:\\users\\hartmann\\appdata\\local\\programs\\python\\python36\\lib\\site-packages\\keras\\models.py:1152: RuntimeWarning: invalid value encountered in greater\n",
      "  if preds.min() < 0. or preds.max() > 1.:\n"
     ]
    }
   ],
   "source": [
    "#print(lstm_time)\n",
    "lstm_predicted = lstm_model.predict_proba(X_test)"
   ]
  },
  {
   "cell_type": "code",
   "execution_count": 19,
   "metadata": {},
   "outputs": [
    {
     "ename": "ValueError",
     "evalue": "Classification metrics can't handle a mix of multilabel-indicator and continuous-multioutput targets",
     "output_type": "error",
     "traceback": [
      "\u001b[1;31m---------------------------------------------------------------------------\u001b[0m",
      "\u001b[1;31mValueError\u001b[0m                                Traceback (most recent call last)",
      "\u001b[1;32m<ipython-input-19-e4f1f882a3fb>\u001b[0m in \u001b[0;36m<module>\u001b[1;34m()\u001b[0m\n\u001b[1;32m----> 1\u001b[1;33m \u001b[0mlstm_precision\u001b[0m \u001b[1;33m=\u001b[0m \u001b[0mprecision_score\u001b[0m\u001b[1;33m(\u001b[0m\u001b[0mencoded_y_test\u001b[0m\u001b[1;33m,\u001b[0m \u001b[0mlstm_predicted\u001b[0m\u001b[1;33m.\u001b[0m\u001b[0mround\u001b[0m\u001b[1;33m(\u001b[0m\u001b[1;33m)\u001b[0m\u001b[1;33m,\u001b[0m \u001b[0maverage\u001b[0m\u001b[1;33m=\u001b[0m\u001b[1;34m'samples'\u001b[0m\u001b[1;33m)\u001b[0m\u001b[1;33m\u001b[0m\u001b[0m\n\u001b[0m\u001b[0;32m      2\u001b[0m \u001b[0mprint\u001b[0m\u001b[1;33m(\u001b[0m\u001b[0mlstm_precision\u001b[0m\u001b[1;33m)\u001b[0m\u001b[1;33m\u001b[0m\u001b[0m\n\u001b[0;32m      3\u001b[0m \u001b[0mlstm_recall\u001b[0m \u001b[1;33m=\u001b[0m \u001b[0mrecall_score\u001b[0m\u001b[1;33m(\u001b[0m\u001b[0mencoded_y_test\u001b[0m\u001b[1;33m,\u001b[0m \u001b[0mlstm_predicted\u001b[0m\u001b[1;33m.\u001b[0m\u001b[0mround\u001b[0m\u001b[1;33m(\u001b[0m\u001b[1;33m)\u001b[0m\u001b[1;33m,\u001b[0m \u001b[0maverage\u001b[0m\u001b[1;33m=\u001b[0m\u001b[1;34m'samples'\u001b[0m\u001b[1;33m)\u001b[0m\u001b[1;33m\u001b[0m\u001b[0m\n\u001b[0;32m      4\u001b[0m \u001b[0mprint\u001b[0m\u001b[1;33m(\u001b[0m\u001b[0mlstm_recall\u001b[0m\u001b[1;33m)\u001b[0m\u001b[1;33m\u001b[0m\u001b[0m\n\u001b[0;32m      5\u001b[0m \u001b[0mlstm_f1\u001b[0m \u001b[1;33m=\u001b[0m \u001b[0mf1_score\u001b[0m\u001b[1;33m(\u001b[0m\u001b[0mencoded_y_test\u001b[0m\u001b[1;33m,\u001b[0m \u001b[0mlstm_predicted\u001b[0m\u001b[1;33m.\u001b[0m\u001b[0mround\u001b[0m\u001b[1;33m(\u001b[0m\u001b[1;33m)\u001b[0m\u001b[1;33m,\u001b[0m \u001b[0maverage\u001b[0m\u001b[1;33m=\u001b[0m\u001b[1;34m'samples'\u001b[0m\u001b[1;33m)\u001b[0m\u001b[1;33m\u001b[0m\u001b[0m\n",
      "\u001b[1;32mc:\\users\\hartmann\\appdata\\local\\programs\\python\\python36\\lib\\site-packages\\sklearn\\metrics\\classification.py\u001b[0m in \u001b[0;36mprecision_score\u001b[1;34m(y_true, y_pred, labels, pos_label, average, sample_weight)\u001b[0m\n\u001b[0;32m   1259\u001b[0m                                                  \u001b[0maverage\u001b[0m\u001b[1;33m=\u001b[0m\u001b[0maverage\u001b[0m\u001b[1;33m,\u001b[0m\u001b[1;33m\u001b[0m\u001b[0m\n\u001b[0;32m   1260\u001b[0m                                                  \u001b[0mwarn_for\u001b[0m\u001b[1;33m=\u001b[0m\u001b[1;33m(\u001b[0m\u001b[1;34m'precision'\u001b[0m\u001b[1;33m,\u001b[0m\u001b[1;33m)\u001b[0m\u001b[1;33m,\u001b[0m\u001b[1;33m\u001b[0m\u001b[0m\n\u001b[1;32m-> 1261\u001b[1;33m                                                  sample_weight=sample_weight)\n\u001b[0m\u001b[0;32m   1262\u001b[0m     \u001b[1;32mreturn\u001b[0m \u001b[0mp\u001b[0m\u001b[1;33m\u001b[0m\u001b[0m\n\u001b[0;32m   1263\u001b[0m \u001b[1;33m\u001b[0m\u001b[0m\n",
      "\u001b[1;32mc:\\users\\hartmann\\appdata\\local\\programs\\python\\python36\\lib\\site-packages\\sklearn\\metrics\\classification.py\u001b[0m in \u001b[0;36mprecision_recall_fscore_support\u001b[1;34m(y_true, y_pred, beta, labels, pos_label, average, warn_for, sample_weight)\u001b[0m\n\u001b[0;32m   1023\u001b[0m         \u001b[1;32mraise\u001b[0m \u001b[0mValueError\u001b[0m\u001b[1;33m(\u001b[0m\u001b[1;34m\"beta should be >0 in the F-beta score\"\u001b[0m\u001b[1;33m)\u001b[0m\u001b[1;33m\u001b[0m\u001b[0m\n\u001b[0;32m   1024\u001b[0m \u001b[1;33m\u001b[0m\u001b[0m\n\u001b[1;32m-> 1025\u001b[1;33m     \u001b[0my_type\u001b[0m\u001b[1;33m,\u001b[0m \u001b[0my_true\u001b[0m\u001b[1;33m,\u001b[0m \u001b[0my_pred\u001b[0m \u001b[1;33m=\u001b[0m \u001b[0m_check_targets\u001b[0m\u001b[1;33m(\u001b[0m\u001b[0my_true\u001b[0m\u001b[1;33m,\u001b[0m \u001b[0my_pred\u001b[0m\u001b[1;33m)\u001b[0m\u001b[1;33m\u001b[0m\u001b[0m\n\u001b[0m\u001b[0;32m   1026\u001b[0m     \u001b[0mpresent_labels\u001b[0m \u001b[1;33m=\u001b[0m \u001b[0munique_labels\u001b[0m\u001b[1;33m(\u001b[0m\u001b[0my_true\u001b[0m\u001b[1;33m,\u001b[0m \u001b[0my_pred\u001b[0m\u001b[1;33m)\u001b[0m\u001b[1;33m\u001b[0m\u001b[0m\n\u001b[0;32m   1027\u001b[0m \u001b[1;33m\u001b[0m\u001b[0m\n",
      "\u001b[1;32mc:\\users\\hartmann\\appdata\\local\\programs\\python\\python36\\lib\\site-packages\\sklearn\\metrics\\classification.py\u001b[0m in \u001b[0;36m_check_targets\u001b[1;34m(y_true, y_pred)\u001b[0m\n\u001b[0;32m     79\u001b[0m     \u001b[1;32mif\u001b[0m \u001b[0mlen\u001b[0m\u001b[1;33m(\u001b[0m\u001b[0my_type\u001b[0m\u001b[1;33m)\u001b[0m \u001b[1;33m>\u001b[0m \u001b[1;36m1\u001b[0m\u001b[1;33m:\u001b[0m\u001b[1;33m\u001b[0m\u001b[0m\n\u001b[0;32m     80\u001b[0m         raise ValueError(\"Classification metrics can't handle a mix of {0} \"\n\u001b[1;32m---> 81\u001b[1;33m                          \"and {1} targets\".format(type_true, type_pred))\n\u001b[0m\u001b[0;32m     82\u001b[0m \u001b[1;33m\u001b[0m\u001b[0m\n\u001b[0;32m     83\u001b[0m     \u001b[1;31m# We can't have more than one value on y_type => The set is no more needed\u001b[0m\u001b[1;33m\u001b[0m\u001b[1;33m\u001b[0m\u001b[0m\n",
      "\u001b[1;31mValueError\u001b[0m: Classification metrics can't handle a mix of multilabel-indicator and continuous-multioutput targets"
     ]
    }
   ],
   "source": [
    "lstm_precision = precision_score(encoded_y_test, lstm_predicted.round(), average='samples')\n",
    "print(lstm_precision)\n",
    "lstm_recall = recall_score(encoded_y_test, lstm_predicted.round(), average='samples')\n",
    "print(lstm_recall)\n",
    "lstm_f1 = f1_score(encoded_y_test, lstm_predicted.round(), average='samples')\n",
    "print(lstm_f1)"
   ]
  }
 ],
 "metadata": {
  "kernelspec": {
   "display_name": "Python 3",
   "language": "python",
   "name": "python3"
  },
  "language_info": {
   "codemirror_mode": {
    "name": "ipython",
    "version": 3
   },
   "file_extension": ".py",
   "mimetype": "text/x-python",
   "name": "python",
   "nbconvert_exporter": "python",
   "pygments_lexer": "ipython3",
   "version": "3.6.5"
  }
 },
 "nbformat": 4,
 "nbformat_minor": 2
}
