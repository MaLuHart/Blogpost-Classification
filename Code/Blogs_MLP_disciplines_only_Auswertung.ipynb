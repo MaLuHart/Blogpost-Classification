{
 "cells": [
  {
   "cell_type": "markdown",
   "metadata": {},
   "source": [
    "# Auswertung der Klassifikation mit dem MLPClassifier (disciplines_only)\n",
    "\n",
    "Autorin: Maria Hartmann"
   ]
  },
  {
   "cell_type": "code",
   "execution_count": 1,
   "metadata": {},
   "outputs": [],
   "source": [
    "# read predicitons\n",
    "f = open('../MLP/MLP_disciplines_only_predictions.txt', \"r\", encoding=\"utf-8\")\n",
    "lines = f.readlines()\n",
    "f.close()\n",
    "trues = []\n",
    "preds = []\n",
    "idents = []\n",
    "labellist = []\n",
    "for line in lines:\n",
    "    if line.startswith(\"TRUE:\"):\n",
    "        line = line.replace(\"TRUE: \", \"\").strip()\n",
    "        #trues.append(line.split(\", \"))\n",
    "        labels = line.split(\", \")\n",
    "        tmp_line=[]\n",
    "        for label in labels:\n",
    "            label = label.strip().replace(\",\", \"\").strip()\n",
    "            tmp_line.append(label)\n",
    "        trues.append(tmp_line)\n",
    "        labellist.append(tmp_line)\n",
    "        \n",
    "    elif line.startswith(\"PRED:\"):\n",
    "        line = line.replace(\"PRED: \", \"\").strip()\n",
    "        #preds.append(line.split(\",\"))\n",
    "        labels = line.split(\", \")\n",
    "        tmp_line=[]\n",
    "        for label in labels:\n",
    "            label = label.strip().replace(\",\", \"\").strip()\n",
    "            tmp_line.append(label)\n",
    "        preds.append(tmp_line)\n",
    "        if len(line) != 0:\n",
    "            labellist.append(tmp_line)\n",
    "    elif \".txt\" in line:\n",
    "        idents.append(line)\n",
    "        \n",
    "    else:\n",
    "        continue\n",
    "\n",
    "labelset = sorted(set([item for sublist in labellist for item in sublist]))"
   ]
  },
  {
   "cell_type": "code",
   "execution_count": 2,
   "metadata": {},
   "outputs": [],
   "source": [
    "pred_count=0 #Anzal der Vorhersagen insgesamt\n",
    "label_count=0 # Anzahl der Labels im Testset\n",
    "false_count=0 # Anzal der falschen Vorhersagen (falsche Vorhersagen sind Vorhersagen, die nicht in den richtigen Labels enthalten sind)\n",
    "right_count=0 # Anzal der richtigen Vorhersagen\n",
    "not_pred_count=0 # Anzahl der nicht vorhergesagten Labels\n",
    "pred_dic=dict(zip(labelset, [0]*len(labelset))) # Vorkommen der Labels in den Vorhersagen\n",
    "label_dic=dict(zip(labelset, [0]*len(labelset))) # Vorkommen der Labels im Testset\n",
    "correct_predicted=dict(zip(labelset, [0]*len(labelset))) # Richtige Vorhersagen und ihre Vorkommen\n",
    "false_predicted=dict(zip(labelset, [0]*len(labelset))) # Falsche Vorhersagen und ihre Vorkommen\n",
    "not_predicted=dict(zip(labelset, [0]*len(labelset))) # nicht vorhergesagt Labels und die Anzahl ihrer nicht Vorhersagen\n",
    "\n",
    "for ident, true, pred in zip(idents, trues, preds):\n",
    "    for t in true:\n",
    "        label_count+=1\n",
    "        if t in label_dic:\n",
    "            label_dic[t]+=1\n",
    "        else:\n",
    "            #label_dic[t]=1\n",
    "            print(\"Label im Dictionary nicht gefunden\")\n",
    "        if t not in pred:\n",
    "            not_pred_count+=1\n",
    "            if t in not_predicted:\n",
    "                not_predicted[t]+=1\n",
    "            else:\n",
    "                #not_predicted[t]=1\n",
    "                print(\"Label im Dictionary nicht gefunden\")\n",
    "        else:\n",
    "            right_count+=1\n",
    "            if t in correct_predicted:\n",
    "                correct_predicted[t]+=1\n",
    "            else:\n",
    "                #false_predicted[t]=1\n",
    "                print(\"Label im Dictionary nicht gefunden\")\n",
    "                \n",
    "    for p in pred:\n",
    "        if len(p) != 0:\n",
    "            pred_count+=1\n",
    "            if p in pred_dic:\n",
    "                pred_dic[p]+=1\n",
    "            else:\n",
    "                #pred_dic[t]=1\n",
    "                print(\"Label im Dictionary nicht gefunden\")\n",
    "            if p not in true:\n",
    "                false_count+=1\n",
    "                if p in false_predicted:\n",
    "                    false_predicted[p]+=1\n",
    "                else:\n",
    "                    #false_predicted[p]=1\n",
    "                    print(\"Label im Dictionary nicht gefunden\")\n",
    "        else:\n",
    "            continue"
   ]
  },
  {
   "cell_type": "code",
   "execution_count": 3,
   "metadata": {},
   "outputs": [
    {
     "name": "stdout",
     "output_type": "stream",
     "text": [
      "14\n",
      "administration publique et développement_d: 130\n",
      "arts et humanités_d: 973\n",
      "bibliothéconomie_d: 251\n",
      "histoire et archéologie_d: 3296\n",
      "langue et linguistique_d: 83\n",
      "littérature_d: 41\n",
      "pluridisciplinarité_d: 2128\n",
      "psychologie_d: 50\n",
      "sciences de l'information et de la communication_d: 251\n",
      "sciences de la santé et de la santé publique_d: 42\n",
      "sciences politiques_d: 130\n",
      "sociologie et anthropologie_d: 287\n",
      "travail social et politique sociale_d: 111\n",
      "éducation_d: 202\n"
     ]
    }
   ],
   "source": [
    "# Gesamte Labels im Testset\n",
    "print(len(label_dic))\n",
    "for k, v in label_dic.items():\n",
    "    print(\"%s: %s\" % (k, v))\n",
    "    \n",
    "#labels = [(k, label_dic[k]) for k in sorted(label_dic, key=label_dic.get, reverse=True)]\n",
    "#for k, v in labels:\n",
    "    #print(\"%s: %s\" % (k, v))"
   ]
  },
  {
   "cell_type": "code",
   "execution_count": 4,
   "metadata": {},
   "outputs": [
    {
     "name": "stdout",
     "output_type": "stream",
     "text": [
      "14\n",
      "administration publique et développement_d: 71\n",
      "arts et humanités_d: 962\n",
      "bibliothéconomie_d: 159\n",
      "histoire et archéologie_d: 3348\n",
      "langue et linguistique_d: 49\n",
      "littérature_d: 0\n",
      "pluridisciplinarité_d: 2208\n",
      "psychologie_d: 38\n",
      "sciences de l'information et de la communication_d: 158\n",
      "sciences de la santé et de la santé publique_d: 22\n",
      "sciences politiques_d: 72\n",
      "sociologie et anthropologie_d: 208\n",
      "travail social et politique sociale_d: 77\n",
      "éducation_d: 125\n"
     ]
    }
   ],
   "source": [
    "# Gesamte Vorhersagen im Testset\n",
    "print(len(pred_dic))\n",
    "for k, v in pred_dic.items():\n",
    "    print(\"%s: %s\" % (k, v))"
   ]
  },
  {
   "cell_type": "code",
   "execution_count": 5,
   "metadata": {},
   "outputs": [
    {
     "name": "stdout",
     "output_type": "stream",
     "text": [
      "14\n",
      "administration publique et développement_d: 57\n",
      "arts et humanités_d: 713\n",
      "bibliothéconomie_d: 122\n",
      "histoire et archéologie_d: 3090\n",
      "langue et linguistique_d: 46\n",
      "littérature_d: 0\n",
      "pluridisciplinarité_d: 1862\n",
      "psychologie_d: 37\n",
      "sciences de l'information et de la communication_d: 124\n",
      "sciences de la santé et de la santé publique_d: 21\n",
      "sciences politiques_d: 58\n",
      "sociologie et anthropologie_d: 171\n",
      "travail social et politique sociale_d: 75\n",
      "éducation_d: 117\n"
     ]
    }
   ],
   "source": [
    "# Korrekte Vorhersagen je Label im Korpus\n",
    "print(len(correct_predicted))\n",
    "for k, v in correct_predicted.items():\n",
    "    print(\"%s: %s\" % (k, v))"
   ]
  },
  {
   "cell_type": "code",
   "execution_count": 6,
   "metadata": {},
   "outputs": [
    {
     "name": "stdout",
     "output_type": "stream",
     "text": [
      "14\n",
      "administration publique et développement_d: 14\n",
      "arts et humanités_d: 249\n",
      "bibliothéconomie_d: 37\n",
      "histoire et archéologie_d: 258\n",
      "langue et linguistique_d: 3\n",
      "littérature_d: 0\n",
      "pluridisciplinarité_d: 346\n",
      "psychologie_d: 1\n",
      "sciences de l'information et de la communication_d: 34\n",
      "sciences de la santé et de la santé publique_d: 1\n",
      "sciences politiques_d: 14\n",
      "sociologie et anthropologie_d: 37\n",
      "travail social et politique sociale_d: 2\n",
      "éducation_d: 8\n"
     ]
    }
   ],
   "source": [
    "# Falsche Vorhersagen je Label im Korpus\n",
    "print(len(false_predicted))\n",
    "for k, v in false_predicted.items():\n",
    "    print(\"%s: %s\" % (k, v))"
   ]
  },
  {
   "cell_type": "code",
   "execution_count": 7,
   "metadata": {},
   "outputs": [
    {
     "name": "stdout",
     "output_type": "stream",
     "text": [
      "14\n",
      "administration publique et développement_d: 73\n",
      "arts et humanités_d: 260\n",
      "bibliothéconomie_d: 129\n",
      "histoire et archéologie_d: 206\n",
      "langue et linguistique_d: 37\n",
      "littérature_d: 41\n",
      "pluridisciplinarité_d: 266\n",
      "psychologie_d: 13\n",
      "sciences de l'information et de la communication_d: 127\n",
      "sciences de la santé et de la santé publique_d: 21\n",
      "sciences politiques_d: 72\n",
      "sociologie et anthropologie_d: 116\n",
      "travail social et politique sociale_d: 36\n",
      "éducation_d: 85\n"
     ]
    }
   ],
   "source": [
    "# nicht vorhergesagte Labels im Korpus\n",
    "print(len(not_predicted))\n",
    "for k, v in not_predicted.items():\n",
    "    print(\"%s: %s\" % (k, v))"
   ]
  },
  {
   "cell_type": "markdown",
   "metadata": {},
   "source": [
    "PROZENTUALE AUSWERTUNG:\n",
    "\n",
    "Prozentsatz = (Prozentwert/Grundwert)*100\n",
    "\n",
    "\n",
    "label_dic = correct_predicted + not_predicted\n",
    "\n",
    "pred_dic = correct_predicted + false_predicted"
   ]
  },
  {
   "cell_type": "code",
   "execution_count": 8,
   "metadata": {},
   "outputs": [
    {
     "name": "stdout",
     "output_type": "stream",
     "text": [
      "administration publique et développement_d: 56.15%\n",
      "arts et humanités_d: 26.72%\n",
      "bibliothéconomie_d: 51.39%\n",
      "histoire et archéologie_d: 6.25%\n",
      "langue et linguistique_d: 44.58%\n",
      "littérature_d: 100.0%\n",
      "pluridisciplinarité_d: 12.5%\n",
      "psychologie_d: 26.0%\n",
      "sciences de l'information et de la communication_d: 50.6%\n",
      "sciences de la santé et de la santé publique_d: 50.0%\n",
      "sciences politiques_d: 55.38%\n",
      "sociologie et anthropologie_d: 40.42%\n",
      "travail social et politique sociale_d: 32.43%\n",
      "éducation_d: 42.08%\n"
     ]
    }
   ],
   "source": [
    "# nicht vorhergesagte Labels in Prozent\n",
    "not_predicted_prozent={}\n",
    "for key, value in label_dic.items():\n",
    "    for not_k, not_v in not_predicted.items():\n",
    "        if not_k == key:\n",
    "            prozent=round(((not_v/value)*100),2)\n",
    "            not_predicted_prozent[not_k]=prozent\n",
    "            \n",
    "for k, v in not_predicted_prozent.items():\n",
    "    print(\"%s: %s%%\" % (k, v))"
   ]
  },
  {
   "cell_type": "code",
   "execution_count": 9,
   "metadata": {},
   "outputs": [
    {
     "name": "stdout",
     "output_type": "stream",
     "text": [
      "administration publique et développement_d: 19.72%\n",
      "arts et humanités_d: 25.88%\n",
      "bibliothéconomie_d: 23.27%\n",
      "histoire et archéologie_d: 7.71%\n",
      "langue et linguistique_d: 6.12%\n",
      "littérature_d: 0%\n",
      "pluridisciplinarité_d: 15.67%\n",
      "psychologie_d: 2.63%\n",
      "sciences de l'information et de la communication_d: 21.52%\n",
      "sciences de la santé et de la santé publique_d: 4.55%\n",
      "sciences politiques_d: 19.44%\n",
      "sociologie et anthropologie_d: 17.79%\n",
      "travail social et politique sociale_d: 2.6%\n",
      "éducation_d: 6.4%\n"
     ]
    }
   ],
   "source": [
    "# Fehlklassifizierungsrate je Label in Prozent\n",
    "false_predicted_prozent={}\n",
    "for key, value in pred_dic.items():\n",
    "    for false_k, false_v in false_predicted.items():\n",
    "        if false_k == key:\n",
    "            if value != 0:\n",
    "                prozent=round(((false_v/value)*100),2)\n",
    "                false_predicted_prozent[false_k]=prozent\n",
    "            else:\n",
    "                false_predicted_prozent[false_k]=0\n",
    "for k, v in false_predicted_prozent.items():\n",
    "    print(\"%s: %s%%\" % (k, v))"
   ]
  },
  {
   "cell_type": "code",
   "execution_count": 10,
   "metadata": {},
   "outputs": [
    {
     "name": "stdout",
     "output_type": "stream",
     "text": [
      "administration publique et développement_d: 80.28%\n",
      "arts et humanités_d: 74.12%\n",
      "bibliothéconomie_d: 76.73%\n",
      "histoire et archéologie_d: 92.29%\n",
      "langue et linguistique_d: 93.88%\n",
      "littérature_d: 0%\n",
      "pluridisciplinarité_d: 84.33%\n",
      "psychologie_d: 97.37%\n",
      "sciences de l'information et de la communication_d: 78.48%\n",
      "sciences de la santé et de la santé publique_d: 95.45%\n",
      "sciences politiques_d: 80.56%\n",
      "sociologie et anthropologie_d: 82.21%\n",
      "travail social et politique sociale_d: 97.4%\n",
      "éducation_d: 93.6%\n"
     ]
    }
   ],
   "source": [
    "# Korrektklassifizierungsrate je Label in Prozent\n",
    "correct_predicted_prozent={}\n",
    "for key, value in pred_dic.items():\n",
    "    for correct_k, correct_v in correct_predicted.items():\n",
    "        if correct_k == key:\n",
    "            if value != 0:\n",
    "                prozent=round(((correct_v/value)*100),2)\n",
    "                correct_predicted_prozent[correct_k]=prozent\n",
    "            else:\n",
    "                correct_predicted_prozent[correct_k]=0\n",
    "for k, v in correct_predicted_prozent.items():\n",
    "    print(\"%s: %s%%\" % (k, v))"
   ]
  },
  {
   "cell_type": "markdown",
   "metadata": {},
   "source": [
    "Ergebnisse in Datei schreiben"
   ]
  },
  {
   "cell_type": "code",
   "execution_count": 11,
   "metadata": {},
   "outputs": [],
   "source": [
    "f = open('../Preprocessing/blogposts_per_disciplines_only_reduced.txt', \"r\", encoding=\"utf-8\")\n",
    "lines = f.readlines()\n",
    "f.close()\n",
    "\n",
    "label_train_dic=dict(zip(labelset, [0]*len(labelset))) # Vorkommen der Labels im Testset\n",
    "\n",
    "for line in lines:\n",
    "    label, count = line.split(\":\")\n",
    "    label = label.strip()\n",
    "    count = count.strip()\n",
    "    \n",
    "    for k,v in label_train_dic.items():\n",
    "        if k == label:\n",
    "            label_train_dic[k]=count"
   ]
  },
  {
   "cell_type": "code",
   "execution_count": 12,
   "metadata": {},
   "outputs": [
    {
     "name": "stdout",
     "output_type": "stream",
     "text": [
      "administration publique et développement_d: 644\n",
      "arts et humanités_d: 4863\n",
      "bibliothéconomie_d: 1252\n",
      "histoire et archéologie_d: 16471\n",
      "langue et linguistique_d: 414\n",
      "littérature_d: 204\n",
      "pluridisciplinarité_d: 10635\n",
      "psychologie_d: 252\n",
      "sciences de l'information et de la communication_d: 1252\n",
      "sciences de la santé et de la santé publique_d: 211\n",
      "sciences politiques_d: 644\n",
      "sociologie et anthropologie_d: 1440\n",
      "travail social et politique sociale_d: 553\n",
      "éducation_d: 1011\n"
     ]
    }
   ],
   "source": [
    "for k, v in label_train_dic.items():\n",
    "    print(\"%s: %s\" % (k, v))"
   ]
  },
  {
   "cell_type": "code",
   "execution_count": 13,
   "metadata": {},
   "outputs": [
    {
     "name": "stdout",
     "output_type": "stream",
     "text": [
      "administration publique et développement_d, 644, 130, 71, 57, 80.28%, 14, 19.72%, 73, 56.15%\n",
      "arts et humanités_d, 4863, 973, 962, 713, 74.12%, 249, 25.88%, 260, 26.72%\n",
      "bibliothéconomie_d, 1252, 251, 159, 122, 76.73%, 37, 23.27%, 129, 51.39%\n",
      "histoire et archéologie_d, 16471, 3296, 3348, 3090, 92.29%, 258, 7.71%, 206, 6.25%\n",
      "langue et linguistique_d, 414, 83, 49, 46, 93.88%, 3, 6.12%, 37, 44.58%\n",
      "littérature_d, 204, 41, 0, 0, 0%, 0, 0%, 41, 100.0%\n",
      "pluridisciplinarité_d, 10635, 2128, 2208, 1862, 84.33%, 346, 15.67%, 266, 12.5%\n",
      "psychologie_d, 252, 50, 38, 37, 97.37%, 1, 2.63%, 13, 26.0%\n",
      "sciences de l'information et de la communication_d, 1252, 251, 158, 124, 78.48%, 34, 21.52%, 127, 50.6%\n",
      "sciences de la santé et de la santé publique_d, 211, 42, 22, 21, 95.45%, 1, 4.55%, 21, 50.0%\n",
      "sciences politiques_d, 644, 130, 72, 58, 80.56%, 14, 19.44%, 72, 55.38%\n",
      "sociologie et anthropologie_d, 1440, 287, 208, 171, 82.21%, 37, 17.79%, 116, 40.42%\n",
      "travail social et politique sociale_d, 553, 111, 77, 75, 97.4%, 2, 2.6%, 36, 32.43%\n",
      "éducation_d, 1011, 202, 125, 117, 93.6%, 8, 6.4%, 85, 42.08%\n"
     ]
    }
   ],
   "source": [
    "label_keys = label_dic.keys()\n",
    "label_train_count = label_train_dic.values()\n",
    "label_count = label_dic.values()\n",
    "pred_count = pred_dic.values()\n",
    "correct_count = correct_predicted.values()\n",
    "correct_percent = correct_predicted_prozent.values()\n",
    "false_count = false_predicted.values()\n",
    "false_percent = false_predicted_prozent.values()\n",
    "not_pred_count = not_predicted.values()\n",
    "not_pred_percent = not_predicted_prozent.values()\n",
    "\n",
    "with open('../MLP/MLP_disciplines_only_prozentuale_auswertung.txt', 'w+', encoding=\"utf-8\") as file:\n",
    "    file.write(\"Label (disciplines_only), Trainingsset (#), Testset (#), Vorhersagen (#), Korrekte Vorhersagen (#), Korrekte Vorhersagen (%), Falsche Vorhersagen (#), Falsche Vorhersagen (%), Nicht vorhergesagte Labels (#), Nicht vorhergesagte Labels (%)\\n\")\n",
    "    for key, train_count, test_count, pred_count, correct_count, correct_percent, false_count, false_percent, not_pred_count, not_pred_percent in zip(label_keys, label_train_count, label_count, pred_count, correct_count, correct_percent, false_count, false_percent, not_pred_count, not_pred_percent):\n",
    "        print(\"%s, %s, %s, %s, %s, %s%%, %s, %s%%, %s, %s%%\" % (key, train_count, test_count, pred_count, correct_count, correct_percent, false_count, false_percent, not_pred_count, not_pred_percent))\n",
    "        file.write(\"%s, %s, %s, %s, %s, %s%%, %s, %s%%, %s, %s%%\\n\" % (key, train_count, test_count, pred_count, correct_count, correct_percent, false_count, false_percent, not_pred_count, not_pred_percent))"
   ]
  },
  {
   "cell_type": "code",
   "execution_count": null,
   "metadata": {},
   "outputs": [],
   "source": []
  }
 ],
 "metadata": {
  "kernelspec": {
   "display_name": "Python 3",
   "language": "python",
   "name": "python3"
  },
  "language_info": {
   "codemirror_mode": {
    "name": "ipython",
    "version": 3
   },
   "file_extension": ".py",
   "mimetype": "text/x-python",
   "name": "python",
   "nbconvert_exporter": "python",
   "pygments_lexer": "ipython3",
   "version": "3.6.5"
  }
 },
 "nbformat": 4,
 "nbformat_minor": 2
}
