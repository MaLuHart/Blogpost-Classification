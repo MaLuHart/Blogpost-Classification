{
 "cells": [
  {
   "cell_type": "markdown",
   "metadata": {},
   "source": [
    "# Textklassifikation mit Bag-of-Words-Vektorisierung in tf-idf-Repräsentation und kNN-Algorithmus \n",
    "Labels (Themen und Disziplinen) sind nicht reduziert (all_labels)\n",
    "\n",
    "Autorin: Maria Hartmann"
   ]
  },
  {
   "cell_type": "code",
   "execution_count": 1,
   "metadata": {},
   "outputs": [],
   "source": [
    "# Imports\n",
    "import os\n",
    "import time\n",
    "import numpy as np\n",
    "import pandas as pd\n",
    "from sklearn.preprocessing import MultiLabelBinarizer # module to one-hot-encode the labels\n",
    "from sklearn.pipeline import Pipeline # assemples transormers \n",
    "from sklearn.feature_extraction.text import CountVectorizer\n",
    "from sklearn.feature_extraction.text import TfidfTransformer # module to transform a count matrix to a normalized tf-idf representation\n",
    "from sklearn.neighbors import KNeighborsClassifier # k-nearest neighbors classifier (supports multi-label classification)\n",
    "from sklearn.model_selection import RandomizedSearchCV # module for paramter optimization\n",
    "\n",
    "np.random.seed(7) # fix random seed for reproducibility"
   ]
  },
  {
   "cell_type": "markdown",
   "metadata": {},
   "source": [
    "Einlesen des Trainings- und Testdatensatzes"
   ]
  },
  {
   "cell_type": "code",
   "execution_count": 2,
   "metadata": {},
   "outputs": [],
   "source": [
    "trainset = '../Datasets/all_labels_trainset.csv' \n",
    "testset = '../Datasets/all_labels_testset.csv' \n",
    "\n",
    "trainset_csv = pd.read_csv(trainset, delimiter=';')\n",
    "X_train = trainset_csv['text'].values\n",
    "y_train = trainset_csv['classes'].values\n",
    "z_train = trainset_csv['filename'].values\n",
    "\n",
    "testset_csv = pd.read_csv(testset, delimiter=';')\n",
    "X_test = testset_csv['text'].values\n",
    "y_test = testset_csv['classes'].values\n",
    "z_test = testset_csv['filename'].values\n",
    "\n",
    "# Splitten der Labels pro Blogbeitrag\n",
    "y_train = [e.split(', ') for e in y_train]\n",
    "y_test = [e.split(', ') for e in y_test]"
   ]
  },
  {
   "cell_type": "code",
   "execution_count": 3,
   "metadata": {},
   "outputs": [
    {
     "name": "stdout",
     "output_type": "stream",
     "text": [
      "nummer_212.txt\n",
      "['histoire_d', \"sciences de l'information et de la communication_d\", 'bibliothéconomie_d', 'histoire_t', 'histoire intellectuelle_t', 'histoire et sociologie des médias_t', 'histoire culturelle_t']\n",
      "die gemälde der habsburgischen sammlungen zu wien wurden von der stallburg ins belvedere transferiert und dort von christian von mechel neu angeordnet und aufgehängt\n"
     ]
    }
   ],
   "source": [
    "print(z_train[0])\n",
    "print(y_train[0])\n",
    "print(X_train[0])"
   ]
  },
  {
   "cell_type": "markdown",
   "metadata": {},
   "source": [
    "k-hot-Kodierung der Labels"
   ]
  },
  {
   "cell_type": "code",
   "execution_count": 4,
   "metadata": {},
   "outputs": [
    {
     "name": "stdout",
     "output_type": "stream",
     "text": [
      "[0 0 0 0 0 0 0 0 0 0 0 0 0 1 0 0 0 0 0 0 0 0 0 0 0 1 0 0 0 0 0 0 0 1 0 1 0\n",
      " 0 0 0 1 1 0 0 0 0 0 0 0 0 0 0 0 0 0 0 0 0 0 0 0 0 0 0 0 0 0 0 0 0 0 0 0 0\n",
      " 1 0 0 0 0 0 0 0 0 0 0 0 0 0 0 0 0 0 0 0 0 0 0 0 0 0 0 0 0 0 0 0 0 0 0 0 0\n",
      " 0 0 0]\n"
     ]
    }
   ],
   "source": [
    "# k-hot-encode labels mit MultiLabelBinarizer\n",
    "label_encoder = MultiLabelBinarizer()\n",
    "encoded_y_train = label_encoder.fit_transform(y_train)\n",
    "encoded_y_test = label_encoder.transform(y_test)\n",
    "print(encoded_y_train[0])"
   ]
  },
  {
   "cell_type": "code",
   "execution_count": 5,
   "metadata": {},
   "outputs": [
    {
     "name": "stdout",
     "output_type": "stream",
     "text": [
      "114\n",
      "0 1914-1918_t\n",
      "1 1918-1939_t\n",
      "2 1939-1945_t\n",
      "3 1945-1989_t\n",
      "4 administration publique et développement_d\n",
      "5 anthropologie politique_t\n",
      "6 approches de corpus_t\n",
      "7 archives_t\n",
      "8 archéologie_d\n",
      "9 arts et humanités_d\n",
      "10 arts_d\n",
      "11 asie_t\n",
      "12 bas moyen âge_t\n",
      "13 bibliothéconomie_d\n",
      "14 biomédecine_d\n",
      "15 chine_t\n",
      "16 communication_d\n",
      "17 conflits_t\n",
      "18 digital humanities_t\n",
      "19 enquêtes_t\n",
      "20 europe centrale et orientale_t\n",
      "21 europe_t\n",
      "22 france_t\n",
      "23 guerres_t\n",
      "24 haut moyen âge_t\n",
      "25 histoire culturelle_t\n",
      "26 histoire de l'art_t\n",
      "27 histoire des religions_t\n",
      "28 histoire des sciences sociales_d\n",
      "29 histoire des sciences_t\n",
      "30 histoire du droit_t\n",
      "31 histoire et archéologie_d\n",
      "32 histoire et philosophie des sciences_d\n",
      "33 histoire et sociologie des médias_t\n",
      "34 histoire industrielle_t\n",
      "35 histoire intellectuelle_t\n",
      "36 histoire politique_t\n",
      "37 histoire sociale_t\n",
      "38 histoire urbaine_t\n",
      "39 histoire économique_t\n",
      "40 histoire_d\n",
      "41 histoire_t\n",
      "42 historiographie_t\n",
      "43 humanités pluridisciplinaires_d\n",
      "44 information_t\n",
      "45 langage_t\n",
      "46 langue et linguistique_d\n",
      "47 linguistique appliquée_d\n",
      "48 linguistique_t\n",
      "49 littérature_d\n",
      "50 littératures_t\n",
      "51 monde germanique_t\n",
      "52 moyen âge_t\n",
      "53 musique_d\n",
      "54 méthodes de traitement et de représentation_t\n",
      "55 patrimoine_t\n",
      "56 pays baltes et scandinaves_t\n",
      "57 pensée_t\n",
      "58 philosophie_d\n",
      "59 philosophie_t\n",
      "60 pluridisciplinarité_d\n",
      "61 prospectives_t\n",
      "62 psychisme_t\n",
      "63 psychologie expérimentale_d\n",
      "64 psychologie_d\n",
      "65 psychologie_t\n",
      "66 relations internationales_t\n",
      "67 religions_d\n",
      "68 religions_t\n",
      "69 représentations_t\n",
      "70 révolution française_t\n",
      "71 sciences auxiliaires de l'histoire_t\n",
      "72 sciences cognitives_t\n",
      "73 sciences de l'information et bibliothéconomie_d\n",
      "74 sciences de l'information et de la communication_d\n",
      "75 sciences de l'information_t\n",
      "76 sciences de l'éducation_t\n",
      "77 sciences politiques_d\n",
      "78 sciences sociales interdisciplinaires_d\n",
      "79 sociologie de la culture_t\n",
      "80 sociologie des religions_t\n",
      "81 sociologie des sciences_t\n",
      "82 sociologie du travail_t\n",
      "83 sociologie et anthropologie_d\n",
      "84 sociologie urbaine_t\n",
      "85 sociologie économique_t\n",
      "86 sociologie_d\n",
      "87 sociologie_t\n",
      "88 travail social et politique sociale_d\n",
      "89 travail social_d\n",
      "90 vie de la recherche_t\n",
      "91 violence_t\n",
      "92 xvie siècle_t\n",
      "93 xviie siècle_t\n",
      "94 xviiie siècle_t\n",
      "95 xxe siècle_t\n",
      "96 xxie siècle_t\n",
      "97 âges de la vie_t\n",
      "98 économie_d\n",
      "99 édition électronique_t\n",
      "100 éducation et sciences de l'éducation_d\n",
      "101 éducation spécialisée_d\n",
      "102 éducation_d\n",
      "103 éducation_t\n",
      "104 épistémologie et méthodes_t\n",
      "105 époque contemporaine_t\n",
      "106 époque moderne_t\n",
      "107 étude des genres_t\n",
      "108 études anciennes_d\n",
      "109 études asiatiques_d\n",
      "110 études des sciences_t\n",
      "111 études régionales_d\n",
      "112 études sur la famille_d\n",
      "113 études visuelles_t\n"
     ]
    }
   ],
   "source": [
    "print(len(label_encoder.classes_))\n",
    "for i, element in enumerate(label_encoder.classes_):\n",
    "    print(i, element)"
   ]
  },
  {
   "cell_type": "markdown",
   "metadata": {},
   "source": [
    "Vektorisierung und Klassifikation der Daten mit scikit-learn"
   ]
  },
  {
   "cell_type": "code",
   "execution_count": 88,
   "metadata": {},
   "outputs": [],
   "source": [
    "# best params from randomized search\n",
    "text_clf = Pipeline([('vect', CountVectorizer(ngram_range=(1,4), max_df=0.9, min_df=0.0)),\n",
    "                     ('tfidf', TfidfTransformer(use_idf=True)),\n",
    "                     ('clf', KNeighborsClassifier(n_neighbors=6, weights='distance')),\n",
    "                    ])\n"
   ]
  },
  {
   "cell_type": "code",
   "execution_count": 89,
   "metadata": {},
   "outputs": [
    {
     "data": {
      "text/plain": [
       "\"# best params from randomized search\\ntext_clf = Pipeline([('vect', CountVectorizer(ngram_range=(1,1), max_features=100000)),\\n                     ('tfidf', TfidfTransformer(use_idf=True)),\\n                     ('clf', KNeighborsClassifier(n_neighbors=1, weights='distance')),\\n                    ])\""
      ]
     },
     "execution_count": 89,
     "metadata": {},
     "output_type": "execute_result"
    }
   ],
   "source": [
    "\"\"\"# best params from randomized search\n",
    "text_clf = Pipeline([('vect', CountVectorizer(ngram_range=(1,1), max_features=100000)),\n",
    "                     ('tfidf', TfidfTransformer(use_idf=True)),\n",
    "                     ('clf', KNeighborsClassifier(n_neighbors=1, weights='distance')),\n",
    "                    ])\"\"\""
   ]
  },
  {
   "cell_type": "code",
   "execution_count": 90,
   "metadata": {},
   "outputs": [],
   "source": [
    "# train\n",
    "start = time.time()\n",
    "text_clf = text_clf.fit(X_train, encoded_y_train)\n",
    "processing_time = (time.time() - start) / 60"
   ]
  },
  {
   "cell_type": "code",
   "execution_count": 91,
   "metadata": {},
   "outputs": [],
   "source": [
    "# predict\n",
    "predicted = text_clf.predict(X_test)\n",
    "#predicted_proba = text_clf.predict_proba(X_test)"
   ]
  },
  {
   "cell_type": "code",
   "execution_count": 92,
   "metadata": {},
   "outputs": [
    {
     "name": "stdout",
     "output_type": "stream",
     "text": [
      "{'memory': None, 'steps': [('vect', CountVectorizer(analyzer='word', binary=False, decode_error='strict',\n",
      "        dtype=<class 'numpy.int64'>, encoding='utf-8', input='content',\n",
      "        lowercase=True, max_df=0.9, max_features=None, min_df=0.0,\n",
      "        ngram_range=(1, 4), preprocessor=None, stop_words=None,\n",
      "        strip_accents=None, token_pattern='(?u)\\\\b\\\\w\\\\w+\\\\b',\n",
      "        tokenizer=None, vocabulary=None)), ('tfidf', TfidfTransformer(norm='l2', smooth_idf=True, sublinear_tf=False, use_idf=True)), ('clf', KNeighborsClassifier(algorithm='auto', leaf_size=30, metric='minkowski',\n",
      "           metric_params=None, n_jobs=1, n_neighbors=6, p=2,\n",
      "           weights='distance'))], 'vect': CountVectorizer(analyzer='word', binary=False, decode_error='strict',\n",
      "        dtype=<class 'numpy.int64'>, encoding='utf-8', input='content',\n",
      "        lowercase=True, max_df=0.9, max_features=None, min_df=0.0,\n",
      "        ngram_range=(1, 4), preprocessor=None, stop_words=None,\n",
      "        strip_accents=None, token_pattern='(?u)\\\\b\\\\w\\\\w+\\\\b',\n",
      "        tokenizer=None, vocabulary=None), 'tfidf': TfidfTransformer(norm='l2', smooth_idf=True, sublinear_tf=False, use_idf=True), 'clf': KNeighborsClassifier(algorithm='auto', leaf_size=30, metric='minkowski',\n",
      "           metric_params=None, n_jobs=1, n_neighbors=6, p=2,\n",
      "           weights='distance'), 'vect__analyzer': 'word', 'vect__binary': False, 'vect__decode_error': 'strict', 'vect__dtype': <class 'numpy.int64'>, 'vect__encoding': 'utf-8', 'vect__input': 'content', 'vect__lowercase': True, 'vect__max_df': 0.9, 'vect__max_features': None, 'vect__min_df': 0.0, 'vect__ngram_range': (1, 4), 'vect__preprocessor': None, 'vect__stop_words': None, 'vect__strip_accents': None, 'vect__token_pattern': '(?u)\\\\b\\\\w\\\\w+\\\\b', 'vect__tokenizer': None, 'vect__vocabulary': None, 'tfidf__norm': 'l2', 'tfidf__smooth_idf': True, 'tfidf__sublinear_tf': False, 'tfidf__use_idf': True, 'clf__algorithm': 'auto', 'clf__leaf_size': 30, 'clf__metric': 'minkowski', 'clf__metric_params': None, 'clf__n_jobs': 1, 'clf__n_neighbors': 6, 'clf__p': 2, 'clf__weights': 'distance'}\n"
     ]
    }
   ],
   "source": [
    "clf_params = text_clf.get_params()\n",
    "print(clf_params)"
   ]
  },
  {
   "cell_type": "code",
   "execution_count": 93,
   "metadata": {},
   "outputs": [
    {
     "name": "stdout",
     "output_type": "stream",
     "text": [
      "0.8106462929569521\n"
     ]
    },
    {
     "name": "stderr",
     "output_type": "stream",
     "text": [
      "c:\\users\\hartmann\\appdata\\local\\programs\\python\\python36\\lib\\site-packages\\sklearn\\metrics\\classification.py:1135: UndefinedMetricWarning: Precision is ill-defined and being set to 0.0 in samples with no predicted labels.\n",
      "  'precision', 'predicted', average, warn_for)\n"
     ]
    }
   ],
   "source": [
    "# precision is a measure of result relevancy\n",
    "from sklearn.metrics import precision_score\n",
    "precision = precision_score(encoded_y_test, predicted, average='samples')\n",
    "print(precision)"
   ]
  },
  {
   "cell_type": "code",
   "execution_count": 94,
   "metadata": {},
   "outputs": [
    {
     "name": "stdout",
     "output_type": "stream",
     "text": [
      "0.7169638008347685\n"
     ]
    }
   ],
   "source": [
    "# recall is a measure of how many truly relevant results are returned\n",
    "from sklearn.metrics import recall_score\n",
    "recall = recall_score(encoded_y_test, predicted, average='samples')  \n",
    "print(recall)"
   ]
  },
  {
   "cell_type": "code",
   "execution_count": 95,
   "metadata": {},
   "outputs": [
    {
     "name": "stdout",
     "output_type": "stream",
     "text": [
      "0.7382758407814421\n"
     ]
    },
    {
     "name": "stderr",
     "output_type": "stream",
     "text": [
      "c:\\users\\hartmann\\appdata\\local\\programs\\python\\python36\\lib\\site-packages\\sklearn\\metrics\\classification.py:1135: UndefinedMetricWarning: F-score is ill-defined and being set to 0.0 in samples with no predicted labels.\n",
      "  'precision', 'predicted', average, warn_for)\n"
     ]
    }
   ],
   "source": [
    "# F1 score is a weighted average of the precision and recall\n",
    "from sklearn.metrics import f1_score\n",
    "f1 = f1_score(encoded_y_test, predicted, average='samples') \n",
    "print(f1)"
   ]
  },
  {
   "cell_type": "code",
   "execution_count": 96,
   "metadata": {},
   "outputs": [
    {
     "name": "stdout",
     "output_type": "stream",
     "text": [
      "3\n"
     ]
    }
   ],
   "source": [
    "# write corpus specific stopwords to file \n",
    "\n",
    "stopwords = text_clf.named_steps.vect.stop_words_\n",
    "print(len(stopwords))\n",
    "#print(stopwords)\n",
    "with open('../Preprocessing/filtered_words.txt',\"w+\", encoding=\"utf8\") as stops:\n",
    "    for element in stopwords:\n",
    "        stops.write(element)\n",
    "        stops.write('\\n')"
   ]
  },
  {
   "cell_type": "code",
   "execution_count": 87,
   "metadata": {},
   "outputs": [
    {
     "name": "stdout",
     "output_type": "stream",
     "text": [
      "179819\n"
     ]
    }
   ],
   "source": [
    "\"\"\"# write corpus specific stopwords to file \n",
    "\n",
    "stopwords = text_clf.named_steps.vect.stop_words_\n",
    "print(len(stopwords))\n",
    "#print(stopwords)\n",
    "with open('../Preprocessing/filtered_words_max_features.txt',\"w+\", encoding=\"utf8\") as stops:\n",
    "    for element in stopwords:\n",
    "        stops.write(element)\n",
    "        stops.write('\\n')\"\"\""
   ]
  },
  {
   "cell_type": "markdown",
   "metadata": {},
   "source": [
    "Parameteroptimierung mit Rastersuche (RandomizedSearch)"
   ]
  },
  {
   "cell_type": "code",
   "execution_count": 6,
   "metadata": {},
   "outputs": [],
   "source": [
    "clf = Pipeline([('vect', CountVectorizer()),\n",
    "                ('tfidf', TfidfTransformer()),\n",
    "                ('clf', KNeighborsClassifier()),\n",
    "                ])"
   ]
  },
  {
   "cell_type": "code",
   "execution_count": 25,
   "metadata": {},
   "outputs": [],
   "source": [
    "# parameter tuning with RandomSearch\n",
    "stopwords = open('../Preprocessing/filtered_words.txt', 'r', encoding='utf-8').read().splitlines()\n",
    "parameters = {'vect__ngram_range': [(1, 1), (1,2),(1,3),(1,4)], \n",
    "              'vect__max_df' : (0.7, 0.8, 0.9, 1.0), \n",
    "              'vect__min_df' : (0.0, 0.01, 0.05, 0.1),\n",
    "              #'vect__stop_words' : (stopwords, None),\n",
    "              #'vect__max_features': (100000,50000,25000,10000,7500,5000,2500,1000,500,300,100), #200000, 50\n",
    "              'tfidf__use_idf': (True, False),\n",
    "              'clf__n_neighbors': list(range(1,10,1)),\n",
    "              'clf__weights' : ('distance', 'uniform')\n",
    "             }"
   ]
  },
  {
   "cell_type": "code",
   "execution_count": 26,
   "metadata": {},
   "outputs": [
    {
     "name": "stdout",
     "output_type": "stream",
     "text": [
      "Fitting 3 folds for each of 50 candidates, totalling 150 fits\n",
      "[CV] vect__stop_words=None, vect__ngram_range=(1, 3), vect__max_features=25000, tfidf__use_idf=True, clf__weights=distance, clf__n_neighbors=8 \n",
      "[CV]  vect__stop_words=None, vect__ngram_range=(1, 3), vect__max_features=25000, tfidf__use_idf=True, clf__weights=distance, clf__n_neighbors=8, score=0.3266701735928459, total=  51.1s\n"
     ]
    },
    {
     "name": "stderr",
     "output_type": "stream",
     "text": [
      "[Parallel(n_jobs=1)]: Done   1 out of   1 | elapsed:  1.3min remaining:    0.0s\n"
     ]
    },
    {
     "name": "stdout",
     "output_type": "stream",
     "text": [
      "[CV] vect__stop_words=None, vect__ngram_range=(1, 3), vect__max_features=25000, tfidf__use_idf=True, clf__weights=distance, clf__n_neighbors=8 \n",
      "[CV]  vect__stop_words=None, vect__ngram_range=(1, 3), vect__max_features=25000, tfidf__use_idf=True, clf__weights=distance, clf__n_neighbors=8, score=0.3357881816587761, total=  51.4s\n"
     ]
    },
    {
     "name": "stderr",
     "output_type": "stream",
     "text": [
      "[Parallel(n_jobs=1)]: Done   2 out of   2 | elapsed:  2.5min remaining:    0.0s\n"
     ]
    },
    {
     "name": "stdout",
     "output_type": "stream",
     "text": [
      "[CV] vect__stop_words=None, vect__ngram_range=(1, 3), vect__max_features=25000, tfidf__use_idf=True, clf__weights=distance, clf__n_neighbors=8 \n",
      "[CV]  vect__stop_words=None, vect__ngram_range=(1, 3), vect__max_features=25000, tfidf__use_idf=True, clf__weights=distance, clf__n_neighbors=8, score=0.1704366123093109, total=  51.7s\n"
     ]
    },
    {
     "name": "stderr",
     "output_type": "stream",
     "text": [
      "[Parallel(n_jobs=1)]: Done   3 out of   3 | elapsed:  3.8min remaining:    0.0s\n"
     ]
    },
    {
     "name": "stdout",
     "output_type": "stream",
     "text": [
      "[CV] vect__stop_words=None, vect__ngram_range=(1, 2), vect__max_features=10000, tfidf__use_idf=True, clf__weights=uniform, clf__n_neighbors=5 \n",
      "[CV]  vect__stop_words=None, vect__ngram_range=(1, 2), vect__max_features=10000, tfidf__use_idf=True, clf__weights=uniform, clf__n_neighbors=5, score=0.08995265649658074, total=  23.6s\n"
     ]
    },
    {
     "name": "stderr",
     "output_type": "stream",
     "text": [
      "[Parallel(n_jobs=1)]: Done   4 out of   4 | elapsed:  4.5min remaining:    0.0s\n"
     ]
    },
    {
     "name": "stdout",
     "output_type": "stream",
     "text": [
      "[CV] vect__stop_words=None, vect__ngram_range=(1, 2), vect__max_features=10000, tfidf__use_idf=True, clf__weights=uniform, clf__n_neighbors=5 \n",
      "[CV]  vect__stop_words=None, vect__ngram_range=(1, 2), vect__max_features=10000, tfidf__use_idf=True, clf__weights=uniform, clf__n_neighbors=5, score=0.1707873049272313, total=  25.5s\n"
     ]
    },
    {
     "name": "stderr",
     "output_type": "stream",
     "text": [
      "[Parallel(n_jobs=1)]: Done   5 out of   5 | elapsed:  5.3min remaining:    0.0s\n"
     ]
    },
    {
     "name": "stdout",
     "output_type": "stream",
     "text": [
      "[CV] vect__stop_words=None, vect__ngram_range=(1, 2), vect__max_features=10000, tfidf__use_idf=True, clf__weights=uniform, clf__n_neighbors=5 \n",
      "[CV]  vect__stop_words=None, vect__ngram_range=(1, 2), vect__max_features=10000, tfidf__use_idf=True, clf__weights=uniform, clf__n_neighbors=5, score=0.09468700683850605, total=  25.8s\n",
      "[CV] vect__stop_words=['die', 'und', 'der'], vect__ngram_range=(1, 1), vect__max_features=500, tfidf__use_idf=True, clf__weights=uniform, clf__n_neighbors=5 "
     ]
    },
    {
     "name": "stderr",
     "output_type": "stream",
     "text": [
      "[Parallel(n_jobs=1)]: Done   6 out of   6 | elapsed:  6.1min remaining:    0.0s\n"
     ]
    },
    {
     "name": "stdout",
     "output_type": "stream",
     "text": [
      "\n",
      "[CV]  vect__stop_words=['die', 'und', 'der'], vect__ngram_range=(1, 1), vect__max_features=500, tfidf__use_idf=True, clf__weights=uniform, clf__n_neighbors=5, score=0.2765211292302297, total=  11.4s\n",
      "[CV] vect__stop_words=['die', 'und', 'der'], vect__ngram_range=(1, 1), vect__max_features=500, tfidf__use_idf=True, clf__weights=uniform, clf__n_neighbors=5 \n"
     ]
    },
    {
     "name": "stderr",
     "output_type": "stream",
     "text": [
      "[Parallel(n_jobs=1)]: Done   7 out of   7 | elapsed:  6.5min remaining:    0.0s\n"
     ]
    },
    {
     "name": "stdout",
     "output_type": "stream",
     "text": [
      "[CV]  vect__stop_words=['die', 'und', 'der'], vect__ngram_range=(1, 1), vect__max_features=500, tfidf__use_idf=True, clf__weights=uniform, clf__n_neighbors=5, score=0.27406628090478696, total=  11.4s\n",
      "[CV] vect__stop_words=['die', 'und', 'der'], vect__ngram_range=(1, 1), vect__max_features=500, tfidf__use_idf=True, clf__weights=uniform, clf__n_neighbors=5 \n"
     ]
    },
    {
     "name": "stderr",
     "output_type": "stream",
     "text": [
      "[Parallel(n_jobs=1)]: Done   8 out of   8 | elapsed:  6.9min remaining:    0.0s\n"
     ]
    },
    {
     "name": "stdout",
     "output_type": "stream",
     "text": [
      "[CV]  vect__stop_words=['die', 'und', 'der'], vect__ngram_range=(1, 1), vect__max_features=500, tfidf__use_idf=True, clf__weights=uniform, clf__n_neighbors=5, score=0.26968262318078207, total=  10.4s\n",
      "[CV] vect__stop_words=None, vect__ngram_range=(1, 2), vect__max_features=7500, tfidf__use_idf=True, clf__weights=uniform, clf__n_neighbors=9 \n"
     ]
    },
    {
     "name": "stderr",
     "output_type": "stream",
     "text": [
      "[Parallel(n_jobs=1)]: Done   9 out of   9 | elapsed:  7.3min remaining:    0.0s\n"
     ]
    },
    {
     "name": "stdout",
     "output_type": "stream",
     "text": [
      "[CV]  vect__stop_words=None, vect__ngram_range=(1, 2), vect__max_features=7500, tfidf__use_idf=True, clf__weights=uniform, clf__n_neighbors=9, score=0.3557776608802385, total=  25.2s\n",
      "[CV] vect__stop_words=None, vect__ngram_range=(1, 2), vect__max_features=7500, tfidf__use_idf=True, clf__weights=uniform, clf__n_neighbors=9 \n",
      "[CV]  vect__stop_words=None, vect__ngram_range=(1, 2), vect__max_features=7500, tfidf__use_idf=True, clf__weights=uniform, clf__n_neighbors=9, score=0.3624408206207259, total=  25.7s\n",
      "[CV] vect__stop_words=None, vect__ngram_range=(1, 2), vect__max_features=7500, tfidf__use_idf=True, clf__weights=uniform, clf__n_neighbors=9 \n",
      "[CV]  vect__stop_words=None, vect__ngram_range=(1, 2), vect__max_features=7500, tfidf__use_idf=True, clf__weights=uniform, clf__n_neighbors=9, score=0.30738207960722425, total=  25.3s\n",
      "[CV] vect__stop_words=None, vect__ngram_range=(1, 1), vect__max_features=100, tfidf__use_idf=False, clf__weights=distance, clf__n_neighbors=7 \n",
      "[CV]  vect__stop_words=None, vect__ngram_range=(1, 1), vect__max_features=100, tfidf__use_idf=False, clf__weights=distance, clf__n_neighbors=7, score=0.21620199894792214, total=  11.2s\n",
      "[CV] vect__stop_words=None, vect__ngram_range=(1, 1), vect__max_features=100, tfidf__use_idf=False, clf__weights=distance, clf__n_neighbors=7 \n",
      "[CV]  vect__stop_words=None, vect__ngram_range=(1, 1), vect__max_features=100, tfidf__use_idf=False, clf__weights=distance, clf__n_neighbors=7, score=0.21427318954935998, total=  10.6s\n",
      "[CV] vect__stop_words=None, vect__ngram_range=(1, 1), vect__max_features=100, tfidf__use_idf=False, clf__weights=distance, clf__n_neighbors=7 \n",
      "[CV]  vect__stop_words=None, vect__ngram_range=(1, 1), vect__max_features=100, tfidf__use_idf=False, clf__weights=distance, clf__n_neighbors=7, score=0.21479922847624058, total=  10.3s\n",
      "[CV] vect__stop_words=None, vect__ngram_range=(1, 1), vect__max_features=10000, tfidf__use_idf=False, clf__weights=uniform, clf__n_neighbors=8 \n",
      "[CV]  vect__stop_words=None, vect__ngram_range=(1, 1), vect__max_features=10000, tfidf__use_idf=False, clf__weights=uniform, clf__n_neighbors=8, score=0.19060143783973346, total=  11.5s\n",
      "[CV] vect__stop_words=None, vect__ngram_range=(1, 1), vect__max_features=10000, tfidf__use_idf=False, clf__weights=uniform, clf__n_neighbors=8 \n",
      "[CV]  vect__stop_words=None, vect__ngram_range=(1, 1), vect__max_features=10000, tfidf__use_idf=False, clf__weights=uniform, clf__n_neighbors=8, score=0.19060143783973346, total=  10.9s\n",
      "[CV] vect__stop_words=None, vect__ngram_range=(1, 1), vect__max_features=10000, tfidf__use_idf=False, clf__weights=uniform, clf__n_neighbors=8 \n",
      "[CV]  vect__stop_words=None, vect__ngram_range=(1, 1), vect__max_features=10000, tfidf__use_idf=False, clf__weights=uniform, clf__n_neighbors=8, score=0.19095213045765386, total=  11.6s\n",
      "[CV] vect__stop_words=['die', 'und', 'der'], vect__ngram_range=(1, 1), vect__max_features=300, tfidf__use_idf=True, clf__weights=distance, clf__n_neighbors=6 \n",
      "[CV]  vect__stop_words=['die', 'und', 'der'], vect__ngram_range=(1, 1), vect__max_features=300, tfidf__use_idf=True, clf__weights=distance, clf__n_neighbors=6, score=0.3093108890057864, total=  10.8s\n",
      "[CV] vect__stop_words=['die', 'und', 'der'], vect__ngram_range=(1, 1), vect__max_features=300, tfidf__use_idf=True, clf__weights=distance, clf__n_neighbors=6 \n",
      "[CV]  vect__stop_words=['die', 'und', 'der'], vect__ngram_range=(1, 1), vect__max_features=300, tfidf__use_idf=True, clf__weights=distance, clf__n_neighbors=6, score=0.30668069437138346, total=  10.7s\n",
      "[CV] vect__stop_words=['die', 'und', 'der'], vect__ngram_range=(1, 1), vect__max_features=300, tfidf__use_idf=True, clf__weights=distance, clf__n_neighbors=6 \n",
      "[CV]  vect__stop_words=['die', 'und', 'der'], vect__ngram_range=(1, 1), vect__max_features=300, tfidf__use_idf=True, clf__weights=distance, clf__n_neighbors=6, score=0.2975626863054533, total=  10.7s\n",
      "[CV] vect__stop_words=['die', 'und', 'der'], vect__ngram_range=(1, 2), vect__max_features=7500, tfidf__use_idf=True, clf__weights=uniform, clf__n_neighbors=7 \n",
      "[CV]  vect__stop_words=['die', 'und', 'der'], vect__ngram_range=(1, 2), vect__max_features=7500, tfidf__use_idf=True, clf__weights=uniform, clf__n_neighbors=7, score=0.3557776608802385, total=  24.2s\n",
      "[CV] vect__stop_words=['die', 'und', 'der'], vect__ngram_range=(1, 2), vect__max_features=7500, tfidf__use_idf=True, clf__weights=uniform, clf__n_neighbors=7 \n",
      "[CV]  vect__stop_words=['die', 'und', 'der'], vect__ngram_range=(1, 2), vect__max_features=7500, tfidf__use_idf=True, clf__weights=uniform, clf__n_neighbors=7, score=0.29931614939505524, total=  24.2s\n",
      "[CV] vect__stop_words=['die', 'und', 'der'], vect__ngram_range=(1, 2), vect__max_features=7500, tfidf__use_idf=True, clf__weights=uniform, clf__n_neighbors=7 \n",
      "[CV]  vect__stop_words=['die', 'und', 'der'], vect__ngram_range=(1, 2), vect__max_features=7500, tfidf__use_idf=True, clf__weights=uniform, clf__n_neighbors=7, score=0.08609503769945642, total=  24.1s\n",
      "[CV] vect__stop_words=['die', 'und', 'der'], vect__ngram_range=(1, 3), vect__max_features=25000, tfidf__use_idf=False, clf__weights=uniform, clf__n_neighbors=2 \n",
      "[CV]  vect__stop_words=['die', 'und', 'der'], vect__ngram_range=(1, 3), vect__max_features=25000, tfidf__use_idf=False, clf__weights=uniform, clf__n_neighbors=2, score=0.16903384183762932, total=  45.8s\n",
      "[CV] vect__stop_words=['die', 'und', 'der'], vect__ngram_range=(1, 3), vect__max_features=25000, tfidf__use_idf=False, clf__weights=uniform, clf__n_neighbors=2 \n",
      "[CV]  vect__stop_words=['die', 'und', 'der'], vect__ngram_range=(1, 3), vect__max_features=25000, tfidf__use_idf=False, clf__weights=uniform, clf__n_neighbors=2, score=0.18183412239172364, total=  44.2s\n",
      "[CV] vect__stop_words=['die', 'und', 'der'], vect__ngram_range=(1, 3), vect__max_features=25000, tfidf__use_idf=False, clf__weights=uniform, clf__n_neighbors=2 \n",
      "[CV]  vect__stop_words=['die', 'und', 'der'], vect__ngram_range=(1, 3), vect__max_features=25000, tfidf__use_idf=False, clf__weights=uniform, clf__n_neighbors=2, score=0.20252498684902684, total=  46.5s\n",
      "[CV] vect__stop_words=['die', 'und', 'der'], vect__ngram_range=(1, 3), vect__max_features=300, tfidf__use_idf=False, clf__weights=uniform, clf__n_neighbors=1 \n",
      "[CV]  vect__stop_words=['die', 'und', 'der'], vect__ngram_range=(1, 3), vect__max_features=300, tfidf__use_idf=False, clf__weights=uniform, clf__n_neighbors=1, score=0.3533228125547957, total=  45.0s\n",
      "[CV] vect__stop_words=['die', 'und', 'der'], vect__ngram_range=(1, 3), vect__max_features=300, tfidf__use_idf=False, clf__weights=uniform, clf__n_neighbors=1 \n",
      "[CV]  vect__stop_words=['die', 'und', 'der'], vect__ngram_range=(1, 3), vect__max_features=300, tfidf__use_idf=False, clf__weights=uniform, clf__n_neighbors=1, score=0.3405225320007014, total=  45.4s\n",
      "[CV] vect__stop_words=['die', 'und', 'der'], vect__ngram_range=(1, 3), vect__max_features=300, tfidf__use_idf=False, clf__weights=uniform, clf__n_neighbors=1 \n",
      "[CV]  vect__stop_words=['die', 'und', 'der'], vect__ngram_range=(1, 3), vect__max_features=300, tfidf__use_idf=False, clf__weights=uniform, clf__n_neighbors=1, score=0.3498158863755918, total=  42.6s\n",
      "[CV] vect__stop_words=['die', 'und', 'der'], vect__ngram_range=(1, 4), vect__max_features=7500, tfidf__use_idf=False, clf__weights=distance, clf__n_neighbors=1 \n",
      "[CV]  vect__stop_words=['die', 'und', 'der'], vect__ngram_range=(1, 4), vect__max_features=7500, tfidf__use_idf=False, clf__weights=distance, clf__n_neighbors=1, score=0.34122391723654216, total= 1.1min\n",
      "[CV] vect__stop_words=['die', 'und', 'der'], vect__ngram_range=(1, 4), vect__max_features=7500, tfidf__use_idf=False, clf__weights=distance, clf__n_neighbors=1 \n",
      "[CV]  vect__stop_words=['die', 'und', 'der'], vect__ngram_range=(1, 4), vect__max_features=7500, tfidf__use_idf=False, clf__weights=distance, clf__n_neighbors=1, score=0.45028932140978434, total= 1.1min\n",
      "[CV] vect__stop_words=['die', 'und', 'der'], vect__ngram_range=(1, 4), vect__max_features=7500, tfidf__use_idf=False, clf__weights=distance, clf__n_neighbors=1 \n",
      "[CV]  vect__stop_words=['die', 'und', 'der'], vect__ngram_range=(1, 4), vect__max_features=7500, tfidf__use_idf=False, clf__weights=distance, clf__n_neighbors=1, score=0.46344029458179903, total= 1.1min\n",
      "[CV] vect__stop_words=None, vect__ngram_range=(1, 4), vect__max_features=300, tfidf__use_idf=False, clf__weights=uniform, clf__n_neighbors=3 \n"
     ]
    },
    {
     "name": "stdout",
     "output_type": "stream",
     "text": [
      "[CV]  vect__stop_words=None, vect__ngram_range=(1, 4), vect__max_features=300, tfidf__use_idf=False, clf__weights=uniform, clf__n_neighbors=3, score=0.26354550236717517, total= 1.2min\n",
      "[CV] vect__stop_words=None, vect__ngram_range=(1, 4), vect__max_features=300, tfidf__use_idf=False, clf__weights=uniform, clf__n_neighbors=3 \n",
      "[CV]  vect__stop_words=None, vect__ngram_range=(1, 4), vect__max_features=300, tfidf__use_idf=False, clf__weights=uniform, clf__n_neighbors=3, score=0.272312817815185, total= 1.1min\n",
      "[CV] vect__stop_words=None, vect__ngram_range=(1, 4), vect__max_features=300, tfidf__use_idf=False, clf__weights=uniform, clf__n_neighbors=3 \n",
      "[CV]  vect__stop_words=None, vect__ngram_range=(1, 4), vect__max_features=300, tfidf__use_idf=False, clf__weights=uniform, clf__n_neighbors=3, score=0.2689812379449413, total= 1.2min\n",
      "[CV] vect__stop_words=['die', 'und', 'der'], vect__ngram_range=(1, 4), vect__max_features=2500, tfidf__use_idf=False, clf__weights=uniform, clf__n_neighbors=1 \n",
      "[CV]  vect__stop_words=['die', 'und', 'der'], vect__ngram_range=(1, 4), vect__max_features=2500, tfidf__use_idf=False, clf__weights=uniform, clf__n_neighbors=1, score=0.37471506224793966, total= 1.1min\n",
      "[CV] vect__stop_words=['die', 'und', 'der'], vect__ngram_range=(1, 4), vect__max_features=2500, tfidf__use_idf=False, clf__weights=uniform, clf__n_neighbors=1 \n",
      "[CV]  vect__stop_words=['die', 'und', 'der'], vect__ngram_range=(1, 4), vect__max_features=2500, tfidf__use_idf=False, clf__weights=uniform, clf__n_neighbors=1, score=0.42784499386287916, total= 1.1min\n",
      "[CV] vect__stop_words=['die', 'und', 'der'], vect__ngram_range=(1, 4), vect__max_features=2500, tfidf__use_idf=False, clf__weights=uniform, clf__n_neighbors=1 \n",
      "[CV]  vect__stop_words=['die', 'und', 'der'], vect__ngram_range=(1, 4), vect__max_features=2500, tfidf__use_idf=False, clf__weights=uniform, clf__n_neighbors=1, score=0.44432754690513765, total= 1.1min\n",
      "[CV] vect__stop_words=['die', 'und', 'der'], vect__ngram_range=(1, 3), vect__max_features=5000, tfidf__use_idf=True, clf__weights=distance, clf__n_neighbors=9 \n",
      "[CV]  vect__stop_words=['die', 'und', 'der'], vect__ngram_range=(1, 3), vect__max_features=5000, tfidf__use_idf=True, clf__weights=distance, clf__n_neighbors=9, score=0.3880413817289146, total=  45.1s\n",
      "[CV] vect__stop_words=['die', 'und', 'der'], vect__ngram_range=(1, 3), vect__max_features=5000, tfidf__use_idf=True, clf__weights=distance, clf__n_neighbors=9 \n",
      "[CV]  vect__stop_words=['die', 'und', 'der'], vect__ngram_range=(1, 3), vect__max_features=5000, tfidf__use_idf=True, clf__weights=distance, clf__n_neighbors=9, score=0.2859898299140803, total=  44.7s\n",
      "[CV] vect__stop_words=['die', 'und', 'der'], vect__ngram_range=(1, 3), vect__max_features=5000, tfidf__use_idf=True, clf__weights=distance, clf__n_neighbors=9 \n",
      "[CV]  vect__stop_words=['die', 'und', 'der'], vect__ngram_range=(1, 3), vect__max_features=5000, tfidf__use_idf=True, clf__weights=distance, clf__n_neighbors=9, score=0.2779238997019113, total=  43.5s\n",
      "[CV] vect__stop_words=None, vect__ngram_range=(1, 1), vect__max_features=10000, tfidf__use_idf=True, clf__weights=uniform, clf__n_neighbors=9 \n",
      "[CV]  vect__stop_words=None, vect__ngram_range=(1, 1), vect__max_features=10000, tfidf__use_idf=True, clf__weights=uniform, clf__n_neighbors=9, score=0.35981062598632296, total=  11.6s\n",
      "[CV] vect__stop_words=None, vect__ngram_range=(1, 1), vect__max_features=10000, tfidf__use_idf=True, clf__weights=uniform, clf__n_neighbors=9 \n",
      "[CV]  vect__stop_words=None, vect__ngram_range=(1, 1), vect__max_features=10000, tfidf__use_idf=True, clf__weights=uniform, clf__n_neighbors=9, score=0.3610380501490444, total=  12.1s\n",
      "[CV] vect__stop_words=None, vect__ngram_range=(1, 1), vect__max_features=10000, tfidf__use_idf=True, clf__weights=uniform, clf__n_neighbors=9 \n",
      "[CV]  vect__stop_words=None, vect__ngram_range=(1, 1), vect__max_features=10000, tfidf__use_idf=True, clf__weights=uniform, clf__n_neighbors=9, score=0.3101876205505874, total=  12.6s\n",
      "[CV] vect__stop_words=['die', 'und', 'der'], vect__ngram_range=(1, 2), vect__max_features=50000, tfidf__use_idf=False, clf__weights=distance, clf__n_neighbors=1 \n",
      "[CV]  vect__stop_words=['die', 'und', 'der'], vect__ngram_range=(1, 2), vect__max_features=50000, tfidf__use_idf=False, clf__weights=distance, clf__n_neighbors=1, score=0.2368928634052253, total=  27.4s\n",
      "[CV] vect__stop_words=['die', 'und', 'der'], vect__ngram_range=(1, 2), vect__max_features=50000, tfidf__use_idf=False, clf__weights=distance, clf__n_neighbors=1 \n",
      "[CV]  vect__stop_words=['die', 'und', 'der'], vect__ngram_range=(1, 2), vect__max_features=50000, tfidf__use_idf=False, clf__weights=distance, clf__n_neighbors=1, score=0.4262668770822374, total=  24.7s\n",
      "[CV] vect__stop_words=['die', 'und', 'der'], vect__ngram_range=(1, 2), vect__max_features=50000, tfidf__use_idf=False, clf__weights=distance, clf__n_neighbors=1 \n",
      "[CV]  vect__stop_words=['die', 'und', 'der'], vect__ngram_range=(1, 2), vect__max_features=50000, tfidf__use_idf=False, clf__weights=distance, clf__n_neighbors=1, score=0.2614413466596528, total=  26.1s\n",
      "[CV] vect__stop_words=['die', 'und', 'der'], vect__ngram_range=(1, 1), vect__max_features=25000, tfidf__use_idf=True, clf__weights=distance, clf__n_neighbors=2 \n",
      "[CV]  vect__stop_words=['die', 'und', 'der'], vect__ngram_range=(1, 1), vect__max_features=25000, tfidf__use_idf=True, clf__weights=distance, clf__n_neighbors=2, score=0.11029282833596353, total=  11.6s\n",
      "[CV] vect__stop_words=['die', 'und', 'der'], vect__ngram_range=(1, 1), vect__max_features=25000, tfidf__use_idf=True, clf__weights=distance, clf__n_neighbors=2 \n",
      "[CV]  vect__stop_words=['die', 'und', 'der'], vect__ngram_range=(1, 1), vect__max_features=25000, tfidf__use_idf=True, clf__weights=distance, clf__n_neighbors=2, score=0.11011748202700333, total=  11.6s\n",
      "[CV] vect__stop_words=['die', 'und', 'der'], vect__ngram_range=(1, 1), vect__max_features=25000, tfidf__use_idf=True, clf__weights=distance, clf__n_neighbors=2 \n",
      "[CV]  vect__stop_words=['die', 'und', 'der'], vect__ngram_range=(1, 1), vect__max_features=25000, tfidf__use_idf=True, clf__weights=distance, clf__n_neighbors=2, score=0.11397510082412765, total=  11.4s\n",
      "[CV] vect__stop_words=['die', 'und', 'der'], vect__ngram_range=(1, 4), vect__max_features=5000, tfidf__use_idf=False, clf__weights=distance, clf__n_neighbors=6 \n",
      "[CV]  vect__stop_words=['die', 'und', 'der'], vect__ngram_range=(1, 4), vect__max_features=5000, tfidf__use_idf=False, clf__weights=distance, clf__n_neighbors=6, score=0.2563563036998071, total= 1.1min\n",
      "[CV] vect__stop_words=['die', 'und', 'der'], vect__ngram_range=(1, 4), vect__max_features=5000, tfidf__use_idf=False, clf__weights=distance, clf__n_neighbors=6 \n",
      "[CV]  vect__stop_words=['die', 'und', 'der'], vect__ngram_range=(1, 4), vect__max_features=5000, tfidf__use_idf=False, clf__weights=distance, clf__n_neighbors=6, score=0.2432053305277924, total= 1.1min\n",
      "[CV] vect__stop_words=['die', 'und', 'der'], vect__ngram_range=(1, 4), vect__max_features=5000, tfidf__use_idf=False, clf__weights=distance, clf__n_neighbors=6 \n",
      "[CV]  vect__stop_words=['die', 'und', 'der'], vect__ngram_range=(1, 4), vect__max_features=5000, tfidf__use_idf=False, clf__weights=distance, clf__n_neighbors=6, score=0.25881115202524985, total= 1.1min\n",
      "[CV] vect__stop_words=['die', 'und', 'der'], vect__ngram_range=(1, 4), vect__max_features=25000, tfidf__use_idf=False, clf__weights=distance, clf__n_neighbors=1 \n",
      "[CV]  vect__stop_words=['die', 'und', 'der'], vect__ngram_range=(1, 4), vect__max_features=25000, tfidf__use_idf=False, clf__weights=distance, clf__n_neighbors=1, score=0.28283359635279676, total= 1.1min\n",
      "[CV] vect__stop_words=['die', 'und', 'der'], vect__ngram_range=(1, 4), vect__max_features=25000, tfidf__use_idf=False, clf__weights=distance, clf__n_neighbors=1 \n",
      "[CV]  vect__stop_words=['die', 'und', 'der'], vect__ngram_range=(1, 4), vect__max_features=25000, tfidf__use_idf=False, clf__weights=distance, clf__n_neighbors=1, score=0.44502893214097844, total= 1.0min\n",
      "[CV] vect__stop_words=['die', 'und', 'der'], vect__ngram_range=(1, 4), vect__max_features=25000, tfidf__use_idf=False, clf__weights=distance, clf__n_neighbors=1 \n",
      "[CV]  vect__stop_words=['die', 'und', 'der'], vect__ngram_range=(1, 4), vect__max_features=25000, tfidf__use_idf=False, clf__weights=distance, clf__n_neighbors=1, score=0.4536209012800281, total= 1.1min\n",
      "[CV] vect__stop_words=None, vect__ngram_range=(1, 3), vect__max_features=50000, tfidf__use_idf=True, clf__weights=uniform, clf__n_neighbors=8 \n"
     ]
    },
    {
     "name": "stdout",
     "output_type": "stream",
     "text": [
      "[CV]  vect__stop_words=None, vect__ngram_range=(1, 3), vect__max_features=50000, tfidf__use_idf=True, clf__weights=uniform, clf__n_neighbors=8, score=0.33210590917061195, total=  46.6s\n",
      "[CV] vect__stop_words=None, vect__ngram_range=(1, 3), vect__max_features=50000, tfidf__use_idf=True, clf__weights=uniform, clf__n_neighbors=8 \n",
      "[CV]  vect__stop_words=None, vect__ngram_range=(1, 3), vect__max_features=50000, tfidf__use_idf=True, clf__weights=uniform, clf__n_neighbors=8, score=0.3340347185691741, total= 1.7min\n",
      "[CV] vect__stop_words=None, vect__ngram_range=(1, 3), vect__max_features=50000, tfidf__use_idf=True, clf__weights=uniform, clf__n_neighbors=8 \n",
      "[CV]  vect__stop_words=None, vect__ngram_range=(1, 3), vect__max_features=50000, tfidf__use_idf=True, clf__weights=uniform, clf__n_neighbors=8, score=0.13904962300543575, total=  48.2s\n",
      "[CV] vect__stop_words=['die', 'und', 'der'], vect__ngram_range=(1, 1), vect__max_features=5000, tfidf__use_idf=True, clf__weights=uniform, clf__n_neighbors=5 \n",
      "[CV]  vect__stop_words=['die', 'und', 'der'], vect__ngram_range=(1, 1), vect__max_features=5000, tfidf__use_idf=True, clf__weights=uniform, clf__n_neighbors=5, score=0.09345958267578468, total=  12.5s\n",
      "[CV] vect__stop_words=['die', 'und', 'der'], vect__ngram_range=(1, 1), vect__max_features=5000, tfidf__use_idf=True, clf__weights=uniform, clf__n_neighbors=5 \n",
      "[CV]  vect__stop_words=['die', 'und', 'der'], vect__ngram_range=(1, 1), vect__max_features=5000, tfidf__use_idf=True, clf__weights=uniform, clf__n_neighbors=5, score=0.09924601087147115, total=  11.7s\n",
      "[CV] vect__stop_words=['die', 'und', 'der'], vect__ngram_range=(1, 1), vect__max_features=5000, tfidf__use_idf=True, clf__weights=uniform, clf__n_neighbors=5 \n",
      "[CV]  vect__stop_words=['die', 'und', 'der'], vect__ngram_range=(1, 1), vect__max_features=5000, tfidf__use_idf=True, clf__weights=uniform, clf__n_neighbors=5, score=0.10327897597755567, total=  12.0s\n",
      "[CV] vect__stop_words=['die', 'und', 'der'], vect__ngram_range=(1, 1), vect__max_features=10000, tfidf__use_idf=False, clf__weights=uniform, clf__n_neighbors=4 \n",
      "[CV]  vect__stop_words=['die', 'und', 'der'], vect__ngram_range=(1, 1), vect__max_features=10000, tfidf__use_idf=False, clf__weights=uniform, clf__n_neighbors=4, score=0.1790285814483605, total=  11.7s\n",
      "[CV] vect__stop_words=['die', 'und', 'der'], vect__ngram_range=(1, 1), vect__max_features=10000, tfidf__use_idf=False, clf__weights=uniform, clf__n_neighbors=4 \n",
      "[CV]  vect__stop_words=['die', 'und', 'der'], vect__ngram_range=(1, 1), vect__max_features=10000, tfidf__use_idf=False, clf__weights=uniform, clf__n_neighbors=4, score=0.17394353848851482, total=  12.0s\n",
      "[CV] vect__stop_words=['die', 'und', 'der'], vect__ngram_range=(1, 1), vect__max_features=10000, tfidf__use_idf=False, clf__weights=uniform, clf__n_neighbors=4 \n",
      "[CV]  vect__stop_words=['die', 'und', 'der'], vect__ngram_range=(1, 1), vect__max_features=10000, tfidf__use_idf=False, clf__weights=uniform, clf__n_neighbors=4, score=0.1886726284411713, total=  12.1s\n",
      "[CV] vect__stop_words=['die', 'und', 'der'], vect__ngram_range=(1, 3), vect__max_features=7500, tfidf__use_idf=False, clf__weights=uniform, clf__n_neighbors=5 \n",
      "[CV]  vect__stop_words=['die', 'und', 'der'], vect__ngram_range=(1, 3), vect__max_features=7500, tfidf__use_idf=False, clf__weights=uniform, clf__n_neighbors=5, score=0.22163773452568825, total=  44.2s\n",
      "[CV] vect__stop_words=['die', 'und', 'der'], vect__ngram_range=(1, 3), vect__max_features=7500, tfidf__use_idf=False, clf__weights=uniform, clf__n_neighbors=5 \n",
      "[CV]  vect__stop_words=['die', 'und', 'der'], vect__ngram_range=(1, 3), vect__max_features=7500, tfidf__use_idf=False, clf__weights=uniform, clf__n_neighbors=5, score=0.21760476941960372, total=  43.9s\n",
      "[CV] vect__stop_words=['die', 'und', 'der'], vect__ngram_range=(1, 3), vect__max_features=7500, tfidf__use_idf=False, clf__weights=uniform, clf__n_neighbors=5 \n",
      "[CV]  vect__stop_words=['die', 'und', 'der'], vect__ngram_range=(1, 3), vect__max_features=7500, tfidf__use_idf=False, clf__weights=uniform, clf__n_neighbors=5, score=0.23040504997369807, total=  45.3s\n",
      "[CV] vect__stop_words=None, vect__ngram_range=(1, 3), vect__max_features=5000, tfidf__use_idf=True, clf__weights=distance, clf__n_neighbors=1 \n",
      "[CV]  vect__stop_words=None, vect__ngram_range=(1, 3), vect__max_features=5000, tfidf__use_idf=True, clf__weights=distance, clf__n_neighbors=1, score=0.2275995090303349, total=  45.0s\n",
      "[CV] vect__stop_words=None, vect__ngram_range=(1, 3), vect__max_features=5000, tfidf__use_idf=True, clf__weights=distance, clf__n_neighbors=1 \n",
      "[CV]  vect__stop_words=None, vect__ngram_range=(1, 3), vect__max_features=5000, tfidf__use_idf=True, clf__weights=distance, clf__n_neighbors=1, score=0.23093108890057865, total=  46.7s\n",
      "[CV] vect__stop_words=None, vect__ngram_range=(1, 3), vect__max_features=5000, tfidf__use_idf=True, clf__weights=distance, clf__n_neighbors=1 \n",
      "[CV]  vect__stop_words=None, vect__ngram_range=(1, 3), vect__max_features=5000, tfidf__use_idf=True, clf__weights=distance, clf__n_neighbors=1, score=0.2503945291951604, total=  45.2s\n",
      "[CV] vect__stop_words=None, vect__ngram_range=(1, 3), vect__max_features=2500, tfidf__use_idf=False, clf__weights=distance, clf__n_neighbors=5 \n",
      "[CV]  vect__stop_words=None, vect__ngram_range=(1, 3), vect__max_features=2500, tfidf__use_idf=False, clf__weights=distance, clf__n_neighbors=5, score=0.2575837278625285, total=  45.7s\n",
      "[CV] vect__stop_words=None, vect__ngram_range=(1, 3), vect__max_features=2500, tfidf__use_idf=False, clf__weights=distance, clf__n_neighbors=5 \n",
      "[CV]  vect__stop_words=None, vect__ngram_range=(1, 3), vect__max_features=2500, tfidf__use_idf=False, clf__weights=distance, clf__n_neighbors=5, score=0.25004383657724005, total=  44.6s\n",
      "[CV] vect__stop_words=None, vect__ngram_range=(1, 3), vect__max_features=2500, tfidf__use_idf=False, clf__weights=distance, clf__n_neighbors=5 \n",
      "[CV]  vect__stop_words=None, vect__ngram_range=(1, 3), vect__max_features=2500, tfidf__use_idf=False, clf__weights=distance, clf__n_neighbors=5, score=0.2645975802209363, total=  43.7s\n",
      "[CV] vect__stop_words=['die', 'und', 'der'], vect__ngram_range=(1, 1), vect__max_features=100, tfidf__use_idf=False, clf__weights=distance, clf__n_neighbors=4 \n",
      "[CV]  vect__stop_words=['die', 'und', 'der'], vect__ngram_range=(1, 1), vect__max_features=100, tfidf__use_idf=False, clf__weights=distance, clf__n_neighbors=4, score=0.27020866210766264, total=  10.4s\n",
      "[CV] vect__stop_words=['die', 'und', 'der'], vect__ngram_range=(1, 1), vect__max_features=100, tfidf__use_idf=False, clf__weights=distance, clf__n_neighbors=4 \n",
      "[CV]  vect__stop_words=['die', 'und', 'der'], vect__ngram_range=(1, 1), vect__max_features=100, tfidf__use_idf=False, clf__weights=distance, clf__n_neighbors=4, score=0.2670524285463791, total=  10.5s\n",
      "[CV] vect__stop_words=['die', 'und', 'der'], vect__ngram_range=(1, 1), vect__max_features=100, tfidf__use_idf=False, clf__weights=distance, clf__n_neighbors=4 \n",
      "[CV]  vect__stop_words=['die', 'und', 'der'], vect__ngram_range=(1, 1), vect__max_features=100, tfidf__use_idf=False, clf__weights=distance, clf__n_neighbors=4, score=0.26582500438365775, total=  10.3s\n",
      "[CV] vect__stop_words=None, vect__ngram_range=(1, 2), vect__max_features=300, tfidf__use_idf=True, clf__weights=distance, clf__n_neighbors=1 \n",
      "[CV]  vect__stop_words=None, vect__ngram_range=(1, 2), vect__max_features=300, tfidf__use_idf=True, clf__weights=distance, clf__n_neighbors=1, score=0.3691039803612134, total=  23.1s\n",
      "[CV] vect__stop_words=None, vect__ngram_range=(1, 2), vect__max_features=300, tfidf__use_idf=True, clf__weights=distance, clf__n_neighbors=1 \n",
      "[CV]  vect__stop_words=None, vect__ngram_range=(1, 2), vect__max_features=300, tfidf__use_idf=True, clf__weights=distance, clf__n_neighbors=1, score=0.37489040855689987, total=  23.4s\n",
      "[CV] vect__stop_words=None, vect__ngram_range=(1, 2), vect__max_features=300, tfidf__use_idf=True, clf__weights=distance, clf__n_neighbors=1 \n",
      "[CV]  vect__stop_words=None, vect__ngram_range=(1, 2), vect__max_features=300, tfidf__use_idf=True, clf__weights=distance, clf__n_neighbors=1, score=0.378572681045064, total=  23.2s\n",
      "[CV] vect__stop_words=None, vect__ngram_range=(1, 3), vect__max_features=500, tfidf__use_idf=False, clf__weights=uniform, clf__n_neighbors=2 \n",
      "[CV]  vect__stop_words=None, vect__ngram_range=(1, 3), vect__max_features=500, tfidf__use_idf=False, clf__weights=uniform, clf__n_neighbors=2, score=0.2048044888655094, total=  44.6s\n",
      "[CV] vect__stop_words=None, vect__ngram_range=(1, 3), vect__max_features=500, tfidf__use_idf=False, clf__weights=uniform, clf__n_neighbors=2 \n",
      "[CV]  vect__stop_words=None, vect__ngram_range=(1, 3), vect__max_features=500, tfidf__use_idf=False, clf__weights=uniform, clf__n_neighbors=2, score=0.21094160967911627, total=  39.5s\n",
      "[CV] vect__stop_words=None, vect__ngram_range=(1, 3), vect__max_features=500, tfidf__use_idf=False, clf__weights=uniform, clf__n_neighbors=2 \n",
      "[CV]  vect__stop_words=None, vect__ngram_range=(1, 3), vect__max_features=500, tfidf__use_idf=False, clf__weights=uniform, clf__n_neighbors=2, score=0.21006487813431526, total=  44.7s\n",
      "[CV] vect__stop_words=None, vect__ngram_range=(1, 1), vect__max_features=300, tfidf__use_idf=False, clf__weights=distance, clf__n_neighbors=1 \n",
      "[CV]  vect__stop_words=None, vect__ngram_range=(1, 1), vect__max_features=300, tfidf__use_idf=False, clf__weights=distance, clf__n_neighbors=1, score=0.3200070138523584, total=  10.2s\n",
      "[CV] vect__stop_words=None, vect__ngram_range=(1, 1), vect__max_features=300, tfidf__use_idf=False, clf__weights=distance, clf__n_neighbors=1 \n",
      "[CV]  vect__stop_words=None, vect__ngram_range=(1, 1), vect__max_features=300, tfidf__use_idf=False, clf__weights=distance, clf__n_neighbors=1, score=0.3280729440645274, total=  10.8s\n",
      "[CV] vect__stop_words=None, vect__ngram_range=(1, 1), vect__max_features=300, tfidf__use_idf=False, clf__weights=distance, clf__n_neighbors=1 \n",
      "[CV]  vect__stop_words=None, vect__ngram_range=(1, 1), vect__max_features=300, tfidf__use_idf=False, clf__weights=distance, clf__n_neighbors=1, score=0.32912502191828863, total=  10.4s\n",
      "[CV] vect__stop_words=None, vect__ngram_range=(1, 2), vect__max_features=100000, tfidf__use_idf=True, clf__weights=distance, clf__n_neighbors=1 \n",
      "[CV]  vect__stop_words=None, vect__ngram_range=(1, 2), vect__max_features=100000, tfidf__use_idf=True, clf__weights=distance, clf__n_neighbors=1, score=0.6254602840610205, total=  26.4s\n",
      "[CV] vect__stop_words=None, vect__ngram_range=(1, 2), vect__max_features=100000, tfidf__use_idf=True, clf__weights=distance, clf__n_neighbors=1 \n",
      "[CV]  vect__stop_words=None, vect__ngram_range=(1, 2), vect__max_features=100000, tfidf__use_idf=True, clf__weights=distance, clf__n_neighbors=1, score=0.07311941083640189, total=  25.9s\n",
      "[CV] vect__stop_words=None, vect__ngram_range=(1, 2), vect__max_features=100000, tfidf__use_idf=True, clf__weights=distance, clf__n_neighbors=1 \n",
      "[CV]  vect__stop_words=None, vect__ngram_range=(1, 2), vect__max_features=100000, tfidf__use_idf=True, clf__weights=distance, clf__n_neighbors=1, score=0.6088023847098019, total=  25.4s\n",
      "[CV] vect__stop_words=None, vect__ngram_range=(1, 4), vect__max_features=100000, tfidf__use_idf=False, clf__weights=distance, clf__n_neighbors=9 \n",
      "[CV]  vect__stop_words=None, vect__ngram_range=(1, 4), vect__max_features=100000, tfidf__use_idf=False, clf__weights=distance, clf__n_neighbors=9, score=0.23180782044537962, total= 1.2min\n",
      "[CV] vect__stop_words=None, vect__ngram_range=(1, 4), vect__max_features=100000, tfidf__use_idf=False, clf__weights=distance, clf__n_neighbors=9 \n",
      "[CV]  vect__stop_words=None, vect__ngram_range=(1, 4), vect__max_features=100000, tfidf__use_idf=False, clf__weights=distance, clf__n_neighbors=9, score=0.2091881465895143, total= 1.2min\n",
      "[CV] vect__stop_words=None, vect__ngram_range=(1, 4), vect__max_features=100000, tfidf__use_idf=False, clf__weights=distance, clf__n_neighbors=9 \n",
      "[CV]  vect__stop_words=None, vect__ngram_range=(1, 4), vect__max_features=100000, tfidf__use_idf=False, clf__weights=distance, clf__n_neighbors=9, score=0.21251972645975803, total= 1.2min\n",
      "[CV] vect__stop_words=None, vect__ngram_range=(1, 4), vect__max_features=50000, tfidf__use_idf=False, clf__weights=distance, clf__n_neighbors=9 \n",
      "[CV]  vect__stop_words=None, vect__ngram_range=(1, 4), vect__max_features=50000, tfidf__use_idf=False, clf__weights=distance, clf__n_neighbors=9, score=0.21322111169559882, total= 1.2min\n",
      "[CV] vect__stop_words=None, vect__ngram_range=(1, 4), vect__max_features=50000, tfidf__use_idf=False, clf__weights=distance, clf__n_neighbors=9 \n",
      "[CV]  vect__stop_words=None, vect__ngram_range=(1, 4), vect__max_features=50000, tfidf__use_idf=False, clf__weights=distance, clf__n_neighbors=9, score=0.21094160967911627, total= 1.1min\n",
      "[CV] vect__stop_words=None, vect__ngram_range=(1, 4), vect__max_features=50000, tfidf__use_idf=False, clf__weights=distance, clf__n_neighbors=9 \n",
      "[CV]  vect__stop_words=None, vect__ngram_range=(1, 4), vect__max_features=50000, tfidf__use_idf=False, clf__weights=distance, clf__n_neighbors=9, score=0.2137471506224794, total= 1.2min\n",
      "[CV] vect__stop_words=None, vect__ngram_range=(1, 2), vect__max_features=500, tfidf__use_idf=True, clf__weights=distance, clf__n_neighbors=5 \n",
      "[CV]  vect__stop_words=None, vect__ngram_range=(1, 2), vect__max_features=500, tfidf__use_idf=True, clf__weights=distance, clf__n_neighbors=5, score=0.2742416272137472, total=  24.0s\n",
      "[CV] vect__stop_words=None, vect__ngram_range=(1, 2), vect__max_features=500, tfidf__use_idf=True, clf__weights=distance, clf__n_neighbors=5 \n",
      "[CV]  vect__stop_words=None, vect__ngram_range=(1, 2), vect__max_features=500, tfidf__use_idf=True, clf__weights=distance, clf__n_neighbors=5, score=0.27476766614062775, total=  26.0s\n",
      "[CV] vect__stop_words=None, vect__ngram_range=(1, 2), vect__max_features=500, tfidf__use_idf=True, clf__weights=distance, clf__n_neighbors=5 \n",
      "[CV]  vect__stop_words=None, vect__ngram_range=(1, 2), vect__max_features=500, tfidf__use_idf=True, clf__weights=distance, clf__n_neighbors=5, score=0.2721374715062248, total=  25.1s\n",
      "[CV] vect__stop_words=None, vect__ngram_range=(1, 1), vect__max_features=300, tfidf__use_idf=True, clf__weights=uniform, clf__n_neighbors=6 \n",
      "[CV]  vect__stop_words=None, vect__ngram_range=(1, 1), vect__max_features=300, tfidf__use_idf=True, clf__weights=uniform, clf__n_neighbors=6, score=0.25495353322812553, total=  11.2s\n",
      "[CV] vect__stop_words=None, vect__ngram_range=(1, 1), vect__max_features=300, tfidf__use_idf=True, clf__weights=uniform, clf__n_neighbors=6 \n",
      "[CV]  vect__stop_words=None, vect__ngram_range=(1, 1), vect__max_features=300, tfidf__use_idf=True, clf__weights=uniform, clf__n_neighbors=6, score=0.25302472382956337, total=  10.8s\n",
      "[CV] vect__stop_words=None, vect__ngram_range=(1, 1), vect__max_features=300, tfidf__use_idf=True, clf__weights=uniform, clf__n_neighbors=6 \n",
      "[CV]  vect__stop_words=None, vect__ngram_range=(1, 1), vect__max_features=300, tfidf__use_idf=True, clf__weights=uniform, clf__n_neighbors=6, score=0.24829037348763808, total=  11.4s\n",
      "[CV] vect__stop_words=None, vect__ngram_range=(1, 3), vect__max_features=25000, tfidf__use_idf=True, clf__weights=uniform, clf__n_neighbors=9 \n",
      "[CV]  vect__stop_words=None, vect__ngram_range=(1, 3), vect__max_features=25000, tfidf__use_idf=True, clf__weights=uniform, clf__n_neighbors=9, score=0.3869893038751534, total=  47.1s\n",
      "[CV] vect__stop_words=None, vect__ngram_range=(1, 3), vect__max_features=25000, tfidf__use_idf=True, clf__weights=uniform, clf__n_neighbors=9 \n",
      "[CV]  vect__stop_words=None, vect__ngram_range=(1, 3), vect__max_features=25000, tfidf__use_idf=True, clf__weights=uniform, clf__n_neighbors=9, score=0.39435384885148167, total=  48.7s\n",
      "[CV] vect__stop_words=None, vect__ngram_range=(1, 3), vect__max_features=25000, tfidf__use_idf=True, clf__weights=uniform, clf__n_neighbors=9 \n",
      "[CV]  vect__stop_words=None, vect__ngram_range=(1, 3), vect__max_features=25000, tfidf__use_idf=True, clf__weights=uniform, clf__n_neighbors=9, score=0.3387690689110994, total=  50.5s\n",
      "[CV] vect__stop_words=None, vect__ngram_range=(1, 2), vect__max_features=50000, tfidf__use_idf=False, clf__weights=distance, clf__n_neighbors=1 \n",
      "[CV]  vect__stop_words=None, vect__ngram_range=(1, 2), vect__max_features=50000, tfidf__use_idf=False, clf__weights=distance, clf__n_neighbors=1, score=0.2872172540768017, total=  27.7s\n"
     ]
    },
    {
     "name": "stdout",
     "output_type": "stream",
     "text": [
      "[CV] vect__stop_words=None, vect__ngram_range=(1, 2), vect__max_features=50000, tfidf__use_idf=False, clf__weights=distance, clf__n_neighbors=1 \n",
      "[CV]  vect__stop_words=None, vect__ngram_range=(1, 2), vect__max_features=50000, tfidf__use_idf=False, clf__weights=distance, clf__n_neighbors=1, score=0.2907241802560056, total=  26.5s\n",
      "[CV] vect__stop_words=None, vect__ngram_range=(1, 2), vect__max_features=50000, tfidf__use_idf=False, clf__weights=distance, clf__n_neighbors=1 \n",
      "[CV]  vect__stop_words=None, vect__ngram_range=(1, 2), vect__max_features=50000, tfidf__use_idf=False, clf__weights=distance, clf__n_neighbors=1, score=0.3070313869893039, total=  48.8s\n",
      "[CV] vect__stop_words=['die', 'und', 'der'], vect__ngram_range=(1, 2), vect__max_features=5000, tfidf__use_idf=True, clf__weights=uniform, clf__n_neighbors=8 \n",
      "[CV]  vect__stop_words=['die', 'und', 'der'], vect__ngram_range=(1, 2), vect__max_features=5000, tfidf__use_idf=True, clf__weights=uniform, clf__n_neighbors=8, score=0.3138698930387515, total=  49.8s\n",
      "[CV] vect__stop_words=['die', 'und', 'der'], vect__ngram_range=(1, 2), vect__max_features=5000, tfidf__use_idf=True, clf__weights=uniform, clf__n_neighbors=8 \n",
      "[CV]  vect__stop_words=['die', 'und', 'der'], vect__ngram_range=(1, 2), vect__max_features=5000, tfidf__use_idf=True, clf__weights=uniform, clf__n_neighbors=8, score=0.2749430124495879, total=  28.6s\n",
      "[CV] vect__stop_words=['die', 'und', 'der'], vect__ngram_range=(1, 2), vect__max_features=5000, tfidf__use_idf=True, clf__weights=uniform, clf__n_neighbors=8 \n",
      "[CV]  vect__stop_words=['die', 'und', 'der'], vect__ngram_range=(1, 2), vect__max_features=5000, tfidf__use_idf=True, clf__weights=uniform, clf__n_neighbors=8, score=0.09012800280554094, total=  28.1s\n",
      "[CV] vect__stop_words=None, vect__ngram_range=(1, 3), vect__max_features=100, tfidf__use_idf=True, clf__weights=uniform, clf__n_neighbors=3 \n",
      "[CV]  vect__stop_words=None, vect__ngram_range=(1, 3), vect__max_features=100, tfidf__use_idf=True, clf__weights=uniform, clf__n_neighbors=3, score=0.28283359635279676, total= 1.3min\n",
      "[CV] vect__stop_words=None, vect__ngram_range=(1, 3), vect__max_features=100, tfidf__use_idf=True, clf__weights=uniform, clf__n_neighbors=3 \n",
      "[CV]  vect__stop_words=None, vect__ngram_range=(1, 3), vect__max_features=100, tfidf__use_idf=True, clf__weights=uniform, clf__n_neighbors=3, score=0.28353498158863755, total=  49.6s\n",
      "[CV] vect__stop_words=None, vect__ngram_range=(1, 3), vect__max_features=100, tfidf__use_idf=True, clf__weights=uniform, clf__n_neighbors=3 \n",
      "[CV]  vect__stop_words=None, vect__ngram_range=(1, 3), vect__max_features=100, tfidf__use_idf=True, clf__weights=uniform, clf__n_neighbors=3, score=0.28353498158863755, total=  46.7s\n",
      "[CV] vect__stop_words=None, vect__ngram_range=(1, 4), vect__max_features=50000, tfidf__use_idf=False, clf__weights=distance, clf__n_neighbors=7 \n",
      "[CV]  vect__stop_words=None, vect__ngram_range=(1, 4), vect__max_features=50000, tfidf__use_idf=False, clf__weights=distance, clf__n_neighbors=7, score=0.21953357881816588, total= 1.6min\n",
      "[CV] vect__stop_words=None, vect__ngram_range=(1, 4), vect__max_features=50000, tfidf__use_idf=False, clf__weights=distance, clf__n_neighbors=7 \n",
      "[CV]  vect__stop_words=None, vect__ngram_range=(1, 4), vect__max_features=50000, tfidf__use_idf=False, clf__weights=distance, clf__n_neighbors=7, score=0.21655269156584253, total= 2.8min\n",
      "[CV] vect__stop_words=None, vect__ngram_range=(1, 4), vect__max_features=50000, tfidf__use_idf=False, clf__weights=distance, clf__n_neighbors=7 \n",
      "[CV]  vect__stop_words=None, vect__ngram_range=(1, 4), vect__max_features=50000, tfidf__use_idf=False, clf__weights=distance, clf__n_neighbors=7, score=0.1844643170261266, total= 1.1min\n",
      "[CV] vect__stop_words=None, vect__ngram_range=(1, 3), vect__max_features=25000, tfidf__use_idf=True, clf__weights=distance, clf__n_neighbors=4 \n",
      "[CV]  vect__stop_words=None, vect__ngram_range=(1, 3), vect__max_features=25000, tfidf__use_idf=True, clf__weights=distance, clf__n_neighbors=4, score=0.08837453971593898, total=  46.5s\n",
      "[CV] vect__stop_words=None, vect__ngram_range=(1, 3), vect__max_features=25000, tfidf__use_idf=True, clf__weights=distance, clf__n_neighbors=4 \n",
      "[CV]  vect__stop_words=None, vect__ngram_range=(1, 3), vect__max_features=25000, tfidf__use_idf=True, clf__weights=distance, clf__n_neighbors=4, score=0.08697176924425741, total=  45.8s\n",
      "[CV] vect__stop_words=None, vect__ngram_range=(1, 3), vect__max_features=25000, tfidf__use_idf=True, clf__weights=distance, clf__n_neighbors=4 \n",
      "[CV]  vect__stop_words=None, vect__ngram_range=(1, 3), vect__max_features=25000, tfidf__use_idf=True, clf__weights=distance, clf__n_neighbors=4, score=0.09433631422058565, total=  48.5s\n",
      "[CV] vect__stop_words=None, vect__ngram_range=(1, 3), vect__max_features=10000, tfidf__use_idf=True, clf__weights=uniform, clf__n_neighbors=5 \n",
      "[CV]  vect__stop_words=None, vect__ngram_range=(1, 3), vect__max_features=10000, tfidf__use_idf=True, clf__weights=uniform, clf__n_neighbors=5, score=0.1020515518148343, total=  46.7s\n",
      "[CV] vect__stop_words=None, vect__ngram_range=(1, 3), vect__max_features=10000, tfidf__use_idf=True, clf__weights=uniform, clf__n_neighbors=5 \n",
      "[CV]  vect__stop_words=None, vect__ngram_range=(1, 3), vect__max_features=10000, tfidf__use_idf=True, clf__weights=uniform, clf__n_neighbors=5, score=0.17674907943187795, total=  47.7s\n",
      "[CV] vect__stop_words=None, vect__ngram_range=(1, 3), vect__max_features=10000, tfidf__use_idf=True, clf__weights=uniform, clf__n_neighbors=5 \n",
      "[CV]  vect__stop_words=None, vect__ngram_range=(1, 3), vect__max_features=10000, tfidf__use_idf=True, clf__weights=uniform, clf__n_neighbors=5, score=0.10731194108364019, total= 1.9min\n",
      "[CV] vect__stop_words=['die', 'und', 'der'], vect__ngram_range=(1, 3), vect__max_features=500, tfidf__use_idf=True, clf__weights=distance, clf__n_neighbors=3 \n",
      "[CV]  vect__stop_words=['die', 'und', 'der'], vect__ngram_range=(1, 3), vect__max_features=500, tfidf__use_idf=True, clf__weights=distance, clf__n_neighbors=3, score=0.3059793091355427, total= 1.5min\n",
      "[CV] vect__stop_words=['die', 'und', 'der'], vect__ngram_range=(1, 3), vect__max_features=500, tfidf__use_idf=True, clf__weights=distance, clf__n_neighbors=3 \n",
      "[CV]  vect__stop_words=['die', 'und', 'der'], vect__ngram_range=(1, 3), vect__max_features=500, tfidf__use_idf=True, clf__weights=distance, clf__n_neighbors=3, score=0.29388041381728913, total=  42.1s\n",
      "[CV] vect__stop_words=['die', 'und', 'der'], vect__ngram_range=(1, 3), vect__max_features=500, tfidf__use_idf=True, clf__weights=distance, clf__n_neighbors=3 \n",
      "[CV]  vect__stop_words=['die', 'und', 'der'], vect__ngram_range=(1, 3), vect__max_features=500, tfidf__use_idf=True, clf__weights=distance, clf__n_neighbors=3, score=0.29949149570401545, total=  42.2s\n",
      "[CV] vect__stop_words=None, vect__ngram_range=(1, 2), vect__max_features=100, tfidf__use_idf=False, clf__weights=distance, clf__n_neighbors=1 \n",
      "[CV]  vect__stop_words=None, vect__ngram_range=(1, 2), vect__max_features=100, tfidf__use_idf=False, clf__weights=distance, clf__n_neighbors=1, score=0.29563387690689114, total=  23.7s\n",
      "[CV] vect__stop_words=None, vect__ngram_range=(1, 2), vect__max_features=100, tfidf__use_idf=False, clf__weights=distance, clf__n_neighbors=1 \n",
      "[CV]  vect__stop_words=None, vect__ngram_range=(1, 2), vect__max_features=100, tfidf__use_idf=False, clf__weights=distance, clf__n_neighbors=1, score=0.2914255654918464, total=  23.1s\n",
      "[CV] vect__stop_words=None, vect__ngram_range=(1, 2), vect__max_features=100, tfidf__use_idf=False, clf__weights=distance, clf__n_neighbors=1 \n",
      "[CV]  vect__stop_words=None, vect__ngram_range=(1, 2), vect__max_features=100, tfidf__use_idf=False, clf__weights=distance, clf__n_neighbors=1, score=0.2944064527441697, total=  23.4s\n",
      "[CV] vect__stop_words=None, vect__ngram_range=(1, 3), vect__max_features=50000, tfidf__use_idf=True, clf__weights=distance, clf__n_neighbors=1 \n",
      "[CV]  vect__stop_words=None, vect__ngram_range=(1, 3), vect__max_features=50000, tfidf__use_idf=True, clf__weights=distance, clf__n_neighbors=1, score=0.10292828335963528, total=  44.6s\n",
      "[CV] vect__stop_words=None, vect__ngram_range=(1, 3), vect__max_features=50000, tfidf__use_idf=True, clf__weights=distance, clf__n_neighbors=1 \n"
     ]
    },
    {
     "name": "stdout",
     "output_type": "stream",
     "text": [
      "[CV]  vect__stop_words=None, vect__ngram_range=(1, 3), vect__max_features=50000, tfidf__use_idf=True, clf__weights=distance, clf__n_neighbors=1, score=0.11853410485709276, total=  45.6s\n",
      "[CV] vect__stop_words=None, vect__ngram_range=(1, 3), vect__max_features=50000, tfidf__use_idf=True, clf__weights=distance, clf__n_neighbors=1 \n",
      "[CV]  vect__stop_words=None, vect__ngram_range=(1, 3), vect__max_features=50000, tfidf__use_idf=True, clf__weights=distance, clf__n_neighbors=1, score=0.12449587936173943, total=  48.2s\n",
      "[CV] vect__stop_words=['die', 'und', 'der'], vect__ngram_range=(1, 3), vect__max_features=50000, tfidf__use_idf=False, clf__weights=distance, clf__n_neighbors=8 \n",
      "[CV]  vect__stop_words=['die', 'und', 'der'], vect__ngram_range=(1, 3), vect__max_features=50000, tfidf__use_idf=False, clf__weights=distance, clf__n_neighbors=8, score=0.23566543924250394, total=  46.0s\n",
      "[CV] vect__stop_words=['die', 'und', 'der'], vect__ngram_range=(1, 3), vect__max_features=50000, tfidf__use_idf=False, clf__weights=distance, clf__n_neighbors=8 \n",
      "[CV]  vect__stop_words=['die', 'und', 'der'], vect__ngram_range=(1, 3), vect__max_features=50000, tfidf__use_idf=False, clf__weights=distance, clf__n_neighbors=8, score=0.23040504997369807, total= 1.0min\n",
      "[CV] vect__stop_words=['die', 'und', 'der'], vect__ngram_range=(1, 3), vect__max_features=50000, tfidf__use_idf=False, clf__weights=distance, clf__n_neighbors=8 \n",
      "[CV]  vect__stop_words=['die', 'und', 'der'], vect__ngram_range=(1, 3), vect__max_features=50000, tfidf__use_idf=False, clf__weights=distance, clf__n_neighbors=8, score=0.1460634753638436, total= 1.1min\n",
      "[CV] vect__stop_words=['die', 'und', 'der'], vect__ngram_range=(1, 4), vect__max_features=2500, tfidf__use_idf=True, clf__weights=distance, clf__n_neighbors=6 \n",
      "[CV]  vect__stop_words=['die', 'und', 'der'], vect__ngram_range=(1, 4), vect__max_features=2500, tfidf__use_idf=True, clf__weights=distance, clf__n_neighbors=6, score=0.16219533578818165, total= 1.5min\n",
      "[CV] vect__stop_words=['die', 'und', 'der'], vect__ngram_range=(1, 4), vect__max_features=2500, tfidf__use_idf=True, clf__weights=distance, clf__n_neighbors=6 \n",
      "[CV]  vect__stop_words=['die', 'und', 'der'], vect__ngram_range=(1, 4), vect__max_features=2500, tfidf__use_idf=True, clf__weights=distance, clf__n_neighbors=6, score=0.16096791162546029, total= 1.6min\n",
      "[CV] vect__stop_words=['die', 'und', 'der'], vect__ngram_range=(1, 4), vect__max_features=2500, tfidf__use_idf=True, clf__weights=distance, clf__n_neighbors=6 \n",
      "[CV]  vect__stop_words=['die', 'und', 'der'], vect__ngram_range=(1, 4), vect__max_features=2500, tfidf__use_idf=True, clf__weights=distance, clf__n_neighbors=6, score=0.1695598807645099, total= 2.0min\n",
      "[CV] vect__stop_words=None, vect__ngram_range=(1, 4), vect__max_features=300, tfidf__use_idf=False, clf__weights=uniform, clf__n_neighbors=4 \n",
      "[CV]  vect__stop_words=None, vect__ngram_range=(1, 4), vect__max_features=300, tfidf__use_idf=False, clf__weights=uniform, clf__n_neighbors=4, score=0.20585656671927055, total= 1.8min\n",
      "[CV] vect__stop_words=None, vect__ngram_range=(1, 4), vect__max_features=300, tfidf__use_idf=False, clf__weights=uniform, clf__n_neighbors=4 \n",
      "[CV]  vect__stop_words=None, vect__ngram_range=(1, 4), vect__max_features=300, tfidf__use_idf=False, clf__weights=uniform, clf__n_neighbors=4, score=0.20796072242679292, total= 1.7min\n",
      "[CV] vect__stop_words=None, vect__ngram_range=(1, 4), vect__max_features=300, tfidf__use_idf=False, clf__weights=uniform, clf__n_neighbors=4 \n",
      "[CV]  vect__stop_words=None, vect__ngram_range=(1, 4), vect__max_features=300, tfidf__use_idf=False, clf__weights=uniform, clf__n_neighbors=4, score=0.2086621076626337, total= 1.2min\n",
      "[CV] vect__stop_words=None, vect__ngram_range=(1, 3), vect__max_features=50000, tfidf__use_idf=False, clf__weights=distance, clf__n_neighbors=9 \n",
      "[CV]  vect__stop_words=None, vect__ngram_range=(1, 3), vect__max_features=50000, tfidf__use_idf=False, clf__weights=distance, clf__n_neighbors=9, score=0.2084867613536735, total= 2.0min\n",
      "[CV] vect__stop_words=None, vect__ngram_range=(1, 3), vect__max_features=50000, tfidf__use_idf=False, clf__weights=distance, clf__n_neighbors=9 \n",
      "[CV]  vect__stop_words=None, vect__ngram_range=(1, 3), vect__max_features=50000, tfidf__use_idf=False, clf__weights=distance, clf__n_neighbors=9, score=0.2048044888655094, total=  51.7s\n",
      "[CV] vect__stop_words=None, vect__ngram_range=(1, 3), vect__max_features=50000, tfidf__use_idf=False, clf__weights=distance, clf__n_neighbors=9 \n",
      "[CV]  vect__stop_words=None, vect__ngram_range=(1, 3), vect__max_features=50000, tfidf__use_idf=False, clf__weights=distance, clf__n_neighbors=9, score=0.20831141504471332, total= 1.9min\n",
      "[CV] vect__stop_words=None, vect__ngram_range=(1, 3), vect__max_features=10000, tfidf__use_idf=True, clf__weights=uniform, clf__n_neighbors=1 \n",
      "[CV]  vect__stop_words=None, vect__ngram_range=(1, 3), vect__max_features=10000, tfidf__use_idf=True, clf__weights=uniform, clf__n_neighbors=1, score=0.1751709626512362, total= 1.2min\n",
      "[CV] vect__stop_words=None, vect__ngram_range=(1, 3), vect__max_features=10000, tfidf__use_idf=True, clf__weights=uniform, clf__n_neighbors=1 \n",
      "[CV]  vect__stop_words=None, vect__ngram_range=(1, 3), vect__max_features=10000, tfidf__use_idf=True, clf__weights=uniform, clf__n_neighbors=1, score=0.18884797475013151, total= 1.3min\n",
      "[CV] vect__stop_words=None, vect__ngram_range=(1, 3), vect__max_features=10000, tfidf__use_idf=True, clf__weights=uniform, clf__n_neighbors=1 \n",
      "[CV]  vect__stop_words=None, vect__ngram_range=(1, 3), vect__max_features=10000, tfidf__use_idf=True, clf__weights=uniform, clf__n_neighbors=1, score=0.20007013852358407, total= 1.8min\n",
      "[CV] vect__stop_words=None, vect__ngram_range=(1, 1), vect__max_features=5000, tfidf__use_idf=True, clf__weights=uniform, clf__n_neighbors=3 \n",
      "[CV]  vect__stop_words=None, vect__ngram_range=(1, 1), vect__max_features=5000, tfidf__use_idf=True, clf__weights=uniform, clf__n_neighbors=3, score=0.1506224793968087, total=  12.4s\n",
      "[CV] vect__stop_words=None, vect__ngram_range=(1, 1), vect__max_features=5000, tfidf__use_idf=True, clf__weights=uniform, clf__n_neighbors=3 \n",
      "[CV]  vect__stop_words=None, vect__ngram_range=(1, 1), vect__max_features=5000, tfidf__use_idf=True, clf__weights=uniform, clf__n_neighbors=3, score=0.15342802034017183, total=  11.8s\n",
      "[CV] vect__stop_words=None, vect__ngram_range=(1, 1), vect__max_features=5000, tfidf__use_idf=True, clf__weights=uniform, clf__n_neighbors=3 \n",
      "[CV]  vect__stop_words=None, vect__ngram_range=(1, 1), vect__max_features=5000, tfidf__use_idf=True, clf__weights=uniform, clf__n_neighbors=3, score=0.16885849552866913, total=  23.9s\n"
     ]
    },
    {
     "name": "stderr",
     "output_type": "stream",
     "text": [
      "[Parallel(n_jobs=1)]: Done 150 out of 150 | elapsed: 164.6min finished\n"
     ]
    }
   ],
   "source": [
    "# train\n",
    "rs_clf = RandomizedSearchCV(clf, parameters, n_jobs=1, verbose=10, random_state=1, return_train_score=True, cv=3, n_iter=50)\n",
    "start = time.time()\n",
    "rs_clf = rs_clf.fit(X_train, encoded_y_train)\n",
    "rs_processing_time = (time.time() - start) / 60"
   ]
  },
  {
   "cell_type": "code",
   "execution_count": 28,
   "metadata": {},
   "outputs": [
    {
     "name": "stdout",
     "output_type": "stream",
     "text": [
      "0.4357940265357414\n"
     ]
    }
   ],
   "source": [
    "best_score = rs_clf.best_score_\n",
    "print(best_score)"
   ]
  },
  {
   "cell_type": "code",
   "execution_count": 29,
   "metadata": {},
   "outputs": [
    {
     "name": "stdout",
     "output_type": "stream",
     "text": [
      "{'vect__stop_words': None, 'vect__ngram_range': (1, 2), 'vect__max_features': 100000, 'tfidf__use_idf': True, 'clf__weights': 'distance', 'clf__n_neighbors': 1}\n"
     ]
    }
   ],
   "source": [
    "best_params = rs_clf.best_params_\n",
    "print(best_params)"
   ]
  },
  {
   "cell_type": "code",
   "execution_count": 30,
   "metadata": {},
   "outputs": [],
   "source": [
    "# predict \n",
    "rs_predicted = rs_clf.predict(X_test)\n",
    "#print(predicted)"
   ]
  },
  {
   "cell_type": "code",
   "execution_count": 31,
   "metadata": {},
   "outputs": [
    {
     "name": "stdout",
     "output_type": "stream",
     "text": [
      "0.7074306984896046\n"
     ]
    }
   ],
   "source": [
    "# precision is a measure of result relevancy\n",
    "from sklearn.metrics import precision_score\n",
    "rs_precision = precision_score(encoded_y_test, rs_predicted, average='samples')\n",
    "print(rs_precision)"
   ]
  },
  {
   "cell_type": "code",
   "execution_count": 32,
   "metadata": {},
   "outputs": [
    {
     "name": "stdout",
     "output_type": "stream",
     "text": [
      "0.7131792866891044\n"
     ]
    }
   ],
   "source": [
    "# recall is a measure of how many truly relevant results are returned\n",
    "from sklearn.metrics import recall_score\n",
    "rs_recall = recall_score(encoded_y_test, rs_predicted, average='samples')  \n",
    "print(rs_recall)"
   ]
  },
  {
   "cell_type": "code",
   "execution_count": 33,
   "metadata": {},
   "outputs": [
    {
     "name": "stdout",
     "output_type": "stream",
     "text": [
      "0.7065274884297654\n"
     ]
    }
   ],
   "source": [
    "# F1 score is a weighted average of the precision and recall\n",
    "from sklearn.metrics import f1_score\n",
    "rs_f1 = f1_score(encoded_y_test, rs_predicted, average='samples') \n",
    "print(rs_f1)"
   ]
  },
  {
   "cell_type": "code",
   "execution_count": 34,
   "metadata": {},
   "outputs": [
    {
     "name": "stdout",
     "output_type": "stream",
     "text": [
      "             precision    recall  f1-score   support\n",
      "\n",
      "          0       0.92      0.87      0.89       674\n",
      "          1       0.05      0.67      0.09        24\n",
      "          2       0.10      0.64      0.17        58\n",
      "          3       0.49      0.67      0.57        49\n",
      "          4       0.70      0.64      0.67        25\n",
      "          5       0.59      0.68      0.63        25\n",
      "          6       0.85      0.70      0.77      1412\n",
      "          7       0.85      0.70      0.77      1412\n",
      "          8       0.65      0.67      0.66        45\n",
      "          9       0.54      0.59      0.56       389\n",
      "         10       0.85      0.63      0.72        27\n",
      "         11       0.92      0.67      0.78        67\n",
      "         12       0.45      0.59      0.51       212\n",
      "         13       0.63      0.39      0.48        85\n",
      "         14       0.88      0.67      0.76        42\n",
      "         15       0.65      0.37      0.47        30\n",
      "         16       0.56      0.54      0.55       170\n",
      "         17       0.71      0.69      0.70        36\n",
      "         18       0.52      0.58      0.55       196\n",
      "         19       0.85      0.70      0.77      1412\n",
      "         20       0.62      0.60      0.61        80\n",
      "         21       0.59      0.59      0.59        86\n",
      "         22       0.58      0.58      0.58       107\n",
      "         23       0.71      0.69      0.70        36\n",
      "         24       0.50      0.64      0.56       240\n",
      "         25       0.66      0.61      0.63       209\n",
      "         26       0.60      0.63      0.62       120\n",
      "         27       0.72      0.57      0.64        88\n",
      "         28       0.66      0.46      0.54        46\n",
      "         29       0.74      0.70      0.72       100\n",
      "         30       0.88      0.68      0.77        44\n",
      "         31       0.83      0.74      0.78      1978\n",
      "         32       0.40      0.50      0.44       136\n",
      "         33       0.66      0.52      0.58       134\n",
      "         34       0.50      0.32      0.39        22\n",
      "         35       0.51      0.58      0.54       146\n",
      "         36       0.50      0.29      0.36        35\n",
      "         37       0.45      0.45      0.45       162\n",
      "         38       0.59      0.57      0.58       111\n",
      "         39       0.53      0.29      0.37        28\n",
      "         40       0.73      0.83      0.77      1427\n",
      "         41       0.86      0.90      0.88      2677\n",
      "         42       0.54      0.44      0.48        32\n",
      "         43       0.57      0.66      0.61       614\n",
      "         44       0.57      0.65      0.61       302\n",
      "         45       0.71      0.44      0.55        27\n",
      "         46       0.80      0.65      0.72        80\n",
      "         47       0.67      0.37      0.48        27\n",
      "         48       0.69      0.55      0.61        60\n",
      "         49       0.74      0.55      0.63        42\n",
      "         50       0.60      0.69      0.64        39\n",
      "         51       0.38      0.66      0.48       478\n",
      "         52       0.61      0.67      0.64       211\n",
      "         53       0.49      0.47      0.48        36\n",
      "         54       0.91      0.71      0.80        28\n",
      "         55       0.48      0.58      0.53       245\n",
      "         56       0.69      0.61      0.65        33\n",
      "         57       0.73      0.57      0.64        28\n",
      "         58       0.79      0.68      0.73        34\n",
      "         59       0.43      0.48      0.46        27\n",
      "         60       0.61      0.63      0.62       621\n",
      "         61       0.57      0.53      0.55       160\n",
      "         62       0.84      0.64      0.73        50\n",
      "         63       0.78      0.64      0.70        22\n",
      "         64       0.90      0.64      0.75        28\n",
      "         65       0.84      0.70      0.76        46\n",
      "         66       0.47      0.32      0.38        22\n",
      "         67       0.49      0.58      0.53       151\n",
      "         68       0.86      0.73      0.79        44\n",
      "         69       0.56      0.57      0.56       217\n",
      "         70       0.58      0.60      0.59        53\n",
      "         71       0.53      0.50      0.52       117\n",
      "         72       0.78      0.64      0.70        22\n",
      "         73       0.66      0.55      0.60        53\n",
      "         74       0.63      0.39      0.48        85\n",
      "         75       0.50      0.57      0.54        98\n",
      "         76       0.67      0.64      0.65        56\n",
      "         77       0.69      0.61      0.65       114\n",
      "         78       0.83      0.73      0.78      1846\n",
      "         79       0.51      0.53      0.52       163\n",
      "         80       0.70      0.68      0.69        28\n",
      "         81       0.67      0.55      0.60        93\n",
      "         82       0.54      0.58      0.56       155\n",
      "         83       0.48      0.50      0.49       127\n",
      "         84       0.51      0.58      0.54       125\n",
      "         85       0.46      0.52      0.49       108\n",
      "         86       0.42      0.57      0.49       101\n",
      "         87       0.69      0.68      0.69       113\n",
      "         88       0.57      0.71      0.63        28\n",
      "         89       0.78      0.81      0.80        53\n",
      "         90       0.71      0.63      0.67        93\n",
      "         91       0.71      0.69      0.70        36\n",
      "         92       0.55      0.49      0.52        49\n",
      "         93       0.56      0.57      0.56       251\n",
      "         94       0.51      0.56      0.53       212\n",
      "         95       0.41      0.28      0.33        39\n",
      "         96       0.85      0.64      0.73        45\n",
      "         97       0.68      0.64      0.66        50\n",
      "         98       0.42      0.29      0.34        17\n",
      "         99       0.65      0.58      0.61       208\n",
      "        100       0.22      0.22      0.22        27\n",
      "        101       0.75      0.73      0.74        77\n",
      "        102       0.66      0.64      0.65       155\n",
      "        103       0.60      0.66      0.63        97\n",
      "        104       0.42      0.61      0.50       112\n",
      "        105       0.92      0.81      0.86       730\n",
      "        106       0.72      0.54      0.61       138\n",
      "        107       0.88      0.67      0.76        42\n",
      "        108       0.57      0.47      0.52        34\n",
      "        109       0.89      0.61      0.73        54\n",
      "        110       0.62      0.55      0.58       148\n",
      "        111       0.76      0.63      0.69        46\n",
      "        112       0.67      0.21      0.32        28\n",
      "        113       0.15      0.72      0.24        75\n",
      "\n",
      "avg / total       0.72      0.69      0.70     24407\n",
      "\n"
     ]
    }
   ],
   "source": [
    "from sklearn.metrics import classification_report\n",
    "print(classification_report(encoded_y_test, rs_predicted))"
   ]
  },
  {
   "cell_type": "markdown",
   "metadata": {},
   "source": [
    "Ergebnisse in Dateien speichern"
   ]
  },
  {
   "cell_type": "code",
   "execution_count": 25,
   "metadata": {},
   "outputs": [],
   "source": [
    "output = '../kNN'\n",
    "if not os.path.exists(output):\n",
    "    os.makedirs(output)\n",
    "    \n",
    "timestamp = time.strftime('%Y-%m-%d_%H.%M')"
   ]
  },
  {
   "cell_type": "code",
   "execution_count": 26,
   "metadata": {},
   "outputs": [
    {
     "name": "stdout",
     "output_type": "stream",
     "text": [
      "PREDICTED:\n",
      "('approches de corpus_t', 'archives_t', 'enquêtes_t', 'histoire et archéologie_d', 'histoire_t', 'sciences sociales interdisciplinaires_d')\n",
      "TRUE:\n",
      "['histoire et archéologie_d', 'sciences sociales interdisciplinaires_d', 'histoire_t', 'approches de corpus_t', 'enquêtes_t', 'archives_t']\n"
     ]
    }
   ],
   "source": [
    "# write real labels and predictions to file\n",
    "\n",
    "inverse_prediction = label_encoder.inverse_transform(rs_predicted)\n",
    "print('PREDICTED:')\n",
    "print(inverse_prediction[0])\n",
    "print('TRUE:')\n",
    "print(y_test[0])\n",
    "\n",
    "with open(output+'/Blogs_all_labels_predictions_%s.txt' % timestamp,\"w+\", encoding=\"utf8\") as preds:\n",
    "    preds.write(\"Predictions from classification with k-nearest-neighbors (all labels):\\n\\n\")\n",
    "    for ident, label, pred in zip(z_test, y_test, inverse_prediction):\n",
    "        label = sorted(label)\n",
    "        pred = sorted(pred)\n",
    "        preds.write(ident)\n",
    "        preds.write('\\n')\n",
    "        preds.write('TRUE: ')\n",
    "        for element in label:\n",
    "            preds.write('%s, ' % element)\n",
    "        preds.write('\\n')\n",
    "        preds.write('PRED: ')\n",
    "        for element in pred:\n",
    "            preds.write('%s, ' % element)\n",
    "        preds.write('\\n')\n",
    "        preds.write('\\n*********************\\n')\n",
    "    "
   ]
  },
  {
   "cell_type": "code",
   "execution_count": 27,
   "metadata": {},
   "outputs": [],
   "source": [
    "# write parameters and scores to file\n",
    "\n",
    "with open(output+'/kNN_all_labels_params_%s.txt' % timestamp,\"w+\", encoding=\"utf8\") as params:\n",
    "    params.write(\"Parameters for classification with k-nearest-neighbors from randomized search (all labels):\")\n",
    "    params.write(\"\\nprocessing_time: %s\" % rs_processing_time)\n",
    "    for key, value in best_params.items():\n",
    "        params.write(\"\\n%s: %s\" % (key, value))\n",
    "    params.write(\"\\nbest_score: %s\" % best_score)\n",
    "    params.write(\"\\nprecision: %s\" % rs_precision)\n",
    "    params.write(\"\\nrecall: %s\" % rs_recall)\n",
    "    params.write(\"\\nf1-score: %s\" % rs_f1)"
   ]
  },
  {
   "cell_type": "code",
   "execution_count": 28,
   "metadata": {},
   "outputs": [
    {
     "name": "stdout",
     "output_type": "stream",
     "text": [
      "    mean_fit_time  std_fit_time  mean_score_time  std_score_time  \\\n",
      "0        4.175122      0.127517         6.630511        0.161892   \n",
      "1       53.124664      1.375119        13.902534        0.374614   \n",
      "2       13.104774      0.184638         7.654144        0.056771   \n",
      "3        3.570384      0.012411         5.656494        0.066434   \n",
      "4       28.625589      0.128469         8.433493        0.106650   \n",
      "5       46.419061      0.162230         8.640185        0.048638   \n",
      "6        3.578746      0.099932         5.434251        0.077464   \n",
      "7       13.146901      0.038702         7.575019        0.038552   \n",
      "8       28.534684      0.476551         8.889240        0.049896   \n",
      "9       45.575807      0.246583         8.605586        0.128716   \n",
      "10      48.056591      0.169584        12.329216        0.235883   \n",
      "11      44.700165      0.677451         9.297399        0.092742   \n",
      "12      13.450645      0.158506         8.595414        0.083028   \n",
      "13       3.661496      0.251958         5.614534        0.028486   \n",
      "14      13.061114      0.178259         6.776793        0.176205   \n",
      "15      46.728270      1.018078         9.183761        0.301770   \n",
      "16       3.682758      0.193832         6.426870        0.146852   \n",
      "17      44.331378      0.317709         9.106187        0.016575   \n",
      "18      47.387142      1.037268        11.012934        0.076082   \n",
      "19      44.096725      0.064138         8.436971        0.024512   \n",
      "20      13.045835      1.042994         6.940079        0.118625   \n",
      "21      47.068538      0.331698         8.632745        0.206796   \n",
      "22       3.361074      0.037761         5.689431        0.052794   \n",
      "23      14.017664      0.345900         8.513725        0.226391   \n",
      "24       4.562346      1.677901         5.925402        0.655987   \n",
      "25      12.711788      0.328745         6.610414        0.101668   \n",
      "26       3.422440      0.106630         5.452291        0.066132   \n",
      "27       3.558316      0.096856         5.673351        0.077673   \n",
      "28      12.398040      0.100915         7.084068        0.073880   \n",
      "29      28.802833      0.722497         7.801831        0.067069   \n",
      "30      28.726564      0.455061         9.177919        0.388103   \n",
      "31       3.717171      0.176678         5.372309        0.046220   \n",
      "32      28.460655      0.368847         8.389830        0.176435   \n",
      "33      28.949263      0.146570         8.138572        0.098435   \n",
      "34      14.169186      0.559896         8.571873        0.331670   \n",
      "35      46.294578      1.108722        11.450708        2.824846   \n",
      "36      12.924307      0.410830         7.217166        0.037275   \n",
      "37      47.618224      1.045592         9.320034        0.156402   \n",
      "38      31.148195      4.413508         8.956819        0.242939   \n",
      "39       3.598629      0.255998         6.841860        0.297710   \n",
      "40      46.021791      1.280607         9.361098        0.206338   \n",
      "41       3.398614      0.017851         6.272916        0.029390   \n",
      "42       3.543492      0.153082         6.043745        0.104173   \n",
      "43      12.415582      0.090782         6.997667        0.021999   \n",
      "44      28.822407      2.104512         7.410136        0.036848   \n",
      "45       3.336115      0.005652         5.267584        0.088814   \n",
      "46      51.713462      1.541390        15.068538        2.991265   \n",
      "47      46.186701      0.986098        10.027464        0.209841   \n",
      "48      29.618008      0.523332        11.328404        0.681266   \n",
      "49      27.241765      0.085930         8.161959        0.040061   \n",
      "\n",
      "   param_vect__ngram_range param_vect__min_df param_vect__max_df  \\\n",
      "0                   (1, 1)               0.05                0.9   \n",
      "1                   (1, 4)                  0                0.9   \n",
      "2                   (1, 2)               0.01                0.8   \n",
      "3                   (1, 1)               0.05                  1   \n",
      "4                   (1, 3)                0.1                  1   \n",
      "5                   (1, 4)                0.1                0.9   \n",
      "6                   (1, 1)               0.05                0.7   \n",
      "7                   (1, 2)               0.05                  1   \n",
      "8                   (1, 3)               0.05                  1   \n",
      "9                   (1, 4)                0.1                0.7   \n",
      "10                  (1, 4)                  0                0.9   \n",
      "11                  (1, 4)               0.05                0.9   \n",
      "12                  (1, 2)                  0                0.8   \n",
      "13                  (1, 1)                0.1                0.9   \n",
      "14                  (1, 2)                0.1                0.8   \n",
      "15                  (1, 4)               0.01                0.7   \n",
      "16                  (1, 1)                  0                0.8   \n",
      "17                  (1, 4)               0.05                0.8   \n",
      "18                  (1, 4)                  0                0.7   \n",
      "19                  (1, 4)                0.1                0.9   \n",
      "20                  (1, 2)               0.05                0.8   \n",
      "21                  (1, 4)                0.1                0.9   \n",
      "22                  (1, 1)               0.05                0.9   \n",
      "23                  (1, 2)                  0                0.7   \n",
      "24                  (1, 1)               0.01                0.7   \n",
      "25                  (1, 2)               0.05                0.7   \n",
      "26                  (1, 1)                0.1                0.8   \n",
      "27                  (1, 1)                0.1                0.9   \n",
      "28                  (1, 2)                0.1                  1   \n",
      "29                  (1, 3)               0.01                0.7   \n",
      "30                  (1, 3)               0.01                0.8   \n",
      "31                  (1, 1)               0.05                0.9   \n",
      "32                  (1, 3)               0.05                0.9   \n",
      "33                  (1, 3)                0.1                0.9   \n",
      "34                  (1, 2)                  0                0.9   \n",
      "35                  (1, 4)               0.05                0.8   \n",
      "36                  (1, 2)                0.1                  1   \n",
      "37                  (1, 4)               0.05                0.8   \n",
      "38                  (1, 3)               0.01                0.9   \n",
      "39                  (1, 1)                  0                0.9   \n",
      "40                  (1, 4)               0.05                0.8   \n",
      "41                  (1, 1)                  0                0.9   \n",
      "42                  (1, 1)                  0                0.9   \n",
      "43                  (1, 2)               0.05                0.9   \n",
      "44                  (1, 3)                0.1                0.7   \n",
      "45                  (1, 1)               0.05                0.7   \n",
      "46                  (1, 4)                  0                0.9   \n",
      "47                  (1, 4)               0.05                  1   \n",
      "48                  (1, 3)                  0                  1   \n",
      "49                  (1, 3)               0.01                0.8   \n",
      "\n",
      "   param_tfidf__use_idf param_clf__weights param_clf__n_neighbors  \\\n",
      "0                 False           distance                      5   \n",
      "1                  True           distance                      6   \n",
      "2                 False            uniform                      5   \n",
      "3                  True           distance                      1   \n",
      "4                  True           distance                      5   \n",
      "5                 False           distance                      1   \n",
      "6                 False           distance                      9   \n",
      "7                  True           distance                      4   \n",
      "8                  True           distance                      5   \n",
      "9                 False           distance                      5   \n",
      "10                False           distance                      5   \n",
      "11                False           distance                      5   \n",
      "12                False            uniform                      5   \n",
      "13                 True            uniform                      7   \n",
      "14                 True           distance                      2   \n",
      "15                False           distance                      3   \n",
      "16                 True            uniform                      7   \n",
      "17                False            uniform                      7   \n",
      "18                False            uniform                      1   \n",
      "19                False           distance                      2   \n",
      "20                False            uniform                      7   \n",
      "21                 True           distance                      1   \n",
      "22                False            uniform                      4   \n",
      "23                False            uniform                      9   \n",
      "24                False           distance                      7   \n",
      "25                False           distance                      5   \n",
      "26                False           distance                      9   \n",
      "27                False           distance                      8   \n",
      "28                False           distance                      4   \n",
      "29                 True           distance                      1   \n",
      "30                 True           distance                      7   \n",
      "31                 True           distance                      1   \n",
      "32                 True           distance                      6   \n",
      "33                 True            uniform                      8   \n",
      "34                False            uniform                      3   \n",
      "35                False           distance                      5   \n",
      "36                False           distance                      9   \n",
      "37                False            uniform                      4   \n",
      "38                 True           distance                      6   \n",
      "39                False           distance                      9   \n",
      "40                 True           distance                      9   \n",
      "41                False            uniform                      7   \n",
      "42                False            uniform                      3   \n",
      "43                False           distance                      7   \n",
      "44                 True            uniform                      5   \n",
      "45                False           distance                      8   \n",
      "46                 True           distance                      5   \n",
      "47                False            uniform                      9   \n",
      "48                False            uniform                      5   \n",
      "49                False           distance                      3   \n",
      "\n",
      "         ...        split1_test_score  split2_test_score  mean_test_score  \\\n",
      "0        ...                 0.269858           0.266000         0.268514   \n",
      "1        ...                 0.588813           0.593197         0.592203   \n",
      "2        ...                 0.212520           0.223917         0.217605   \n",
      "3        ...                 0.361389           0.373488         0.367292   \n",
      "4        ...                 0.270559           0.272664         0.270618   \n",
      "5        ...                 0.314922           0.319832         0.316208   \n",
      "6        ...                 0.252499           0.249693         0.254603   \n",
      "7        ...                 0.284762           0.285464         0.284178   \n",
      "8        ...                 0.243205           0.251973         0.246888   \n",
      "9        ...                 0.271611           0.272664         0.272839   \n",
      "10       ...                 0.242855           0.248115         0.251388   \n",
      "11       ...                 0.268631           0.262318         0.266059   \n",
      "12       ...                 0.307557           0.310538         0.311824   \n",
      "13       ...                 0.266702           0.261441         0.264948   \n",
      "14       ...                 0.350693           0.348062         0.350517   \n",
      "15       ...                 0.230756           0.246712         0.232860   \n",
      "16       ...                 0.540943           0.543574         0.542931   \n",
      "17       ...                 0.253901           0.244608         0.250745   \n",
      "18       ...                 0.452043           0.434333         0.445438   \n",
      "19       ...                 0.313519           0.319656         0.315506   \n",
      "20       ...                 0.253901           0.246011         0.251973   \n",
      "21       ...                 0.348413           0.347712         0.349173   \n",
      "22       ...                 0.226547           0.225145         0.226606   \n",
      "23       ...                 0.330528           0.333509         0.336314   \n",
      "24       ...                 0.191303           0.198141         0.195686   \n",
      "25       ...                 0.270559           0.268981         0.272488   \n",
      "26       ...                 0.237244           0.230756         0.235315   \n",
      "27       ...                 0.240224           0.234964         0.238763   \n",
      "28       ...                 0.252323           0.258986         0.255012   \n",
      "29       ...                 0.414343           0.406628         0.330002   \n",
      "30       ...                 0.092583           0.100473         0.096616   \n",
      "31       ...                 0.349290           0.362090         0.355076   \n",
      "32       ...                 0.231632           0.230580         0.232451   \n",
      "33       ...                 0.223391           0.225671         0.225729   \n",
      "34       ...                 0.319481           0.323865         0.320592   \n",
      "35       ...                 0.268981           0.264422         0.269741   \n",
      "36       ...                 0.211117           0.209714         0.209071   \n",
      "37       ...                 0.233912           0.225320         0.231165   \n",
      "38       ...                 0.108013           0.116781         0.111170   \n",
      "39       ...                 0.270209           0.277398         0.275294   \n",
      "40       ...                 0.190075           0.189199         0.192998   \n",
      "41       ...                 0.284938           0.291776         0.288854   \n",
      "42       ...                 0.347361           0.353323         0.348472   \n",
      "43       ...                 0.248466           0.243556         0.246712   \n",
      "44       ...                 0.270384           0.271436         0.273073   \n",
      "45       ...                 0.273365           0.270033         0.273774   \n",
      "46       ...                 0.582150           0.584429         0.584371   \n",
      "47       ...                 0.209714           0.214273         0.213163   \n",
      "48       ...                 0.170787           0.185867         0.179613   \n",
      "49       ...                 0.269332           0.275820         0.266293   \n",
      "\n",
      "    std_test_score  rank_test_score  split0_train_score  split1_train_score  \\\n",
      "0         0.001779               25            0.993863            0.995178   \n",
      "1         0.002465                1            0.995879            0.996668   \n",
      "2         0.004733               43            0.276784            0.287042   \n",
      "3         0.004944                5            0.997019            0.997194   \n",
      "4         0.001647               23            0.993775            0.994389   \n",
      "5         0.002598               13            0.995616            0.995792   \n",
      "6         0.005090               30            0.992635            0.994740   \n",
      "7         0.001353               17            0.994740            0.995704   \n",
      "8         0.003714               34            0.994652            0.995441   \n",
      "9         0.001081               21            0.990356            0.992372   \n",
      "10        0.008620               32            0.995792            0.996756   \n",
      "11        0.002706               27            0.994301            0.995178   \n",
      "12        0.004111               15            0.392250            0.384622   \n",
      "13        0.002480               28            0.314133            0.307733   \n",
      "14        0.001937                7            0.991408            0.993425   \n",
      "15        0.010557               38            0.995616            0.996055   \n",
      "16        0.001434                3            0.611696            0.604068   \n",
      "17        0.004340               33            0.294406            0.291163   \n",
      "18        0.007899                4            0.997545            0.998247   \n",
      "19        0.002935               14            0.992197            0.993425   \n",
      "20        0.004302               31            0.294494            0.291776   \n",
      "21        0.001596                8            0.995616            0.995792   \n",
      "22        0.001218               41            0.296335            0.287130   \n",
      "23        0.006196               10            0.385148            0.370945   \n",
      "24        0.003107               46            0.995090            0.995967   \n",
      "25        0.003897               22            0.993161            0.994827   \n",
      "26        0.003236               37            0.991846            0.993775   \n",
      "27        0.002710               36            0.992460            0.993775   \n",
      "28        0.002868               29            0.993863            0.994389   \n",
      "29        0.113865               11            0.997457            0.997720   \n",
      "30        0.003224               50            0.995090            0.995792   \n",
      "31        0.005297                6            0.996581            0.996931   \n",
      "32        0.001949               39            0.994038            0.995178   \n",
      "33        0.001933               42            0.260565            0.250132   \n",
      "34        0.002354               12            0.466421            0.466070   \n",
      "35        0.004684               24            0.994038            0.995178   \n",
      "36        0.001986               45            0.993775            0.994214   \n",
      "37        0.004135               40            0.298176            0.291250   \n",
      "38        0.003978               49            0.995090            0.995792   \n",
      "39        0.003613               18            0.995529            0.996581   \n",
      "40        0.004766               47            0.994038            0.995090   \n",
      "41        0.002879               16            0.350868            0.335525   \n",
      "42        0.003594                9            0.515869            0.510871   \n",
      "43        0.002236               35            0.994126            0.995090   \n",
      "44        0.003088               20            0.349816            0.341925   \n",
      "45        0.003234               19            0.992723            0.994652   \n",
      "46        0.001790                2            0.995879            0.996756   \n",
      "47        0.002489               44            0.246537            0.241364   \n",
      "48        0.006419               48            0.252411            0.232509   \n",
      "49        0.009272               26            0.995792            0.996405   \n",
      "\n",
      "    split2_train_score  mean_train_score  std_train_score  \n",
      "0             0.995003          0.994681         0.000583  \n",
      "1             0.996844          0.996464         0.000419  \n",
      "2             0.283009          0.282278         0.004219  \n",
      "3             0.997019          0.997078         0.000083  \n",
      "4             0.994477          0.994214         0.000312  \n",
      "5             0.995879          0.995762         0.000109  \n",
      "6             0.994214          0.993863         0.000894  \n",
      "7             0.995178          0.995207         0.000394  \n",
      "8             0.995178          0.995090         0.000328  \n",
      "9             0.991759          0.991496         0.000844  \n",
      "10            0.996668          0.996405         0.000435  \n",
      "11            0.995090          0.994857         0.000394  \n",
      "12            0.394442          0.390438         0.004209  \n",
      "13            0.318604          0.313490         0.004461  \n",
      "14            0.992986          0.992606         0.000866  \n",
      "15            0.996493          0.996055         0.000358  \n",
      "16            0.609591          0.608452         0.003217  \n",
      "17            0.298352          0.294640         0.002940  \n",
      "18            0.998247          0.998013         0.000331  \n",
      "19            0.993600          0.993074         0.000624  \n",
      "20            0.298352          0.294874         0.002698  \n",
      "21            0.995879          0.995762         0.000109  \n",
      "22            0.290637          0.291367         0.003794  \n",
      "23            0.374101          0.376732         0.006089  \n",
      "24            0.996230          0.995762         0.000487  \n",
      "25            0.994389          0.994126         0.000705  \n",
      "26            0.993249          0.992957         0.000814  \n",
      "27            0.993600          0.993278         0.000583  \n",
      "28            0.994389          0.994214         0.000248  \n",
      "29            0.997896          0.997691         0.000180  \n",
      "30            0.996230          0.995704         0.000469  \n",
      "31            0.996756          0.996756         0.000143  \n",
      "32            0.995266          0.994827         0.000559  \n",
      "33            0.259425          0.256707         0.004673  \n",
      "34            0.467298          0.466597         0.000516  \n",
      "35            0.995178          0.994798         0.000537  \n",
      "36            0.994301          0.994097         0.000230  \n",
      "37            0.296072          0.295166         0.002899  \n",
      "38            0.996230          0.995704         0.000469  \n",
      "39            0.996756          0.996289         0.000542  \n",
      "40            0.995266          0.994798         0.000542  \n",
      "41            0.352534          0.346309         0.007656  \n",
      "42            0.512187          0.512976         0.002115  \n",
      "43            0.995090          0.994769         0.000455  \n",
      "44            0.348676          0.346806         0.003482  \n",
      "45            0.994214          0.993863         0.000826  \n",
      "46            0.996756          0.996464         0.000413  \n",
      "47            0.247151          0.245017         0.002595  \n",
      "48            0.239435          0.241452         0.008249  \n",
      "49            0.996756          0.996318         0.000399  \n",
      "\n",
      "[50 rows x 22 columns]\n"
     ]
    }
   ],
   "source": [
    "results = rs_clf.cv_results_\n",
    "df = pd.DataFrame(data=results)\n",
    "print(df)\n",
    "df.to_csv(output+'/kNN_all_labels_rs_results_%s.csv' % timestamp, encoding='utf-8')"
   ]
  },
  {
   "cell_type": "code",
   "execution_count": null,
   "metadata": {
    "collapsed": true
   },
   "outputs": [],
   "source": []
  }
 ],
 "metadata": {
  "kernelspec": {
   "display_name": "Python 3",
   "language": "python",
   "name": "python3"
  },
  "language_info": {
   "codemirror_mode": {
    "name": "ipython",
    "version": 3
   },
   "file_extension": ".py",
   "mimetype": "text/x-python",
   "name": "python",
   "nbconvert_exporter": "python",
   "pygments_lexer": "ipython3",
   "version": "3.6.5"
  }
 },
 "nbformat": 4,
 "nbformat_minor": 2
}
