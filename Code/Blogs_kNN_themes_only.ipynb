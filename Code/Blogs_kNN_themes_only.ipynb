{
 "cells": [
  {
   "cell_type": "markdown",
   "metadata": {},
   "source": [
    "# Textklassifikation mit Bag-of-Words-Vektorisierung in tf-idf-Repräsentation und kNN-Algorithmus \n",
    "Labels sind auf die Themen reduziert\n",
    "\n",
    "Autorin: Maria Hartmann"
   ]
  },
  {
   "cell_type": "code",
   "execution_count": 1,
   "metadata": {},
   "outputs": [],
   "source": [
    "# Imports\n",
    "import os\n",
    "import time\n",
    "import numpy as np\n",
    "import pandas as pd\n",
    "from sklearn.preprocessing import MultiLabelBinarizer # module to one-hot-encode the labels\n",
    "from sklearn.pipeline import Pipeline # assemples transormers \n",
    "from sklearn.feature_extraction.text import CountVectorizer\n",
    "from sklearn.feature_extraction.text import TfidfTransformer # module to transform a count matrix to a normalized tf-idf representation\n",
    "from sklearn.neighbors import KNeighborsClassifier # k-nearest neighbors classifier (supports multi-label classification)\n",
    "from sklearn.model_selection import RandomizedSearchCV # module for paramter optimization\n",
    "\n",
    "np.random.seed(7) # fix random seed for reproducibility"
   ]
  },
  {
   "cell_type": "markdown",
   "metadata": {},
   "source": [
    "Einlesen des Trainings- und Testdatensatzes"
   ]
  },
  {
   "cell_type": "code",
   "execution_count": 2,
   "metadata": {},
   "outputs": [],
   "source": [
    "trainset = '../Datasets/themes_only_trainset.csv' \n",
    "testset = '../Datasets/themes_only_testset.csv' \n",
    "\n",
    "trainset_csv = pd.read_csv(trainset, delimiter=';')\n",
    "X_train = trainset_csv['text'].values\n",
    "y_train = trainset_csv['classes'].values\n",
    "z_train = trainset_csv['filename'].values\n",
    "\n",
    "testset_csv = pd.read_csv(testset, delimiter=';')\n",
    "X_test = testset_csv['text'].values\n",
    "y_test = testset_csv['classes'].values\n",
    "z_test = testset_csv['filename'].values\n",
    "\n",
    "# Splitten der Labels pro Blogbeitrag\n",
    "y_train = [e.split(', ') for e in y_train]\n",
    "y_test = [e.split(', ') for e in y_test]"
   ]
  },
  {
   "cell_type": "code",
   "execution_count": 3,
   "metadata": {},
   "outputs": [
    {
     "name": "stdout",
     "output_type": "stream",
     "text": [
      "ordensgeschichte_6160.txt\n",
      "['histoire_t', 'époque moderne_t', 'moyen âge_t']\n",
      "das colloquium historicum wirsbergense e v chw lädt für freitag und samstag oktober zu einem wissenschaftlichen symposium in den kastenhof weismain lkr lichtenfels ein im mittelpunkt der tagung steht mauritius knauer der vor jahren in der bambergischen stadt weismain geboren wurde er trat in die zisterzienserabtei langheim ein nachdem er während des dreißigjährigen kriegs mehrere jahre in heiligenkreuz und wien verbracht hatte wurde er prior von langheim trat er als abt an die spitze des klosters er starb knauer war universalgelehrter er kämpfte für die rechte seines klosters besaß medizinische kenntnisse schrieb theologische werke und belebte kraftvoll die wirtschaft langheims bis heute ist er als verfasser des hundertjährigen kalenders weithin berühmt bei der tagung sollen leben und wirken knauers in größere zusammenhänge eingeordnet werden programm freitag oktober uhr prof dr günter dippold lichtenfels einführung in das tagungsthema anschließend dr stefan knoch bamberg handschriften von mauritius knauer in der staatsbibliothek bamberg uhr dr leonhard scherg marktheidenfeld die fränkischen zisterzienser zur zeit von mauritius knauer empfang samstag oktober uhr prof dr günter dippold lichtenfels die wirtschaft des klosters langheim zur zeit von mauritius knauer uhr andrea göldner m a weismain die stadt weismain zur zeit von mauritius knauer anschließend kurzer stadtrundgang mittagessen uhr prof dr dieter j weiß münchen die bamberger fürstbischöfe zur zeit von mauritius knauer uhr dr norbert jung bamberg die katholische theologie zur zeit von mauritius knauer die teilnahme an der ganzen tagung oder einzelnen vorträgen ist kostenlos es wird jedoch aus organisatorischen gründen um eine formlose anmeldung per e mail gebeten info chw franken de das programm als pdf http chw franken de files programm datei symposium pdf günter dippold colloquium historicum wirsbergense heimat und geschichtsfreunde in franken e v vorsitzender prof dr günter dippold lichtenfels bayreuth vorsitzender gerhard schmidt lichtenfels www chw franken de info chw franken de mauritius knauer http beacon findbuch de seealso pnd aks format sources id\n"
     ]
    }
   ],
   "source": [
    "print(z_train[0])\n",
    "print(y_train[0])\n",
    "print(X_train[0])"
   ]
  },
  {
   "cell_type": "markdown",
   "metadata": {},
   "source": [
    "k-hot-Kodierung der Labels"
   ]
  },
  {
   "cell_type": "code",
   "execution_count": 4,
   "metadata": {},
   "outputs": [
    {
     "name": "stdout",
     "output_type": "stream",
     "text": [
      "[0 0 0 0 0 0 1 0 0 1 0 0 0 0 0 0 0 0 1 0 0]\n"
     ]
    }
   ],
   "source": [
    "# k-hot-encode labels mit MultiLabelBinarizer\n",
    "label_encoder = MultiLabelBinarizer()\n",
    "encoded_y_train = label_encoder.fit_transform(y_train)\n",
    "encoded_y_test = label_encoder.transform(y_test)\n",
    "print(encoded_y_train[0])"
   ]
  },
  {
   "cell_type": "code",
   "execution_count": 5,
   "metadata": {},
   "outputs": [
    {
     "name": "stdout",
     "output_type": "stream",
     "text": [
      "21\n",
      "0 anthropologie_t\n",
      "1 asie_t\n",
      "2 droit_t\n",
      "3 ethnologie_t\n",
      "4 europe_t\n",
      "5 géographie_t\n",
      "6 histoire_t\n",
      "7 information_t\n",
      "8 langage_t\n",
      "9 moyen âge_t\n",
      "10 pensée_t\n",
      "11 psychisme_t\n",
      "12 religions_t\n",
      "13 représentations_t\n",
      "14 sociologie_t\n",
      "15 éducation_t\n",
      "16 épistémologie et méthodes_t\n",
      "17 époque contemporaine_t\n",
      "18 époque moderne_t\n",
      "19 études des sciences_t\n",
      "20 études du politique_t\n"
     ]
    }
   ],
   "source": [
    "print(len(label_encoder.classes_))\n",
    "for i, element in enumerate(label_encoder.classes_):\n",
    "    print(i, element)"
   ]
  },
  {
   "cell_type": "markdown",
   "metadata": {},
   "source": [
    "Vektorisierung und Klassifikation der Daten mit scikit-learn"
   ]
  },
  {
   "cell_type": "code",
   "execution_count": 19,
   "metadata": {},
   "outputs": [],
   "source": [
    "# best params from randomized search\n",
    "text_clf = Pipeline([('vect', CountVectorizer(ngram_range=(1,4), max_df=0.9, min_df=0.0)),\n",
    "                     ('tfidf', TfidfTransformer(use_idf=True)),\n",
    "                     ('clf', KNeighborsClassifier(n_neighbors=6, weights='distance')),\n",
    "                   ])"
   ]
  },
  {
   "cell_type": "code",
   "execution_count": 20,
   "metadata": {},
   "outputs": [],
   "source": [
    "# train\n",
    "start = time.time()\n",
    "text_clf = text_clf.fit(X_train, encoded_y_train)\n",
    "processing_time = (time.time() - start) / 60"
   ]
  },
  {
   "cell_type": "code",
   "execution_count": 21,
   "metadata": {},
   "outputs": [],
   "source": [
    "# predict\n",
    "predicted = text_clf.predict(X_test)\n",
    "#predicted_proba = text_clf.predict_proba(X_test)"
   ]
  },
  {
   "cell_type": "code",
   "execution_count": 22,
   "metadata": {},
   "outputs": [
    {
     "name": "stdout",
     "output_type": "stream",
     "text": [
      "{'memory': None, 'steps': [('vect', CountVectorizer(analyzer='word', binary=False, decode_error='strict',\n",
      "        dtype=<class 'numpy.int64'>, encoding='utf-8', input='content',\n",
      "        lowercase=True, max_df=0.9, max_features=None, min_df=0.0,\n",
      "        ngram_range=(1, 4), preprocessor=None, stop_words=None,\n",
      "        strip_accents=None, token_pattern='(?u)\\\\b\\\\w\\\\w+\\\\b',\n",
      "        tokenizer=None, vocabulary=None)), ('tfidf', TfidfTransformer(norm='l2', smooth_idf=True, sublinear_tf=False, use_idf=True)), ('clf', KNeighborsClassifier(algorithm='auto', leaf_size=30, metric='minkowski',\n",
      "           metric_params=None, n_jobs=1, n_neighbors=6, p=2,\n",
      "           weights='distance'))], 'vect': CountVectorizer(analyzer='word', binary=False, decode_error='strict',\n",
      "        dtype=<class 'numpy.int64'>, encoding='utf-8', input='content',\n",
      "        lowercase=True, max_df=0.9, max_features=None, min_df=0.0,\n",
      "        ngram_range=(1, 4), preprocessor=None, stop_words=None,\n",
      "        strip_accents=None, token_pattern='(?u)\\\\b\\\\w\\\\w+\\\\b',\n",
      "        tokenizer=None, vocabulary=None), 'tfidf': TfidfTransformer(norm='l2', smooth_idf=True, sublinear_tf=False, use_idf=True), 'clf': KNeighborsClassifier(algorithm='auto', leaf_size=30, metric='minkowski',\n",
      "           metric_params=None, n_jobs=1, n_neighbors=6, p=2,\n",
      "           weights='distance'), 'vect__analyzer': 'word', 'vect__binary': False, 'vect__decode_error': 'strict', 'vect__dtype': <class 'numpy.int64'>, 'vect__encoding': 'utf-8', 'vect__input': 'content', 'vect__lowercase': True, 'vect__max_df': 0.9, 'vect__max_features': None, 'vect__min_df': 0.0, 'vect__ngram_range': (1, 4), 'vect__preprocessor': None, 'vect__stop_words': None, 'vect__strip_accents': None, 'vect__token_pattern': '(?u)\\\\b\\\\w\\\\w+\\\\b', 'vect__tokenizer': None, 'vect__vocabulary': None, 'tfidf__norm': 'l2', 'tfidf__smooth_idf': True, 'tfidf__sublinear_tf': False, 'tfidf__use_idf': True, 'clf__algorithm': 'auto', 'clf__leaf_size': 30, 'clf__metric': 'minkowski', 'clf__metric_params': None, 'clf__n_jobs': 1, 'clf__n_neighbors': 6, 'clf__p': 2, 'clf__weights': 'distance'}\n"
     ]
    }
   ],
   "source": [
    "clf_params = text_clf.get_params()\n",
    "print(clf_params)"
   ]
  },
  {
   "cell_type": "code",
   "execution_count": 23,
   "metadata": {},
   "outputs": [
    {
     "name": "stdout",
     "output_type": "stream",
     "text": [
      "0.8472300140252454\n"
     ]
    }
   ],
   "source": [
    "# precision is a measure of result relevancy\n",
    "from sklearn.metrics import precision_score\n",
    "precision = precision_score(encoded_y_test, predicted, average='samples')\n",
    "print(precision)"
   ]
  },
  {
   "cell_type": "code",
   "execution_count": 24,
   "metadata": {},
   "outputs": [
    {
     "name": "stdout",
     "output_type": "stream",
     "text": [
      "0.7957612591553685\n"
     ]
    }
   ],
   "source": [
    "# recall is a measure of how many truly relevant results are returned\n",
    "from sklearn.metrics import recall_score\n",
    "recall = recall_score(encoded_y_test, predicted, average='samples')  \n",
    "print(recall)"
   ]
  },
  {
   "cell_type": "code",
   "execution_count": 25,
   "metadata": {
    "scrolled": true
   },
   "outputs": [
    {
     "name": "stdout",
     "output_type": "stream",
     "text": [
      "0.8063441973329772\n"
     ]
    }
   ],
   "source": [
    "# F1 score is a weighted average of the precision and recall\n",
    "from sklearn.metrics import f1_score\n",
    "f1 = f1_score(encoded_y_test, predicted, average='samples') \n",
    "print(f1)"
   ]
  },
  {
   "cell_type": "markdown",
   "metadata": {},
   "source": [
    "Parameteroptimierung mit Rastersuche (RandomizedSearch)"
   ]
  },
  {
   "cell_type": "code",
   "execution_count": 6,
   "metadata": {},
   "outputs": [],
   "source": [
    "clf = Pipeline([('vect', CountVectorizer()),\n",
    "                     ('tfidf', TfidfTransformer()),\n",
    "                     ('clf', KNeighborsClassifier()),\n",
    "                    ])"
   ]
  },
  {
   "cell_type": "code",
   "execution_count": 7,
   "metadata": {},
   "outputs": [],
   "source": [
    "# parameter tuning with RandomSearch\n",
    "parameters = {'vect__ngram_range': [(1,1),(1,2),(1,3),(1,4)], \n",
    "              'vect__max_df' : (0.7, 0.8, 0.9, 1.0), \n",
    "              'vect__min_df' : (0.0, 0.01, 0.05, 0.1),\n",
    "              'tfidf__use_idf': (True, False),\n",
    "              'clf__n_neighbors': list(range(1,10,1)),\n",
    "              'clf__weights' : ('distance', 'uniform')\n",
    "             }"
   ]
  },
  {
   "cell_type": "code",
   "execution_count": 8,
   "metadata": {},
   "outputs": [
    {
     "name": "stdout",
     "output_type": "stream",
     "text": [
      "Fitting 3 folds for each of 50 candidates, totalling 150 fits\n",
      "[CV] vect__ngram_range=(1, 1), vect__min_df=0.05, vect__max_df=0.9, tfidf__use_idf=False, clf__weights=distance, clf__n_neighbors=5 \n",
      "[CV]  vect__ngram_range=(1, 1), vect__min_df=0.05, vect__max_df=0.9, tfidf__use_idf=False, clf__weights=distance, clf__n_neighbors=5, score=0.3208837453971594, total=  15.7s\n",
      "[CV] vect__ngram_range=(1, 1), vect__min_df=0.05, vect__max_df=0.9, tfidf__use_idf=False, clf__weights=distance, clf__n_neighbors=5 \n"
     ]
    },
    {
     "name": "stderr",
     "output_type": "stream",
     "text": [
      "[Parallel(n_jobs=1)]: Done   1 out of   1 | elapsed:   35.3s remaining:    0.0s\n"
     ]
    },
    {
     "name": "stdout",
     "output_type": "stream",
     "text": [
      "[CV]  vect__ngram_range=(1, 1), vect__min_df=0.05, vect__max_df=0.9, tfidf__use_idf=False, clf__weights=distance, clf__n_neighbors=5, score=0.3259687883570051, total=  14.9s\n",
      "[CV] vect__ngram_range=(1, 1), vect__min_df=0.05, vect__max_df=0.9, tfidf__use_idf=False, clf__weights=distance, clf__n_neighbors=5 \n"
     ]
    },
    {
     "name": "stderr",
     "output_type": "stream",
     "text": [
      "[Parallel(n_jobs=1)]: Done   2 out of   2 | elapsed:  1.1min remaining:    0.0s\n"
     ]
    },
    {
     "name": "stdout",
     "output_type": "stream",
     "text": [
      "[CV]  vect__ngram_range=(1, 1), vect__min_df=0.05, vect__max_df=0.9, tfidf__use_idf=False, clf__weights=distance, clf__n_neighbors=5, score=0.31772751183587583, total=  14.9s\n",
      "[CV] vect__ngram_range=(1, 4), vect__min_df=0.0, vect__max_df=0.9, tfidf__use_idf=True, clf__weights=distance, clf__n_neighbors=6 \n"
     ]
    },
    {
     "name": "stderr",
     "output_type": "stream",
     "text": [
      "[Parallel(n_jobs=1)]: Done   3 out of   3 | elapsed:  1.7min remaining:    0.0s\n"
     ]
    },
    {
     "name": "stdout",
     "output_type": "stream",
     "text": [
      "[CV]  vect__ngram_range=(1, 4), vect__min_df=0.0, vect__max_df=0.9, tfidf__use_idf=True, clf__weights=distance, clf__n_neighbors=6, score=0.6344029458179905, total= 2.1min\n",
      "[CV] vect__ngram_range=(1, 4), vect__min_df=0.0, vect__max_df=0.9, tfidf__use_idf=True, clf__weights=distance, clf__n_neighbors=6 \n"
     ]
    },
    {
     "name": "stderr",
     "output_type": "stream",
     "text": [
      "[Parallel(n_jobs=1)]: Done   4 out of   4 | elapsed:  4.9min remaining:    0.0s\n"
     ]
    },
    {
     "name": "stdout",
     "output_type": "stream",
     "text": [
      "[CV]  vect__ngram_range=(1, 4), vect__min_df=0.0, vect__max_df=0.9, tfidf__use_idf=True, clf__weights=distance, clf__n_neighbors=6, score=0.6442223391197616, total= 2.1min\n",
      "[CV] vect__ngram_range=(1, 4), vect__min_df=0.0, vect__max_df=0.9, tfidf__use_idf=True, clf__weights=distance, clf__n_neighbors=6 \n"
     ]
    },
    {
     "name": "stderr",
     "output_type": "stream",
     "text": [
      "[Parallel(n_jobs=1)]: Done   5 out of   5 | elapsed:  8.2min remaining:    0.0s\n"
     ]
    },
    {
     "name": "stdout",
     "output_type": "stream",
     "text": [
      "[CV]  vect__ngram_range=(1, 4), vect__min_df=0.0, vect__max_df=0.9, tfidf__use_idf=True, clf__weights=distance, clf__n_neighbors=6, score=0.6308960196387866, total= 2.1min\n",
      "[CV] vect__ngram_range=(1, 2), vect__min_df=0.01, vect__max_df=0.8, tfidf__use_idf=False, clf__weights=uniform, clf__n_neighbors=5 \n"
     ]
    },
    {
     "name": "stderr",
     "output_type": "stream",
     "text": [
      "[Parallel(n_jobs=1)]: Done   6 out of   6 | elapsed: 11.5min remaining:    0.0s\n"
     ]
    },
    {
     "name": "stdout",
     "output_type": "stream",
     "text": [
      "[CV]  vect__ngram_range=(1, 2), vect__min_df=0.01, vect__max_df=0.8, tfidf__use_idf=False, clf__weights=uniform, clf__n_neighbors=5, score=0.2716114325793442, total=  36.4s\n"
     ]
    },
    {
     "name": "stderr",
     "output_type": "stream",
     "text": [
      "[Parallel(n_jobs=1)]: Done   7 out of   7 | elapsed: 12.7min remaining:    0.0s\n"
     ]
    },
    {
     "name": "stdout",
     "output_type": "stream",
     "text": [
      "[CV] vect__ngram_range=(1, 2), vect__min_df=0.01, vect__max_df=0.8, tfidf__use_idf=False, clf__weights=uniform, clf__n_neighbors=5 \n",
      "[CV]  vect__ngram_range=(1, 2), vect__min_df=0.01, vect__max_df=0.8, tfidf__use_idf=False, clf__weights=uniform, clf__n_neighbors=5, score=0.25670699631772753, total=  36.0s\n",
      "[CV] vect__ngram_range=(1, 2), vect__min_df=0.01, vect__max_df=0.8, tfidf__use_idf=False, clf__weights=uniform, clf__n_neighbors=5 \n"
     ]
    },
    {
     "name": "stderr",
     "output_type": "stream",
     "text": [
      "[Parallel(n_jobs=1)]: Done   8 out of   8 | elapsed: 13.7min remaining:    0.0s\n"
     ]
    },
    {
     "name": "stdout",
     "output_type": "stream",
     "text": [
      "[CV]  vect__ngram_range=(1, 2), vect__min_df=0.01, vect__max_df=0.8, tfidf__use_idf=False, clf__weights=uniform, clf__n_neighbors=5, score=0.2780992460108715, total=  35.7s\n"
     ]
    },
    {
     "name": "stderr",
     "output_type": "stream",
     "text": [
      "[Parallel(n_jobs=1)]: Done   9 out of   9 | elapsed: 14.7min remaining:    0.0s\n"
     ]
    },
    {
     "name": "stdout",
     "output_type": "stream",
     "text": [
      "[CV] vect__ngram_range=(1, 1), vect__min_df=0.05, vect__max_df=1.0, tfidf__use_idf=True, clf__weights=distance, clf__n_neighbors=1 \n",
      "[CV]  vect__ngram_range=(1, 1), vect__min_df=0.05, vect__max_df=1.0, tfidf__use_idf=True, clf__weights=distance, clf__n_neighbors=1, score=0.3741890233210591, total=  15.0s\n",
      "[CV] vect__ngram_range=(1, 1), vect__min_df=0.05, vect__max_df=1.0, tfidf__use_idf=True, clf__weights=distance, clf__n_neighbors=1 \n",
      "[CV]  vect__ngram_range=(1, 1), vect__min_df=0.05, vect__max_df=1.0, tfidf__use_idf=True, clf__weights=distance, clf__n_neighbors=1, score=0.3841837629317903, total=  14.9s\n",
      "[CV] vect__ngram_range=(1, 1), vect__min_df=0.05, vect__max_df=1.0, tfidf__use_idf=True, clf__weights=distance, clf__n_neighbors=1 \n",
      "[CV]  vect__ngram_range=(1, 1), vect__min_df=0.05, vect__max_df=1.0, tfidf__use_idf=True, clf__weights=distance, clf__n_neighbors=1, score=0.3743643696300193, total=  14.8s\n",
      "[CV] vect__ngram_range=(1, 3), vect__min_df=0.1, vect__max_df=1.0, tfidf__use_idf=True, clf__weights=distance, clf__n_neighbors=5 \n",
      "[CV]  vect__ngram_range=(1, 3), vect__min_df=0.1, vect__max_df=1.0, tfidf__use_idf=True, clf__weights=distance, clf__n_neighbors=5, score=0.3236892863405225, total= 1.1min\n",
      "[CV] vect__ngram_range=(1, 3), vect__min_df=0.1, vect__max_df=1.0, tfidf__use_idf=True, clf__weights=distance, clf__n_neighbors=5 \n",
      "[CV]  vect__ngram_range=(1, 3), vect__min_df=0.1, vect__max_df=1.0, tfidf__use_idf=True, clf__weights=distance, clf__n_neighbors=5, score=0.3191302823075574, total= 1.1min\n",
      "[CV] vect__ngram_range=(1, 3), vect__min_df=0.1, vect__max_df=1.0, tfidf__use_idf=True, clf__weights=distance, clf__n_neighbors=5 \n",
      "[CV]  vect__ngram_range=(1, 3), vect__min_df=0.1, vect__max_df=1.0, tfidf__use_idf=True, clf__weights=distance, clf__n_neighbors=5, score=0.320533052779239, total= 1.1min\n",
      "[CV] vect__ngram_range=(1, 4), vect__min_df=0.1, vect__max_df=0.9, tfidf__use_idf=False, clf__weights=distance, clf__n_neighbors=1 \n",
      "[CV]  vect__ngram_range=(1, 4), vect__min_df=0.1, vect__max_df=0.9, tfidf__use_idf=False, clf__weights=distance, clf__n_neighbors=1, score=0.32684551990180605, total= 1.7min\n",
      "[CV] vect__ngram_range=(1, 4), vect__min_df=0.1, vect__max_df=0.9, tfidf__use_idf=False, clf__weights=distance, clf__n_neighbors=1 \n",
      "[CV]  vect__ngram_range=(1, 4), vect__min_df=0.1, vect__max_df=0.9, tfidf__use_idf=False, clf__weights=distance, clf__n_neighbors=1, score=0.32684551990180605, total= 1.7min\n",
      "[CV] vect__ngram_range=(1, 4), vect__min_df=0.1, vect__max_df=0.9, tfidf__use_idf=False, clf__weights=distance, clf__n_neighbors=1 \n",
      "[CV]  vect__ngram_range=(1, 4), vect__min_df=0.1, vect__max_df=0.9, tfidf__use_idf=False, clf__weights=distance, clf__n_neighbors=1, score=0.3203577064702788, total= 1.7min\n",
      "[CV] vect__ngram_range=(1, 1), vect__min_df=0.05, vect__max_df=0.7, tfidf__use_idf=False, clf__weights=distance, clf__n_neighbors=9 \n",
      "[CV]  vect__ngram_range=(1, 1), vect__min_df=0.05, vect__max_df=0.7, tfidf__use_idf=False, clf__weights=distance, clf__n_neighbors=9, score=0.3131685078029107, total=  14.4s\n",
      "[CV] vect__ngram_range=(1, 1), vect__min_df=0.05, vect__max_df=0.7, tfidf__use_idf=False, clf__weights=distance, clf__n_neighbors=9 \n",
      "[CV]  vect__ngram_range=(1, 1), vect__min_df=0.05, vect__max_df=0.7, tfidf__use_idf=False, clf__weights=distance, clf__n_neighbors=9, score=0.32140978432404, total=  18.3s\n",
      "[CV] vect__ngram_range=(1, 1), vect__min_df=0.05, vect__max_df=0.7, tfidf__use_idf=False, clf__weights=distance, clf__n_neighbors=9 \n",
      "[CV]  vect__ngram_range=(1, 1), vect__min_df=0.05, vect__max_df=0.7, tfidf__use_idf=False, clf__weights=distance, clf__n_neighbors=9, score=0.3200070138523584, total=  15.9s\n",
      "[CV] vect__ngram_range=(1, 2), vect__min_df=0.05, vect__max_df=1.0, tfidf__use_idf=True, clf__weights=distance, clf__n_neighbors=4 \n",
      "[CV]  vect__ngram_range=(1, 2), vect__min_df=0.05, vect__max_df=1.0, tfidf__use_idf=True, clf__weights=distance, clf__n_neighbors=4, score=0.32176047694196036, total=  35.8s\n",
      "[CV] vect__ngram_range=(1, 2), vect__min_df=0.05, vect__max_df=1.0, tfidf__use_idf=True, clf__weights=distance, clf__n_neighbors=4 \n",
      "[CV]  vect__ngram_range=(1, 2), vect__min_df=0.05, vect__max_df=1.0, tfidf__use_idf=True, clf__weights=distance, clf__n_neighbors=4, score=0.3300017534630896, total=  35.9s\n",
      "[CV] vect__ngram_range=(1, 2), vect__min_df=0.05, vect__max_df=1.0, tfidf__use_idf=True, clf__weights=distance, clf__n_neighbors=4 \n",
      "[CV]  vect__ngram_range=(1, 2), vect__min_df=0.05, vect__max_df=1.0, tfidf__use_idf=True, clf__weights=distance, clf__n_neighbors=4, score=0.3198316675433982, total=  35.8s\n",
      "[CV] vect__ngram_range=(1, 3), vect__min_df=0.05, vect__max_df=1.0, tfidf__use_idf=True, clf__weights=distance, clf__n_neighbors=5 \n",
      "[CV]  vect__ngram_range=(1, 3), vect__min_df=0.05, vect__max_df=1.0, tfidf__use_idf=True, clf__weights=distance, clf__n_neighbors=5, score=0.3047518849728213, total= 1.1min\n",
      "[CV] vect__ngram_range=(1, 3), vect__min_df=0.05, vect__max_df=1.0, tfidf__use_idf=True, clf__weights=distance, clf__n_neighbors=5 \n",
      "[CV]  vect__ngram_range=(1, 3), vect__min_df=0.05, vect__max_df=1.0, tfidf__use_idf=True, clf__weights=distance, clf__n_neighbors=5, score=0.30527792389970193, total= 1.1min\n",
      "[CV] vect__ngram_range=(1, 3), vect__min_df=0.05, vect__max_df=1.0, tfidf__use_idf=True, clf__weights=distance, clf__n_neighbors=5 \n",
      "[CV]  vect__ngram_range=(1, 3), vect__min_df=0.05, vect__max_df=1.0, tfidf__use_idf=True, clf__weights=distance, clf__n_neighbors=5, score=0.2856391372961599, total= 1.1min\n",
      "[CV] vect__ngram_range=(1, 4), vect__min_df=0.1, vect__max_df=0.7, tfidf__use_idf=False, clf__weights=distance, clf__n_neighbors=5 \n",
      "[CV]  vect__ngram_range=(1, 4), vect__min_df=0.1, vect__max_df=0.7, tfidf__use_idf=False, clf__weights=distance, clf__n_neighbors=5, score=0.33035244608101, total= 1.7min\n",
      "[CV] vect__ngram_range=(1, 4), vect__min_df=0.1, vect__max_df=0.7, tfidf__use_idf=False, clf__weights=distance, clf__n_neighbors=5 \n",
      "[CV]  vect__ngram_range=(1, 4), vect__min_df=0.1, vect__max_df=0.7, tfidf__use_idf=False, clf__weights=distance, clf__n_neighbors=5, score=0.3184288970717166, total= 1.7min\n",
      "[CV] vect__ngram_range=(1, 4), vect__min_df=0.1, vect__max_df=0.7, tfidf__use_idf=False, clf__weights=distance, clf__n_neighbors=5 \n",
      "[CV]  vect__ngram_range=(1, 4), vect__min_df=0.1, vect__max_df=0.7, tfidf__use_idf=False, clf__weights=distance, clf__n_neighbors=5, score=0.32684551990180605, total= 1.7min\n",
      "[CV] vect__ngram_range=(1, 4), vect__min_df=0.0, vect__max_df=0.9, tfidf__use_idf=False, clf__weights=distance, clf__n_neighbors=5 \n",
      "[CV]  vect__ngram_range=(1, 4), vect__min_df=0.0, vect__max_df=0.9, tfidf__use_idf=False, clf__weights=distance, clf__n_neighbors=5, score=0.28458705944239876, total= 1.9min\n",
      "[CV] vect__ngram_range=(1, 4), vect__min_df=0.0, vect__max_df=0.9, tfidf__use_idf=False, clf__weights=distance, clf__n_neighbors=5 \n",
      "[CV]  vect__ngram_range=(1, 4), vect__min_df=0.0, vect__max_df=0.9, tfidf__use_idf=False, clf__weights=distance, clf__n_neighbors=5, score=0.30159565141153777, total= 1.9min\n",
      "[CV] vect__ngram_range=(1, 4), vect__min_df=0.0, vect__max_df=0.9, tfidf__use_idf=False, clf__weights=distance, clf__n_neighbors=5 \n",
      "[CV]  vect__ngram_range=(1, 4), vect__min_df=0.0, vect__max_df=0.9, tfidf__use_idf=False, clf__weights=distance, clf__n_neighbors=5, score=0.2617920392775732, total= 1.9min\n",
      "[CV] vect__ngram_range=(1, 4), vect__min_df=0.05, vect__max_df=0.9, tfidf__use_idf=False, clf__weights=distance, clf__n_neighbors=5 \n",
      "[CV]  vect__ngram_range=(1, 4), vect__min_df=0.05, vect__max_df=0.9, tfidf__use_idf=False, clf__weights=distance, clf__n_neighbors=5, score=0.3138698930387515, total= 1.8min\n",
      "[CV] vect__ngram_range=(1, 4), vect__min_df=0.05, vect__max_df=0.9, tfidf__use_idf=False, clf__weights=distance, clf__n_neighbors=5 \n",
      "[CV]  vect__ngram_range=(1, 4), vect__min_df=0.05, vect__max_df=0.9, tfidf__use_idf=False, clf__weights=distance, clf__n_neighbors=5, score=0.31807820445379625, total= 1.8min\n",
      "[CV] vect__ngram_range=(1, 4), vect__min_df=0.05, vect__max_df=0.9, tfidf__use_idf=False, clf__weights=distance, clf__n_neighbors=5 \n",
      "[CV]  vect__ngram_range=(1, 4), vect__min_df=0.05, vect__max_df=0.9, tfidf__use_idf=False, clf__weights=distance, clf__n_neighbors=5, score=0.3096615816237068, total= 1.8min\n",
      "[CV] vect__ngram_range=(1, 2), vect__min_df=0.0, vect__max_df=0.8, tfidf__use_idf=False, clf__weights=uniform, clf__n_neighbors=5 \n"
     ]
    },
    {
     "name": "stdout",
     "output_type": "stream",
     "text": [
      "[CV]  vect__ngram_range=(1, 2), vect__min_df=0.0, vect__max_df=0.8, tfidf__use_idf=False, clf__weights=uniform, clf__n_neighbors=5, score=0.36647378572681044, total=  44.9s\n",
      "[CV] vect__ngram_range=(1, 2), vect__min_df=0.0, vect__max_df=0.8, tfidf__use_idf=False, clf__weights=uniform, clf__n_neighbors=5 \n",
      "[CV]  vect__ngram_range=(1, 2), vect__min_df=0.0, vect__max_df=0.8, tfidf__use_idf=False, clf__weights=uniform, clf__n_neighbors=5, score=0.3652463615640891, total=  42.0s\n",
      "[CV] vect__ngram_range=(1, 2), vect__min_df=0.0, vect__max_df=0.8, tfidf__use_idf=False, clf__weights=uniform, clf__n_neighbors=5 \n",
      "[CV]  vect__ngram_range=(1, 2), vect__min_df=0.0, vect__max_df=0.8, tfidf__use_idf=False, clf__weights=uniform, clf__n_neighbors=5, score=0.33684025951253727, total=  42.0s\n",
      "[CV] vect__ngram_range=(1, 1), vect__min_df=0.1, vect__max_df=0.9, tfidf__use_idf=True, clf__weights=uniform, clf__n_neighbors=7 \n",
      "[CV]  vect__ngram_range=(1, 1), vect__min_df=0.1, vect__max_df=0.9, tfidf__use_idf=True, clf__weights=uniform, clf__n_neighbors=7, score=0.32859898299140805, total=  14.6s\n",
      "[CV] vect__ngram_range=(1, 1), vect__min_df=0.1, vect__max_df=0.9, tfidf__use_idf=True, clf__weights=uniform, clf__n_neighbors=7 \n",
      "[CV]  vect__ngram_range=(1, 1), vect__min_df=0.1, vect__max_df=0.9, tfidf__use_idf=True, clf__weights=uniform, clf__n_neighbors=7, score=0.31650008767315446, total=  14.8s\n",
      "[CV] vect__ngram_range=(1, 1), vect__min_df=0.1, vect__max_df=0.9, tfidf__use_idf=True, clf__weights=uniform, clf__n_neighbors=7 \n",
      "[CV]  vect__ngram_range=(1, 1), vect__min_df=0.1, vect__max_df=0.9, tfidf__use_idf=True, clf__weights=uniform, clf__n_neighbors=7, score=0.3257934420480449, total=  14.7s\n",
      "[CV] vect__ngram_range=(1, 2), vect__min_df=0.1, vect__max_df=0.8, tfidf__use_idf=True, clf__weights=distance, clf__n_neighbors=2 \n",
      "[CV]  vect__ngram_range=(1, 2), vect__min_df=0.1, vect__max_df=0.8, tfidf__use_idf=True, clf__weights=distance, clf__n_neighbors=2, score=0.36296685954760655, total=  34.4s\n",
      "[CV] vect__ngram_range=(1, 2), vect__min_df=0.1, vect__max_df=0.8, tfidf__use_idf=True, clf__weights=distance, clf__n_neighbors=2 \n",
      "[CV]  vect__ngram_range=(1, 2), vect__min_df=0.1, vect__max_df=0.8, tfidf__use_idf=True, clf__weights=distance, clf__n_neighbors=2, score=0.366999824653691, total=  34.4s\n",
      "[CV] vect__ngram_range=(1, 2), vect__min_df=0.1, vect__max_df=0.8, tfidf__use_idf=True, clf__weights=distance, clf__n_neighbors=2 \n",
      "[CV]  vect__ngram_range=(1, 2), vect__min_df=0.1, vect__max_df=0.8, tfidf__use_idf=True, clf__weights=distance, clf__n_neighbors=2, score=0.37120813606873576, total=  34.6s\n",
      "[CV] vect__ngram_range=(1, 4), vect__min_df=0.01, vect__max_df=0.7, tfidf__use_idf=False, clf__weights=distance, clf__n_neighbors=3 \n",
      "[CV]  vect__ngram_range=(1, 4), vect__min_df=0.01, vect__max_df=0.7, tfidf__use_idf=False, clf__weights=distance, clf__n_neighbors=3, score=0.24478344730843415, total= 1.7min\n",
      "[CV] vect__ngram_range=(1, 4), vect__min_df=0.01, vect__max_df=0.7, tfidf__use_idf=False, clf__weights=distance, clf__n_neighbors=3 \n",
      "[CV]  vect__ngram_range=(1, 4), vect__min_df=0.01, vect__max_df=0.7, tfidf__use_idf=False, clf__weights=distance, clf__n_neighbors=3, score=0.2474136419428371, total= 1.8min\n",
      "[CV] vect__ngram_range=(1, 4), vect__min_df=0.01, vect__max_df=0.7, tfidf__use_idf=False, clf__weights=distance, clf__n_neighbors=3 \n",
      "[CV]  vect__ngram_range=(1, 4), vect__min_df=0.01, vect__max_df=0.7, tfidf__use_idf=False, clf__weights=distance, clf__n_neighbors=3, score=0.23513940031562336, total= 1.7min\n",
      "[CV] vect__ngram_range=(1, 1), vect__min_df=0.0, vect__max_df=0.8, tfidf__use_idf=True, clf__weights=uniform, clf__n_neighbors=7 \n",
      "[CV]  vect__ngram_range=(1, 1), vect__min_df=0.0, vect__max_df=0.8, tfidf__use_idf=True, clf__weights=uniform, clf__n_neighbors=7, score=0.6045940732947571, total=  18.1s\n",
      "[CV] vect__ngram_range=(1, 1), vect__min_df=0.0, vect__max_df=0.8, tfidf__use_idf=True, clf__weights=uniform, clf__n_neighbors=7 \n",
      "[CV]  vect__ngram_range=(1, 1), vect__min_df=0.0, vect__max_df=0.8, tfidf__use_idf=True, clf__weights=uniform, clf__n_neighbors=7, score=0.6033666491320357, total=  17.5s\n",
      "[CV] vect__ngram_range=(1, 1), vect__min_df=0.0, vect__max_df=0.8, tfidf__use_idf=True, clf__weights=uniform, clf__n_neighbors=7 \n",
      "[CV]  vect__ngram_range=(1, 1), vect__min_df=0.0, vect__max_df=0.8, tfidf__use_idf=True, clf__weights=uniform, clf__n_neighbors=7, score=0.5940732947571453, total=  17.6s\n",
      "[CV] vect__ngram_range=(1, 4), vect__min_df=0.05, vect__max_df=0.8, tfidf__use_idf=False, clf__weights=uniform, clf__n_neighbors=7 \n",
      "[CV]  vect__ngram_range=(1, 4), vect__min_df=0.05, vect__max_df=0.8, tfidf__use_idf=False, clf__weights=uniform, clf__n_neighbors=7, score=0.30843415746098546, total= 1.7min\n",
      "[CV] vect__ngram_range=(1, 4), vect__min_df=0.05, vect__max_df=0.8, tfidf__use_idf=False, clf__weights=uniform, clf__n_neighbors=7 \n",
      "[CV]  vect__ngram_range=(1, 4), vect__min_df=0.05, vect__max_df=0.8, tfidf__use_idf=False, clf__weights=uniform, clf__n_neighbors=7, score=0.3150973172014729, total= 1.8min\n",
      "[CV] vect__ngram_range=(1, 4), vect__min_df=0.05, vect__max_df=0.8, tfidf__use_idf=False, clf__weights=uniform, clf__n_neighbors=7 \n",
      "[CV]  vect__ngram_range=(1, 4), vect__min_df=0.05, vect__max_df=0.8, tfidf__use_idf=False, clf__weights=uniform, clf__n_neighbors=7, score=0.30387515342802035, total= 1.7min\n",
      "[CV] vect__ngram_range=(1, 4), vect__min_df=0.0, vect__max_df=0.7, tfidf__use_idf=False, clf__weights=uniform, clf__n_neighbors=1 \n",
      "[CV]  vect__ngram_range=(1, 4), vect__min_df=0.0, vect__max_df=0.7, tfidf__use_idf=False, clf__weights=uniform, clf__n_neighbors=1, score=0.4466070489216202, total= 1.9min\n",
      "[CV] vect__ngram_range=(1, 4), vect__min_df=0.0, vect__max_df=0.7, tfidf__use_idf=False, clf__weights=uniform, clf__n_neighbors=1 \n",
      "[CV]  vect__ngram_range=(1, 4), vect__min_df=0.0, vect__max_df=0.7, tfidf__use_idf=False, clf__weights=uniform, clf__n_neighbors=1, score=0.4711555321760477, total= 1.9min\n",
      "[CV] vect__ngram_range=(1, 4), vect__min_df=0.0, vect__max_df=0.7, tfidf__use_idf=False, clf__weights=uniform, clf__n_neighbors=1 \n",
      "[CV]  vect__ngram_range=(1, 4), vect__min_df=0.0, vect__max_df=0.7, tfidf__use_idf=False, clf__weights=uniform, clf__n_neighbors=1, score=0.42398737506575485, total= 1.9min\n",
      "[CV] vect__ngram_range=(1, 4), vect__min_df=0.1, vect__max_df=0.9, tfidf__use_idf=False, clf__weights=distance, clf__n_neighbors=2 \n",
      "[CV]  vect__ngram_range=(1, 4), vect__min_df=0.1, vect__max_df=0.9, tfidf__use_idf=False, clf__weights=distance, clf__n_neighbors=2, score=0.3259687883570051, total= 1.7min\n",
      "[CV] vect__ngram_range=(1, 4), vect__min_df=0.1, vect__max_df=0.9, tfidf__use_idf=False, clf__weights=distance, clf__n_neighbors=2 \n",
      "[CV]  vect__ngram_range=(1, 4), vect__min_df=0.1, vect__max_df=0.9, tfidf__use_idf=False, clf__weights=distance, clf__n_neighbors=2, score=0.3264948272838857, total= 1.7min\n",
      "[CV] vect__ngram_range=(1, 4), vect__min_df=0.1, vect__max_df=0.9, tfidf__use_idf=False, clf__weights=distance, clf__n_neighbors=2 \n",
      "[CV]  vect__ngram_range=(1, 4), vect__min_df=0.1, vect__max_df=0.9, tfidf__use_idf=False, clf__weights=distance, clf__n_neighbors=2, score=0.3203577064702788, total= 1.7min\n",
      "[CV] vect__ngram_range=(1, 2), vect__min_df=0.05, vect__max_df=0.8, tfidf__use_idf=False, clf__weights=uniform, clf__n_neighbors=7 \n",
      "[CV]  vect__ngram_range=(1, 2), vect__min_df=0.05, vect__max_df=0.8, tfidf__use_idf=False, clf__weights=uniform, clf__n_neighbors=7, score=0.31264246887603014, total=  36.3s\n",
      "[CV] vect__ngram_range=(1, 2), vect__min_df=0.05, vect__max_df=0.8, tfidf__use_idf=False, clf__weights=uniform, clf__n_neighbors=7 \n",
      "[CV]  vect__ngram_range=(1, 2), vect__min_df=0.05, vect__max_df=0.8, tfidf__use_idf=False, clf__weights=uniform, clf__n_neighbors=7, score=0.3152726635104331, total=  35.8s\n",
      "[CV] vect__ngram_range=(1, 2), vect__min_df=0.05, vect__max_df=0.8, tfidf__use_idf=False, clf__weights=uniform, clf__n_neighbors=7 \n",
      "[CV]  vect__ngram_range=(1, 2), vect__min_df=0.05, vect__max_df=0.8, tfidf__use_idf=False, clf__weights=uniform, clf__n_neighbors=7, score=0.3047518849728213, total=  35.6s\n",
      "[CV] vect__ngram_range=(1, 4), vect__min_df=0.1, vect__max_df=0.9, tfidf__use_idf=True, clf__weights=distance, clf__n_neighbors=1 \n"
     ]
    },
    {
     "name": "stdout",
     "output_type": "stream",
     "text": [
      "[CV]  vect__ngram_range=(1, 4), vect__min_df=0.1, vect__max_df=0.9, tfidf__use_idf=True, clf__weights=distance, clf__n_neighbors=1, score=0.3750657548658601, total= 1.7min\n",
      "[CV] vect__ngram_range=(1, 4), vect__min_df=0.1, vect__max_df=0.9, tfidf__use_idf=True, clf__weights=distance, clf__n_neighbors=1 \n",
      "[CV]  vect__ngram_range=(1, 4), vect__min_df=0.1, vect__max_df=0.9, tfidf__use_idf=True, clf__weights=distance, clf__n_neighbors=1, score=0.36191478169384533, total= 1.7min\n",
      "[CV] vect__ngram_range=(1, 4), vect__min_df=0.1, vect__max_df=0.9, tfidf__use_idf=True, clf__weights=distance, clf__n_neighbors=1 \n",
      "[CV]  vect__ngram_range=(1, 4), vect__min_df=0.1, vect__max_df=0.9, tfidf__use_idf=True, clf__weights=distance, clf__n_neighbors=1, score=0.3645449763282483, total= 1.7min\n",
      "[CV] vect__ngram_range=(1, 1), vect__min_df=0.05, vect__max_df=0.9, tfidf__use_idf=False, clf__weights=uniform, clf__n_neighbors=4 \n",
      "[CV]  vect__ngram_range=(1, 1), vect__min_df=0.05, vect__max_df=0.9, tfidf__use_idf=False, clf__weights=uniform, clf__n_neighbors=4, score=0.2663510433105383, total=  15.7s\n",
      "[CV] vect__ngram_range=(1, 1), vect__min_df=0.05, vect__max_df=0.9, tfidf__use_idf=False, clf__weights=uniform, clf__n_neighbors=4 \n",
      "[CV]  vect__ngram_range=(1, 1), vect__min_df=0.05, vect__max_df=0.9, tfidf__use_idf=False, clf__weights=uniform, clf__n_neighbors=4, score=0.27897597755567244, total=  15.2s\n",
      "[CV] vect__ngram_range=(1, 1), vect__min_df=0.05, vect__max_df=0.9, tfidf__use_idf=False, clf__weights=uniform, clf__n_neighbors=4 \n",
      "[CV]  vect__ngram_range=(1, 1), vect__min_df=0.05, vect__max_df=0.9, tfidf__use_idf=False, clf__weights=uniform, clf__n_neighbors=4, score=0.2712607399614238, total=  15.2s\n",
      "[CV] vect__ngram_range=(1, 2), vect__min_df=0.0, vect__max_df=0.7, tfidf__use_idf=False, clf__weights=uniform, clf__n_neighbors=9 \n",
      "[CV]  vect__ngram_range=(1, 2), vect__min_df=0.0, vect__max_df=0.7, tfidf__use_idf=False, clf__weights=uniform, clf__n_neighbors=9, score=0.41294055760126247, total=  41.4s\n",
      "[CV] vect__ngram_range=(1, 2), vect__min_df=0.0, vect__max_df=0.7, tfidf__use_idf=False, clf__weights=uniform, clf__n_neighbors=9 \n",
      "[CV]  vect__ngram_range=(1, 2), vect__min_df=0.0, vect__max_df=0.7, tfidf__use_idf=False, clf__weights=uniform, clf__n_neighbors=9, score=0.4082062072593372, total=  41.8s\n",
      "[CV] vect__ngram_range=(1, 2), vect__min_df=0.0, vect__max_df=0.7, tfidf__use_idf=False, clf__weights=uniform, clf__n_neighbors=9 \n",
      "[CV]  vect__ngram_range=(1, 2), vect__min_df=0.0, vect__max_df=0.7, tfidf__use_idf=False, clf__weights=uniform, clf__n_neighbors=9, score=0.3873399964930738, total=  41.9s\n",
      "[CV] vect__ngram_range=(1, 1), vect__min_df=0.01, vect__max_df=0.7, tfidf__use_idf=False, clf__weights=distance, clf__n_neighbors=7 \n",
      "[CV]  vect__ngram_range=(1, 1), vect__min_df=0.01, vect__max_df=0.7, tfidf__use_idf=False, clf__weights=distance, clf__n_neighbors=7, score=0.24934245134139926, total=  15.2s\n",
      "[CV] vect__ngram_range=(1, 1), vect__min_df=0.01, vect__max_df=0.7, tfidf__use_idf=False, clf__weights=distance, clf__n_neighbors=7 \n",
      "[CV]  vect__ngram_range=(1, 1), vect__min_df=0.01, vect__max_df=0.7, tfidf__use_idf=False, clf__weights=distance, clf__n_neighbors=7, score=0.3243906715763633, total=  14.9s\n",
      "[CV] vect__ngram_range=(1, 1), vect__min_df=0.01, vect__max_df=0.7, tfidf__use_idf=False, clf__weights=distance, clf__n_neighbors=7 \n",
      "[CV]  vect__ngram_range=(1, 1), vect__min_df=0.01, vect__max_df=0.7, tfidf__use_idf=False, clf__weights=distance, clf__n_neighbors=7, score=0.2577590741714887, total=  15.0s\n",
      "[CV] vect__ngram_range=(1, 2), vect__min_df=0.05, vect__max_df=0.7, tfidf__use_idf=False, clf__weights=distance, clf__n_neighbors=5 \n",
      "[CV]  vect__ngram_range=(1, 2), vect__min_df=0.05, vect__max_df=0.7, tfidf__use_idf=False, clf__weights=distance, clf__n_neighbors=5, score=0.3228125547957216, total=  34.9s\n",
      "[CV] vect__ngram_range=(1, 2), vect__min_df=0.05, vect__max_df=0.7, tfidf__use_idf=False, clf__weights=distance, clf__n_neighbors=5 \n",
      "[CV]  vect__ngram_range=(1, 2), vect__min_df=0.05, vect__max_df=0.7, tfidf__use_idf=False, clf__weights=distance, clf__n_neighbors=5, score=0.331229177625811, total=  34.8s\n",
      "[CV] vect__ngram_range=(1, 2), vect__min_df=0.05, vect__max_df=0.7, tfidf__use_idf=False, clf__weights=distance, clf__n_neighbors=5 \n",
      "[CV]  vect__ngram_range=(1, 2), vect__min_df=0.05, vect__max_df=0.7, tfidf__use_idf=False, clf__weights=distance, clf__n_neighbors=5, score=0.3254427494301245, total=  34.6s\n",
      "[CV] vect__ngram_range=(1, 1), vect__min_df=0.1, vect__max_df=0.8, tfidf__use_idf=False, clf__weights=distance, clf__n_neighbors=9 \n",
      "[CV]  vect__ngram_range=(1, 1), vect__min_df=0.1, vect__max_df=0.8, tfidf__use_idf=False, clf__weights=distance, clf__n_neighbors=9, score=0.30334911450113977, total=  14.6s\n",
      "[CV] vect__ngram_range=(1, 1), vect__min_df=0.1, vect__max_df=0.8, tfidf__use_idf=False, clf__weights=distance, clf__n_neighbors=9 \n",
      "[CV]  vect__ngram_range=(1, 1), vect__min_df=0.1, vect__max_df=0.8, tfidf__use_idf=False, clf__weights=distance, clf__n_neighbors=9, score=0.29317902858144834, total=  14.6s\n",
      "[CV] vect__ngram_range=(1, 1), vect__min_df=0.1, vect__max_df=0.8, tfidf__use_idf=False, clf__weights=distance, clf__n_neighbors=9 \n",
      "[CV]  vect__ngram_range=(1, 1), vect__min_df=0.1, vect__max_df=0.8, tfidf__use_idf=False, clf__weights=distance, clf__n_neighbors=9, score=0.293705067508329, total=  14.7s\n",
      "[CV] vect__ngram_range=(1, 1), vect__min_df=0.1, vect__max_df=0.9, tfidf__use_idf=False, clf__weights=distance, clf__n_neighbors=8 \n",
      "[CV]  vect__ngram_range=(1, 1), vect__min_df=0.1, vect__max_df=0.9, tfidf__use_idf=False, clf__weights=distance, clf__n_neighbors=8, score=0.2968613010696125, total=  15.0s\n",
      "[CV] vect__ngram_range=(1, 1), vect__min_df=0.1, vect__max_df=0.9, tfidf__use_idf=False, clf__weights=distance, clf__n_neighbors=8 \n",
      "[CV]  vect__ngram_range=(1, 1), vect__min_df=0.1, vect__max_df=0.9, tfidf__use_idf=False, clf__weights=distance, clf__n_neighbors=8, score=0.29703664737857266, total=  14.7s\n",
      "[CV] vect__ngram_range=(1, 1), vect__min_df=0.1, vect__max_df=0.9, tfidf__use_idf=False, clf__weights=distance, clf__n_neighbors=8 \n",
      "[CV]  vect__ngram_range=(1, 1), vect__min_df=0.1, vect__max_df=0.9, tfidf__use_idf=False, clf__weights=distance, clf__n_neighbors=8, score=0.2954585305979309, total=  14.8s\n",
      "[CV] vect__ngram_range=(1, 2), vect__min_df=0.1, vect__max_df=1.0, tfidf__use_idf=False, clf__weights=distance, clf__n_neighbors=4 \n",
      "[CV]  vect__ngram_range=(1, 2), vect__min_df=0.1, vect__max_df=1.0, tfidf__use_idf=False, clf__weights=distance, clf__n_neighbors=4, score=0.29265298965456776, total=  35.9s\n",
      "[CV] vect__ngram_range=(1, 2), vect__min_df=0.1, vect__max_df=1.0, tfidf__use_idf=False, clf__weights=distance, clf__n_neighbors=4 \n",
      "[CV]  vect__ngram_range=(1, 2), vect__min_df=0.1, vect__max_df=1.0, tfidf__use_idf=False, clf__weights=distance, clf__n_neighbors=4, score=0.29317902858144834, total=  35.7s\n",
      "[CV] vect__ngram_range=(1, 2), vect__min_df=0.1, vect__max_df=1.0, tfidf__use_idf=False, clf__weights=distance, clf__n_neighbors=4 \n",
      "[CV]  vect__ngram_range=(1, 2), vect__min_df=0.1, vect__max_df=1.0, tfidf__use_idf=False, clf__weights=distance, clf__n_neighbors=4, score=0.2914255654918464, total=  35.6s\n",
      "[CV] vect__ngram_range=(1, 3), vect__min_df=0.01, vect__max_df=0.7, tfidf__use_idf=True, clf__weights=distance, clf__n_neighbors=1 \n",
      "[CV]  vect__ngram_range=(1, 3), vect__min_df=0.01, vect__max_df=0.7, tfidf__use_idf=True, clf__weights=distance, clf__n_neighbors=1, score=0.41048570927581973, total= 1.1min\n",
      "[CV] vect__ngram_range=(1, 3), vect__min_df=0.01, vect__max_df=0.7, tfidf__use_idf=True, clf__weights=distance, clf__n_neighbors=1 \n",
      "[CV]  vect__ngram_range=(1, 3), vect__min_df=0.01, vect__max_df=0.7, tfidf__use_idf=True, clf__weights=distance, clf__n_neighbors=1, score=0.174118884797475, total= 1.1min\n",
      "[CV] vect__ngram_range=(1, 3), vect__min_df=0.01, vect__max_df=0.7, tfidf__use_idf=True, clf__weights=distance, clf__n_neighbors=1 \n",
      "[CV]  vect__ngram_range=(1, 3), vect__min_df=0.01, vect__max_df=0.7, tfidf__use_idf=True, clf__weights=distance, clf__n_neighbors=1, score=0.17096265123619148, total= 1.1min\n",
      "[CV] vect__ngram_range=(1, 3), vect__min_df=0.01, vect__max_df=0.8, tfidf__use_idf=True, clf__weights=distance, clf__n_neighbors=7 \n"
     ]
    },
    {
     "name": "stdout",
     "output_type": "stream",
     "text": [
      "[CV]  vect__ngram_range=(1, 3), vect__min_df=0.01, vect__max_df=0.8, tfidf__use_idf=True, clf__weights=distance, clf__n_neighbors=7, score=0.2814308258811152, total= 1.2min\n",
      "[CV] vect__ngram_range=(1, 3), vect__min_df=0.01, vect__max_df=0.8, tfidf__use_idf=True, clf__weights=distance, clf__n_neighbors=7 \n",
      "[CV]  vect__ngram_range=(1, 3), vect__min_df=0.01, vect__max_df=0.8, tfidf__use_idf=True, clf__weights=distance, clf__n_neighbors=7, score=0.26968262318078207, total= 1.2min\n",
      "[CV] vect__ngram_range=(1, 3), vect__min_df=0.01, vect__max_df=0.8, tfidf__use_idf=True, clf__weights=distance, clf__n_neighbors=7 \n",
      "[CV]  vect__ngram_range=(1, 3), vect__min_df=0.01, vect__max_df=0.8, tfidf__use_idf=True, clf__weights=distance, clf__n_neighbors=7, score=0.14518674381904262, total= 1.1min\n",
      "[CV] vect__ngram_range=(1, 1), vect__min_df=0.05, vect__max_df=0.9, tfidf__use_idf=True, clf__weights=distance, clf__n_neighbors=1 \n",
      "[CV]  vect__ngram_range=(1, 1), vect__min_df=0.05, vect__max_df=0.9, tfidf__use_idf=True, clf__weights=distance, clf__n_neighbors=1, score=0.43450815360336664, total=  15.1s\n",
      "[CV] vect__ngram_range=(1, 1), vect__min_df=0.05, vect__max_df=0.9, tfidf__use_idf=True, clf__weights=distance, clf__n_neighbors=1 \n",
      "[CV]  vect__ngram_range=(1, 1), vect__min_df=0.05, vect__max_df=0.9, tfidf__use_idf=True, clf__weights=distance, clf__n_neighbors=1, score=0.37015605821497455, total=  14.6s\n",
      "[CV] vect__ngram_range=(1, 1), vect__min_df=0.05, vect__max_df=0.9, tfidf__use_idf=True, clf__weights=distance, clf__n_neighbors=1 \n",
      "[CV]  vect__ngram_range=(1, 1), vect__min_df=0.05, vect__max_df=0.9, tfidf__use_idf=True, clf__weights=distance, clf__n_neighbors=1, score=0.3601613186042434, total=  14.7s\n",
      "[CV] vect__ngram_range=(1, 3), vect__min_df=0.05, vect__max_df=0.9, tfidf__use_idf=True, clf__weights=distance, clf__n_neighbors=6 \n",
      "[CV]  vect__ngram_range=(1, 3), vect__min_df=0.05, vect__max_df=0.9, tfidf__use_idf=True, clf__weights=distance, clf__n_neighbors=6, score=0.293705067508329, total= 1.1min\n",
      "[CV] vect__ngram_range=(1, 3), vect__min_df=0.05, vect__max_df=0.9, tfidf__use_idf=True, clf__weights=distance, clf__n_neighbors=6 \n",
      "[CV]  vect__ngram_range=(1, 3), vect__min_df=0.05, vect__max_df=0.9, tfidf__use_idf=True, clf__weights=distance, clf__n_neighbors=6, score=0.2975626863054533, total= 1.1min\n",
      "[CV] vect__ngram_range=(1, 3), vect__min_df=0.05, vect__max_df=0.9, tfidf__use_idf=True, clf__weights=distance, clf__n_neighbors=6 \n",
      "[CV]  vect__ngram_range=(1, 3), vect__min_df=0.05, vect__max_df=0.9, tfidf__use_idf=True, clf__weights=distance, clf__n_neighbors=6, score=0.2677538137822199, total= 1.1min\n",
      "[CV] vect__ngram_range=(1, 3), vect__min_df=0.1, vect__max_df=0.9, tfidf__use_idf=True, clf__weights=uniform, clf__n_neighbors=8 \n",
      "[CV]  vect__ngram_range=(1, 3), vect__min_df=0.1, vect__max_df=0.9, tfidf__use_idf=True, clf__weights=uniform, clf__n_neighbors=8, score=0.2859898299140803, total= 1.1min\n",
      "[CV] vect__ngram_range=(1, 3), vect__min_df=0.1, vect__max_df=0.9, tfidf__use_idf=True, clf__weights=uniform, clf__n_neighbors=8 \n",
      "[CV]  vect__ngram_range=(1, 3), vect__min_df=0.1, vect__max_df=0.9, tfidf__use_idf=True, clf__weights=uniform, clf__n_neighbors=8, score=0.2751183587585481, total= 1.1min\n",
      "[CV] vect__ngram_range=(1, 3), vect__min_df=0.1, vect__max_df=0.9, tfidf__use_idf=True, clf__weights=uniform, clf__n_neighbors=8 \n",
      "[CV]  vect__ngram_range=(1, 3), vect__min_df=0.1, vect__max_df=0.9, tfidf__use_idf=True, clf__weights=uniform, clf__n_neighbors=8, score=0.2780992460108715, total= 1.1min\n",
      "[CV] vect__ngram_range=(1, 2), vect__min_df=0.0, vect__max_df=0.9, tfidf__use_idf=False, clf__weights=uniform, clf__n_neighbors=3 \n",
      "[CV]  vect__ngram_range=(1, 2), vect__min_df=0.0, vect__max_df=0.9, tfidf__use_idf=False, clf__weights=uniform, clf__n_neighbors=3, score=0.34858846221287043, total=  42.5s\n",
      "[CV] vect__ngram_range=(1, 2), vect__min_df=0.0, vect__max_df=0.9, tfidf__use_idf=False, clf__weights=uniform, clf__n_neighbors=3 \n",
      "[CV]  vect__ngram_range=(1, 2), vect__min_df=0.0, vect__max_df=0.9, tfidf__use_idf=False, clf__weights=uniform, clf__n_neighbors=3, score=0.35770647027880065, total=  42.1s\n",
      "[CV] vect__ngram_range=(1, 2), vect__min_df=0.0, vect__max_df=0.9, tfidf__use_idf=False, clf__weights=uniform, clf__n_neighbors=3 \n",
      "[CV]  vect__ngram_range=(1, 2), vect__min_df=0.0, vect__max_df=0.9, tfidf__use_idf=False, clf__weights=uniform, clf__n_neighbors=3, score=0.32614413466596526, total=  41.8s\n",
      "[CV] vect__ngram_range=(1, 4), vect__min_df=0.05, vect__max_df=0.8, tfidf__use_idf=False, clf__weights=distance, clf__n_neighbors=5 \n",
      "[CV]  vect__ngram_range=(1, 4), vect__min_df=0.05, vect__max_df=0.8, tfidf__use_idf=False, clf__weights=distance, clf__n_neighbors=5, score=0.32333859372260215, total= 1.7min\n",
      "[CV] vect__ngram_range=(1, 4), vect__min_df=0.05, vect__max_df=0.8, tfidf__use_idf=False, clf__weights=distance, clf__n_neighbors=5 \n",
      "[CV]  vect__ngram_range=(1, 4), vect__min_df=0.05, vect__max_df=0.8, tfidf__use_idf=False, clf__weights=distance, clf__n_neighbors=5, score=0.3298264071541294, total= 1.7min\n",
      "[CV] vect__ngram_range=(1, 4), vect__min_df=0.05, vect__max_df=0.8, tfidf__use_idf=False, clf__weights=distance, clf__n_neighbors=5 \n",
      "[CV]  vect__ngram_range=(1, 4), vect__min_df=0.05, vect__max_df=0.8, tfidf__use_idf=False, clf__weights=distance, clf__n_neighbors=5, score=0.3138698930387515, total= 1.7min\n",
      "[CV] vect__ngram_range=(1, 2), vect__min_df=0.1, vect__max_df=1.0, tfidf__use_idf=False, clf__weights=distance, clf__n_neighbors=9 \n",
      "[CV]  vect__ngram_range=(1, 2), vect__min_df=0.1, vect__max_df=1.0, tfidf__use_idf=False, clf__weights=distance, clf__n_neighbors=9, score=0.2665263896194985, total=  36.5s\n",
      "[CV] vect__ngram_range=(1, 2), vect__min_df=0.1, vect__max_df=1.0, tfidf__use_idf=False, clf__weights=distance, clf__n_neighbors=9 \n",
      "[CV]  vect__ngram_range=(1, 2), vect__min_df=0.1, vect__max_df=1.0, tfidf__use_idf=False, clf__weights=distance, clf__n_neighbors=9, score=0.2654743117657373, total=  35.6s\n",
      "[CV] vect__ngram_range=(1, 2), vect__min_df=0.1, vect__max_df=1.0, tfidf__use_idf=False, clf__weights=distance, clf__n_neighbors=9 \n",
      "[CV]  vect__ngram_range=(1, 2), vect__min_df=0.1, vect__max_df=1.0, tfidf__use_idf=False, clf__weights=distance, clf__n_neighbors=9, score=0.25810976678940906, total=  35.5s\n",
      "[CV] vect__ngram_range=(1, 4), vect__min_df=0.05, vect__max_df=0.8, tfidf__use_idf=False, clf__weights=uniform, clf__n_neighbors=4 \n",
      "[CV]  vect__ngram_range=(1, 4), vect__min_df=0.05, vect__max_df=0.8, tfidf__use_idf=False, clf__weights=uniform, clf__n_neighbors=4, score=0.2758197439943889, total= 1.7min\n",
      "[CV] vect__ngram_range=(1, 4), vect__min_df=0.05, vect__max_df=0.8, tfidf__use_idf=False, clf__weights=uniform, clf__n_neighbors=4 \n",
      "[CV]  vect__ngram_range=(1, 4), vect__min_df=0.05, vect__max_df=0.8, tfidf__use_idf=False, clf__weights=uniform, clf__n_neighbors=4, score=0.281255479572155, total= 1.7min\n",
      "[CV] vect__ngram_range=(1, 4), vect__min_df=0.05, vect__max_df=0.8, tfidf__use_idf=False, clf__weights=uniform, clf__n_neighbors=4 \n",
      "[CV]  vect__ngram_range=(1, 4), vect__min_df=0.05, vect__max_df=0.8, tfidf__use_idf=False, clf__weights=uniform, clf__n_neighbors=4, score=0.2682798527091005, total= 1.7min\n",
      "[CV] vect__ngram_range=(1, 3), vect__min_df=0.01, vect__max_df=0.9, tfidf__use_idf=True, clf__weights=distance, clf__n_neighbors=6 \n",
      "[CV]  vect__ngram_range=(1, 3), vect__min_df=0.01, vect__max_df=0.9, tfidf__use_idf=True, clf__weights=distance, clf__n_neighbors=6, score=0.12852884446782395, total= 1.2min\n",
      "[CV] vect__ngram_range=(1, 3), vect__min_df=0.01, vect__max_df=0.9, tfidf__use_idf=True, clf__weights=distance, clf__n_neighbors=6 \n",
      "[CV]  vect__ngram_range=(1, 3), vect__min_df=0.01, vect__max_df=0.9, tfidf__use_idf=True, clf__weights=distance, clf__n_neighbors=6, score=0.12695072768718219, total= 1.2min\n",
      "[CV] vect__ngram_range=(1, 3), vect__min_df=0.01, vect__max_df=0.9, tfidf__use_idf=True, clf__weights=distance, clf__n_neighbors=6 \n",
      "[CV]  vect__ngram_range=(1, 3), vect__min_df=0.01, vect__max_df=0.9, tfidf__use_idf=True, clf__weights=distance, clf__n_neighbors=6, score=0.1301069612484657, total= 1.1min\n",
      "[CV] vect__ngram_range=(1, 1), vect__min_df=0.0, vect__max_df=0.9, tfidf__use_idf=False, clf__weights=distance, clf__n_neighbors=9 \n"
     ]
    },
    {
     "name": "stdout",
     "output_type": "stream",
     "text": [
      "[CV]  vect__ngram_range=(1, 1), vect__min_df=0.0, vect__max_df=0.9, tfidf__use_idf=False, clf__weights=distance, clf__n_neighbors=9, score=0.3405225320007014, total=  17.6s\n",
      "[CV] vect__ngram_range=(1, 1), vect__min_df=0.0, vect__max_df=0.9, tfidf__use_idf=False, clf__weights=distance, clf__n_neighbors=9 \n",
      "[CV]  vect__ngram_range=(1, 1), vect__min_df=0.0, vect__max_df=0.9, tfidf__use_idf=False, clf__weights=distance, clf__n_neighbors=9, score=0.34192530247238295, total=  17.2s\n",
      "[CV] vect__ngram_range=(1, 1), vect__min_df=0.0, vect__max_df=0.9, tfidf__use_idf=False, clf__weights=distance, clf__n_neighbors=9 \n",
      "[CV]  vect__ngram_range=(1, 1), vect__min_df=0.0, vect__max_df=0.9, tfidf__use_idf=False, clf__weights=distance, clf__n_neighbors=9, score=0.33368402595125374, total=  17.3s\n",
      "[CV] vect__ngram_range=(1, 4), vect__min_df=0.05, vect__max_df=0.8, tfidf__use_idf=True, clf__weights=distance, clf__n_neighbors=9 \n",
      "[CV]  vect__ngram_range=(1, 4), vect__min_df=0.05, vect__max_df=0.8, tfidf__use_idf=True, clf__weights=distance, clf__n_neighbors=9, score=0.2719621251972646, total= 1.7min\n",
      "[CV] vect__ngram_range=(1, 4), vect__min_df=0.05, vect__max_df=0.8, tfidf__use_idf=True, clf__weights=distance, clf__n_neighbors=9 \n",
      "[CV]  vect__ngram_range=(1, 4), vect__min_df=0.05, vect__max_df=0.8, tfidf__use_idf=True, clf__weights=distance, clf__n_neighbors=9, score=0.3447308434157461, total= 1.7min\n",
      "[CV] vect__ngram_range=(1, 4), vect__min_df=0.05, vect__max_df=0.8, tfidf__use_idf=True, clf__weights=distance, clf__n_neighbors=9 \n",
      "[CV]  vect__ngram_range=(1, 4), vect__min_df=0.05, vect__max_df=0.8, tfidf__use_idf=True, clf__weights=distance, clf__n_neighbors=9, score=0.23478870769770296, total= 1.7min\n",
      "[CV] vect__ngram_range=(1, 1), vect__min_df=0.0, vect__max_df=0.9, tfidf__use_idf=False, clf__weights=uniform, clf__n_neighbors=7 \n",
      "[CV]  vect__ngram_range=(1, 1), vect__min_df=0.0, vect__max_df=0.9, tfidf__use_idf=False, clf__weights=uniform, clf__n_neighbors=7, score=0.349114501139751, total=  17.8s\n",
      "[CV] vect__ngram_range=(1, 1), vect__min_df=0.0, vect__max_df=0.9, tfidf__use_idf=False, clf__weights=uniform, clf__n_neighbors=7 \n",
      "[CV]  vect__ngram_range=(1, 1), vect__min_df=0.0, vect__max_df=0.9, tfidf__use_idf=False, clf__weights=uniform, clf__n_neighbors=7, score=0.35542696826231807, total=  17.2s\n",
      "[CV] vect__ngram_range=(1, 1), vect__min_df=0.0, vect__max_df=0.9, tfidf__use_idf=False, clf__weights=uniform, clf__n_neighbors=7 \n",
      "[CV]  vect__ngram_range=(1, 1), vect__min_df=0.0, vect__max_df=0.9, tfidf__use_idf=False, clf__weights=uniform, clf__n_neighbors=7, score=0.3422759950903034, total=  17.2s\n",
      "[CV] vect__ngram_range=(1, 1), vect__min_df=0.0, vect__max_df=0.9, tfidf__use_idf=False, clf__weights=uniform, clf__n_neighbors=3 \n",
      "[CV]  vect__ngram_range=(1, 1), vect__min_df=0.0, vect__max_df=0.9, tfidf__use_idf=False, clf__weights=uniform, clf__n_neighbors=3, score=0.3829563387690689, total=  16.7s\n",
      "[CV] vect__ngram_range=(1, 1), vect__min_df=0.0, vect__max_df=0.9, tfidf__use_idf=False, clf__weights=uniform, clf__n_neighbors=3 \n",
      "[CV]  vect__ngram_range=(1, 1), vect__min_df=0.0, vect__max_df=0.9, tfidf__use_idf=False, clf__weights=uniform, clf__n_neighbors=3, score=0.3926003857618797, total=  16.9s\n",
      "[CV] vect__ngram_range=(1, 1), vect__min_df=0.0, vect__max_df=0.9, tfidf__use_idf=False, clf__weights=uniform, clf__n_neighbors=3 \n",
      "[CV]  vect__ngram_range=(1, 1), vect__min_df=0.0, vect__max_df=0.9, tfidf__use_idf=False, clf__weights=uniform, clf__n_neighbors=3, score=0.37085744345081534, total=  17.3s\n",
      "[CV] vect__ngram_range=(1, 2), vect__min_df=0.05, vect__max_df=0.9, tfidf__use_idf=False, clf__weights=distance, clf__n_neighbors=7 \n",
      "[CV]  vect__ngram_range=(1, 2), vect__min_df=0.05, vect__max_df=0.9, tfidf__use_idf=False, clf__weights=distance, clf__n_neighbors=7, score=0.3051025775907417, total=  35.8s\n",
      "[CV] vect__ngram_range=(1, 2), vect__min_df=0.05, vect__max_df=0.9, tfidf__use_idf=False, clf__weights=distance, clf__n_neighbors=7 \n",
      "[CV]  vect__ngram_range=(1, 2), vect__min_df=0.05, vect__max_df=0.9, tfidf__use_idf=False, clf__weights=distance, clf__n_neighbors=7, score=0.3056286165176223, total=  35.7s\n",
      "[CV] vect__ngram_range=(1, 2), vect__min_df=0.05, vect__max_df=0.9, tfidf__use_idf=False, clf__weights=distance, clf__n_neighbors=7 \n",
      "[CV]  vect__ngram_range=(1, 2), vect__min_df=0.05, vect__max_df=0.9, tfidf__use_idf=False, clf__weights=distance, clf__n_neighbors=7, score=0.3012449587936174, total=  35.4s\n",
      "[CV] vect__ngram_range=(1, 3), vect__min_df=0.1, vect__max_df=0.7, tfidf__use_idf=True, clf__weights=uniform, clf__n_neighbors=5 \n",
      "[CV]  vect__ngram_range=(1, 3), vect__min_df=0.1, vect__max_df=0.7, tfidf__use_idf=True, clf__weights=uniform, clf__n_neighbors=5, score=0.32772225144660705, total= 1.1min\n",
      "[CV] vect__ngram_range=(1, 3), vect__min_df=0.1, vect__max_df=0.7, tfidf__use_idf=True, clf__weights=uniform, clf__n_neighbors=5 \n",
      "[CV]  vect__ngram_range=(1, 3), vect__min_df=0.1, vect__max_df=0.7, tfidf__use_idf=True, clf__weights=uniform, clf__n_neighbors=5, score=0.31807820445379625, total= 1.1min\n",
      "[CV] vect__ngram_range=(1, 3), vect__min_df=0.1, vect__max_df=0.7, tfidf__use_idf=True, clf__weights=uniform, clf__n_neighbors=5 \n",
      "[CV]  vect__ngram_range=(1, 3), vect__min_df=0.1, vect__max_df=0.7, tfidf__use_idf=True, clf__weights=uniform, clf__n_neighbors=5, score=0.33193056286165173, total= 1.1min\n",
      "[CV] vect__ngram_range=(1, 1), vect__min_df=0.05, vect__max_df=0.7, tfidf__use_idf=False, clf__weights=distance, clf__n_neighbors=8 \n",
      "[CV]  vect__ngram_range=(1, 1), vect__min_df=0.05, vect__max_df=0.7, tfidf__use_idf=False, clf__weights=distance, clf__n_neighbors=8, score=0.3317552165526916, total=  14.3s\n",
      "[CV] vect__ngram_range=(1, 1), vect__min_df=0.05, vect__max_df=0.7, tfidf__use_idf=False, clf__weights=distance, clf__n_neighbors=8 \n",
      "[CV]  vect__ngram_range=(1, 1), vect__min_df=0.05, vect__max_df=0.7, tfidf__use_idf=False, clf__weights=distance, clf__n_neighbors=8, score=0.32772225144660705, total=  14.3s\n",
      "[CV] vect__ngram_range=(1, 1), vect__min_df=0.05, vect__max_df=0.7, tfidf__use_idf=False, clf__weights=distance, clf__n_neighbors=8 \n",
      "[CV]  vect__ngram_range=(1, 1), vect__min_df=0.05, vect__max_df=0.7, tfidf__use_idf=False, clf__weights=distance, clf__n_neighbors=8, score=0.32789759775556726, total=  14.3s\n",
      "[CV] vect__ngram_range=(1, 4), vect__min_df=0.0, vect__max_df=0.9, tfidf__use_idf=True, clf__weights=distance, clf__n_neighbors=5 \n",
      "[CV]  vect__ngram_range=(1, 4), vect__min_df=0.0, vect__max_df=0.9, tfidf__use_idf=True, clf__weights=distance, clf__n_neighbors=5, score=0.6261616692968613, total= 2.1min\n",
      "[CV] vect__ngram_range=(1, 4), vect__min_df=0.0, vect__max_df=0.9, tfidf__use_idf=True, clf__weights=distance, clf__n_neighbors=5 \n",
      "[CV]  vect__ngram_range=(1, 4), vect__min_df=0.0, vect__max_df=0.9, tfidf__use_idf=True, clf__weights=distance, clf__n_neighbors=5, score=0.6344029458179905, total= 2.1min\n",
      "[CV] vect__ngram_range=(1, 4), vect__min_df=0.0, vect__max_df=0.9, tfidf__use_idf=True, clf__weights=distance, clf__n_neighbors=5 \n",
      "[CV]  vect__ngram_range=(1, 4), vect__min_df=0.0, vect__max_df=0.9, tfidf__use_idf=True, clf__weights=distance, clf__n_neighbors=5, score=0.6184464317026127, total= 2.1min\n",
      "[CV] vect__ngram_range=(1, 4), vect__min_df=0.05, vect__max_df=1.0, tfidf__use_idf=False, clf__weights=uniform, clf__n_neighbors=9 \n",
      "[CV]  vect__ngram_range=(1, 4), vect__min_df=0.05, vect__max_df=1.0, tfidf__use_idf=False, clf__weights=uniform, clf__n_neighbors=9, score=0.2712607399614238, total= 1.8min\n",
      "[CV] vect__ngram_range=(1, 4), vect__min_df=0.05, vect__max_df=1.0, tfidf__use_idf=False, clf__weights=uniform, clf__n_neighbors=9 \n",
      "[CV]  vect__ngram_range=(1, 4), vect__min_df=0.05, vect__max_df=1.0, tfidf__use_idf=False, clf__weights=uniform, clf__n_neighbors=9, score=0.2675784674732597, total= 1.8min\n",
      "[CV] vect__ngram_range=(1, 4), vect__min_df=0.05, vect__max_df=1.0, tfidf__use_idf=False, clf__weights=uniform, clf__n_neighbors=9 \n",
      "[CV]  vect__ngram_range=(1, 4), vect__min_df=0.05, vect__max_df=1.0, tfidf__use_idf=False, clf__weights=uniform, clf__n_neighbors=9, score=0.2675784674732597, total= 1.8min\n",
      "[CV] vect__ngram_range=(1, 3), vect__min_df=0.0, vect__max_df=1.0, tfidf__use_idf=False, clf__weights=uniform, clf__n_neighbors=5 \n"
     ]
    },
    {
     "name": "stdout",
     "output_type": "stream",
     "text": [
      "[CV]  vect__ngram_range=(1, 3), vect__min_df=0.0, vect__max_df=1.0, tfidf__use_idf=False, clf__weights=uniform, clf__n_neighbors=5, score=0.21760476941960372, total= 1.3min\n",
      "[CV] vect__ngram_range=(1, 3), vect__min_df=0.0, vect__max_df=1.0, tfidf__use_idf=False, clf__weights=uniform, clf__n_neighbors=5 \n",
      "[CV]  vect__ngram_range=(1, 3), vect__min_df=0.0, vect__max_df=1.0, tfidf__use_idf=False, clf__weights=uniform, clf__n_neighbors=5, score=0.22181308083464843, total= 1.3min\n",
      "[CV] vect__ngram_range=(1, 3), vect__min_df=0.0, vect__max_df=1.0, tfidf__use_idf=False, clf__weights=uniform, clf__n_neighbors=5 \n",
      "[CV]  vect__ngram_range=(1, 3), vect__min_df=0.0, vect__max_df=1.0, tfidf__use_idf=False, clf__weights=uniform, clf__n_neighbors=5, score=0.18762055058741015, total= 1.3min\n",
      "[CV] vect__ngram_range=(1, 3), vect__min_df=0.01, vect__max_df=0.8, tfidf__use_idf=False, clf__weights=distance, clf__n_neighbors=3 \n",
      "[CV]  vect__ngram_range=(1, 3), vect__min_df=0.01, vect__max_df=0.8, tfidf__use_idf=False, clf__weights=distance, clf__n_neighbors=3, score=0.2779238997019113, total= 1.2min\n",
      "[CV] vect__ngram_range=(1, 3), vect__min_df=0.01, vect__max_df=0.8, tfidf__use_idf=False, clf__weights=distance, clf__n_neighbors=3 \n",
      "[CV]  vect__ngram_range=(1, 3), vect__min_df=0.01, vect__max_df=0.8, tfidf__use_idf=False, clf__weights=distance, clf__n_neighbors=3, score=0.28441171313343855, total= 1.1min\n",
      "[CV] vect__ngram_range=(1, 3), vect__min_df=0.01, vect__max_df=0.8, tfidf__use_idf=False, clf__weights=distance, clf__n_neighbors=3 \n",
      "[CV]  vect__ngram_range=(1, 3), vect__min_df=0.01, vect__max_df=0.8, tfidf__use_idf=False, clf__weights=distance, clf__n_neighbors=3, score=0.2698579694897422, total= 1.1min\n"
     ]
    },
    {
     "name": "stderr",
     "output_type": "stream",
     "text": [
      "[Parallel(n_jobs=1)]: Done 150 out of 150 | elapsed: 360.0min finished\n"
     ]
    }
   ],
   "source": [
    "# train\n",
    "rs_clf = RandomizedSearchCV(clf, parameters, n_jobs=1, verbose=10, random_state=1, return_train_score=True, cv=3, n_iter=50)\n",
    "start = time.time()\n",
    "rs_clf = rs_clf.fit(X_train, encoded_y_train)\n",
    "rs_processing_time = (time.time() - start) / 60"
   ]
  },
  {
   "cell_type": "code",
   "execution_count": 9,
   "metadata": {},
   "outputs": [
    {
     "name": "stdout",
     "output_type": "stream",
     "text": [
      "0.6365071015255129\n"
     ]
    }
   ],
   "source": [
    "best_score = rs_clf.best_score_\n",
    "print(best_score)"
   ]
  },
  {
   "cell_type": "code",
   "execution_count": 10,
   "metadata": {},
   "outputs": [
    {
     "name": "stdout",
     "output_type": "stream",
     "text": [
      "{'vect__ngram_range': (1, 4), 'vect__min_df': 0.0, 'vect__max_df': 0.9, 'tfidf__use_idf': True, 'clf__weights': 'distance', 'clf__n_neighbors': 6}\n"
     ]
    }
   ],
   "source": [
    "best_params = rs_clf.best_params_\n",
    "print(best_params)"
   ]
  },
  {
   "cell_type": "code",
   "execution_count": 11,
   "metadata": {},
   "outputs": [],
   "source": [
    "# predict \n",
    "rs_predicted = rs_clf.predict(X_test)\n",
    "#print(predicted)"
   ]
  },
  {
   "cell_type": "code",
   "execution_count": 12,
   "metadata": {},
   "outputs": [
    {
     "name": "stdout",
     "output_type": "stream",
     "text": [
      "0.8472300140252454\n"
     ]
    }
   ],
   "source": [
    "# precision is a measure of result relevancy\n",
    "from sklearn.metrics import precision_score\n",
    "rs_precision = precision_score(encoded_y_test, rs_predicted, average='samples')\n",
    "print(rs_precision)"
   ]
  },
  {
   "cell_type": "code",
   "execution_count": 13,
   "metadata": {},
   "outputs": [
    {
     "name": "stdout",
     "output_type": "stream",
     "text": [
      "0.7957612591553685\n"
     ]
    }
   ],
   "source": [
    "# recall is a measure of how many truly relevant results are returned\n",
    "from sklearn.metrics import recall_score\n",
    "rs_recall = recall_score(encoded_y_test, rs_predicted, average='samples')  \n",
    "print(rs_recall)"
   ]
  },
  {
   "cell_type": "code",
   "execution_count": 14,
   "metadata": {},
   "outputs": [
    {
     "name": "stdout",
     "output_type": "stream",
     "text": [
      "0.8063441973329772\n"
     ]
    }
   ],
   "source": [
    "# F1 score is a weighted average of the precision and recall\n",
    "from sklearn.metrics import f1_score\n",
    "rs_f1 = f1_score(encoded_y_test, rs_predicted, average='samples') \n",
    "print(rs_f1)"
   ]
  },
  {
   "cell_type": "markdown",
   "metadata": {},
   "source": [
    "Ergebnisse in Dateien speichern"
   ]
  },
  {
   "cell_type": "code",
   "execution_count": 15,
   "metadata": {},
   "outputs": [],
   "source": [
    "output = '../kNN'\n",
    "if not os.path.exists(output):\n",
    "    os.makedirs(output)\n",
    "    \n",
    "timestamp = time.strftime('%Y-%m-%d_%H.%M')"
   ]
  },
  {
   "cell_type": "code",
   "execution_count": 16,
   "metadata": {},
   "outputs": [
    {
     "name": "stdout",
     "output_type": "stream",
     "text": [
      "PREDICTED:\n",
      "('europe_t', 'histoire_t', 'information_t', 'études du politique_t')\n",
      "TRUE:\n",
      "['époque contemporaine_t', 'histoire_t']\n"
     ]
    }
   ],
   "source": [
    "# write real labels and predictions to file\n",
    "\n",
    "inverse_prediction = label_encoder.inverse_transform(rs_predicted)\n",
    "print('PREDICTED:')\n",
    "print(inverse_prediction[0])\n",
    "print('TRUE:')\n",
    "print(y_test[0])\n",
    "\n",
    "with open(output+'/kNN_themes_only_predictions_%s.txt' % timestamp,\"w+\", encoding=\"utf8\") as preds:\n",
    "    preds.write(\"Predictions from classification with k-nearest-neighbors (themes only):\\n\\n\")\n",
    "    for ident, label, pred in zip(z_test, y_test, inverse_prediction):\n",
    "        label = sorted(label)\n",
    "        pred = sorted(pred)\n",
    "        preds.write(ident)\n",
    "        preds.write('\\n')\n",
    "        preds.write('TRUE: ')\n",
    "        for element in label:\n",
    "            preds.write('%s, ' % element)\n",
    "        preds.write('\\n')\n",
    "        preds.write('PRED: ')\n",
    "        for element in pred:\n",
    "            preds.write('%s, ' % element)\n",
    "        preds.write('\\n')\n",
    "        preds.write('\\n*********************\\n')\n",
    "    "
   ]
  },
  {
   "cell_type": "code",
   "execution_count": 17,
   "metadata": {},
   "outputs": [],
   "source": [
    "# write parameters and scores to file\n",
    "\n",
    "with open(output+'/kNN_themes_only_params_%s.txt' % timestamp,\"w+\", encoding=\"utf8\") as params:\n",
    "    params.write(\"Parameters for classification with k-nearest-neighbors from randomized search (themes only):\")\n",
    "    params.write(\"\\nprocessing_time: %s\" % rs_processing_time)\n",
    "    for key, value in best_params.items():\n",
    "        params.write(\"\\n%s: %s\" % (key, value))\n",
    "    params.write(\"\\nbest_score: %s\" % best_score)\n",
    "    params.write(\"\\nprecision: %s\" % rs_precision)\n",
    "    params.write(\"\\nrecall: %s\" % rs_recall)\n",
    "    params.write(\"\\nf1-score: %s\" % rs_f1)"
   ]
  },
  {
   "cell_type": "code",
   "execution_count": 18,
   "metadata": {},
   "outputs": [
    {
     "name": "stdout",
     "output_type": "stream",
     "text": [
      "    mean_fit_time  std_fit_time  mean_score_time  std_score_time  \\\n",
      "0        5.937869      0.256111         9.315847        0.174959   \n",
      "1       99.661865      0.096567        24.448782        0.572094   \n",
      "2       23.684389      0.346529        12.450089        0.102243   \n",
      "3        5.731281      0.018306         9.265559        0.074607   \n",
      "4       53.257790      0.129040        13.532091        0.103403   \n",
      "5       87.081455      0.400836        14.249159        0.134989   \n",
      "6        7.081272      1.216908         9.227212        0.598827   \n",
      "7       23.583461      0.083341        12.321155        0.064735   \n",
      "8       53.314050      0.136759        14.185892        0.040481   \n",
      "9       87.125706      0.165135        13.859358        0.082812   \n",
      "10      93.143182      0.516101        22.061245        0.115885   \n",
      "11      92.090188      1.482404        16.383680        0.475747   \n",
      "12      27.309221      1.246412        15.783903        0.137735   \n",
      "13       5.906338      0.083003         8.927844        0.027049   \n",
      "14      24.012707      0.084961        10.554270        0.120180   \n",
      "15      88.947421      0.510217        15.574224        0.164570   \n",
      "16       6.860059      0.280423        10.972628        0.043338   \n",
      "17      89.422115      1.204247        15.650562        0.159191   \n",
      "18      94.985766      0.408436        20.849193        0.069040   \n",
      "19      88.933753      0.435551        14.751510        0.113724   \n",
      "20      24.227386      0.370452        11.793675        0.157006   \n",
      "21      88.688073      0.286238        14.546832        0.192896   \n",
      "22       5.984009      0.181091         9.478209        0.040764   \n",
      "23      26.672859      0.136332        15.099530        0.227981   \n",
      "24       5.885003      0.014818         9.239529        0.116205   \n",
      "25      23.832363      0.103634        11.042298        0.059177   \n",
      "26       5.836334      0.031950         8.891175        0.062573   \n",
      "27       5.937673      0.115108         9.016182        0.024528   \n",
      "28      23.993372      0.168728        11.850344        0.033482   \n",
      "29      54.237102      0.197328        13.556775        0.100049   \n",
      "30      54.407112      0.313120        15.125532        0.455934   \n",
      "31       5.986342      0.203660         8.893842        0.018446   \n",
      "32      54.226768      0.235680        13.894795        0.031824   \n",
      "33      53.998089      0.297481        13.273759        0.114325   \n",
      "34      26.574853      0.288757        15.658562        0.068848   \n",
      "35      88.652404      0.350582        15.677897        0.134427   \n",
      "36      24.045709      0.415812        11.915682        0.044327   \n",
      "37      88.626069      0.498491        15.684564        0.164963   \n",
      "38      54.369776      0.474765        15.227538        0.058235   \n",
      "39       6.322695      0.107475        11.136637        0.036361   \n",
      "40      88.489395      0.589968        15.698231        0.246258   \n",
      "41       6.409367      0.233929        11.082634        0.051039   \n",
      "42       6.308694      0.100459        10.760615        0.280581   \n",
      "43      23.818362      0.190573        11.895680        0.028579   \n",
      "44      53.956419      0.075478        12.246367        0.091074   \n",
      "45       5.888003      0.087352         8.512487        0.062181   \n",
      "46     102.142842      0.479202        24.494068        0.150302   \n",
      "47      89.111097      0.309470        16.475942        0.080817   \n",
      "48      59.067045      0.462397        20.360498        0.137958   \n",
      "49      54.415112      0.423161        14.405157        0.103164   \n",
      "\n",
      "   param_vect__ngram_range param_vect__min_df param_vect__max_df  \\\n",
      "0                   (1, 1)               0.05                0.9   \n",
      "1                   (1, 4)                  0                0.9   \n",
      "2                   (1, 2)               0.01                0.8   \n",
      "3                   (1, 1)               0.05                  1   \n",
      "4                   (1, 3)                0.1                  1   \n",
      "5                   (1, 4)                0.1                0.9   \n",
      "6                   (1, 1)               0.05                0.7   \n",
      "7                   (1, 2)               0.05                  1   \n",
      "8                   (1, 3)               0.05                  1   \n",
      "9                   (1, 4)                0.1                0.7   \n",
      "10                  (1, 4)                  0                0.9   \n",
      "11                  (1, 4)               0.05                0.9   \n",
      "12                  (1, 2)                  0                0.8   \n",
      "13                  (1, 1)                0.1                0.9   \n",
      "14                  (1, 2)                0.1                0.8   \n",
      "15                  (1, 4)               0.01                0.7   \n",
      "16                  (1, 1)                  0                0.8   \n",
      "17                  (1, 4)               0.05                0.8   \n",
      "18                  (1, 4)                  0                0.7   \n",
      "19                  (1, 4)                0.1                0.9   \n",
      "20                  (1, 2)               0.05                0.8   \n",
      "21                  (1, 4)                0.1                0.9   \n",
      "22                  (1, 1)               0.05                0.9   \n",
      "23                  (1, 2)                  0                0.7   \n",
      "24                  (1, 1)               0.01                0.7   \n",
      "25                  (1, 2)               0.05                0.7   \n",
      "26                  (1, 1)                0.1                0.8   \n",
      "27                  (1, 1)                0.1                0.9   \n",
      "28                  (1, 2)                0.1                  1   \n",
      "29                  (1, 3)               0.01                0.7   \n",
      "30                  (1, 3)               0.01                0.8   \n",
      "31                  (1, 1)               0.05                0.9   \n",
      "32                  (1, 3)               0.05                0.9   \n",
      "33                  (1, 3)                0.1                0.9   \n",
      "34                  (1, 2)                  0                0.9   \n",
      "35                  (1, 4)               0.05                0.8   \n",
      "36                  (1, 2)                0.1                  1   \n",
      "37                  (1, 4)               0.05                0.8   \n",
      "38                  (1, 3)               0.01                0.9   \n",
      "39                  (1, 1)                  0                0.9   \n",
      "40                  (1, 4)               0.05                0.8   \n",
      "41                  (1, 1)                  0                0.9   \n",
      "42                  (1, 1)                  0                0.9   \n",
      "43                  (1, 2)               0.05                0.9   \n",
      "44                  (1, 3)                0.1                0.7   \n",
      "45                  (1, 1)               0.05                0.7   \n",
      "46                  (1, 4)                  0                0.9   \n",
      "47                  (1, 4)               0.05                  1   \n",
      "48                  (1, 3)                  0                  1   \n",
      "49                  (1, 3)               0.01                0.8   \n",
      "\n",
      "   param_tfidf__use_idf param_clf__weights param_clf__n_neighbors  \\\n",
      "0                 False           distance                      5   \n",
      "1                  True           distance                      6   \n",
      "2                 False            uniform                      5   \n",
      "3                  True           distance                      1   \n",
      "4                  True           distance                      5   \n",
      "5                 False           distance                      1   \n",
      "6                 False           distance                      9   \n",
      "7                  True           distance                      4   \n",
      "8                  True           distance                      5   \n",
      "9                 False           distance                      5   \n",
      "10                False           distance                      5   \n",
      "11                False           distance                      5   \n",
      "12                False            uniform                      5   \n",
      "13                 True            uniform                      7   \n",
      "14                 True           distance                      2   \n",
      "15                False           distance                      3   \n",
      "16                 True            uniform                      7   \n",
      "17                False            uniform                      7   \n",
      "18                False            uniform                      1   \n",
      "19                False           distance                      2   \n",
      "20                False            uniform                      7   \n",
      "21                 True           distance                      1   \n",
      "22                False            uniform                      4   \n",
      "23                False            uniform                      9   \n",
      "24                False           distance                      7   \n",
      "25                False           distance                      5   \n",
      "26                False           distance                      9   \n",
      "27                False           distance                      8   \n",
      "28                False           distance                      4   \n",
      "29                 True           distance                      1   \n",
      "30                 True           distance                      7   \n",
      "31                 True           distance                      1   \n",
      "32                 True           distance                      6   \n",
      "33                 True            uniform                      8   \n",
      "34                False            uniform                      3   \n",
      "35                False           distance                      5   \n",
      "36                False           distance                      9   \n",
      "37                False            uniform                      4   \n",
      "38                 True           distance                      6   \n",
      "39                False           distance                      9   \n",
      "40                 True           distance                      9   \n",
      "41                False            uniform                      7   \n",
      "42                False            uniform                      3   \n",
      "43                False           distance                      7   \n",
      "44                 True            uniform                      5   \n",
      "45                False           distance                      8   \n",
      "46                 True           distance                      5   \n",
      "47                False            uniform                      9   \n",
      "48                False            uniform                      5   \n",
      "49                False           distance                      3   \n",
      "\n",
      "         ...        split1_test_score  split2_test_score  mean_test_score  \\\n",
      "0        ...                 0.325969           0.317728         0.321527   \n",
      "1        ...                 0.644222           0.630896         0.636507   \n",
      "2        ...                 0.256707           0.278099         0.268806   \n",
      "3        ...                 0.384184           0.374364         0.377579   \n",
      "4        ...                 0.319130           0.320533         0.321118   \n",
      "5        ...                 0.326846           0.320358         0.324683   \n",
      "6        ...                 0.321410           0.320007         0.318195   \n",
      "7        ...                 0.330002           0.319832         0.323865   \n",
      "8        ...                 0.305278           0.285639         0.298556   \n",
      "9        ...                 0.318429           0.326846         0.325209   \n",
      "10       ...                 0.301596           0.261792         0.282658   \n",
      "11       ...                 0.318078           0.309662         0.313870   \n",
      "12       ...                 0.365246           0.336840         0.356187   \n",
      "13       ...                 0.316500           0.325793         0.323631   \n",
      "14       ...                 0.367000           0.371208         0.367058   \n",
      "15       ...                 0.247414           0.235139         0.242445   \n",
      "16       ...                 0.603367           0.594073         0.600678   \n",
      "17       ...                 0.315097           0.303875         0.309136   \n",
      "18       ...                 0.471156           0.423987         0.447250   \n",
      "19       ...                 0.326495           0.320358         0.324274   \n",
      "20       ...                 0.315273           0.304752         0.310889   \n",
      "21       ...                 0.361915           0.364545         0.367175   \n",
      "22       ...                 0.278976           0.271261         0.272196   \n",
      "23       ...                 0.408206           0.387340         0.402829   \n",
      "24       ...                 0.324391           0.257759         0.277164   \n",
      "25       ...                 0.331229           0.325443         0.326495   \n",
      "26       ...                 0.293179           0.293705         0.296744   \n",
      "27       ...                 0.297037           0.295459         0.296452   \n",
      "28       ...                 0.293179           0.291426         0.292419   \n",
      "29       ...                 0.174119           0.170963         0.251856   \n",
      "30       ...                 0.269683           0.145187         0.232100   \n",
      "31       ...                 0.370156           0.360161         0.388275   \n",
      "32       ...                 0.297563           0.267754         0.286341   \n",
      "33       ...                 0.275118           0.278099         0.279736   \n",
      "34       ...                 0.357706           0.326144         0.344146   \n",
      "35       ...                 0.329826           0.313870         0.322345   \n",
      "36       ...                 0.265474           0.258110         0.263370   \n",
      "37       ...                 0.281255           0.268280         0.275118   \n",
      "38       ...                 0.126951           0.130107         0.128529   \n",
      "39       ...                 0.341925           0.333684         0.338711   \n",
      "40       ...                 0.344731           0.234789         0.283827   \n",
      "41       ...                 0.355427           0.342276         0.348939   \n",
      "42       ...                 0.392600           0.370857         0.382138   \n",
      "43       ...                 0.305629           0.301245         0.303992   \n",
      "44       ...                 0.318078           0.331931         0.325910   \n",
      "45       ...                 0.327722           0.327898         0.329125   \n",
      "46       ...                 0.634403           0.618446         0.626337   \n",
      "47       ...                 0.267578           0.267578         0.268806   \n",
      "48       ...                 0.221813           0.187621         0.209013   \n",
      "49       ...                 0.284412           0.269858         0.277398   \n",
      "\n",
      "    std_test_score  rank_test_score  split0_train_score  split1_train_score  \\\n",
      "0         0.003395               24            0.995704            0.994214   \n",
      "1         0.005640                1            0.997457            0.995704   \n",
      "2         0.008956               43            0.408294            0.335174   \n",
      "3         0.004671                8            0.997457            0.996844   \n",
      "4         0.001907               25            0.995529            0.994214   \n",
      "5         0.003058               19            0.996756            0.995178   \n",
      "6         0.003600               26            0.994564            0.992898   \n",
      "7         0.004410               21            0.996318            0.994652   \n",
      "8         0.009136               31            0.996318            0.994652   \n",
      "9         0.005003               18            0.993688            0.991057   \n",
      "10        0.016307               37            0.997370            0.995704   \n",
      "11        0.003436               27            0.995616            0.994301   \n",
      "12        0.013689               11            0.468525            0.467035   \n",
      "13        0.005171               22            0.395318            0.396195   \n",
      "14        0.003365               10            0.994214            0.992372   \n",
      "15        0.005277               47            0.996844            0.995616   \n",
      "16        0.004697                3            0.677012            0.668245   \n",
      "17        0.004608               29            0.377959            0.383482   \n",
      "18        0.019262                4            0.998334            0.997545   \n",
      "19        0.002777               20            0.994740            0.992460   \n",
      "20        0.004470               28            0.377170            0.385937   \n",
      "21        0.005682                9            0.996756            0.995178   \n",
      "22        0.005196               42            0.359109            0.360775   \n",
      "23        0.011122                5            0.473084            0.462213   \n",
      "24        0.033571               40            0.996844            0.995616   \n",
      "25        0.003516               16            0.994915            0.993425   \n",
      "26        0.004675               32            0.995003            0.992372   \n",
      "27        0.000706               33            0.995266            0.992372   \n",
      "28        0.000735               34            0.995529            0.993863   \n",
      "29        0.112176               46            0.997896            0.997370   \n",
      "30        0.061644               48            0.996756            0.995353   \n",
      "31        0.032945                6            0.997282            0.996230   \n",
      "32        0.013237               35            0.995879            0.994214   \n",
      "33        0.004587               38            0.328599            0.335262   \n",
      "34        0.013263               13            0.530247            0.529195   \n",
      "35        0.006552               23            0.995529            0.993863   \n",
      "36        0.003744               45            0.995616            0.993775   \n",
      "37        0.005320               41            0.362528            0.358934   \n",
      "38        0.001289               50            0.996756            0.995529   \n",
      "39        0.003600               14            0.997370            0.995792   \n",
      "40        0.045661               36            0.995704            0.993688   \n",
      "41        0.005370               12            0.430738            0.434508   \n",
      "42        0.008895                7            0.566456            0.573645   \n",
      "43        0.001954               30            0.995879            0.994126   \n",
      "44        0.005799               17            0.425039            0.421533   \n",
      "45        0.001861               15            0.994564            0.992898   \n",
      "46        0.006515                2            0.997457            0.995792   \n",
      "47        0.001736               43            0.316412            0.320270   \n",
      "48        0.015224               49            0.307470            0.307645   \n",
      "49        0.005953               39            0.997107            0.995529   \n",
      "\n",
      "    split2_train_score  mean_train_score  std_train_score  \n",
      "0             0.995529          0.995149         0.000665  \n",
      "1             0.997457          0.996873         0.000827  \n",
      "2             0.395231          0.379566         0.031840  \n",
      "3             0.997370          0.997224         0.000271  \n",
      "4             0.994652          0.994798         0.000547  \n",
      "5             0.995616          0.995850         0.000665  \n",
      "6             0.994740          0.994067         0.000830  \n",
      "7             0.996230          0.995733         0.000765  \n",
      "8             0.996405          0.995792         0.000807  \n",
      "9             0.992811          0.992519         0.001093  \n",
      "10            0.997457          0.996844         0.000807  \n",
      "11            0.995616          0.995178         0.000620  \n",
      "12            0.443012          0.459524         0.011691  \n",
      "13            0.391022          0.394179         0.002260  \n",
      "14            0.993337          0.993308         0.000752  \n",
      "15            0.996756          0.996405         0.000559  \n",
      "16            0.662721          0.669326         0.005884  \n",
      "17            0.368315          0.376585         0.006268  \n",
      "18            0.998334          0.998071         0.000372  \n",
      "19            0.993688          0.993629         0.000932  \n",
      "20            0.369279          0.377462         0.006804  \n",
      "21            0.995616          0.995850         0.000665  \n",
      "22            0.359811          0.359898         0.000683  \n",
      "23            0.441610          0.458969         0.013053  \n",
      "24            0.996493          0.996318         0.000516  \n",
      "25            0.994740          0.994360         0.000665  \n",
      "26            0.993600          0.993658         0.001075  \n",
      "27            0.993863          0.993834         0.001181  \n",
      "28            0.994652          0.994681         0.000680  \n",
      "29            0.997808          0.997691         0.000230  \n",
      "30            0.996405          0.996172         0.000596  \n",
      "31            0.997107          0.996873         0.000460  \n",
      "32            0.995616          0.995236         0.000731  \n",
      "33            0.321322          0.328394         0.005693  \n",
      "34            0.502981          0.520808         0.012613  \n",
      "35            0.995441          0.994944         0.000765  \n",
      "36            0.994652          0.994681         0.000752  \n",
      "37            0.360337          0.360600         0.001479  \n",
      "38            0.996493          0.996259         0.000528  \n",
      "39            0.997282          0.996815         0.000724  \n",
      "40            0.995353          0.994915         0.000880  \n",
      "41            0.415045          0.426764         0.008428  \n",
      "42            0.560582          0.566895         0.005342  \n",
      "43            0.995616          0.995207         0.000772  \n",
      "44            0.429598          0.425390         0.003302  \n",
      "45            0.994564          0.994009         0.000785  \n",
      "46            0.997457          0.996902         0.000785  \n",
      "47            0.305453          0.314045         0.006276  \n",
      "48            0.282395          0.299170         0.011862  \n",
      "49            0.996844          0.996493         0.000690  \n",
      "\n",
      "[50 rows x 22 columns]\n"
     ]
    }
   ],
   "source": [
    "results = rs_clf.cv_results_\n",
    "df = pd.DataFrame(data=results)\n",
    "print(df)\n",
    "df.to_csv(output+'/kNN_themes_only_rs_results_%s.csv' % timestamp, encoding='utf-8')"
   ]
  },
  {
   "cell_type": "code",
   "execution_count": null,
   "metadata": {},
   "outputs": [],
   "source": []
  }
 ],
 "metadata": {
  "kernelspec": {
   "display_name": "Python 3",
   "language": "python",
   "name": "python3"
  },
  "language_info": {
   "codemirror_mode": {
    "name": "ipython",
    "version": 3
   },
   "file_extension": ".py",
   "mimetype": "text/x-python",
   "name": "python",
   "nbconvert_exporter": "python",
   "pygments_lexer": "ipython3",
   "version": "3.6.5"
  }
 },
 "nbformat": 4,
 "nbformat_minor": 2
}
