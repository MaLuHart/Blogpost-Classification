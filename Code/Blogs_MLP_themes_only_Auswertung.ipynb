{
 "cells": [
  {
   "cell_type": "markdown",
   "metadata": {},
   "source": [
    "# Auswertung der Klassifikation mit dem MLPClassifier (themes_only)\n",
    "\n",
    "Autorin: Maria Hartmann"
   ]
  },
  {
   "cell_type": "code",
   "execution_count": 1,
   "metadata": {},
   "outputs": [],
   "source": [
    "# read predicitons\n",
    "f = open('../MLP/MLP_themes_only_predictions.txt', \"r\", encoding=\"utf-8\")\n",
    "lines = f.readlines()\n",
    "f.close()\n",
    "trues = []\n",
    "preds = []\n",
    "idents = []\n",
    "labellist = []\n",
    "for line in lines:\n",
    "    if line.startswith(\"TRUE:\"):\n",
    "        line = line.replace(\"TRUE: \", \"\").strip()\n",
    "        #trues.append(line.split(\", \"))\n",
    "        labels = line.split(\", \")\n",
    "        tmp_line=[]\n",
    "        for label in labels:\n",
    "            label = label.strip().replace(\",\", \"\").strip()\n",
    "            tmp_line.append(label)\n",
    "        trues.append(tmp_line)\n",
    "        labellist.append(tmp_line)\n",
    "        \n",
    "    elif line.startswith(\"PRED:\"):\n",
    "        line = line.replace(\"PRED: \", \"\").strip()\n",
    "        #preds.append(line.split(\",\"))\n",
    "        labels = line.split(\", \")\n",
    "        tmp_line=[]\n",
    "        for label in labels:\n",
    "            label = label.strip().replace(\",\", \"\").strip()\n",
    "            tmp_line.append(label)\n",
    "        preds.append(tmp_line)\n",
    "        if len(line) != 0:\n",
    "            labellist.append(tmp_line)\n",
    "    elif \".txt\" in line:\n",
    "        idents.append(line)\n",
    "        \n",
    "    else:\n",
    "        continue\n",
    "\n",
    "labelset = sorted(set([item for sublist in labellist for item in sublist]))"
   ]
  },
  {
   "cell_type": "code",
   "execution_count": 2,
   "metadata": {},
   "outputs": [],
   "source": [
    "pred_count=0 #Anzal der Vorhersagen insgesamt\n",
    "label_count=0 # Anzahl der Labels im Testset\n",
    "false_count=0 # Anzal der falschen Vorhersagen (falsche Vorhersagen sind Vorhersagen, die nicht in den richtigen Labels enthalten sind)\n",
    "right_count=0 # Anzal der richtigen Vorhersagen\n",
    "not_pred_count=0 # Anzahl der nicht vorhergesagten Labels\n",
    "pred_dic=dict(zip(labelset, [0]*len(labelset))) # Vorkommen der Labels in den Vorhersagen\n",
    "label_dic=dict(zip(labelset, [0]*len(labelset))) # Vorkommen der Labels im Testset\n",
    "correct_predicted=dict(zip(labelset, [0]*len(labelset))) # Richtige Vorhersagen und ihre Vorkommen\n",
    "false_predicted=dict(zip(labelset, [0]*len(labelset))) # Falsche Vorhersagen und ihre Vorkommen\n",
    "not_predicted=dict(zip(labelset, [0]*len(labelset))) # nicht vorhergesagt Labels und die Anzahl ihrer nicht Vorhersagen\n",
    "\n",
    "for ident, true, pred in zip(idents, trues, preds):\n",
    "    for t in true:\n",
    "        label_count+=1\n",
    "        if t in label_dic:\n",
    "            label_dic[t]+=1\n",
    "        else:\n",
    "            #label_dic[t]=1\n",
    "            print(\"Label im Dictionary nicht gefunden\")\n",
    "        if t not in pred:\n",
    "            not_pred_count+=1\n",
    "            if t in not_predicted:\n",
    "                not_predicted[t]+=1\n",
    "            else:\n",
    "                #not_predicted[t]=1\n",
    "                print(\"Label im Dictionary nicht gefunden\")\n",
    "        else:\n",
    "            right_count+=1\n",
    "            if t in correct_predicted:\n",
    "                correct_predicted[t]+=1\n",
    "            else:\n",
    "                #false_predicted[t]=1\n",
    "                print(\"Label im Dictionary nicht gefunden\")\n",
    "                \n",
    "    for p in pred:\n",
    "        if len(p) != 0:\n",
    "            pred_count+=1\n",
    "            if p in pred_dic:\n",
    "                pred_dic[p]+=1\n",
    "            else:\n",
    "                #pred_dic[t]=1\n",
    "                print(\"Label im Dictionary nicht gefunden\")\n",
    "            if p not in true:\n",
    "                false_count+=1\n",
    "                if p in false_predicted:\n",
    "                    false_predicted[p]+=1\n",
    "                else:\n",
    "                    #false_predicted[p]=1\n",
    "                    print(\"Label im Dictionary nicht gefunden\")\n",
    "        else:\n",
    "            continue"
   ]
  },
  {
   "cell_type": "code",
   "execution_count": 3,
   "metadata": {},
   "outputs": [
    {
     "name": "stdout",
     "output_type": "stream",
     "text": [
      "21\n",
      "anthropologie_t: 42\n",
      "asie_t: 67\n",
      "droit_t: 55\n",
      "ethnologie_t: 42\n",
      "europe_t: 650\n",
      "géographie_t: 40\n",
      "histoire_t: 2834\n",
      "information_t: 561\n",
      "langage_t: 98\n",
      "moyen âge_t: 322\n",
      "pensée_t: 190\n",
      "psychisme_t: 50\n",
      "religions_t: 136\n",
      "représentations_t: 573\n",
      "sociologie_t: 371\n",
      "éducation_t: 152\n",
      "épistémologie et méthodes_t: 1785\n",
      "époque contemporaine_t: 1025\n",
      "époque moderne_t: 301\n",
      "études des sciences_t: 262\n",
      "études du politique_t: 113\n"
     ]
    }
   ],
   "source": [
    "# Gesamte Labels im Testset\n",
    "print(len(label_dic))\n",
    "for k, v in label_dic.items():\n",
    "    print(\"%s: %s\" % (k, v))\n",
    "    \n",
    "#labels = [(k, label_dic[k]) for k in sorted(label_dic, key=label_dic.get, reverse=True)]\n",
    "#for k, v in labels:\n",
    "    #print(\"%s: %s\" % (k, v))"
   ]
  },
  {
   "cell_type": "code",
   "execution_count": 4,
   "metadata": {},
   "outputs": [
    {
     "name": "stdout",
     "output_type": "stream",
     "text": [
      "21\n",
      "anthropologie_t: 12\n",
      "asie_t: 53\n",
      "droit_t: 29\n",
      "ethnologie_t: 11\n",
      "europe_t: 571\n",
      "géographie_t: 2\n",
      "histoire_t: 2913\n",
      "information_t: 470\n",
      "langage_t: 33\n",
      "moyen âge_t: 243\n",
      "pensée_t: 110\n",
      "psychisme_t: 23\n",
      "religions_t: 62\n",
      "représentations_t: 366\n",
      "sociologie_t: 321\n",
      "éducation_t: 113\n",
      "épistémologie et méthodes_t: 1756\n",
      "époque contemporaine_t: 881\n",
      "époque moderne_t: 200\n",
      "études des sciences_t: 176\n",
      "études du politique_t: 27\n"
     ]
    }
   ],
   "source": [
    "# Gesamte Vorhersagen im Testset\n",
    "print(len(pred_dic))\n",
    "for k, v in pred_dic.items():\n",
    "    print(\"%s: %s\" % (k, v))"
   ]
  },
  {
   "cell_type": "code",
   "execution_count": 5,
   "metadata": {},
   "outputs": [
    {
     "name": "stdout",
     "output_type": "stream",
     "text": [
      "21\n",
      "anthropologie_t: 11\n",
      "asie_t: 50\n",
      "droit_t: 29\n",
      "ethnologie_t: 10\n",
      "europe_t: 417\n",
      "géographie_t: 2\n",
      "histoire_t: 2673\n",
      "information_t: 340\n",
      "langage_t: 30\n",
      "moyen âge_t: 193\n",
      "pensée_t: 92\n",
      "psychisme_t: 22\n",
      "religions_t: 58\n",
      "représentations_t: 300\n",
      "sociologie_t: 272\n",
      "éducation_t: 99\n",
      "épistémologie et méthodes_t: 1524\n",
      "époque contemporaine_t: 824\n",
      "époque moderne_t: 156\n",
      "études des sciences_t: 129\n",
      "études du politique_t: 24\n"
     ]
    }
   ],
   "source": [
    "# Korrekte Vorhersagen je Label im Korpus\n",
    "print(len(correct_predicted))\n",
    "for k, v in correct_predicted.items():\n",
    "    print(\"%s: %s\" % (k, v))"
   ]
  },
  {
   "cell_type": "code",
   "execution_count": 6,
   "metadata": {},
   "outputs": [
    {
     "name": "stdout",
     "output_type": "stream",
     "text": [
      "21\n",
      "anthropologie_t: 1\n",
      "asie_t: 3\n",
      "droit_t: 0\n",
      "ethnologie_t: 1\n",
      "europe_t: 154\n",
      "géographie_t: 0\n",
      "histoire_t: 240\n",
      "information_t: 130\n",
      "langage_t: 3\n",
      "moyen âge_t: 50\n",
      "pensée_t: 18\n",
      "psychisme_t: 1\n",
      "religions_t: 4\n",
      "représentations_t: 66\n",
      "sociologie_t: 49\n",
      "éducation_t: 14\n",
      "épistémologie et méthodes_t: 232\n",
      "époque contemporaine_t: 57\n",
      "époque moderne_t: 44\n",
      "études des sciences_t: 47\n",
      "études du politique_t: 3\n"
     ]
    }
   ],
   "source": [
    "# Falsche Vorhersagen je Label im Korpus\n",
    "print(len(false_predicted))\n",
    "for k, v in false_predicted.items():\n",
    "    print(\"%s: %s\" % (k, v))"
   ]
  },
  {
   "cell_type": "code",
   "execution_count": 7,
   "metadata": {},
   "outputs": [
    {
     "name": "stdout",
     "output_type": "stream",
     "text": [
      "21\n",
      "anthropologie_t: 31\n",
      "asie_t: 17\n",
      "droit_t: 26\n",
      "ethnologie_t: 32\n",
      "europe_t: 233\n",
      "géographie_t: 38\n",
      "histoire_t: 161\n",
      "information_t: 221\n",
      "langage_t: 68\n",
      "moyen âge_t: 129\n",
      "pensée_t: 98\n",
      "psychisme_t: 28\n",
      "religions_t: 78\n",
      "représentations_t: 273\n",
      "sociologie_t: 99\n",
      "éducation_t: 53\n",
      "épistémologie et méthodes_t: 261\n",
      "époque contemporaine_t: 201\n",
      "époque moderne_t: 145\n",
      "études des sciences_t: 133\n",
      "études du politique_t: 89\n"
     ]
    }
   ],
   "source": [
    "# nicht vorhergesagte Labels im Korpus\n",
    "print(len(not_predicted))\n",
    "for k, v in not_predicted.items():\n",
    "    print(\"%s: %s\" % (k, v))"
   ]
  },
  {
   "cell_type": "markdown",
   "metadata": {},
   "source": [
    "PROZENTUALE AUSWERTUNG:\n",
    "\n",
    "Prozentsatz = (Prozentwert/Grundwert)*100\n",
    "\n",
    "\n",
    "label_dic = correct_predicted + not_predicted\n",
    "\n",
    "pred_dic = correct_predicted + false_predicted"
   ]
  },
  {
   "cell_type": "code",
   "execution_count": 8,
   "metadata": {},
   "outputs": [
    {
     "name": "stdout",
     "output_type": "stream",
     "text": [
      "anthropologie_t: 73.81%\n",
      "asie_t: 25.37%\n",
      "droit_t: 47.27%\n",
      "ethnologie_t: 76.19%\n",
      "europe_t: 35.85%\n",
      "géographie_t: 95.0%\n",
      "histoire_t: 5.68%\n",
      "information_t: 39.39%\n",
      "langage_t: 69.39%\n",
      "moyen âge_t: 40.06%\n",
      "pensée_t: 51.58%\n",
      "psychisme_t: 56.0%\n",
      "religions_t: 57.35%\n",
      "représentations_t: 47.64%\n",
      "sociologie_t: 26.68%\n",
      "éducation_t: 34.87%\n",
      "épistémologie et méthodes_t: 14.62%\n",
      "époque contemporaine_t: 19.61%\n",
      "époque moderne_t: 48.17%\n",
      "études des sciences_t: 50.76%\n",
      "études du politique_t: 78.76%\n"
     ]
    }
   ],
   "source": [
    "# nicht vorhergesagte Labels in Prozent\n",
    "not_predicted_prozent={}\n",
    "for key, value in label_dic.items():\n",
    "    for not_k, not_v in not_predicted.items():\n",
    "        if not_k == key:\n",
    "            prozent=round(((not_v/value)*100),2)\n",
    "            not_predicted_prozent[not_k]=prozent\n",
    "            \n",
    "for k, v in not_predicted_prozent.items():\n",
    "    print(\"%s: %s%%\" % (k, v))"
   ]
  },
  {
   "cell_type": "code",
   "execution_count": 9,
   "metadata": {},
   "outputs": [
    {
     "name": "stdout",
     "output_type": "stream",
     "text": [
      "anthropologie_t: 8.33%\n",
      "asie_t: 5.66%\n",
      "droit_t: 0.0%\n",
      "ethnologie_t: 9.09%\n",
      "europe_t: 26.97%\n",
      "géographie_t: 0.0%\n",
      "histoire_t: 8.24%\n",
      "information_t: 27.66%\n",
      "langage_t: 9.09%\n",
      "moyen âge_t: 20.58%\n",
      "pensée_t: 16.36%\n",
      "psychisme_t: 4.35%\n",
      "religions_t: 6.45%\n",
      "représentations_t: 18.03%\n",
      "sociologie_t: 15.26%\n",
      "éducation_t: 12.39%\n",
      "épistémologie et méthodes_t: 13.21%\n",
      "époque contemporaine_t: 6.47%\n",
      "époque moderne_t: 22.0%\n",
      "études des sciences_t: 26.7%\n",
      "études du politique_t: 11.11%\n"
     ]
    }
   ],
   "source": [
    "# Fehlklassifizierungsrate je Label in Prozent\n",
    "false_predicted_prozent={}\n",
    "for key, value in pred_dic.items():\n",
    "    for false_k, false_v in false_predicted.items():\n",
    "        if false_k == key:\n",
    "            if value != 0:\n",
    "                prozent=round(((false_v/value)*100),2)\n",
    "                false_predicted_prozent[false_k]=prozent\n",
    "            else:\n",
    "                false_predicted_prozent[false_k]=0\n",
    "for k, v in false_predicted_prozent.items():\n",
    "    print(\"%s: %s%%\" % (k, v))"
   ]
  },
  {
   "cell_type": "code",
   "execution_count": 10,
   "metadata": {},
   "outputs": [
    {
     "name": "stdout",
     "output_type": "stream",
     "text": [
      "anthropologie_t: 91.67%\n",
      "asie_t: 94.34%\n",
      "droit_t: 100.0%\n",
      "ethnologie_t: 90.91%\n",
      "europe_t: 73.03%\n",
      "géographie_t: 100.0%\n",
      "histoire_t: 91.76%\n",
      "information_t: 72.34%\n",
      "langage_t: 90.91%\n",
      "moyen âge_t: 79.42%\n",
      "pensée_t: 83.64%\n",
      "psychisme_t: 95.65%\n",
      "religions_t: 93.55%\n",
      "représentations_t: 81.97%\n",
      "sociologie_t: 84.74%\n",
      "éducation_t: 87.61%\n",
      "épistémologie et méthodes_t: 86.79%\n",
      "époque contemporaine_t: 93.53%\n",
      "époque moderne_t: 78.0%\n",
      "études des sciences_t: 73.3%\n",
      "études du politique_t: 88.89%\n"
     ]
    }
   ],
   "source": [
    "# Korrektklassifizierungsrate je Label in Prozent\n",
    "correct_predicted_prozent={}\n",
    "for key, value in pred_dic.items():\n",
    "    for correct_k, correct_v in correct_predicted.items():\n",
    "        if correct_k == key:\n",
    "            if value != 0:\n",
    "                prozent=round(((correct_v/value)*100),2)\n",
    "                correct_predicted_prozent[correct_k]=prozent\n",
    "            else:\n",
    "                correct_predicted_prozent[correct_k]=0\n",
    "for k, v in correct_predicted_prozent.items():\n",
    "    print(\"%s: %s%%\" % (k, v))"
   ]
  },
  {
   "cell_type": "markdown",
   "metadata": {},
   "source": [
    "Ergebnisse in Datei schreiben"
   ]
  },
  {
   "cell_type": "code",
   "execution_count": 11,
   "metadata": {},
   "outputs": [],
   "source": [
    "f = open('../Preprocessing/blogposts_per_themes_only_reduced.txt', \"r\", encoding=\"utf-8\")\n",
    "lines = f.readlines()\n",
    "f.close()\n",
    "\n",
    "label_train_dic=dict(zip(labelset, [0]*len(labelset))) # Vorkommen der Labels im Testset\n",
    "\n",
    "for line in lines:\n",
    "    label, count = line.split(\":\")\n",
    "    label = label.strip()\n",
    "    count = count.strip()\n",
    "    \n",
    "    for k,v in label_train_dic.items():\n",
    "        if k == label:\n",
    "            label_train_dic[k]=count"
   ]
  },
  {
   "cell_type": "code",
   "execution_count": 12,
   "metadata": {},
   "outputs": [
    {
     "name": "stdout",
     "output_type": "stream",
     "text": [
      "anthropologie_t: 215\n",
      "asie_t: 332\n",
      "droit_t: 279\n",
      "ethnologie_t: 215\n",
      "europe_t: 3240\n",
      "géographie_t: 201\n",
      "histoire_t: 14155\n",
      "information_t: 2809\n",
      "langage_t: 497\n",
      "moyen âge_t: 1608\n",
      "pensée_t: 960\n",
      "psychisme_t: 252\n",
      "religions_t: 678\n",
      "représentations_t: 2874\n",
      "sociologie_t: 1848\n",
      "éducation_t: 758\n",
      "épistémologie et méthodes_t: 8927\n",
      "époque contemporaine_t: 5130\n",
      "époque moderne_t: 1505\n",
      "études des sciences_t: 1314\n",
      "études du politique_t: 568\n"
     ]
    }
   ],
   "source": [
    "for k, v in label_train_dic.items():\n",
    "    print(\"%s: %s\" % (k, v))"
   ]
  },
  {
   "cell_type": "code",
   "execution_count": 13,
   "metadata": {},
   "outputs": [
    {
     "name": "stdout",
     "output_type": "stream",
     "text": [
      "anthropologie_t, 215, 42, 12, 11, 91.67%, 1, 8.33%, 31, 73.81%\n",
      "asie_t, 332, 67, 53, 50, 94.34%, 3, 5.66%, 17, 25.37%\n",
      "droit_t, 279, 55, 29, 29, 100.0%, 0, 0.0%, 26, 47.27%\n",
      "ethnologie_t, 215, 42, 11, 10, 90.91%, 1, 9.09%, 32, 76.19%\n",
      "europe_t, 3240, 650, 571, 417, 73.03%, 154, 26.97%, 233, 35.85%\n",
      "géographie_t, 201, 40, 2, 2, 100.0%, 0, 0.0%, 38, 95.0%\n",
      "histoire_t, 14155, 2834, 2913, 2673, 91.76%, 240, 8.24%, 161, 5.68%\n",
      "information_t, 2809, 561, 470, 340, 72.34%, 130, 27.66%, 221, 39.39%\n",
      "langage_t, 497, 98, 33, 30, 90.91%, 3, 9.09%, 68, 69.39%\n",
      "moyen âge_t, 1608, 322, 243, 193, 79.42%, 50, 20.58%, 129, 40.06%\n",
      "pensée_t, 960, 190, 110, 92, 83.64%, 18, 16.36%, 98, 51.58%\n",
      "psychisme_t, 252, 50, 23, 22, 95.65%, 1, 4.35%, 28, 56.0%\n",
      "religions_t, 678, 136, 62, 58, 93.55%, 4, 6.45%, 78, 57.35%\n",
      "représentations_t, 2874, 573, 366, 300, 81.97%, 66, 18.03%, 273, 47.64%\n",
      "sociologie_t, 1848, 371, 321, 272, 84.74%, 49, 15.26%, 99, 26.68%\n",
      "éducation_t, 758, 152, 113, 99, 87.61%, 14, 12.39%, 53, 34.87%\n",
      "épistémologie et méthodes_t, 8927, 1785, 1756, 1524, 86.79%, 232, 13.21%, 261, 14.62%\n",
      "époque contemporaine_t, 5130, 1025, 881, 824, 93.53%, 57, 6.47%, 201, 19.61%\n",
      "époque moderne_t, 1505, 301, 200, 156, 78.0%, 44, 22.0%, 145, 48.17%\n",
      "études des sciences_t, 1314, 262, 176, 129, 73.3%, 47, 26.7%, 133, 50.76%\n",
      "études du politique_t, 568, 113, 27, 24, 88.89%, 3, 11.11%, 89, 78.76%\n"
     ]
    }
   ],
   "source": [
    "label_keys = label_dic.keys()\n",
    "label_train_count = label_train_dic.values()\n",
    "label_count = label_dic.values()\n",
    "pred_count = pred_dic.values()\n",
    "correct_count = correct_predicted.values()\n",
    "correct_percent = correct_predicted_prozent.values()\n",
    "false_count = false_predicted.values()\n",
    "false_percent = false_predicted_prozent.values()\n",
    "not_pred_count = not_predicted.values()\n",
    "not_pred_percent = not_predicted_prozent.values()\n",
    "\n",
    "with open('../MLP/MLP_themes_only_prozentuale_auswertung.txt', 'w+', encoding=\"utf-8\") as file:\n",
    "    file.write(\"Label (themes_only), Trainingsset (#), Testset (#), Vorhersagen (#), Korrekte Vorhersagen (#), Korrekte Vorhersagen (%), Falsche Vorhersagen (#), Falsche Vorhersagen (%), Nicht vorhergesagte Labels (#), Nicht vorhergesagte Labels (%)\\n\")\n",
    "    for key, train_count, test_count, pred_count, correct_count, correct_percent, false_count, false_percent, not_pred_count, not_pred_percent in zip(label_keys, label_train_count, label_count, pred_count, correct_count, correct_percent, false_count, false_percent, not_pred_count, not_pred_percent):\n",
    "        print(\"%s, %s, %s, %s, %s, %s%%, %s, %s%%, %s, %s%%\" % (key, train_count, test_count, pred_count, correct_count, correct_percent, false_count, false_percent, not_pred_count, not_pred_percent))\n",
    "        file.write(\"%s, %s, %s, %s, %s, %s%%, %s, %s%%, %s, %s%%\\n\" % (key, train_count, test_count, pred_count, correct_count, correct_percent, false_count, false_percent, not_pred_count, not_pred_percent))"
   ]
  },
  {
   "cell_type": "code",
   "execution_count": null,
   "metadata": {},
   "outputs": [],
   "source": []
  }
 ],
 "metadata": {
  "kernelspec": {
   "display_name": "Python 3",
   "language": "python",
   "name": "python3"
  },
  "language_info": {
   "codemirror_mode": {
    "name": "ipython",
    "version": 3
   },
   "file_extension": ".py",
   "mimetype": "text/x-python",
   "name": "python",
   "nbconvert_exporter": "python",
   "pygments_lexer": "ipython3",
   "version": "3.6.5"
  }
 },
 "nbformat": 4,
 "nbformat_minor": 2
}
