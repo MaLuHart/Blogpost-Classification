{
 "cells": [
  {
   "cell_type": "markdown",
   "metadata": {},
   "source": [
    "# Textklassifikation mit Bag-of-Words-Vektorisierung in tf-idf-Repräsentation und kNN-Algorithmus \n",
    "Labels sind auf die Disziplinen reduziert\n",
    "\n",
    "Autorin: Maria Hartmann"
   ]
  },
  {
   "cell_type": "code",
   "execution_count": 2,
   "metadata": {},
   "outputs": [],
   "source": [
    "# Imports\n",
    "import os\n",
    "import time\n",
    "import numpy as np\n",
    "import pandas as pd\n",
    "from sklearn.preprocessing import MultiLabelBinarizer # module to one-hot-encode the labels\n",
    "from sklearn.pipeline import Pipeline # assemples transormers \n",
    "from sklearn.feature_extraction.text import CountVectorizer\n",
    "from sklearn.feature_extraction.text import TfidfTransformer # module to transform a count matrix to a normalized tf-idf representation\n",
    "from sklearn.neighbors import KNeighborsClassifier # k-nearest neighbors classifier (supports multi-label classification)\n",
    "from sklearn.model_selection import RandomizedSearchCV # module for paramter optimization\n",
    "\n",
    "np.random.seed(7) # fix random seed for reproducibility"
   ]
  },
  {
   "cell_type": "markdown",
   "metadata": {},
   "source": [
    "Einlesen des Trainings- und Testdatensatzes"
   ]
  },
  {
   "cell_type": "code",
   "execution_count": 4,
   "metadata": {},
   "outputs": [],
   "source": [
    "trainset = '../Datasets/disciplines_only_trainset.csv' \n",
    "testset = '../Datasets/disciplines_only_testset.csv' \n",
    "\n",
    "trainset_csv = pd.read_csv(trainset, delimiter=';')\n",
    "X_train = trainset_csv['text'].values\n",
    "y_train = trainset_csv['classes'].values\n",
    "z_train = trainset_csv['filename'].values\n",
    "\n",
    "testset_csv = pd.read_csv(testset, delimiter=';')\n",
    "X_test = testset_csv['text'].values\n",
    "y_test = testset_csv['classes'].values\n",
    "z_test = testset_csv['filename'].values\n",
    "\n",
    "# Splitten der Labels pro Blogbeitrag\n",
    "y_train = [e.split(', ') for e in y_train]\n",
    "y_test = [e.split(', ') for e in y_test]"
   ]
  },
  {
   "cell_type": "code",
   "execution_count": 5,
   "metadata": {},
   "outputs": [
    {
     "name": "stdout",
     "output_type": "stream",
     "text": [
      "archivewk1_2023.txt\n",
      "['histoire et archéologie_d']\n",
      "stadtarchiv goch bestand völcker janssen niederrheinisches volksblatt gocher zeitung vom lokalteil foto lazarett wilhelm anton hospital nachdem ein weiterer verwundetentransport eingetroffen ist werden verwundete im wilhelm anton hospital gepflegt ein neuer verwundetentransport ist gestern abend wieder hier angekommen damit ist die zahl der verwundeten die im wilhelm anton hospital aufnahme gefunden haben auf gestiegen mit der einrichtung des van gulikschen hauses in der brückenstraße für die aufnahme von verwundeten ist begonnen worden und dürfte im laufe der nächsten woche als lazarett fertig eingerichtet werden\n"
     ]
    }
   ],
   "source": [
    "print(z_train[0])\n",
    "print(y_train[0])\n",
    "print(X_train[0])"
   ]
  },
  {
   "cell_type": "markdown",
   "metadata": {},
   "source": [
    "k-hot-Kodierung der Labels"
   ]
  },
  {
   "cell_type": "code",
   "execution_count": 6,
   "metadata": {},
   "outputs": [
    {
     "name": "stdout",
     "output_type": "stream",
     "text": [
      "[0 0 0 1 0 0 0 0 0 0 0 0 0 0]\n"
     ]
    }
   ],
   "source": [
    "# k-hot-encode labels mit MultiLabelBinarizer\n",
    "label_encoder = MultiLabelBinarizer()\n",
    "encoded_y_train = label_encoder.fit_transform(y_train)\n",
    "encoded_y_test = label_encoder.transform(y_test)\n",
    "print(encoded_y_train[0])"
   ]
  },
  {
   "cell_type": "code",
   "execution_count": 7,
   "metadata": {},
   "outputs": [
    {
     "name": "stdout",
     "output_type": "stream",
     "text": [
      "14\n",
      "0 administration publique et développement_d\n",
      "1 arts et humanités_d\n",
      "2 bibliothéconomie_d\n",
      "3 histoire et archéologie_d\n",
      "4 langue et linguistique_d\n",
      "5 littérature_d\n",
      "6 pluridisciplinarité_d\n",
      "7 psychologie_d\n",
      "8 sciences de l'information et de la communication_d\n",
      "9 sciences de la santé et de la santé publique_d\n",
      "10 sciences politiques_d\n",
      "11 sociologie et anthropologie_d\n",
      "12 travail social et politique sociale_d\n",
      "13 éducation_d\n"
     ]
    }
   ],
   "source": [
    "print(len(label_encoder.classes_))\n",
    "for i, element in enumerate(label_encoder.classes_):\n",
    "    print(i, element)"
   ]
  },
  {
   "cell_type": "markdown",
   "metadata": {},
   "source": [
    "Vektorisierung und Klassifikation der Daten mit scikit-learn"
   ]
  },
  {
   "cell_type": "code",
   "execution_count": 22,
   "metadata": {},
   "outputs": [],
   "source": [
    "# best params from randomized search\n",
    "text_clf = Pipeline([('vect', CountVectorizer(ngram_range=(1,4), max_df=0.9, min_df=0.0)),\n",
    "                     ('tfidf', TfidfTransformer(use_idf=True)),\n",
    "                     ('clf', KNeighborsClassifier(n_neighbors=6, weights='distance')),\n",
    "                   ])"
   ]
  },
  {
   "cell_type": "code",
   "execution_count": 23,
   "metadata": {},
   "outputs": [],
   "source": [
    "# train\n",
    "start = time.time()\n",
    "text_clf = text_clf.fit(X_train, encoded_y_train)\n",
    "processing_time = (time.time() - start) / 60"
   ]
  },
  {
   "cell_type": "code",
   "execution_count": 24,
   "metadata": {},
   "outputs": [],
   "source": [
    "# predict\n",
    "predicted = text_clf.predict(X_test)\n",
    "#predicted_proba = text_clf.predict_proba(X_test)"
   ]
  },
  {
   "cell_type": "code",
   "execution_count": 25,
   "metadata": {},
   "outputs": [
    {
     "name": "stdout",
     "output_type": "stream",
     "text": [
      "{'memory': None, 'steps': [('vect', CountVectorizer(analyzer='word', binary=False, decode_error='strict',\n",
      "        dtype=<class 'numpy.int64'>, encoding='utf-8', input='content',\n",
      "        lowercase=True, max_df=0.9, max_features=None, min_df=0.0,\n",
      "        ngram_range=(1, 4), preprocessor=None, stop_words=None,\n",
      "        strip_accents=None, token_pattern='(?u)\\\\b\\\\w\\\\w+\\\\b',\n",
      "        tokenizer=None, vocabulary=None)), ('tfidf', TfidfTransformer(norm='l2', smooth_idf=True, sublinear_tf=False, use_idf=True)), ('clf', KNeighborsClassifier(algorithm='auto', leaf_size=30, metric='minkowski',\n",
      "           metric_params=None, n_jobs=1, n_neighbors=6, p=2,\n",
      "           weights='distance'))], 'vect': CountVectorizer(analyzer='word', binary=False, decode_error='strict',\n",
      "        dtype=<class 'numpy.int64'>, encoding='utf-8', input='content',\n",
      "        lowercase=True, max_df=0.9, max_features=None, min_df=0.0,\n",
      "        ngram_range=(1, 4), preprocessor=None, stop_words=None,\n",
      "        strip_accents=None, token_pattern='(?u)\\\\b\\\\w\\\\w+\\\\b',\n",
      "        tokenizer=None, vocabulary=None), 'tfidf': TfidfTransformer(norm='l2', smooth_idf=True, sublinear_tf=False, use_idf=True), 'clf': KNeighborsClassifier(algorithm='auto', leaf_size=30, metric='minkowski',\n",
      "           metric_params=None, n_jobs=1, n_neighbors=6, p=2,\n",
      "           weights='distance'), 'vect__analyzer': 'word', 'vect__binary': False, 'vect__decode_error': 'strict', 'vect__dtype': <class 'numpy.int64'>, 'vect__encoding': 'utf-8', 'vect__input': 'content', 'vect__lowercase': True, 'vect__max_df': 0.9, 'vect__max_features': None, 'vect__min_df': 0.0, 'vect__ngram_range': (1, 4), 'vect__preprocessor': None, 'vect__stop_words': None, 'vect__strip_accents': None, 'vect__token_pattern': '(?u)\\\\b\\\\w\\\\w+\\\\b', 'vect__tokenizer': None, 'vect__vocabulary': None, 'tfidf__norm': 'l2', 'tfidf__smooth_idf': True, 'tfidf__sublinear_tf': False, 'tfidf__use_idf': True, 'clf__algorithm': 'auto', 'clf__leaf_size': 30, 'clf__metric': 'minkowski', 'clf__metric_params': None, 'clf__n_jobs': 1, 'clf__n_neighbors': 6, 'clf__p': 2, 'clf__weights': 'distance'}\n"
     ]
    }
   ],
   "source": [
    "clf_params = text_clf.get_params()\n",
    "print(clf_params)"
   ]
  },
  {
   "cell_type": "code",
   "execution_count": 26,
   "metadata": {},
   "outputs": [
    {
     "name": "stdout",
     "output_type": "stream",
     "text": [
      "0.8646960118629518\n"
     ]
    }
   ],
   "source": [
    "# precision is a measure of result relevancy\n",
    "from sklearn.metrics import precision_score\n",
    "precision = precision_score(encoded_y_test, predicted, average='samples')\n",
    "print(precision)"
   ]
  },
  {
   "cell_type": "code",
   "execution_count": 27,
   "metadata": {},
   "outputs": [
    {
     "name": "stdout",
     "output_type": "stream",
     "text": [
      "0.8334152813548739\n"
     ]
    }
   ],
   "source": [
    "# recall is a measure of how many truly relevant results are returned\n",
    "from sklearn.metrics import recall_score\n",
    "recall = recall_score(encoded_y_test, predicted, average='samples')  \n",
    "print(recall)"
   ]
  },
  {
   "cell_type": "code",
   "execution_count": 28,
   "metadata": {},
   "outputs": [
    {
     "name": "stdout",
     "output_type": "stream",
     "text": [
      "0.8354697424119106\n"
     ]
    }
   ],
   "source": [
    "# F1 score is a weighted average of the precision and recall\n",
    "from sklearn.metrics import f1_score\n",
    "f1 = f1_score(encoded_y_test, predicted, average='samples') \n",
    "print(f1)"
   ]
  },
  {
   "cell_type": "markdown",
   "metadata": {},
   "source": [
    "Parameteroptimierung mit Rastersuche (RandomizedSearch)"
   ]
  },
  {
   "cell_type": "code",
   "execution_count": 8,
   "metadata": {},
   "outputs": [],
   "source": [
    "clf = Pipeline([('vect', CountVectorizer()),\n",
    "                     ('tfidf', TfidfTransformer()),\n",
    "                     ('clf', KNeighborsClassifier()),\n",
    "                    ])"
   ]
  },
  {
   "cell_type": "code",
   "execution_count": 9,
   "metadata": {},
   "outputs": [],
   "source": [
    "# parameter tuning with RandomSearch\n",
    "parameters = {'vect__ngram_range': [(1, 1), (1,2),(1,3),(1,4)], \n",
    "              'vect__max_df' : (0.7, 0.8, 0.9, 1.0), \n",
    "              'vect__min_df' : (0.0, 0.01, 0.05, 0.1),\n",
    "              'tfidf__use_idf': (True, False),\n",
    "              'clf__n_neighbors': list(range(1,10,1)),\n",
    "              'clf__weights' : ('distance', 'uniform')\n",
    "             }"
   ]
  },
  {
   "cell_type": "code",
   "execution_count": 10,
   "metadata": {},
   "outputs": [
    {
     "name": "stdout",
     "output_type": "stream",
     "text": [
      "Fitting 3 folds for each of 50 candidates, totalling 150 fits\n",
      "[CV] vect__ngram_range=(1, 1), vect__min_df=0.05, vect__max_df=0.9, tfidf__use_idf=False, clf__weights=distance, clf__n_neighbors=5 \n",
      "[CV]  vect__ngram_range=(1, 1), vect__min_df=0.05, vect__max_df=0.9, tfidf__use_idf=False, clf__weights=distance, clf__n_neighbors=5, score=0.42096944151738674, total=  14.6s\n",
      "[CV] vect__ngram_range=(1, 1), vect__min_df=0.05, vect__max_df=0.9, tfidf__use_idf=False, clf__weights=distance, clf__n_neighbors=5 \n"
     ]
    },
    {
     "name": "stderr",
     "output_type": "stream",
     "text": [
      "[Parallel(n_jobs=1)]: Done   1 out of   1 | elapsed:   52.6s remaining:    0.0s\n"
     ]
    },
    {
     "name": "stdout",
     "output_type": "stream",
     "text": [
      "[CV]  vect__ngram_range=(1, 1), vect__min_df=0.05, vect__max_df=0.9, tfidf__use_idf=False, clf__weights=distance, clf__n_neighbors=5, score=0.40909889337783245, total=  15.9s\n",
      "[CV] vect__ngram_range=(1, 1), vect__min_df=0.05, vect__max_df=0.9, tfidf__use_idf=False, clf__weights=distance, clf__n_neighbors=5 \n"
     ]
    },
    {
     "name": "stderr",
     "output_type": "stream",
     "text": [
      "[Parallel(n_jobs=1)]: Done   2 out of   2 | elapsed:  1.6min remaining:    0.0s\n"
     ]
    },
    {
     "name": "stdout",
     "output_type": "stream",
     "text": [
      "[CV]  vect__ngram_range=(1, 1), vect__min_df=0.05, vect__max_df=0.9, tfidf__use_idf=False, clf__weights=distance, clf__n_neighbors=5, score=0.4215703495520815, total=  15.8s\n",
      "[CV] vect__ngram_range=(1, 4), vect__min_df=0.0, vect__max_df=0.9, tfidf__use_idf=True, clf__weights=distance, clf__n_neighbors=6 \n"
     ]
    },
    {
     "name": "stderr",
     "output_type": "stream",
     "text": [
      "[Parallel(n_jobs=1)]: Done   3 out of   3 | elapsed:  2.3min remaining:    0.0s\n"
     ]
    },
    {
     "name": "stdout",
     "output_type": "stream",
     "text": [
      "[CV]  vect__ngram_range=(1, 4), vect__min_df=0.0, vect__max_df=0.9, tfidf__use_idf=True, clf__weights=distance, clf__n_neighbors=6, score=0.7014401123990165, total= 2.3min\n",
      "[CV] vect__ngram_range=(1, 4), vect__min_df=0.0, vect__max_df=0.9, tfidf__use_idf=True, clf__weights=distance, clf__n_neighbors=6 \n"
     ]
    },
    {
     "name": "stderr",
     "output_type": "stream",
     "text": [
      "[Parallel(n_jobs=1)]: Done   4 out of   4 | elapsed:  5.7min remaining:    0.0s\n"
     ]
    },
    {
     "name": "stdout",
     "output_type": "stream",
     "text": [
      "[CV]  vect__ngram_range=(1, 4), vect__min_df=0.0, vect__max_df=0.9, tfidf__use_idf=True, clf__weights=distance, clf__n_neighbors=6, score=0.6919023362023538, total= 2.1min\n",
      "[CV] vect__ngram_range=(1, 4), vect__min_df=0.0, vect__max_df=0.9, tfidf__use_idf=True, clf__weights=distance, clf__n_neighbors=6 \n"
     ]
    },
    {
     "name": "stderr",
     "output_type": "stream",
     "text": [
      "[Parallel(n_jobs=1)]: Done   5 out of   5 | elapsed:  9.2min remaining:    0.0s\n"
     ]
    },
    {
     "name": "stdout",
     "output_type": "stream",
     "text": [
      "[CV]  vect__ngram_range=(1, 4), vect__min_df=0.0, vect__max_df=0.9, tfidf__use_idf=True, clf__weights=distance, clf__n_neighbors=6, score=0.6857544352713859, total= 2.2min\n",
      "[CV] vect__ngram_range=(1, 2), vect__min_df=0.01, vect__max_df=0.8, tfidf__use_idf=False, clf__weights=uniform, clf__n_neighbors=5 \n"
     ]
    },
    {
     "name": "stderr",
     "output_type": "stream",
     "text": [
      "[Parallel(n_jobs=1)]: Done   6 out of   6 | elapsed: 12.8min remaining:    0.0s\n"
     ]
    },
    {
     "name": "stdout",
     "output_type": "stream",
     "text": [
      "[CV]  vect__ngram_range=(1, 2), vect__min_df=0.01, vect__max_df=0.8, tfidf__use_idf=False, clf__weights=uniform, clf__n_neighbors=5, score=0.35493501931858096, total=  36.3s\n"
     ]
    },
    {
     "name": "stderr",
     "output_type": "stream",
     "text": [
      "[Parallel(n_jobs=1)]: Done   7 out of   7 | elapsed: 14.0min remaining:    0.0s\n"
     ]
    },
    {
     "name": "stdout",
     "output_type": "stream",
     "text": [
      "[CV] vect__ngram_range=(1, 2), vect__min_df=0.01, vect__max_df=0.8, tfidf__use_idf=False, clf__weights=uniform, clf__n_neighbors=5 \n",
      "[CV]  vect__ngram_range=(1, 2), vect__min_df=0.01, vect__max_df=0.8, tfidf__use_idf=False, clf__weights=uniform, clf__n_neighbors=5, score=0.3953978570173898, total=  38.6s\n"
     ]
    },
    {
     "name": "stderr",
     "output_type": "stream",
     "text": [
      "[Parallel(n_jobs=1)]: Done   8 out of   8 | elapsed: 15.2min remaining:    0.0s\n"
     ]
    },
    {
     "name": "stdout",
     "output_type": "stream",
     "text": [
      "[CV] vect__ngram_range=(1, 2), vect__min_df=0.01, vect__max_df=0.8, tfidf__use_idf=False, clf__weights=uniform, clf__n_neighbors=5 \n",
      "[CV]  vect__ngram_range=(1, 2), vect__min_df=0.01, vect__max_df=0.8, tfidf__use_idf=False, clf__weights=uniform, clf__n_neighbors=5, score=0.29878798524503775, total=  37.5s\n"
     ]
    },
    {
     "name": "stderr",
     "output_type": "stream",
     "text": [
      "[Parallel(n_jobs=1)]: Done   9 out of   9 | elapsed: 16.3min remaining:    0.0s\n"
     ]
    },
    {
     "name": "stdout",
     "output_type": "stream",
     "text": [
      "[CV] vect__ngram_range=(1, 1), vect__min_df=0.05, vect__max_df=1.0, tfidf__use_idf=True, clf__weights=distance, clf__n_neighbors=1 \n",
      "[CV]  vect__ngram_range=(1, 1), vect__min_df=0.05, vect__max_df=1.0, tfidf__use_idf=True, clf__weights=distance, clf__n_neighbors=1, score=0.43888303477344576, total=  16.2s\n",
      "[CV] vect__ngram_range=(1, 1), vect__min_df=0.05, vect__max_df=1.0, tfidf__use_idf=True, clf__weights=distance, clf__n_neighbors=1 \n",
      "[CV]  vect__ngram_range=(1, 1), vect__min_df=0.05, vect__max_df=1.0, tfidf__use_idf=True, clf__weights=distance, clf__n_neighbors=1, score=0.4415949411558054, total=  15.0s\n",
      "[CV] vect__ngram_range=(1, 1), vect__min_df=0.05, vect__max_df=1.0, tfidf__use_idf=True, clf__weights=distance, clf__n_neighbors=1 \n",
      "[CV]  vect__ngram_range=(1, 1), vect__min_df=0.05, vect__max_df=1.0, tfidf__use_idf=True, clf__weights=distance, clf__n_neighbors=1, score=0.45459336026699454, total=  15.2s\n",
      "[CV] vect__ngram_range=(1, 3), vect__min_df=0.1, vect__max_df=1.0, tfidf__use_idf=True, clf__weights=distance, clf__n_neighbors=5 \n",
      "[CV]  vect__ngram_range=(1, 3), vect__min_df=0.1, vect__max_df=1.0, tfidf__use_idf=True, clf__weights=distance, clf__n_neighbors=5, score=0.4244819107832806, total= 1.1min\n",
      "[CV] vect__ngram_range=(1, 3), vect__min_df=0.1, vect__max_df=1.0, tfidf__use_idf=True, clf__weights=distance, clf__n_neighbors=5 \n",
      "[CV]  vect__ngram_range=(1, 3), vect__min_df=0.1, vect__max_df=1.0, tfidf__use_idf=True, clf__weights=distance, clf__n_neighbors=5, score=0.40804496750395225, total= 1.1min\n",
      "[CV] vect__ngram_range=(1, 3), vect__min_df=0.1, vect__max_df=1.0, tfidf__use_idf=True, clf__weights=distance, clf__n_neighbors=5 \n",
      "[CV]  vect__ngram_range=(1, 3), vect__min_df=0.1, vect__max_df=1.0, tfidf__use_idf=True, clf__weights=distance, clf__n_neighbors=5, score=0.41805726330581416, total= 1.2min\n",
      "[CV] vect__ngram_range=(1, 4), vect__min_df=0.1, vect__max_df=0.9, tfidf__use_idf=False, clf__weights=distance, clf__n_neighbors=1 \n",
      "[CV]  vect__ngram_range=(1, 4), vect__min_df=0.1, vect__max_df=0.9, tfidf__use_idf=False, clf__weights=distance, clf__n_neighbors=1, score=0.3818054092026695, total= 1.7min\n",
      "[CV] vect__ngram_range=(1, 4), vect__min_df=0.1, vect__max_df=0.9, tfidf__use_idf=False, clf__weights=distance, clf__n_neighbors=1 \n",
      "[CV]  vect__ngram_range=(1, 4), vect__min_df=0.1, vect__max_df=0.9, tfidf__use_idf=False, clf__weights=distance, clf__n_neighbors=1, score=0.36184788336553664, total= 1.7min\n",
      "[CV] vect__ngram_range=(1, 4), vect__min_df=0.1, vect__max_df=0.9, tfidf__use_idf=False, clf__weights=distance, clf__n_neighbors=1 \n",
      "[CV]  vect__ngram_range=(1, 4), vect__min_df=0.1, vect__max_df=0.9, tfidf__use_idf=False, clf__weights=distance, clf__n_neighbors=1, score=0.3823994379062006, total= 1.7min\n",
      "[CV] vect__ngram_range=(1, 1), vect__min_df=0.05, vect__max_df=0.7, tfidf__use_idf=False, clf__weights=distance, clf__n_neighbors=9 \n",
      "[CV]  vect__ngram_range=(1, 1), vect__min_df=0.05, vect__max_df=0.7, tfidf__use_idf=False, clf__weights=distance, clf__n_neighbors=9, score=0.43291183702142605, total=  14.2s\n",
      "[CV] vect__ngram_range=(1, 1), vect__min_df=0.05, vect__max_df=0.7, tfidf__use_idf=False, clf__weights=distance, clf__n_neighbors=9 \n",
      "[CV]  vect__ngram_range=(1, 1), vect__min_df=0.05, vect__max_df=0.7, tfidf__use_idf=False, clf__weights=distance, clf__n_neighbors=9, score=0.42121904092745477, total=  14.1s\n",
      "[CV] vect__ngram_range=(1, 1), vect__min_df=0.05, vect__max_df=0.7, tfidf__use_idf=False, clf__weights=distance, clf__n_neighbors=9 \n",
      "[CV]  vect__ngram_range=(1, 1), vect__min_df=0.05, vect__max_df=0.7, tfidf__use_idf=False, clf__weights=distance, clf__n_neighbors=9, score=0.4317582996662568, total=  14.0s\n",
      "[CV] vect__ngram_range=(1, 2), vect__min_df=0.05, vect__max_df=1.0, tfidf__use_idf=True, clf__weights=distance, clf__n_neighbors=4 \n",
      "[CV]  vect__ngram_range=(1, 2), vect__min_df=0.05, vect__max_df=1.0, tfidf__use_idf=True, clf__weights=distance, clf__n_neighbors=4, score=0.41429574991218826, total=  36.8s\n",
      "[CV] vect__ngram_range=(1, 2), vect__min_df=0.05, vect__max_df=1.0, tfidf__use_idf=True, clf__weights=distance, clf__n_neighbors=4 \n",
      "[CV]  vect__ngram_range=(1, 2), vect__min_df=0.05, vect__max_df=1.0, tfidf__use_idf=True, clf__weights=distance, clf__n_neighbors=4, score=0.40347795538380465, total=  41.4s\n",
      "[CV] vect__ngram_range=(1, 2), vect__min_df=0.05, vect__max_df=1.0, tfidf__use_idf=True, clf__weights=distance, clf__n_neighbors=4 \n",
      "[CV]  vect__ngram_range=(1, 2), vect__min_df=0.05, vect__max_df=1.0, tfidf__use_idf=True, clf__weights=distance, clf__n_neighbors=4, score=0.4022483751976111, total=  39.1s\n",
      "[CV] vect__ngram_range=(1, 3), vect__min_df=0.05, vect__max_df=1.0, tfidf__use_idf=True, clf__weights=distance, clf__n_neighbors=5 \n",
      "[CV]  vect__ngram_range=(1, 3), vect__min_df=0.05, vect__max_df=1.0, tfidf__use_idf=True, clf__weights=distance, clf__n_neighbors=5, score=0.3953284158763611, total= 1.2min\n",
      "[CV] vect__ngram_range=(1, 3), vect__min_df=0.05, vect__max_df=1.0, tfidf__use_idf=True, clf__weights=distance, clf__n_neighbors=5 \n",
      "[CV]  vect__ngram_range=(1, 3), vect__min_df=0.05, vect__max_df=1.0, tfidf__use_idf=True, clf__weights=distance, clf__n_neighbors=5, score=0.4033023010714913, total= 1.1min\n",
      "[CV] vect__ngram_range=(1, 3), vect__min_df=0.05, vect__max_df=1.0, tfidf__use_idf=True, clf__weights=distance, clf__n_neighbors=5 \n",
      "[CV]  vect__ngram_range=(1, 3), vect__min_df=0.05, vect__max_df=1.0, tfidf__use_idf=True, clf__weights=distance, clf__n_neighbors=5, score=0.4010187950114175, total= 1.1min\n",
      "[CV] vect__ngram_range=(1, 4), vect__min_df=0.1, vect__max_df=0.7, tfidf__use_idf=False, clf__weights=distance, clf__n_neighbors=5 \n",
      "[CV]  vect__ngram_range=(1, 4), vect__min_df=0.1, vect__max_df=0.7, tfidf__use_idf=False, clf__weights=distance, clf__n_neighbors=5, score=0.42377941693010185, total= 1.8min\n",
      "[CV] vect__ngram_range=(1, 4), vect__min_df=0.1, vect__max_df=0.7, tfidf__use_idf=False, clf__weights=distance, clf__n_neighbors=5 \n",
      "[CV]  vect__ngram_range=(1, 4), vect__min_df=0.1, vect__max_df=0.7, tfidf__use_idf=False, clf__weights=distance, clf__n_neighbors=5, score=0.41436852274723346, total= 1.7min\n",
      "[CV] vect__ngram_range=(1, 4), vect__min_df=0.1, vect__max_df=0.7, tfidf__use_idf=False, clf__weights=distance, clf__n_neighbors=5 \n",
      "[CV]  vect__ngram_range=(1, 4), vect__min_df=0.1, vect__max_df=0.7, tfidf__use_idf=False, clf__weights=distance, clf__n_neighbors=5, score=0.41226067099947306, total= 1.7min\n",
      "[CV] vect__ngram_range=(1, 4), vect__min_df=0.0, vect__max_df=0.9, tfidf__use_idf=False, clf__weights=distance, clf__n_neighbors=5 \n",
      "[CV]  vect__ngram_range=(1, 4), vect__min_df=0.0, vect__max_df=0.9, tfidf__use_idf=False, clf__weights=distance, clf__n_neighbors=5, score=0.4172813487881981, total= 1.9min\n",
      "[CV] vect__ngram_range=(1, 4), vect__min_df=0.0, vect__max_df=0.9, tfidf__use_idf=False, clf__weights=distance, clf__n_neighbors=5 \n",
      "[CV]  vect__ngram_range=(1, 4), vect__min_df=0.0, vect__max_df=0.9, tfidf__use_idf=False, clf__weights=distance, clf__n_neighbors=5, score=0.42279992973827507, total= 1.9min\n",
      "[CV] vect__ngram_range=(1, 4), vect__min_df=0.0, vect__max_df=0.9, tfidf__use_idf=False, clf__weights=distance, clf__n_neighbors=5 \n",
      "[CV]  vect__ngram_range=(1, 4), vect__min_df=0.0, vect__max_df=0.9, tfidf__use_idf=False, clf__weights=distance, clf__n_neighbors=5, score=0.45389074301774107, total= 1.9min\n",
      "[CV] vect__ngram_range=(1, 4), vect__min_df=0.05, vect__max_df=0.9, tfidf__use_idf=False, clf__weights=distance, clf__n_neighbors=5 \n",
      "[CV]  vect__ngram_range=(1, 4), vect__min_df=0.05, vect__max_df=0.9, tfidf__use_idf=False, clf__weights=distance, clf__n_neighbors=5, score=0.4158763610818405, total= 1.7min\n",
      "[CV] vect__ngram_range=(1, 4), vect__min_df=0.05, vect__max_df=0.9, tfidf__use_idf=False, clf__weights=distance, clf__n_neighbors=5 \n",
      "[CV]  vect__ngram_range=(1, 4), vect__min_df=0.05, vect__max_df=0.9, tfidf__use_idf=False, clf__weights=distance, clf__n_neighbors=5, score=0.40611277006850516, total= 1.7min\n",
      "[CV] vect__ngram_range=(1, 4), vect__min_df=0.05, vect__max_df=0.9, tfidf__use_idf=False, clf__weights=distance, clf__n_neighbors=5 \n",
      "[CV]  vect__ngram_range=(1, 4), vect__min_df=0.05, vect__max_df=0.9, tfidf__use_idf=False, clf__weights=distance, clf__n_neighbors=5, score=0.41665202880730723, total= 1.7min\n",
      "[CV] vect__ngram_range=(1, 2), vect__min_df=0.0, vect__max_df=0.8, tfidf__use_idf=False, clf__weights=uniform, clf__n_neighbors=5 \n"
     ]
    },
    {
     "name": "stdout",
     "output_type": "stream",
     "text": [
      "[CV]  vect__ngram_range=(1, 2), vect__min_df=0.0, vect__max_df=0.8, tfidf__use_idf=False, clf__weights=uniform, clf__n_neighbors=5, score=0.46505093080435544, total=  41.3s\n",
      "[CV] vect__ngram_range=(1, 2), vect__min_df=0.0, vect__max_df=0.8, tfidf__use_idf=False, clf__weights=uniform, clf__n_neighbors=5 \n",
      "[CV]  vect__ngram_range=(1, 2), vect__min_df=0.0, vect__max_df=0.8, tfidf__use_idf=False, clf__weights=uniform, clf__n_neighbors=5, score=0.45986298963639555, total=  42.6s\n",
      "[CV] vect__ngram_range=(1, 2), vect__min_df=0.0, vect__max_df=0.8, tfidf__use_idf=False, clf__weights=uniform, clf__n_neighbors=5 \n",
      "[CV]  vect__ngram_range=(1, 2), vect__min_df=0.0, vect__max_df=0.8, tfidf__use_idf=False, clf__weights=uniform, clf__n_neighbors=5, score=0.49235903741436854, total=  41.7s\n",
      "[CV] vect__ngram_range=(1, 1), vect__min_df=0.1, vect__max_df=0.9, tfidf__use_idf=True, clf__weights=uniform, clf__n_neighbors=7 \n",
      "[CV]  vect__ngram_range=(1, 1), vect__min_df=0.1, vect__max_df=0.9, tfidf__use_idf=True, clf__weights=uniform, clf__n_neighbors=7, score=0.4409905163329821, total=  14.3s\n",
      "[CV] vect__ngram_range=(1, 1), vect__min_df=0.1, vect__max_df=0.9, tfidf__use_idf=True, clf__weights=uniform, clf__n_neighbors=7 \n",
      "[CV]  vect__ngram_range=(1, 1), vect__min_df=0.1, vect__max_df=0.9, tfidf__use_idf=True, clf__weights=uniform, clf__n_neighbors=7, score=0.4338661514140172, total=  14.4s\n",
      "[CV] vect__ngram_range=(1, 1), vect__min_df=0.1, vect__max_df=0.9, tfidf__use_idf=True, clf__weights=uniform, clf__n_neighbors=7 \n",
      "[CV]  vect__ngram_range=(1, 1), vect__min_df=0.1, vect__max_df=0.9, tfidf__use_idf=True, clf__weights=uniform, clf__n_neighbors=7, score=0.43650096609871775, total=  16.2s\n",
      "[CV] vect__ngram_range=(1, 2), vect__min_df=0.1, vect__max_df=0.8, tfidf__use_idf=True, clf__weights=distance, clf__n_neighbors=2 \n",
      "[CV]  vect__ngram_range=(1, 2), vect__min_df=0.1, vect__max_df=0.8, tfidf__use_idf=True, clf__weights=distance, clf__n_neighbors=2, score=0.4174569722514928, total=  38.5s\n",
      "[CV] vect__ngram_range=(1, 2), vect__min_df=0.1, vect__max_df=0.8, tfidf__use_idf=True, clf__weights=distance, clf__n_neighbors=2 \n",
      "[CV]  vect__ngram_range=(1, 2), vect__min_df=0.1, vect__max_df=0.8, tfidf__use_idf=True, clf__weights=distance, clf__n_neighbors=2, score=0.4001405234498507, total=  34.5s\n",
      "[CV] vect__ngram_range=(1, 2), vect__min_df=0.1, vect__max_df=0.8, tfidf__use_idf=True, clf__weights=distance, clf__n_neighbors=2 \n",
      "[CV]  vect__ngram_range=(1, 2), vect__min_df=0.1, vect__max_df=0.8, tfidf__use_idf=True, clf__weights=distance, clf__n_neighbors=2, score=0.41366590549798, total=  35.6s\n",
      "[CV] vect__ngram_range=(1, 4), vect__min_df=0.01, vect__max_df=0.7, tfidf__use_idf=False, clf__weights=distance, clf__n_neighbors=3 \n",
      "[CV]  vect__ngram_range=(1, 4), vect__min_df=0.01, vect__max_df=0.7, tfidf__use_idf=False, clf__weights=distance, clf__n_neighbors=3, score=0.40516332982086406, total= 1.7min\n",
      "[CV] vect__ngram_range=(1, 4), vect__min_df=0.01, vect__max_df=0.7, tfidf__use_idf=False, clf__weights=distance, clf__n_neighbors=3 \n",
      "[CV]  vect__ngram_range=(1, 4), vect__min_df=0.01, vect__max_df=0.7, tfidf__use_idf=False, clf__weights=distance, clf__n_neighbors=3, score=0.3168803794133146, total= 1.7min\n",
      "[CV] vect__ngram_range=(1, 4), vect__min_df=0.01, vect__max_df=0.7, tfidf__use_idf=False, clf__weights=distance, clf__n_neighbors=3 \n",
      "[CV]  vect__ngram_range=(1, 4), vect__min_df=0.01, vect__max_df=0.7, tfidf__use_idf=False, clf__weights=distance, clf__n_neighbors=3, score=0.2691024064640787, total= 1.7min\n",
      "[CV] vect__ngram_range=(1, 1), vect__min_df=0.0, vect__max_df=0.8, tfidf__use_idf=True, clf__weights=uniform, clf__n_neighbors=7 \n",
      "[CV]  vect__ngram_range=(1, 1), vect__min_df=0.0, vect__max_df=0.8, tfidf__use_idf=True, clf__weights=uniform, clf__n_neighbors=7, score=0.6719353705655076, total=  17.5s\n",
      "[CV] vect__ngram_range=(1, 1), vect__min_df=0.0, vect__max_df=0.8, tfidf__use_idf=True, clf__weights=uniform, clf__n_neighbors=7 \n",
      "[CV]  vect__ngram_range=(1, 1), vect__min_df=0.0, vect__max_df=0.8, tfidf__use_idf=True, clf__weights=uniform, clf__n_neighbors=7, score=0.6516774986825926, total=  17.1s\n",
      "[CV] vect__ngram_range=(1, 1), vect__min_df=0.0, vect__max_df=0.8, tfidf__use_idf=True, clf__weights=uniform, clf__n_neighbors=7 \n",
      "[CV]  vect__ngram_range=(1, 1), vect__min_df=0.0, vect__max_df=0.8, tfidf__use_idf=True, clf__weights=uniform, clf__n_neighbors=7, score=0.6611628315475145, total=  17.6s\n",
      "[CV] vect__ngram_range=(1, 4), vect__min_df=0.05, vect__max_df=0.8, tfidf__use_idf=False, clf__weights=uniform, clf__n_neighbors=7 \n",
      "[CV]  vect__ngram_range=(1, 4), vect__min_df=0.05, vect__max_df=0.8, tfidf__use_idf=False, clf__weights=uniform, clf__n_neighbors=7, score=0.422550052687039, total= 1.7min\n",
      "[CV] vect__ngram_range=(1, 4), vect__min_df=0.05, vect__max_df=0.8, tfidf__use_idf=False, clf__weights=uniform, clf__n_neighbors=7 \n",
      "[CV]  vect__ngram_range=(1, 4), vect__min_df=0.05, vect__max_df=0.8, tfidf__use_idf=False, clf__weights=uniform, clf__n_neighbors=7, score=0.4168276831196206, total= 1.7min\n",
      "[CV] vect__ngram_range=(1, 4), vect__min_df=0.05, vect__max_df=0.8, tfidf__use_idf=False, clf__weights=uniform, clf__n_neighbors=7 \n",
      "[CV]  vect__ngram_range=(1, 4), vect__min_df=0.05, vect__max_df=0.8, tfidf__use_idf=False, clf__weights=uniform, clf__n_neighbors=7, score=0.41823291761812753, total= 1.7min\n",
      "[CV] vect__ngram_range=(1, 4), vect__min_df=0.0, vect__max_df=0.7, tfidf__use_idf=False, clf__weights=uniform, clf__n_neighbors=1 \n",
      "[CV]  vect__ngram_range=(1, 4), vect__min_df=0.0, vect__max_df=0.7, tfidf__use_idf=False, clf__weights=uniform, clf__n_neighbors=1, score=0.5114155251141552, total= 1.8min\n",
      "[CV] vect__ngram_range=(1, 4), vect__min_df=0.0, vect__max_df=0.7, tfidf__use_idf=False, clf__weights=uniform, clf__n_neighbors=1 \n",
      "[CV]  vect__ngram_range=(1, 4), vect__min_df=0.0, vect__max_df=0.7, tfidf__use_idf=False, clf__weights=uniform, clf__n_neighbors=1, score=0.47830669242929913, total= 1.9min\n",
      "[CV] vect__ngram_range=(1, 4), vect__min_df=0.0, vect__max_df=0.7, tfidf__use_idf=False, clf__weights=uniform, clf__n_neighbors=1 \n",
      "[CV]  vect__ngram_range=(1, 4), vect__min_df=0.0, vect__max_df=0.7, tfidf__use_idf=False, clf__weights=uniform, clf__n_neighbors=1, score=0.5220446161953276, total= 1.9min\n",
      "[CV] vect__ngram_range=(1, 4), vect__min_df=0.1, vect__max_df=0.9, tfidf__use_idf=False, clf__weights=distance, clf__n_neighbors=2 \n",
      "[CV]  vect__ngram_range=(1, 4), vect__min_df=0.1, vect__max_df=0.9, tfidf__use_idf=False, clf__weights=distance, clf__n_neighbors=2, score=0.38198103266596417, total= 1.7min\n",
      "[CV] vect__ngram_range=(1, 4), vect__min_df=0.1, vect__max_df=0.9, tfidf__use_idf=False, clf__weights=distance, clf__n_neighbors=2 \n",
      "[CV]  vect__ngram_range=(1, 4), vect__min_df=0.1, vect__max_df=0.9, tfidf__use_idf=False, clf__weights=distance, clf__n_neighbors=2, score=0.36132092042859654, total= 1.7min\n",
      "[CV] vect__ngram_range=(1, 4), vect__min_df=0.1, vect__max_df=0.9, tfidf__use_idf=False, clf__weights=distance, clf__n_neighbors=2 \n",
      "[CV]  vect__ngram_range=(1, 4), vect__min_df=0.1, vect__max_df=0.9, tfidf__use_idf=False, clf__weights=distance, clf__n_neighbors=2, score=0.3818724749692605, total= 1.7min\n",
      "[CV] vect__ngram_range=(1, 2), vect__min_df=0.05, vect__max_df=0.8, tfidf__use_idf=False, clf__weights=uniform, clf__n_neighbors=7 \n",
      "[CV]  vect__ngram_range=(1, 2), vect__min_df=0.05, vect__max_df=0.8, tfidf__use_idf=False, clf__weights=uniform, clf__n_neighbors=7, score=0.4244819107832806, total=  34.5s\n",
      "[CV] vect__ngram_range=(1, 2), vect__min_df=0.05, vect__max_df=0.8, tfidf__use_idf=False, clf__weights=uniform, clf__n_neighbors=7 \n",
      "[CV]  vect__ngram_range=(1, 2), vect__min_df=0.05, vect__max_df=0.8, tfidf__use_idf=False, clf__weights=uniform, clf__n_neighbors=7, score=0.41665202880730723, total=  34.5s\n",
      "[CV] vect__ngram_range=(1, 2), vect__min_df=0.05, vect__max_df=0.8, tfidf__use_idf=False, clf__weights=uniform, clf__n_neighbors=7 \n",
      "[CV]  vect__ngram_range=(1, 2), vect__min_df=0.05, vect__max_df=0.8, tfidf__use_idf=False, clf__weights=uniform, clf__n_neighbors=7, score=0.4210433866151414, total=  34.5s\n",
      "[CV] vect__ngram_range=(1, 4), vect__min_df=0.1, vect__max_df=0.9, tfidf__use_idf=True, clf__weights=distance, clf__n_neighbors=1 \n"
     ]
    },
    {
     "name": "stdout",
     "output_type": "stream",
     "text": [
      "[CV]  vect__ngram_range=(1, 4), vect__min_df=0.1, vect__max_df=0.9, tfidf__use_idf=True, clf__weights=distance, clf__n_neighbors=1, score=0.41921320688443975, total= 1.7min\n",
      "[CV] vect__ngram_range=(1, 4), vect__min_df=0.1, vect__max_df=0.9, tfidf__use_idf=True, clf__weights=distance, clf__n_neighbors=1 \n",
      "[CV]  vect__ngram_range=(1, 4), vect__min_df=0.1, vect__max_df=0.9, tfidf__use_idf=True, clf__weights=distance, clf__n_neighbors=1, score=0.4064640786931319, total= 1.7min\n",
      "[CV] vect__ngram_range=(1, 4), vect__min_df=0.1, vect__max_df=0.9, tfidf__use_idf=True, clf__weights=distance, clf__n_neighbors=1 \n",
      "[CV]  vect__ngram_range=(1, 4), vect__min_df=0.1, vect__max_df=0.9, tfidf__use_idf=True, clf__weights=distance, clf__n_neighbors=1, score=0.42034076936588793, total= 1.7min\n",
      "[CV] vect__ngram_range=(1, 1), vect__min_df=0.05, vect__max_df=0.9, tfidf__use_idf=False, clf__weights=uniform, clf__n_neighbors=4 \n",
      "[CV]  vect__ngram_range=(1, 1), vect__min_df=0.05, vect__max_df=0.9, tfidf__use_idf=False, clf__weights=uniform, clf__n_neighbors=4, score=0.37846856340007023, total=  15.4s\n",
      "[CV] vect__ngram_range=(1, 1), vect__min_df=0.05, vect__max_df=0.9, tfidf__use_idf=False, clf__weights=uniform, clf__n_neighbors=4 \n",
      "[CV]  vect__ngram_range=(1, 1), vect__min_df=0.05, vect__max_df=0.9, tfidf__use_idf=False, clf__weights=uniform, clf__n_neighbors=4, score=0.37765677147373966, total=  15.3s\n",
      "[CV] vect__ngram_range=(1, 1), vect__min_df=0.05, vect__max_df=0.9, tfidf__use_idf=False, clf__weights=uniform, clf__n_neighbors=4 \n",
      "[CV]  vect__ngram_range=(1, 1), vect__min_df=0.05, vect__max_df=0.9, tfidf__use_idf=False, clf__weights=uniform, clf__n_neighbors=4, score=0.37344106797821885, total=  14.9s\n",
      "[CV] vect__ngram_range=(1, 2), vect__min_df=0.0, vect__max_df=0.7, tfidf__use_idf=False, clf__weights=uniform, clf__n_neighbors=9 \n",
      "[CV]  vect__ngram_range=(1, 2), vect__min_df=0.0, vect__max_df=0.7, tfidf__use_idf=False, clf__weights=uniform, clf__n_neighbors=9, score=0.5205479452054794, total=  40.4s\n",
      "[CV] vect__ngram_range=(1, 2), vect__min_df=0.0, vect__max_df=0.7, tfidf__use_idf=False, clf__weights=uniform, clf__n_neighbors=9 \n",
      "[CV]  vect__ngram_range=(1, 2), vect__min_df=0.0, vect__max_df=0.7, tfidf__use_idf=False, clf__weights=uniform, clf__n_neighbors=9, score=0.49710170384682945, total=  40.5s\n",
      "[CV] vect__ngram_range=(1, 2), vect__min_df=0.0, vect__max_df=0.7, tfidf__use_idf=False, clf__weights=uniform, clf__n_neighbors=9 \n",
      "[CV]  vect__ngram_range=(1, 2), vect__min_df=0.0, vect__max_df=0.7, tfidf__use_idf=False, clf__weights=uniform, clf__n_neighbors=9, score=0.5310029861233093, total=  41.5s\n",
      "[CV] vect__ngram_range=(1, 1), vect__min_df=0.01, vect__max_df=0.7, tfidf__use_idf=False, clf__weights=distance, clf__n_neighbors=7 \n",
      "[CV]  vect__ngram_range=(1, 1), vect__min_df=0.01, vect__max_df=0.7, tfidf__use_idf=False, clf__weights=distance, clf__n_neighbors=7, score=0.35475939585528626, total=  14.7s\n",
      "[CV] vect__ngram_range=(1, 1), vect__min_df=0.01, vect__max_df=0.7, tfidf__use_idf=False, clf__weights=distance, clf__n_neighbors=7 \n",
      "[CV]  vect__ngram_range=(1, 1), vect__min_df=0.01, vect__max_df=0.7, tfidf__use_idf=False, clf__weights=distance, clf__n_neighbors=7, score=0.38854733883716847, total=  15.0s\n",
      "[CV] vect__ngram_range=(1, 1), vect__min_df=0.01, vect__max_df=0.7, tfidf__use_idf=False, clf__weights=distance, clf__n_neighbors=7 \n",
      "[CV]  vect__ngram_range=(1, 1), vect__min_df=0.01, vect__max_df=0.7, tfidf__use_idf=False, clf__weights=distance, clf__n_neighbors=7, score=0.35903741436852277, total=  14.7s\n",
      "[CV] vect__ngram_range=(1, 2), vect__min_df=0.05, vect__max_df=0.7, tfidf__use_idf=False, clf__weights=distance, clf__n_neighbors=5 \n",
      "[CV]  vect__ngram_range=(1, 2), vect__min_df=0.05, vect__max_df=0.7, tfidf__use_idf=False, clf__weights=distance, clf__n_neighbors=5, score=0.418510713031261, total=  33.6s\n",
      "[CV] vect__ngram_range=(1, 2), vect__min_df=0.05, vect__max_df=0.7, tfidf__use_idf=False, clf__weights=distance, clf__n_neighbors=5 \n",
      "[CV]  vect__ngram_range=(1, 2), vect__min_df=0.05, vect__max_df=0.7, tfidf__use_idf=False, clf__weights=distance, clf__n_neighbors=5, score=0.40505884419462496, total=  34.6s\n",
      "[CV] vect__ngram_range=(1, 2), vect__min_df=0.05, vect__max_df=0.7, tfidf__use_idf=False, clf__weights=distance, clf__n_neighbors=5 \n",
      "[CV]  vect__ngram_range=(1, 2), vect__min_df=0.05, vect__max_df=0.7, tfidf__use_idf=False, clf__weights=distance, clf__n_neighbors=5, score=0.4150711399964869, total=  34.7s\n",
      "[CV] vect__ngram_range=(1, 1), vect__min_df=0.1, vect__max_df=0.8, tfidf__use_idf=False, clf__weights=distance, clf__n_neighbors=9 \n",
      "[CV]  vect__ngram_range=(1, 1), vect__min_df=0.1, vect__max_df=0.8, tfidf__use_idf=False, clf__weights=distance, clf__n_neighbors=9, score=0.42360379346680715, total=  14.4s\n",
      "[CV] vect__ngram_range=(1, 1), vect__min_df=0.1, vect__max_df=0.8, tfidf__use_idf=False, clf__weights=distance, clf__n_neighbors=9 \n",
      "[CV]  vect__ngram_range=(1, 1), vect__min_df=0.1, vect__max_df=0.8, tfidf__use_idf=False, clf__weights=distance, clf__n_neighbors=9, score=0.4120850166871597, total=  14.1s\n",
      "[CV] vect__ngram_range=(1, 1), vect__min_df=0.1, vect__max_df=0.8, tfidf__use_idf=False, clf__weights=distance, clf__n_neighbors=9 \n",
      "[CV]  vect__ngram_range=(1, 1), vect__min_df=0.1, vect__max_df=0.8, tfidf__use_idf=False, clf__weights=distance, clf__n_neighbors=9, score=0.41858422624275426, total=  14.3s\n",
      "[CV] vect__ngram_range=(1, 1), vect__min_df=0.1, vect__max_df=0.9, tfidf__use_idf=False, clf__weights=distance, clf__n_neighbors=8 \n",
      "[CV]  vect__ngram_range=(1, 1), vect__min_df=0.1, vect__max_df=0.9, tfidf__use_idf=False, clf__weights=distance, clf__n_neighbors=8, score=0.4223744292237443, total=  14.4s\n",
      "[CV] vect__ngram_range=(1, 1), vect__min_df=0.1, vect__max_df=0.9, tfidf__use_idf=False, clf__weights=distance, clf__n_neighbors=8 \n",
      "[CV]  vect__ngram_range=(1, 1), vect__min_df=0.1, vect__max_df=0.9, tfidf__use_idf=False, clf__weights=distance, clf__n_neighbors=8, score=0.4057614614438784, total=  14.7s\n",
      "[CV] vect__ngram_range=(1, 1), vect__min_df=0.1, vect__max_df=0.9, tfidf__use_idf=False, clf__weights=distance, clf__n_neighbors=8 \n",
      "[CV]  vect__ngram_range=(1, 1), vect__min_df=0.1, vect__max_df=0.9, tfidf__use_idf=False, clf__weights=distance, clf__n_neighbors=8, score=0.408396276128579, total=  14.5s\n",
      "[CV] vect__ngram_range=(1, 2), vect__min_df=0.1, vect__max_df=1.0, tfidf__use_idf=False, clf__weights=distance, clf__n_neighbors=4 \n",
      "[CV]  vect__ngram_range=(1, 2), vect__min_df=0.1, vect__max_df=1.0, tfidf__use_idf=False, clf__weights=distance, clf__n_neighbors=4, score=0.38742536002809974, total=  34.2s\n",
      "[CV] vect__ngram_range=(1, 2), vect__min_df=0.1, vect__max_df=1.0, tfidf__use_idf=False, clf__weights=distance, clf__n_neighbors=4 \n",
      "[CV]  vect__ngram_range=(1, 2), vect__min_df=0.1, vect__max_df=1.0, tfidf__use_idf=False, clf__weights=distance, clf__n_neighbors=4, score=0.3762515369752327, total=  34.4s\n",
      "[CV] vect__ngram_range=(1, 2), vect__min_df=0.1, vect__max_df=1.0, tfidf__use_idf=False, clf__weights=distance, clf__n_neighbors=4 \n",
      "[CV]  vect__ngram_range=(1, 2), vect__min_df=0.1, vect__max_df=1.0, tfidf__use_idf=False, clf__weights=distance, clf__n_neighbors=4, score=0.3769541542244862, total=  34.7s\n",
      "[CV] vect__ngram_range=(1, 3), vect__min_df=0.01, vect__max_df=0.7, tfidf__use_idf=True, clf__weights=distance, clf__n_neighbors=1 \n",
      "[CV]  vect__ngram_range=(1, 3), vect__min_df=0.01, vect__max_df=0.7, tfidf__use_idf=True, clf__weights=distance, clf__n_neighbors=1, score=0.349139445029856, total= 1.1min\n",
      "[CV] vect__ngram_range=(1, 3), vect__min_df=0.01, vect__max_df=0.7, tfidf__use_idf=True, clf__weights=distance, clf__n_neighbors=1 \n",
      "[CV]  vect__ngram_range=(1, 3), vect__min_df=0.01, vect__max_df=0.7, tfidf__use_idf=True, clf__weights=distance, clf__n_neighbors=1, score=0.18285613911821536, total= 1.1min\n",
      "[CV] vect__ngram_range=(1, 3), vect__min_df=0.01, vect__max_df=0.7, tfidf__use_idf=True, clf__weights=distance, clf__n_neighbors=1 \n",
      "[CV]  vect__ngram_range=(1, 3), vect__min_df=0.01, vect__max_df=0.7, tfidf__use_idf=True, clf__weights=distance, clf__n_neighbors=1, score=0.17881608993500792, total= 1.1min\n",
      "[CV] vect__ngram_range=(1, 3), vect__min_df=0.01, vect__max_df=0.8, tfidf__use_idf=True, clf__weights=distance, clf__n_neighbors=7 \n"
     ]
    },
    {
     "name": "stdout",
     "output_type": "stream",
     "text": [
      "[CV]  vect__ngram_range=(1, 3), vect__min_df=0.01, vect__max_df=0.8, tfidf__use_idf=True, clf__weights=distance, clf__n_neighbors=7, score=0.2156656129258869, total= 1.1min\n",
      "[CV] vect__ngram_range=(1, 3), vect__min_df=0.01, vect__max_df=0.8, tfidf__use_idf=True, clf__weights=distance, clf__n_neighbors=7 \n",
      "[CV]  vect__ngram_range=(1, 3), vect__min_df=0.01, vect__max_df=0.8, tfidf__use_idf=True, clf__weights=distance, clf__n_neighbors=7, score=0.30440892323906554, total= 1.1min\n",
      "[CV] vect__ngram_range=(1, 3), vect__min_df=0.01, vect__max_df=0.8, tfidf__use_idf=True, clf__weights=distance, clf__n_neighbors=7 \n",
      "[CV]  vect__ngram_range=(1, 3), vect__min_df=0.01, vect__max_df=0.8, tfidf__use_idf=True, clf__weights=distance, clf__n_neighbors=7, score=0.26295450553311084, total= 1.1min\n",
      "[CV] vect__ngram_range=(1, 1), vect__min_df=0.05, vect__max_df=0.9, tfidf__use_idf=True, clf__weights=distance, clf__n_neighbors=1 \n",
      "[CV]  vect__ngram_range=(1, 1), vect__min_df=0.05, vect__max_df=0.9, tfidf__use_idf=True, clf__weights=distance, clf__n_neighbors=1, score=0.43958552862662453, total=  14.4s\n",
      "[CV] vect__ngram_range=(1, 1), vect__min_df=0.05, vect__max_df=0.9, tfidf__use_idf=True, clf__weights=distance, clf__n_neighbors=1 \n",
      "[CV]  vect__ngram_range=(1, 1), vect__min_df=0.05, vect__max_df=0.9, tfidf__use_idf=True, clf__weights=distance, clf__n_neighbors=1, score=0.46390303881960304, total=  14.6s\n",
      "[CV] vect__ngram_range=(1, 1), vect__min_df=0.05, vect__max_df=0.9, tfidf__use_idf=True, clf__weights=distance, clf__n_neighbors=1 \n",
      "[CV]  vect__ngram_range=(1, 1), vect__min_df=0.05, vect__max_df=0.9, tfidf__use_idf=True, clf__weights=distance, clf__n_neighbors=1, score=0.4826980502371333, total=  14.2s\n",
      "[CV] vect__ngram_range=(1, 3), vect__min_df=0.05, vect__max_df=0.9, tfidf__use_idf=True, clf__weights=distance, clf__n_neighbors=6 \n",
      "[CV]  vect__ngram_range=(1, 3), vect__min_df=0.05, vect__max_df=0.9, tfidf__use_idf=True, clf__weights=distance, clf__n_neighbors=6, score=0.37811731647348085, total= 1.1min\n",
      "[CV] vect__ngram_range=(1, 3), vect__min_df=0.05, vect__max_df=0.9, tfidf__use_idf=True, clf__weights=distance, clf__n_neighbors=6 \n",
      "[CV]  vect__ngram_range=(1, 3), vect__min_df=0.05, vect__max_df=0.9, tfidf__use_idf=True, clf__weights=distance, clf__n_neighbors=6, score=0.39135780783418234, total= 1.1min\n",
      "[CV] vect__ngram_range=(1, 3), vect__min_df=0.05, vect__max_df=0.9, tfidf__use_idf=True, clf__weights=distance, clf__n_neighbors=6 \n",
      "[CV]  vect__ngram_range=(1, 3), vect__min_df=0.05, vect__max_df=0.9, tfidf__use_idf=True, clf__weights=distance, clf__n_neighbors=6, score=0.35851045143158267, total= 1.1min\n",
      "[CV] vect__ngram_range=(1, 3), vect__min_df=0.1, vect__max_df=0.9, tfidf__use_idf=True, clf__weights=uniform, clf__n_neighbors=8 \n",
      "[CV]  vect__ngram_range=(1, 3), vect__min_df=0.1, vect__max_df=0.9, tfidf__use_idf=True, clf__weights=uniform, clf__n_neighbors=8, score=0.4123638918159466, total= 1.1min\n",
      "[CV] vect__ngram_range=(1, 3), vect__min_df=0.1, vect__max_df=0.9, tfidf__use_idf=True, clf__weights=uniform, clf__n_neighbors=8 \n",
      "[CV]  vect__ngram_range=(1, 3), vect__min_df=0.1, vect__max_df=0.9, tfidf__use_idf=True, clf__weights=uniform, clf__n_neighbors=8, score=0.4094502020024592, total= 1.1min\n",
      "[CV] vect__ngram_range=(1, 3), vect__min_df=0.1, vect__max_df=0.9, tfidf__use_idf=True, clf__weights=uniform, clf__n_neighbors=8 \n",
      "[CV]  vect__ngram_range=(1, 3), vect__min_df=0.1, vect__max_df=0.9, tfidf__use_idf=True, clf__weights=uniform, clf__n_neighbors=8, score=0.39715440014052344, total= 1.1min\n",
      "[CV] vect__ngram_range=(1, 2), vect__min_df=0.0, vect__max_df=0.9, tfidf__use_idf=False, clf__weights=uniform, clf__n_neighbors=3 \n",
      "[CV]  vect__ngram_range=(1, 2), vect__min_df=0.0, vect__max_df=0.9, tfidf__use_idf=False, clf__weights=uniform, clf__n_neighbors=3, score=0.4453811029153495, total=  41.5s\n",
      "[CV] vect__ngram_range=(1, 2), vect__min_df=0.0, vect__max_df=0.9, tfidf__use_idf=False, clf__weights=uniform, clf__n_neighbors=3 \n",
      "[CV]  vect__ngram_range=(1, 2), vect__min_df=0.0, vect__max_df=0.9, tfidf__use_idf=False, clf__weights=uniform, clf__n_neighbors=3, score=0.4426488670296856, total=  41.0s\n",
      "[CV] vect__ngram_range=(1, 2), vect__min_df=0.0, vect__max_df=0.9, tfidf__use_idf=False, clf__weights=uniform, clf__n_neighbors=3 \n",
      "[CV]  vect__ngram_range=(1, 2), vect__min_df=0.0, vect__max_df=0.9, tfidf__use_idf=False, clf__weights=uniform, clf__n_neighbors=3, score=0.467240470753557, total=  41.4s\n",
      "[CV] vect__ngram_range=(1, 4), vect__min_df=0.05, vect__max_df=0.8, tfidf__use_idf=False, clf__weights=distance, clf__n_neighbors=5 \n",
      "[CV]  vect__ngram_range=(1, 4), vect__min_df=0.05, vect__max_df=0.8, tfidf__use_idf=False, clf__weights=distance, clf__n_neighbors=5, score=0.4169301018616087, total= 1.7min\n",
      "[CV] vect__ngram_range=(1, 4), vect__min_df=0.05, vect__max_df=0.8, tfidf__use_idf=False, clf__weights=distance, clf__n_neighbors=5 \n",
      "[CV]  vect__ngram_range=(1, 4), vect__min_df=0.05, vect__max_df=0.8, tfidf__use_idf=False, clf__weights=distance, clf__n_neighbors=5, score=0.41436852274723346, total= 1.7min\n",
      "[CV] vect__ngram_range=(1, 4), vect__min_df=0.05, vect__max_df=0.8, tfidf__use_idf=False, clf__weights=distance, clf__n_neighbors=5 \n",
      "[CV]  vect__ngram_range=(1, 4), vect__min_df=0.05, vect__max_df=0.8, tfidf__use_idf=False, clf__weights=distance, clf__n_neighbors=5, score=0.4150711399964869, total= 1.7min\n",
      "[CV] vect__ngram_range=(1, 2), vect__min_df=0.1, vect__max_df=1.0, tfidf__use_idf=False, clf__weights=distance, clf__n_neighbors=9 \n",
      "[CV]  vect__ngram_range=(1, 2), vect__min_df=0.1, vect__max_df=1.0, tfidf__use_idf=False, clf__weights=distance, clf__n_neighbors=9, score=0.39690902704601333, total=  35.0s\n",
      "[CV] vect__ngram_range=(1, 2), vect__min_df=0.1, vect__max_df=1.0, tfidf__use_idf=False, clf__weights=distance, clf__n_neighbors=9 \n",
      "[CV]  vect__ngram_range=(1, 2), vect__min_df=0.1, vect__max_df=1.0, tfidf__use_idf=False, clf__weights=distance, clf__n_neighbors=9, score=0.39065519058492887, total=  34.6s\n",
      "[CV] vect__ngram_range=(1, 2), vect__min_df=0.1, vect__max_df=1.0, tfidf__use_idf=False, clf__weights=distance, clf__n_neighbors=9 \n",
      "[CV]  vect__ngram_range=(1, 2), vect__min_df=0.1, vect__max_df=1.0, tfidf__use_idf=False, clf__weights=distance, clf__n_neighbors=9, score=0.39188477077112244, total=  34.9s\n",
      "[CV] vect__ngram_range=(1, 4), vect__min_df=0.05, vect__max_df=0.8, tfidf__use_idf=False, clf__weights=uniform, clf__n_neighbors=4 \n",
      "[CV]  vect__ngram_range=(1, 4), vect__min_df=0.05, vect__max_df=0.8, tfidf__use_idf=False, clf__weights=uniform, clf__n_neighbors=4, score=0.37829293993677554, total= 1.7min\n",
      "[CV] vect__ngram_range=(1, 4), vect__min_df=0.05, vect__max_df=0.8, tfidf__use_idf=False, clf__weights=uniform, clf__n_neighbors=4 \n",
      "[CV]  vect__ngram_range=(1, 4), vect__min_df=0.05, vect__max_df=0.8, tfidf__use_idf=False, clf__weights=uniform, clf__n_neighbors=4, score=0.38327770946776746, total= 1.7min\n",
      "[CV] vect__ngram_range=(1, 4), vect__min_df=0.05, vect__max_df=0.8, tfidf__use_idf=False, clf__weights=uniform, clf__n_neighbors=4 \n",
      "[CV]  vect__ngram_range=(1, 4), vect__min_df=0.05, vect__max_df=0.8, tfidf__use_idf=False, clf__weights=uniform, clf__n_neighbors=4, score=0.36237484630247674, total= 1.7min\n",
      "[CV] vect__ngram_range=(1, 3), vect__min_df=0.01, vect__max_df=0.9, tfidf__use_idf=True, clf__weights=distance, clf__n_neighbors=6 \n",
      "[CV]  vect__ngram_range=(1, 3), vect__min_df=0.01, vect__max_df=0.9, tfidf__use_idf=True, clf__weights=distance, clf__n_neighbors=6, score=0.18686336494555672, total= 1.1min\n",
      "[CV] vect__ngram_range=(1, 3), vect__min_df=0.01, vect__max_df=0.9, tfidf__use_idf=True, clf__weights=distance, clf__n_neighbors=6 \n",
      "[CV]  vect__ngram_range=(1, 3), vect__min_df=0.01, vect__max_df=0.9, tfidf__use_idf=True, clf__weights=distance, clf__n_neighbors=6, score=0.32566309502898294, total= 1.1min\n",
      "[CV] vect__ngram_range=(1, 3), vect__min_df=0.01, vect__max_df=0.9, tfidf__use_idf=True, clf__weights=distance, clf__n_neighbors=6 \n",
      "[CV]  vect__ngram_range=(1, 3), vect__min_df=0.01, vect__max_df=0.9, tfidf__use_idf=True, clf__weights=distance, clf__n_neighbors=6, score=0.12910591955032497, total= 1.1min\n",
      "[CV] vect__ngram_range=(1, 1), vect__min_df=0.0, vect__max_df=0.9, tfidf__use_idf=False, clf__weights=distance, clf__n_neighbors=9 \n"
     ]
    },
    {
     "name": "stdout",
     "output_type": "stream",
     "text": [
      "[CV]  vect__ngram_range=(1, 1), vect__min_df=0.0, vect__max_df=0.9, tfidf__use_idf=False, clf__weights=distance, clf__n_neighbors=9, score=0.47506146821215317, total=  17.3s\n",
      "[CV] vect__ngram_range=(1, 1), vect__min_df=0.0, vect__max_df=0.9, tfidf__use_idf=False, clf__weights=distance, clf__n_neighbors=9 \n",
      "[CV]  vect__ngram_range=(1, 1), vect__min_df=0.0, vect__max_df=0.9, tfidf__use_idf=False, clf__weights=distance, clf__n_neighbors=9, score=0.4563499033901282, total=  16.8s\n",
      "[CV] vect__ngram_range=(1, 1), vect__min_df=0.0, vect__max_df=0.9, tfidf__use_idf=False, clf__weights=distance, clf__n_neighbors=9 \n",
      "[CV]  vect__ngram_range=(1, 1), vect__min_df=0.0, vect__max_df=0.9, tfidf__use_idf=False, clf__weights=distance, clf__n_neighbors=9, score=0.47988758124011943, total=  16.8s\n",
      "[CV] vect__ngram_range=(1, 4), vect__min_df=0.05, vect__max_df=0.8, tfidf__use_idf=True, clf__weights=distance, clf__n_neighbors=9 \n",
      "[CV]  vect__ngram_range=(1, 4), vect__min_df=0.05, vect__max_df=0.8, tfidf__use_idf=True, clf__weights=distance, clf__n_neighbors=9, score=0.3804004214963119, total= 1.7min\n",
      "[CV] vect__ngram_range=(1, 4), vect__min_df=0.05, vect__max_df=0.8, tfidf__use_idf=True, clf__weights=distance, clf__n_neighbors=9 \n",
      "[CV]  vect__ngram_range=(1, 4), vect__min_df=0.05, vect__max_df=0.8, tfidf__use_idf=True, clf__weights=distance, clf__n_neighbors=9, score=0.37888635165993323, total= 1.7min\n",
      "[CV] vect__ngram_range=(1, 4), vect__min_df=0.05, vect__max_df=0.8, tfidf__use_idf=True, clf__weights=distance, clf__n_neighbors=9 \n",
      "[CV]  vect__ngram_range=(1, 4), vect__min_df=0.05, vect__max_df=0.8, tfidf__use_idf=True, clf__weights=distance, clf__n_neighbors=9, score=0.3390128227647989, total= 1.7min\n",
      "[CV] vect__ngram_range=(1, 1), vect__min_df=0.0, vect__max_df=0.9, tfidf__use_idf=False, clf__weights=uniform, clf__n_neighbors=7 \n",
      "[CV]  vect__ngram_range=(1, 1), vect__min_df=0.0, vect__max_df=0.9, tfidf__use_idf=False, clf__weights=uniform, clf__n_neighbors=7, score=0.4726027397260274, total=  17.2s\n",
      "[CV] vect__ngram_range=(1, 1), vect__min_df=0.0, vect__max_df=0.9, tfidf__use_idf=False, clf__weights=uniform, clf__n_neighbors=7 \n",
      "[CV]  vect__ngram_range=(1, 1), vect__min_df=0.0, vect__max_df=0.9, tfidf__use_idf=False, clf__weights=uniform, clf__n_neighbors=7, score=0.4614438784472159, total=  16.8s\n",
      "[CV] vect__ngram_range=(1, 1), vect__min_df=0.0, vect__max_df=0.9, tfidf__use_idf=False, clf__weights=uniform, clf__n_neighbors=7 \n",
      "[CV]  vect__ngram_range=(1, 1), vect__min_df=0.0, vect__max_df=0.9, tfidf__use_idf=False, clf__weights=uniform, clf__n_neighbors=7, score=0.48041454417705953, total=  17.1s\n",
      "[CV] vect__ngram_range=(1, 1), vect__min_df=0.0, vect__max_df=0.9, tfidf__use_idf=False, clf__weights=uniform, clf__n_neighbors=3 \n",
      "[CV]  vect__ngram_range=(1, 1), vect__min_df=0.0, vect__max_df=0.9, tfidf__use_idf=False, clf__weights=uniform, clf__n_neighbors=3, score=0.47119775201966985, total=  16.3s\n",
      "[CV] vect__ngram_range=(1, 1), vect__min_df=0.0, vect__max_df=0.9, tfidf__use_idf=False, clf__weights=uniform, clf__n_neighbors=3 \n",
      "[CV]  vect__ngram_range=(1, 1), vect__min_df=0.0, vect__max_df=0.9, tfidf__use_idf=False, clf__weights=uniform, clf__n_neighbors=3, score=0.45775513788863514, total=  16.3s\n",
      "[CV] vect__ngram_range=(1, 1), vect__min_df=0.0, vect__max_df=0.9, tfidf__use_idf=False, clf__weights=uniform, clf__n_neighbors=3 \n",
      "[CV]  vect__ngram_range=(1, 1), vect__min_df=0.0, vect__max_df=0.9, tfidf__use_idf=False, clf__weights=uniform, clf__n_neighbors=3, score=0.47777972949235903, total=  17.1s\n",
      "[CV] vect__ngram_range=(1, 2), vect__min_df=0.05, vect__max_df=0.9, tfidf__use_idf=False, clf__weights=distance, clf__n_neighbors=7 \n",
      "[CV]  vect__ngram_range=(1, 2), vect__min_df=0.05, vect__max_df=0.9, tfidf__use_idf=False, clf__weights=distance, clf__n_neighbors=7, score=0.4269406392694064, total=  34.5s\n",
      "[CV] vect__ngram_range=(1, 2), vect__min_df=0.05, vect__max_df=0.9, tfidf__use_idf=False, clf__weights=distance, clf__n_neighbors=7 \n",
      "[CV]  vect__ngram_range=(1, 2), vect__min_df=0.05, vect__max_df=0.9, tfidf__use_idf=False, clf__weights=distance, clf__n_neighbors=7, score=0.41226067099947306, total=  34.7s\n",
      "[CV] vect__ngram_range=(1, 2), vect__min_df=0.05, vect__max_df=0.9, tfidf__use_idf=False, clf__weights=distance, clf__n_neighbors=7 \n",
      "[CV]  vect__ngram_range=(1, 2), vect__min_df=0.05, vect__max_df=0.9, tfidf__use_idf=False, clf__weights=distance, clf__n_neighbors=7, score=0.4178816089935008, total=  36.1s\n",
      "[CV] vect__ngram_range=(1, 3), vect__min_df=0.1, vect__max_df=0.7, tfidf__use_idf=True, clf__weights=uniform, clf__n_neighbors=5 \n",
      "[CV]  vect__ngram_range=(1, 3), vect__min_df=0.1, vect__max_df=0.7, tfidf__use_idf=True, clf__weights=uniform, clf__n_neighbors=5, score=0.4171057253249034, total= 1.2min\n",
      "[CV] vect__ngram_range=(1, 3), vect__min_df=0.1, vect__max_df=0.7, tfidf__use_idf=True, clf__weights=uniform, clf__n_neighbors=5 \n",
      "[CV]  vect__ngram_range=(1, 3), vect__min_df=0.1, vect__max_df=0.7, tfidf__use_idf=True, clf__weights=uniform, clf__n_neighbors=5, score=0.4087475847532057, total= 1.1min\n",
      "[CV] vect__ngram_range=(1, 3), vect__min_df=0.1, vect__max_df=0.7, tfidf__use_idf=True, clf__weights=uniform, clf__n_neighbors=5 \n",
      "[CV]  vect__ngram_range=(1, 3), vect__min_df=0.1, vect__max_df=0.7, tfidf__use_idf=True, clf__weights=uniform, clf__n_neighbors=5, score=0.4231512383629018, total= 1.1min\n",
      "[CV] vect__ngram_range=(1, 1), vect__min_df=0.05, vect__max_df=0.7, tfidf__use_idf=False, clf__weights=distance, clf__n_neighbors=8 \n",
      "[CV]  vect__ngram_range=(1, 1), vect__min_df=0.05, vect__max_df=0.7, tfidf__use_idf=False, clf__weights=distance, clf__n_neighbors=8, score=0.43958552862662453, total=  14.0s\n",
      "[CV] vect__ngram_range=(1, 1), vect__min_df=0.05, vect__max_df=0.7, tfidf__use_idf=False, clf__weights=distance, clf__n_neighbors=8 \n",
      "[CV]  vect__ngram_range=(1, 1), vect__min_df=0.05, vect__max_df=0.7, tfidf__use_idf=False, clf__weights=distance, clf__n_neighbors=8, score=0.434217460038644, total=  14.0s\n",
      "[CV] vect__ngram_range=(1, 1), vect__min_df=0.05, vect__max_df=0.7, tfidf__use_idf=False, clf__weights=distance, clf__n_neighbors=8 \n",
      "[CV]  vect__ngram_range=(1, 1), vect__min_df=0.05, vect__max_df=0.7, tfidf__use_idf=False, clf__weights=distance, clf__n_neighbors=8, score=0.4431758299666257, total=  14.2s\n",
      "[CV] vect__ngram_range=(1, 4), vect__min_df=0.0, vect__max_df=0.9, tfidf__use_idf=True, clf__weights=distance, clf__n_neighbors=5 \n",
      "[CV]  vect__ngram_range=(1, 4), vect__min_df=0.0, vect__max_df=0.9, tfidf__use_idf=True, clf__weights=distance, clf__n_neighbors=5, score=0.6916051984545135, total= 2.0min\n",
      "[CV] vect__ngram_range=(1, 4), vect__min_df=0.0, vect__max_df=0.9, tfidf__use_idf=True, clf__weights=distance, clf__n_neighbors=5 \n",
      "[CV]  vect__ngram_range=(1, 4), vect__min_df=0.0, vect__max_df=0.9, tfidf__use_idf=True, clf__weights=distance, clf__n_neighbors=5, score=0.6847005093975057, total= 2.0min\n",
      "[CV] vect__ngram_range=(1, 4), vect__min_df=0.0, vect__max_df=0.9, tfidf__use_idf=True, clf__weights=distance, clf__n_neighbors=5 \n",
      "[CV]  vect__ngram_range=(1, 4), vect__min_df=0.0, vect__max_df=0.9, tfidf__use_idf=True, clf__weights=distance, clf__n_neighbors=5, score=0.6787282627788512, total= 2.1min\n",
      "[CV] vect__ngram_range=(1, 4), vect__min_df=0.05, vect__max_df=1.0, tfidf__use_idf=False, clf__weights=uniform, clf__n_neighbors=9 \n",
      "[CV]  vect__ngram_range=(1, 4), vect__min_df=0.05, vect__max_df=1.0, tfidf__use_idf=False, clf__weights=uniform, clf__n_neighbors=9, score=0.40235335440814896, total= 1.7min\n",
      "[CV] vect__ngram_range=(1, 4), vect__min_df=0.05, vect__max_df=1.0, tfidf__use_idf=False, clf__weights=uniform, clf__n_neighbors=9 \n",
      "[CV]  vect__ngram_range=(1, 4), vect__min_df=0.05, vect__max_df=1.0, tfidf__use_idf=False, clf__weights=uniform, clf__n_neighbors=9, score=0.4022483751976111, total= 1.7min\n",
      "[CV] vect__ngram_range=(1, 4), vect__min_df=0.05, vect__max_df=1.0, tfidf__use_idf=False, clf__weights=uniform, clf__n_neighbors=9 \n",
      "[CV]  vect__ngram_range=(1, 4), vect__min_df=0.05, vect__max_df=1.0, tfidf__use_idf=False, clf__weights=uniform, clf__n_neighbors=9, score=0.4033023010714913, total= 1.9min\n",
      "[CV] vect__ngram_range=(1, 3), vect__min_df=0.0, vect__max_df=1.0, tfidf__use_idf=False, clf__weights=uniform, clf__n_neighbors=5 \n"
     ]
    },
    {
     "name": "stdout",
     "output_type": "stream",
     "text": [
      "[CV]  vect__ngram_range=(1, 3), vect__min_df=0.0, vect__max_df=1.0, tfidf__use_idf=False, clf__weights=uniform, clf__n_neighbors=5, score=0.3744292237442922, total= 1.3min\n",
      "[CV] vect__ngram_range=(1, 3), vect__min_df=0.0, vect__max_df=1.0, tfidf__use_idf=False, clf__weights=uniform, clf__n_neighbors=5 \n",
      "[CV]  vect__ngram_range=(1, 3), vect__min_df=0.0, vect__max_df=1.0, tfidf__use_idf=False, clf__weights=uniform, clf__n_neighbors=5, score=0.36184788336553664, total= 1.3min\n",
      "[CV] vect__ngram_range=(1, 3), vect__min_df=0.0, vect__max_df=1.0, tfidf__use_idf=False, clf__weights=uniform, clf__n_neighbors=5 \n",
      "[CV]  vect__ngram_range=(1, 3), vect__min_df=0.0, vect__max_df=1.0, tfidf__use_idf=False, clf__weights=uniform, clf__n_neighbors=5, score=0.38433163534164766, total= 1.3min\n",
      "[CV] vect__ngram_range=(1, 3), vect__min_df=0.01, vect__max_df=0.8, tfidf__use_idf=False, clf__weights=distance, clf__n_neighbors=3 \n",
      "[CV]  vect__ngram_range=(1, 3), vect__min_df=0.01, vect__max_df=0.8, tfidf__use_idf=False, clf__weights=distance, clf__n_neighbors=3, score=0.3347383210396909, total= 1.1min\n",
      "[CV] vect__ngram_range=(1, 3), vect__min_df=0.01, vect__max_df=0.8, tfidf__use_idf=False, clf__weights=distance, clf__n_neighbors=3 \n",
      "[CV]  vect__ngram_range=(1, 3), vect__min_df=0.01, vect__max_df=0.8, tfidf__use_idf=False, clf__weights=distance, clf__n_neighbors=3, score=0.36009134024240297, total= 1.1min\n",
      "[CV] vect__ngram_range=(1, 3), vect__min_df=0.01, vect__max_df=0.8, tfidf__use_idf=False, clf__weights=distance, clf__n_neighbors=3 \n",
      "[CV]  vect__ngram_range=(1, 3), vect__min_df=0.01, vect__max_df=0.8, tfidf__use_idf=False, clf__weights=distance, clf__n_neighbors=3, score=0.3205691199718953, total= 1.1min\n"
     ]
    },
    {
     "name": "stderr",
     "output_type": "stream",
     "text": [
      "[Parallel(n_jobs=1)]: Done 150 out of 150 | elapsed: 252.8min finished\n"
     ]
    }
   ],
   "source": [
    "# train\n",
    "rs_clf = RandomizedSearchCV(clf, parameters, n_jobs=1, verbose=10, random_state=1, return_train_score=True, cv=3, n_iter=50)\n",
    "start = time.time()\n",
    "rs_clf = rs_clf.fit(X_train, encoded_y_train)\n",
    "rs_processing_time = (time.time() - start) / 60"
   ]
  },
  {
   "cell_type": "code",
   "execution_count": 11,
   "metadata": {
    "scrolled": true
   },
   "outputs": [
    {
     "name": "stdout",
     "output_type": "stream",
     "text": [
      "0.6930327868852459\n"
     ]
    }
   ],
   "source": [
    "best_score = rs_clf.best_score_\n",
    "print(best_score)"
   ]
  },
  {
   "cell_type": "code",
   "execution_count": 12,
   "metadata": {},
   "outputs": [
    {
     "name": "stdout",
     "output_type": "stream",
     "text": [
      "{'vect__ngram_range': (1, 4), 'vect__min_df': 0.0, 'vect__max_df': 0.9, 'tfidf__use_idf': True, 'clf__weights': 'distance', 'clf__n_neighbors': 6}\n"
     ]
    }
   ],
   "source": [
    "best_params = rs_clf.best_params_\n",
    "print(best_params)"
   ]
  },
  {
   "cell_type": "code",
   "execution_count": 13,
   "metadata": {},
   "outputs": [],
   "source": [
    "# predict \n",
    "rs_predicted = rs_clf.predict(X_test)\n",
    "#print(predicted)"
   ]
  },
  {
   "cell_type": "code",
   "execution_count": 14,
   "metadata": {},
   "outputs": [
    {
     "name": "stdout",
     "output_type": "stream",
     "text": [
      "0.8646960118629518\n"
     ]
    }
   ],
   "source": [
    "# precision is a measure of result relevancy\n",
    "from sklearn.metrics import precision_score\n",
    "rs_precision = precision_score(encoded_y_test, rs_predicted, average='samples')\n",
    "print(rs_precision)\n",
    "#0.9991 best_params"
   ]
  },
  {
   "cell_type": "code",
   "execution_count": 15,
   "metadata": {},
   "outputs": [
    {
     "name": "stdout",
     "output_type": "stream",
     "text": [
      "0.8334152813548739\n"
     ]
    }
   ],
   "source": [
    "# recall is a measure of how many truly relevant results are returned\n",
    "from sklearn.metrics import recall_score\n",
    "rs_recall = recall_score(encoded_y_test, rs_predicted, average='samples')  \n",
    "print(rs_recall)\n",
    "#0.9984 best_params"
   ]
  },
  {
   "cell_type": "code",
   "execution_count": 16,
   "metadata": {},
   "outputs": [
    {
     "name": "stdout",
     "output_type": "stream",
     "text": [
      "0.8354697424119106\n"
     ]
    }
   ],
   "source": [
    "# F1 score is a weighted average of the precision and recall\n",
    "from sklearn.metrics import f1_score\n",
    "rs_f1 = f1_score(encoded_y_test, rs_predicted, average='samples') \n",
    "print(rs_f1)\n",
    "#0.9988 best_params"
   ]
  },
  {
   "cell_type": "markdown",
   "metadata": {},
   "source": [
    "Ergebnisse in Dateien speichern"
   ]
  },
  {
   "cell_type": "code",
   "execution_count": 17,
   "metadata": {},
   "outputs": [],
   "source": [
    "output = '../kNN'\n",
    "if not os.path.exists(output):\n",
    "    os.makedirs(output)\n",
    "    \n",
    "timestamp = time.strftime('%Y-%m-%d_%H.%M')"
   ]
  },
  {
   "cell_type": "code",
   "execution_count": 18,
   "metadata": {},
   "outputs": [
    {
     "name": "stdout",
     "output_type": "stream",
     "text": [
      "PREDICTED:\n",
      "('histoire et archéologie_d', 'pluridisciplinarité_d')\n",
      "TRUE:\n",
      "['pluridisciplinarité_d', 'histoire et archéologie_d']\n"
     ]
    }
   ],
   "source": [
    "# write real labels and predictions to file\n",
    "\n",
    "inverse_prediction = label_encoder.inverse_transform(rs_predicted)\n",
    "print('PREDICTED:')\n",
    "print(inverse_prediction[0])\n",
    "print('TRUE:')\n",
    "print(y_test[0])\n",
    "\n",
    "with open(output+'/kNN_disciplines_only_predictions_%s.txt' % timestamp,\"w+\", encoding=\"utf8\") as preds:\n",
    "    preds.write(\"Predictions from classification with k-nearest-neighbors (disciplines only):\\n\\n\")\n",
    "    for ident, label, pred in zip(z_test, y_test, inverse_prediction):\n",
    "        label = sorted(label)\n",
    "        pred = sorted(pred)\n",
    "        preds.write(ident)\n",
    "        preds.write('\\n')\n",
    "        preds.write('TRUE: ')\n",
    "        for element in label:\n",
    "            preds.write('%s, ' % element)\n",
    "        preds.write('\\n')\n",
    "        preds.write('PRED: ')\n",
    "        for element in pred:\n",
    "            preds.write('%s, ' % element)\n",
    "        preds.write('\\n')\n",
    "        preds.write('\\n*********************\\n')"
   ]
  },
  {
   "cell_type": "code",
   "execution_count": 21,
   "metadata": {},
   "outputs": [],
   "source": [
    "# write parameters and scores to file\n",
    "\n",
    "with open(output+'/kNN_disciplines_only_params_%s.txt' % timestamp,\"w+\", encoding=\"utf8\") as params:\n",
    "    params.write(\"Parameters for classification with k-nearest-neighbors from randomized search (disciplines only):\")\n",
    "    params.write(\"\\nprocessing_time: %s\" % rs_processing_time)\n",
    "    for key, value in best_params.items():\n",
    "        params.write(\"\\n%s: %s\" % (key, value))\n",
    "    params.write(\"\\nbest_score: %s\" % best_score)\n",
    "    params.write(\"\\nprecision: %s\" % rs_precision)\n",
    "    params.write(\"\\nrecall: %s\" % rs_recall)\n",
    "    params.write(\"\\nf1-score: %s\" % rs_f1)"
   ]
  },
  {
   "cell_type": "code",
   "execution_count": 20,
   "metadata": {},
   "outputs": [
    {
     "name": "stdout",
     "output_type": "stream",
     "text": [
      "    mean_fit_time  std_fit_time  mean_score_time  std_score_time  \\\n",
      "0        5.832048      0.192454         9.706409        0.406635   \n",
      "1      101.823498      0.785690        31.289585        3.289126   \n",
      "2       24.537419      0.617027        13.039641        0.317276   \n",
      "3        5.775571      0.090621         9.812640        0.405096   \n",
      "4       54.060066      0.887256        14.669857        1.426723   \n",
      "5       86.546893      0.559607        14.265831        0.061782   \n",
      "6        5.798417      0.099002         8.409352        0.089288   \n",
      "7       26.095290      1.206969        13.118725        0.695301   \n",
      "8       55.302185      1.736518        14.591272        0.418776   \n",
      "9       89.113790      3.427033        14.378681        1.075087   \n",
      "10      91.629176      1.059045        21.800640        0.192640   \n",
      "11      86.021698      0.833466        15.356696        0.286809   \n",
      "12      26.001849      0.337593        15.951108        0.685936   \n",
      "13       5.894198      0.309806         9.177021        0.578735   \n",
      "14      25.399580      1.493021        10.900570        0.450263   \n",
      "15      86.713196      0.833243        15.081772        0.239770   \n",
      "16       6.687154      0.136293        10.776564        0.082357   \n",
      "17      85.761521      1.008606        15.241169        0.192872   \n",
      "18      91.760186      1.475599        20.229648        0.182587   \n",
      "19      85.848437      0.824919        14.162769        0.115789   \n",
      "20      23.232654      0.057207        11.388020        0.066185   \n",
      "21      86.364054      1.233433        14.304041        0.238760   \n",
      "22       5.964370      0.126712         9.348894        0.077000   \n",
      "23      25.920010      0.188598        14.973305        0.332461   \n",
      "24       5.742684      0.059482         9.142832        0.182596   \n",
      "25      23.296001      0.220898        11.082525        0.294070   \n",
      "26       5.663880      0.075357         8.702220        0.161919   \n",
      "27       5.791618      0.172053         8.830616        0.022773   \n",
      "28      23.052711      0.238952        11.479087        0.044696   \n",
      "29      52.897101      0.680361        13.181568        0.094154   \n",
      "30      53.271260      0.675488        14.748832        0.127374   \n",
      "31       5.859683      0.068148         8.664149        0.100869   \n",
      "32      52.547209      0.921019        13.729103        0.151109   \n",
      "33      52.531273      0.576829        12.959496        0.184728   \n",
      "34      26.044075      0.203648        15.334518        0.191889   \n",
      "35      86.720783      1.256093        15.342105        0.099024   \n",
      "36      23.307533      0.191388        11.609764        0.115375   \n",
      "37      86.889709      1.455714        15.290973        0.086254   \n",
      "38      53.503492      0.523612        14.876639        0.166607   \n",
      "39       6.140021      0.047589        10.914569        0.210010   \n",
      "40      86.083972      0.927215        15.195760        0.138241   \n",
      "41       6.244214      0.162202        10.901892        0.107492   \n",
      "42       6.165165      0.124365        10.523451        0.277976   \n",
      "43      23.273346      0.452332        11.937627        0.284388   \n",
      "44      54.559488      1.170256        12.996259        1.142172   \n",
      "45       5.785280      0.054641         8.385686        0.065563   \n",
      "46      98.541261      1.208403        23.577844        0.283737   \n",
      "47      89.173809      4.612805        15.899997        0.079242   \n",
      "48      57.602691      0.541740        19.542771        0.208109   \n",
      "49      52.355837      0.617065        14.334194        0.577272   \n",
      "\n",
      "   param_vect__ngram_range param_vect__min_df param_vect__max_df  \\\n",
      "0                   (1, 1)               0.05                0.9   \n",
      "1                   (1, 4)                  0                0.9   \n",
      "2                   (1, 2)               0.01                0.8   \n",
      "3                   (1, 1)               0.05                  1   \n",
      "4                   (1, 3)                0.1                  1   \n",
      "5                   (1, 4)                0.1                0.9   \n",
      "6                   (1, 1)               0.05                0.7   \n",
      "7                   (1, 2)               0.05                  1   \n",
      "8                   (1, 3)               0.05                  1   \n",
      "9                   (1, 4)                0.1                0.7   \n",
      "10                  (1, 4)                  0                0.9   \n",
      "11                  (1, 4)               0.05                0.9   \n",
      "12                  (1, 2)                  0                0.8   \n",
      "13                  (1, 1)                0.1                0.9   \n",
      "14                  (1, 2)                0.1                0.8   \n",
      "15                  (1, 4)               0.01                0.7   \n",
      "16                  (1, 1)                  0                0.8   \n",
      "17                  (1, 4)               0.05                0.8   \n",
      "18                  (1, 4)                  0                0.7   \n",
      "19                  (1, 4)                0.1                0.9   \n",
      "20                  (1, 2)               0.05                0.8   \n",
      "21                  (1, 4)                0.1                0.9   \n",
      "22                  (1, 1)               0.05                0.9   \n",
      "23                  (1, 2)                  0                0.7   \n",
      "24                  (1, 1)               0.01                0.7   \n",
      "25                  (1, 2)               0.05                0.7   \n",
      "26                  (1, 1)                0.1                0.8   \n",
      "27                  (1, 1)                0.1                0.9   \n",
      "28                  (1, 2)                0.1                  1   \n",
      "29                  (1, 3)               0.01                0.7   \n",
      "30                  (1, 3)               0.01                0.8   \n",
      "31                  (1, 1)               0.05                0.9   \n",
      "32                  (1, 3)               0.05                0.9   \n",
      "33                  (1, 3)                0.1                0.9   \n",
      "34                  (1, 2)                  0                0.9   \n",
      "35                  (1, 4)               0.05                0.8   \n",
      "36                  (1, 2)                0.1                  1   \n",
      "37                  (1, 4)               0.05                0.8   \n",
      "38                  (1, 3)               0.01                0.9   \n",
      "39                  (1, 1)                  0                0.9   \n",
      "40                  (1, 4)               0.05                0.8   \n",
      "41                  (1, 1)                  0                0.9   \n",
      "42                  (1, 1)                  0                0.9   \n",
      "43                  (1, 2)               0.05                0.9   \n",
      "44                  (1, 3)                0.1                0.7   \n",
      "45                  (1, 1)               0.05                0.7   \n",
      "46                  (1, 4)                  0                0.9   \n",
      "47                  (1, 4)               0.05                  1   \n",
      "48                  (1, 3)                  0                  1   \n",
      "49                  (1, 3)               0.01                0.8   \n",
      "\n",
      "   param_tfidf__use_idf param_clf__weights param_clf__n_neighbors  \\\n",
      "0                 False           distance                      5   \n",
      "1                  True           distance                      6   \n",
      "2                 False            uniform                      5   \n",
      "3                  True           distance                      1   \n",
      "4                  True           distance                      5   \n",
      "5                 False           distance                      1   \n",
      "6                 False           distance                      9   \n",
      "7                  True           distance                      4   \n",
      "8                  True           distance                      5   \n",
      "9                 False           distance                      5   \n",
      "10                False           distance                      5   \n",
      "11                False           distance                      5   \n",
      "12                False            uniform                      5   \n",
      "13                 True            uniform                      7   \n",
      "14                 True           distance                      2   \n",
      "15                False           distance                      3   \n",
      "16                 True            uniform                      7   \n",
      "17                False            uniform                      7   \n",
      "18                False            uniform                      1   \n",
      "19                False           distance                      2   \n",
      "20                False            uniform                      7   \n",
      "21                 True           distance                      1   \n",
      "22                False            uniform                      4   \n",
      "23                False            uniform                      9   \n",
      "24                False           distance                      7   \n",
      "25                False           distance                      5   \n",
      "26                False           distance                      9   \n",
      "27                False           distance                      8   \n",
      "28                False           distance                      4   \n",
      "29                 True           distance                      1   \n",
      "30                 True           distance                      7   \n",
      "31                 True           distance                      1   \n",
      "32                 True           distance                      6   \n",
      "33                 True            uniform                      8   \n",
      "34                False            uniform                      3   \n",
      "35                False           distance                      5   \n",
      "36                False           distance                      9   \n",
      "37                False            uniform                      4   \n",
      "38                 True           distance                      6   \n",
      "39                False           distance                      9   \n",
      "40                 True           distance                      9   \n",
      "41                False            uniform                      7   \n",
      "42                False            uniform                      3   \n",
      "43                False           distance                      7   \n",
      "44                 True            uniform                      5   \n",
      "45                False           distance                      8   \n",
      "46                 True           distance                      5   \n",
      "47                False            uniform                      9   \n",
      "48                False            uniform                      5   \n",
      "49                False           distance                      3   \n",
      "\n",
      "         ...        split1_test_score  split2_test_score  mean_test_score  \\\n",
      "0        ...                 0.409099           0.421570         0.417213   \n",
      "1        ...                 0.691902           0.685754         0.693033   \n",
      "2        ...                 0.395398           0.298788         0.349707   \n",
      "3        ...                 0.441595           0.454593         0.445023   \n",
      "4        ...                 0.408045           0.418057         0.416862   \n",
      "5        ...                 0.361848           0.382399         0.375351   \n",
      "6        ...                 0.421219           0.431758         0.428630   \n",
      "7        ...                 0.403478           0.402248         0.406674   \n",
      "8        ...                 0.403302           0.401019         0.399883   \n",
      "9        ...                 0.414369           0.412261         0.416803   \n",
      "10       ...                 0.422800           0.453891         0.431323   \n",
      "11       ...                 0.406113           0.416652         0.412881   \n",
      "12       ...                 0.459863           0.492359         0.472424   \n",
      "13       ...                 0.433866           0.436501         0.437119   \n",
      "14       ...                 0.400141           0.413666         0.410422   \n",
      "15       ...                 0.316880           0.269102         0.330386   \n",
      "16       ...                 0.651677           0.661163         0.661593   \n",
      "17       ...                 0.416828           0.418233         0.419204   \n",
      "18       ...                 0.478307           0.522045         0.503923   \n",
      "19       ...                 0.361321           0.381872         0.375059   \n",
      "20       ...                 0.416652           0.421043         0.420726   \n",
      "21       ...                 0.406464           0.420341         0.415340   \n",
      "22       ...                 0.377657           0.373441         0.376522   \n",
      "23       ...                 0.497102           0.531003         0.516218   \n",
      "24       ...                 0.388547           0.359037         0.367447   \n",
      "25       ...                 0.405059           0.415071         0.412881   \n",
      "26       ...                 0.412085           0.418584         0.418091   \n",
      "27       ...                 0.405761           0.408396         0.412178   \n",
      "28       ...                 0.376252           0.376954         0.380211   \n",
      "29       ...                 0.182856           0.178816         0.236944   \n",
      "30       ...                 0.304409           0.262955         0.261007   \n",
      "31       ...                 0.463903           0.482698         0.462061   \n",
      "32       ...                 0.391358           0.358510         0.375995   \n",
      "33       ...                 0.409450           0.397154         0.406323   \n",
      "34       ...                 0.442649           0.467240         0.451756   \n",
      "35       ...                 0.414369           0.415071         0.415457   \n",
      "36       ...                 0.390655           0.391885         0.393150   \n",
      "37       ...                 0.383278           0.362375         0.374649   \n",
      "38       ...                 0.325663           0.129106         0.213876   \n",
      "39       ...                 0.456350           0.479888         0.470433   \n",
      "40       ...                 0.378886           0.339013         0.366101   \n",
      "41       ...                 0.461444           0.480415         0.471487   \n",
      "42       ...                 0.457755           0.477780         0.468911   \n",
      "43       ...                 0.412261           0.417882         0.419028   \n",
      "44       ...                 0.408748           0.423151         0.416335   \n",
      "45       ...                 0.434217           0.443176         0.438993   \n",
      "46       ...                 0.684701           0.678728         0.685012   \n",
      "47       ...                 0.402248           0.403302         0.402635   \n",
      "48       ...                 0.361848           0.384332         0.373536   \n",
      "49       ...                 0.360091           0.320569         0.338466   \n",
      "\n",
      "    std_test_score  rank_test_score  split0_train_score  split1_train_score  \\\n",
      "0         0.005743               21            0.996048            0.996048   \n",
      "1         0.006453                1            0.997102            0.997541   \n",
      "2         0.039613               45            0.491481            0.545271   \n",
      "3         0.006857               12            0.996575            0.996926   \n",
      "4         0.006763               22            0.995345            0.995785   \n",
      "5         0.009551               39            0.995082            0.995960   \n",
      "6         0.005261               16            0.994555            0.995433   \n",
      "7         0.005413               31            0.995960            0.996136   \n",
      "8         0.003353               34            0.996136            0.996224   \n",
      "9         0.005008               23            0.992623            0.993677   \n",
      "10        0.016115               15            0.997014            0.997541   \n",
      "11        0.004796               27            0.996136            0.995872   \n",
      "12        0.014254                6            0.597664            0.600246   \n",
      "13        0.002941               14            0.521079            0.527970   \n",
      "14        0.007432               30            0.994291            0.994116   \n",
      "15        0.056362               47            0.996311            0.997014   \n",
      "16        0.008276                3            0.732742            0.719593   \n",
      "17        0.002435               18            0.507377            0.516905   \n",
      "18        0.018625                5            0.997453            0.997892   \n",
      "19        0.009714               40            0.994555            0.994555   \n",
      "20        0.003204               17            0.507290            0.517696   \n",
      "21        0.006293               26            0.995082            0.995960   \n",
      "22        0.002204               37            0.489285            0.500307   \n",
      "23        0.014174                4            0.581152            0.571617   \n",
      "24        0.015021               43            0.996399            0.997014   \n",
      "25        0.005706               27            0.994906            0.995785   \n",
      "26        0.004715               20            0.993940            0.994819   \n",
      "27        0.007290               29            0.994555            0.995258   \n",
      "28        0.005110               36            0.994818            0.995433   \n",
      "29        0.079358               49            0.996838            0.997541   \n",
      "30        0.036256               48            0.996399            0.997365   \n",
      "31        0.017649               10            0.996311            0.996663   \n",
      "32        0.013493               38            0.995872            0.996136   \n",
      "33        0.006591               32            0.469085            0.479494   \n",
      "34        0.011005               11            0.647198            0.655572   \n",
      "35        0.001081               25            0.995521            0.995697   \n",
      "36        0.002705               35            0.995257            0.995433   \n",
      "37        0.008914               41            0.486035            0.501186   \n",
      "38        0.082484               50            0.996487            0.997014   \n",
      "39        0.010151                8            0.997014            0.997365   \n",
      "40        0.019163               44            0.995872            0.996048   \n",
      "41        0.007785                7            0.558493            0.575217   \n",
      "42        0.008333                9            0.663359            0.669272   \n",
      "43        0.006048               19            0.996048            0.995960   \n",
      "44        0.005905               24            0.537941            0.546764   \n",
      "45        0.003681               13            0.994555            0.995521   \n",
      "46        0.005262                2            0.997014            0.997541   \n",
      "47        0.000474               33            0.475672            0.482743   \n",
      "48        0.009200               42            0.521693            0.522965   \n",
      "49        0.016348               46            0.996223            0.996926   \n",
      "\n",
      "    split2_train_score  mean_train_score  std_train_score  \n",
      "0             0.996312          0.996136         0.000124  \n",
      "1             0.997541          0.997395         0.000207  \n",
      "2             0.411961          0.482904         0.054760  \n",
      "3             0.996751          0.996751         0.000144  \n",
      "4             0.995346          0.995492         0.000207  \n",
      "5             0.995872          0.995638         0.000395  \n",
      "6             0.995346          0.995111         0.000395  \n",
      "7             0.996575          0.996224         0.000259  \n",
      "8             0.996312          0.996224         0.000072  \n",
      "9             0.994116          0.993472         0.000627  \n",
      "10            0.997717          0.997424         0.000299  \n",
      "11            0.996136          0.996048         0.000124  \n",
      "12            0.607798          0.601903         0.004300  \n",
      "13            0.526565          0.525205         0.002974  \n",
      "14            0.994643          0.994350         0.000219  \n",
      "15            0.997453          0.996926         0.000470  \n",
      "16            0.732765          0.728367         0.006204  \n",
      "17            0.515500          0.513261         0.004200  \n",
      "18            0.998068          0.997804         0.000259  \n",
      "19            0.994819          0.994643         0.000124  \n",
      "20            0.513568          0.512851         0.004278  \n",
      "21            0.995872          0.995638         0.000395  \n",
      "22            0.494863          0.494818         0.004500  \n",
      "23            0.602178          0.584982         0.012767  \n",
      "24            0.997453          0.996955         0.000432  \n",
      "25            0.995521          0.995404         0.000368  \n",
      "26            0.995258          0.994672         0.000548  \n",
      "27            0.994994          0.994936         0.000290  \n",
      "28            0.995609          0.995287         0.000339  \n",
      "29            0.997805          0.997395         0.000408  \n",
      "30            0.997629          0.997131         0.000529  \n",
      "31            0.996575          0.996516         0.000149  \n",
      "32            0.995960          0.995989         0.000110  \n",
      "33            0.468692          0.472424         0.005002  \n",
      "34            0.659085          0.653952         0.004986  \n",
      "35            0.996048          0.995755         0.000219  \n",
      "36            0.995697          0.995463         0.000181  \n",
      "37            0.484149          0.490457         0.007626  \n",
      "38            0.997541          0.997014         0.000430  \n",
      "39            0.997717          0.997365         0.000287  \n",
      "40            0.996048          0.995989         0.000083  \n",
      "41            0.573461          0.569057         0.007504  \n",
      "42            0.677966          0.670199         0.005999  \n",
      "43            0.996312          0.996107         0.000149  \n",
      "44            0.545798          0.543501         0.003951  \n",
      "45            0.995346          0.995140         0.000420  \n",
      "46            0.997541          0.997365         0.000249  \n",
      "47            0.475981          0.478132         0.003263  \n",
      "48            0.532537          0.525732         0.004840  \n",
      "49            0.997629          0.996926         0.000574  \n",
      "\n",
      "[50 rows x 22 columns]\n"
     ]
    }
   ],
   "source": [
    "results = rs_clf.cv_results_\n",
    "df = pd.DataFrame(data=results)\n",
    "print(df)\n",
    "df.to_csv(output+'/kNN_disciplines_only_rs_results_%s.csv' % timestamp, encoding='utf-8')"
   ]
  },
  {
   "cell_type": "code",
   "execution_count": null,
   "metadata": {},
   "outputs": [],
   "source": []
  }
 ],
 "metadata": {
  "kernelspec": {
   "display_name": "Python 3",
   "language": "python",
   "name": "python3"
  },
  "language_info": {
   "codemirror_mode": {
    "name": "ipython",
    "version": 3
   },
   "file_extension": ".py",
   "mimetype": "text/x-python",
   "name": "python",
   "nbconvert_exporter": "python",
   "pygments_lexer": "ipython3",
   "version": "3.6.5"
  }
 },
 "nbformat": 4,
 "nbformat_minor": 2
}
